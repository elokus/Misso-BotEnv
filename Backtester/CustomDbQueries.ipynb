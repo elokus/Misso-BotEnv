{
 "cells": [
  {
   "cell_type": "code",
   "execution_count": 29,
   "outputs": [],
   "source": [
    "from Backtester.database.candles import CandlesDb\n",
    "import Backtester.time.time_utility as timly\n",
    "from peewee import fn\n",
    "cdb = CandlesDb()"
   ],
   "metadata": {
    "collapsed": false,
    "pycharm": {
     "name": "#%%\n"
    }
   }
  },
  {
   "cell_type": "code",
   "execution_count": 30,
   "outputs": [],
   "source": [
    "db = cdb.db"
   ],
   "metadata": {
    "collapsed": false,
    "pycharm": {
     "name": "#%%\n"
    }
   }
  },
  {
   "cell_type": "code",
   "execution_count": 7,
   "outputs": [],
   "source": [
    "bet = (14071.0, 18831.0)\n",
    "start = timly.to_tms(\"2022-10-20\")\n",
    "end = timly.to_tms(\"2022-12-09\")\n",
    "dbAlias = db.alias()\n",
    "sub_query = dbAlias.select(fn.MIN(dbAlias.timestamp)).where(dbAlias.exchange == \"bybit\", dbAlias.symbol == \"BTC/USDT:USDT\", dbAlias.timeframe == \"1m\", dbAlias.timestamp.between(start, end), dbAlias.low < bet[0])\n",
    "query = (db.select(fn.MIN(db.timestamp)).where(db.high >= bet[1], db.timestamp.between(sub_query, end)))\n"
   ],
   "metadata": {
    "collapsed": false,
    "pycharm": {
     "name": "#%%\n"
    }
   }
  },
  {
   "cell_type": "code",
   "execution_count": null,
   "outputs": [],
   "source": [
    "def query_order_pair(db, bet: tuple, start, end):\n",
    "    dbAlias = db.alias()\n",
    "    sub_query = dbAlias.select(fn.MIN(dbAlias.timestamp)).where(dbAlias.exchange == \"bybit\", dbAlias.symbol == \"BTC/USDT:USDT\", dbAlias.timeframe == \"1m\", dbAlias.timestamp.between(start, end), dbAlias.low < bet[0])\n",
    "    query = (db.select(fn.MIN(db.timestamp)).where(db.high >= bet[1], db.timestamp.between(sub_query, end)))\n",
    "    return sub_query.scalar(), query.scalar()\n"
   ],
   "metadata": {
    "collapsed": false,
    "pycharm": {
     "name": "#%%\n"
    }
   }
  },
  {
   "cell_type": "code",
   "execution_count": 8,
   "outputs": [
    {
     "name": "stdout",
     "output_type": "stream",
     "text": [
      "None None\n"
     ]
    }
   ],
   "source": [
    "print(sub_query.scalar(), query.scalar())"
   ],
   "metadata": {
    "collapsed": false,
    "pycharm": {
     "name": "#%%\n"
    }
   }
  },
  {
   "cell_type": "markdown",
   "source": [
    "# Query Gaps in Database"
   ],
   "metadata": {
    "collapsed": false,
    "pycharm": {
     "name": "#%% md\n"
    }
   }
  },
  {
   "cell_type": "markdown",
   "source": [
    "1. create a Gap"
   ],
   "metadata": {
    "collapsed": false,
    "pycharm": {
     "name": "#%% md\n"
    }
   }
  },
  {
   "cell_type": "code",
   "execution_count": 2,
   "outputs": [],
   "source": [
    "# Creating a Gap\n",
    "db = cdb.db\n",
    "dbAlias = db.alias()\n",
    "query = dbAlias.select(fn.MIN(dbAlias.timestamp)).where(dbAlias.exchange == \"bybit\", dbAlias.symbol == \"BTC/USDT:USDT\", dbAlias.timeframe == \"1m\")"
   ],
   "metadata": {
    "collapsed": false,
    "pycharm": {
     "name": "#%%\n"
    }
   }
  },
  {
   "cell_type": "code",
   "execution_count": 7,
   "outputs": [
    {
     "data": {
      "text/plain": "'2022-09-30 15:41:00'"
     },
     "execution_count": 7,
     "metadata": {},
     "output_type": "execute_result"
    }
   ],
   "source": [
    "import pandas as pd\n",
    "str(pd.to_datetime(query.scalar(), unit=\"ms\"))"
   ],
   "metadata": {
    "collapsed": false,
    "pycharm": {
     "name": "#%%\n"
    }
   }
  },
  {
   "cell_type": "code",
   "execution_count": 2,
   "outputs": [
    {
     "name": "stdout",
     "output_type": "stream",
     "text": [
      "{'exchange': 'bybit', 'market': 'BTC/USDT:USDT', 'timeframe': '4h', 'start': 1653004800000, 'end': 1670803200000, 'limit': 1236}\n"
     ]
    }
   ],
   "source": [
    "from Backtester.streamer.candles import streamer\n",
    "\n",
    "res = streamer.get(\"bybit\", \"BTC/USDT:USDT\", \"4h\", start=\"2022-05-20\", end=\"2022-12-12\")"
   ],
   "metadata": {
    "collapsed": false,
    "pycharm": {
     "name": "#%%\n"
    }
   }
  },
  {
   "cell_type": "code",
   "execution_count": 20,
   "outputs": [
    {
     "data": {
      "text/plain": "({'exchange': 'bybit',\n  'market': 'BTC/USDT:USDT',\n  'timeframe': '4h',\n  'start': 1653004800000,\n  'end': 1670803200000,\n  'limit': 1236},\n [])"
     },
     "execution_count": 20,
     "metadata": {},
     "output_type": "execute_result"
    }
   ],
   "source": [
    "res"
   ],
   "metadata": {
    "collapsed": false,
    "pycharm": {
     "name": "#%%\n"
    }
   }
  },
  {
   "cell_type": "code",
   "execution_count": 9,
   "outputs": [],
   "source": [
    "import pandas as pd\n",
    "st = (1664582400000,1665774900000)"
   ],
   "metadata": {
    "collapsed": false,
    "pycharm": {
     "name": "#%%\n"
    }
   }
  },
  {
   "cell_type": "code",
   "execution_count": 16,
   "outputs": [
    {
     "data": {
      "text/plain": "{('s', 'e'): (1664582100000, 1665775000000)}"
     },
     "execution_count": 16,
     "metadata": {},
     "output_type": "execute_result"
    }
   ],
   "source": [
    "from Backtester.database.helper import _get_bounds_sorted\n",
    "\n",
    "_get_bounds_sorted(streamer.db.db, {'exchange': 'bybit', 'market': 'BTC/USDT:USDT', 'timeframe': '4h', 'start': 1664582100000, 'end': 1665775000000, 'limit': 1325})"
   ],
   "metadata": {
    "collapsed": false,
    "pycharm": {
     "name": "#%%\n"
    }
   }
  },
  {
   "cell_type": "code",
   "execution_count": null,
   "outputs": [],
   "source": [],
   "metadata": {
    "collapsed": false,
    "pycharm": {
     "name": "#%%\n"
    }
   }
  },
  {
   "cell_type": "code",
   "execution_count": 49,
   "outputs": [
    {
     "data": {
      "text/plain": "1663804860000"
     },
     "execution_count": 49,
     "metadata": {},
     "output_type": "execute_result"
    }
   ],
   "source": [
    "start, end = timly.safe_tms(\"2022-09-22\"), timly.safe_tms(\"2022-10-01\")\n",
    "mins = db.select(fn.MIN(db.timestamp)).where(db.exchange == \"bybit\", db.symbol == \"BTC/USDT:USDT\", db.timeframe == \"1m\").scalar()\n",
    "mins"
   ],
   "metadata": {
    "collapsed": false,
    "pycharm": {
     "name": "#%%\n"
    }
   }
  },
  {
   "cell_type": "code",
   "execution_count": 50,
   "outputs": [
    {
     "data": {
      "text/plain": "Timestamp('2022-09-22 00:01:00')"
     },
     "execution_count": 50,
     "metadata": {},
     "output_type": "execute_result"
    }
   ],
   "source": [
    "pd.to_datetime(mins, unit=\"ms\")"
   ],
   "metadata": {
    "collapsed": false,
    "pycharm": {
     "name": "#%%\n"
    }
   }
  },
  {
   "cell_type": "code",
   "execution_count": 28,
   "outputs": [],
   "source": [
    "def find_gaps(db, start, end, di = 60000):\n",
    "    _db = db.alias()\n",
    "    ntms = _db.timestamp + di\n",
    "    ptms = _db.timestamp - di\n",
    "    subq = (_db.select(_db.timestamp.alias(\"tms\"), ntms.alias(\"ntms\"), ptms.alias(\"ptms\")).where(_db.timestamp.between(start+di, end-di)))\n",
    "\n",
    "    topq = db.select(db.timestamp)\n",
    "    query = db.select(subq.c.tms).from_(subq).where((subq.c.ntms.not_in(topq)) | (subq.c.ptms.not_in(topq)))\n",
    "    return list(query.tuples())\n"
   ],
   "metadata": {
    "collapsed": false,
    "pycharm": {
     "name": "#%%\n"
    }
   }
  },
  {
   "cell_type": "code",
   "execution_count": 51,
   "outputs": [],
   "source": [
    "def _find_gaps(db, start, end, di = 60000):\n",
    "    _db = db.alias()\n",
    "    ntms = _db.timestamp + di\n",
    "    ptms = _db.timestamp - di\n",
    "    subq = (_db.select(_db.timestamp.alias(\"tms\"), ntms.alias(\"ntms\"), ptms.alias(\"ptms\")).where(_db.exchange == \"bybit\", _db.symbol == \"BTC/USDT:USDT\", _db.timeframe == \"1m\", _db.timestamp.between(start+di, end-di)).order_by(_db.timestamp.asc()))\n",
    "\n",
    "    topq = db.select(db.timestamp).where(db.exchange == \"bybit\", db.symbol == \"BTC/USDT:USDT\", db.timeframe == \"1m\")\n",
    "    query = db.select(subq.c.tms).from_(subq).where((subq.c.ptms.not_in(topq)) | (subq.c.ntms.not_in(topq)))\n",
    "    return list(query.tuples())"
   ],
   "metadata": {
    "collapsed": false,
    "pycharm": {
     "name": "#%%\n"
    }
   }
  },
  {
   "cell_type": "code",
   "execution_count": 98,
   "outputs": [],
   "source": [
    "def find_gaps_sorted(db, start, end, di = 60000):\n",
    "    _db = db.alias()\n",
    "    ntms = _db.timestamp + di\n",
    "    ptms = _db.timestamp - di\n",
    "    subq = (_db.select(_db.timestamp.alias(\"tms\"), ntms.alias(\"ntms\"), ptms.alias(\"ptms\")).where(_db.exchange == \"bybit\", _db.symbol == \"BTC/USDT:USDT\", _db.timeframe == \"1m\", _db.timestamp.between(start+2*di, end-di)).order_by(_db.timestamp.asc()))\n",
    "\n",
    "    topq = db.select(db.timestamp).where(db.exchange == \"bybit\", db.symbol == \"BTC/USDT:USDT\", db.timeframe == \"1m\")\n",
    "    query_next = db.select(subq.c.tms).from_(subq).where(subq.c.ntms.not_in(topq))\n",
    "    query_prev = db.select(subq.c.tms).from_(subq).where(subq.c.ptms.not_in(topq))\n",
    "    _next = [(\"n\", i[0]) for i in list(query_next.tuples())]\n",
    "    _prev = [(\"p\",i[0]) for i in list(query_prev.tuples())]\n",
    "    ls = _next + _prev + [(\"s\", start), (\"e\", end)]\n",
    "    return sorted(ls, key= lambda x: x[1])\n",
    "    # gaps = _gaps.extend([(\"s\", start), (\"e\", end)])\n",
    "    # sorted(gaps, key=lambda x: x[1])"
   ],
   "metadata": {
    "collapsed": false,
    "pycharm": {
     "name": "#%%\n"
    }
   }
  },
  {
   "cell_type": "code",
   "execution_count": 108,
   "outputs": [],
   "source": [
    "import pandas as pd\n",
    "start, end = timly.safe_tms(\"2022-09-22\"), timly.safe_tms(\"2022-09-24\")\n",
    "res = find_gaps_sorted(db, start, end)\n",
    "\n",
    "\n",
    "d = {(e[0], res[i+1][0]):(e[1], res[i+1][1]) for i, e in enumerate(res[:-1])}\n"
   ],
   "metadata": {
    "collapsed": false,
    "pycharm": {
     "name": "#%%\n"
    }
   }
  },
  {
   "cell_type": "code",
   "execution_count": 114,
   "outputs": [],
   "source": [
    "def match_bounds(bounds: dict) -> tuple[list, list]:\n",
    "    has, has_not = [], []\n",
    "    for key, value in bounds.items():\n",
    "        match key:\n",
    "            case (\"s\", \"p\"):\n",
    "                return \"fetch\"\n",
    "            case (\"n\", \"e\"):\n",
    "                return \"fetch\"\n",
    "            case (\"p\", \"n\"):\n",
    "                return \"get\"\n",
    "            case (\"p\", \"e\"):\n",
    "                return \"get\"\n",
    "            case (\"s\", \"n\"):\n",
    "                return \"get\"\n",
    "            case (\"s\", \"e\"):\n",
    "                return \"get\"\n",
    "\n"
   ],
   "metadata": {
    "collapsed": false,
    "pycharm": {
     "name": "#%%\n"
    }
   }
  },
  {
   "cell_type": "code",
   "execution_count": 112,
   "outputs": [
    {
     "data": {
      "text/plain": "{('s', 'e'): (1663804800000, 1663977600000)}"
     },
     "execution_count": 112,
     "metadata": {},
     "output_type": "execute_result"
    }
   ],
   "source": [
    "d"
   ],
   "metadata": {
    "collapsed": false,
    "pycharm": {
     "name": "#%%\n"
    }
   }
  },
  {
   "cell_type": "code",
   "execution_count": 115,
   "outputs": [
    {
     "name": "stdout",
     "output_type": "stream",
     "text": [
      "gets\n"
     ]
    }
   ],
   "source": [
    "for key, value in d.items():\n",
    "    print(route_gap_items(key, value))"
   ],
   "metadata": {
    "collapsed": false,
    "pycharm": {
     "name": "#%%\n"
    }
   }
  },
  {
   "cell_type": "code",
   "execution_count": 70,
   "outputs": [
    {
     "data": {
      "text/plain": "[('s', 1663632000000), ('e', 1663977600000), ('p', 1663804860000)]"
     },
     "execution_count": 70,
     "metadata": {},
     "output_type": "execute_result"
    }
   ],
   "source": [
    "def find_sorted_gaps(start, end)\n",
    "ls = [(\"s\", start), (\"e\", end)]\n",
    "for n in resn:\n",
    "    ls.append((\"n\", n))\n",
    "for p in resp:\n",
    "    ls.append((\"p\", p))\n",
    "sorted(ls, key=lambda x: x[1])\n"
   ],
   "metadata": {
    "collapsed": false,
    "pycharm": {
     "name": "#%%\n"
    }
   }
  },
  {
   "cell_type": "code",
   "execution_count": 71,
   "outputs": [
    {
     "data": {
      "text/plain": "[('s', 1663632000000), ('p', 1663804860000), ('e', 1663977600000)]"
     },
     "execution_count": 71,
     "metadata": {},
     "output_type": "execute_result"
    }
   ],
   "source": [],
   "metadata": {
    "collapsed": false,
    "pycharm": {
     "name": "#%%\n"
    }
   }
  },
  {
   "cell_type": "code",
   "execution_count": 53,
   "outputs": [
    {
     "data": {
      "text/plain": "['2022-09-22 00:01:00',\n '2022-09-26 00:00:00',\n '2022-09-30 15:41:00',\n '2022-12-09 00:00:00']"
     },
     "execution_count": 53,
     "metadata": {},
     "output_type": "execute_result"
    }
   ],
   "source": [
    "res = _find_gaps(db, timly.safe_tms(\"2022-09-20\"), timly.safe_tms(\"2022-09-24\"))\n",
    "res = [str(pd.to_datetime(i[0], unit=\"ms\")) for i in res]\n",
    "print(res)"
   ],
   "metadata": {
    "collapsed": false,
    "pycharm": {
     "name": "#%%\n"
    }
   }
  },
  {
   "cell_type": "markdown",
   "source": [
    "# Create Test Database"
   ],
   "metadata": {
    "collapsed": false,
    "pycharm": {
     "name": "#%% md\n"
    }
   }
  },
  {
   "cell_type": "code",
   "execution_count": 1,
   "outputs": [],
   "source": [
    "import peewee\n",
    "from Backtester.database.clients.postgres import database\n",
    "\n",
    "if database.is_closed():\n",
    "    database.open_connection()\n",
    "\n",
    "class Test(peewee.Model):\n",
    "    id = peewee.UUIDField(primary_key=True)\n",
    "    tms = peewee.IntegerField()\n",
    "    sym = peewee.CharField()\n",
    "\n",
    "    # partial candles: 5 * 1m candle = 5m candle while 1m == partial candle\n",
    "    is_partial = True\n",
    "\n",
    "    class Meta:\n",
    "        from Backtester.database.clients.postgres import database\n",
    "\n",
    "        database = database.db\n",
    "        indexes = (\n",
    "            ((\"tms\", \"sym\"), True),\n",
    "        )\n",
    "\n",
    "    def __init__(self, attributes: dict = None, **kwargs) -> None:\n",
    "        peewee.Model.__init__(self, attributes=attributes, **kwargs)\n",
    "\n",
    "        if attributes is None:\n",
    "            attributes = {}\n",
    "\n",
    "        for a, value in attributes.items():\n",
    "            setattr(self, a, value)\n",
    "\n",
    "Test.create_table()"
   ],
   "metadata": {
    "collapsed": false,
    "pycharm": {
     "name": "#%%\n"
    }
   }
  },
  {
   "cell_type": "code",
   "execution_count": 3,
   "outputs": [],
   "source": [
    "database.open_connection()"
   ],
   "metadata": {
    "collapsed": false,
    "pycharm": {
     "name": "#%%\n"
    }
   }
  },
  {
   "cell_type": "code",
   "execution_count": 11,
   "outputs": [
    {
     "data": {
      "text/plain": "True"
     },
     "execution_count": 11,
     "metadata": {},
     "output_type": "execute_result"
    }
   ],
   "source": [
    "database.db.table_exists(\"test\")"
   ],
   "metadata": {
    "collapsed": false,
    "pycharm": {
     "name": "#%%\n"
    }
   }
  },
  {
   "cell_type": "code",
   "execution_count": 19,
   "outputs": [
    {
     "name": "stdout",
     "output_type": "stream",
     "text": [
      "[(UUID('3a513a10-be5e-4e6d-94b7-3cca7d09e85a'), 1, 'eth'), (UUID('0ee06d43-52e3-45af-aaf7-2a22f6668c1d'), 2, 'eth'), (UUID('1a2d3609-45c7-48d3-8c39-77657652412a'), 3, 'eth'), (UUID('e1d09c27-f60a-4a44-bd03-abceae77f174'), 4, 'eth'), (UUID('c2ffa1c7-d15c-4b23-88b0-3651505a2514'), 5, 'eth'), (UUID('1fda0309-d08b-4abb-87d6-bc3138370bf6'), 6, 'eth'), (UUID('6048256c-6fef-4b6a-b17e-e5a62ccf9f11'), 7, 'eth'), (UUID('4fa97dfc-605b-4f06-bac3-ec4d6f17a9df'), 8, 'eth'), (UUID('dc6ac946-9cf8-4d71-a39a-4c464101cf78'), 9, 'eth'), (UUID('aa113e59-6251-40d4-9b22-23c0ade622da'), 15, 'eth'), (UUID('5a119a76-9790-4a79-9b22-eee1c6377732'), 16, 'eth'), (UUID('a22d111f-9f91-417a-828b-ecac71144dff'), 17, 'eth'), (UUID('4bfe3bdb-7b0f-4bc6-996e-1a52710960bb'), 18, 'eth'), (UUID('48df02fe-d368-4a94-971f-876bd4ab23f6'), 19, 'eth')]\n"
     ]
    }
   ],
   "source": [
    "print(list(Test.select().tuples()))"
   ],
   "metadata": {
    "collapsed": false,
    "pycharm": {
     "name": "#%%\n"
    }
   }
  },
  {
   "cell_type": "code",
   "execution_count": 4,
   "outputs": [
    {
     "ename": "ImproperlyConfigured",
     "evalue": "database attribute does not appear to be set on the model: <Model: Test>",
     "output_type": "error",
     "traceback": [
      "\u001B[1;31m---------------------------------------------------------------------------\u001B[0m",
      "\u001B[1;31mImproperlyConfigured\u001B[0m                      Traceback (most recent call last)",
      "Cell \u001B[1;32mIn [4], line 1\u001B[0m\n\u001B[1;32m----> 1\u001B[0m \u001B[43mTest\u001B[49m\u001B[38;5;241;43m.\u001B[39;49m\u001B[43mcreate_table\u001B[49m\u001B[43m(\u001B[49m\u001B[43m)\u001B[49m\n",
      "File \u001B[1;32m~\\workspace\\venv311\\Lib\\site-packages\\peewee.py:6855\u001B[0m, in \u001B[0;36mModel.create_table\u001B[1;34m(cls, safe, **options)\u001B[0m\n\u001B[0;32m   6851\u001B[0m     __deprecated__(\u001B[38;5;124m'\u001B[39m\u001B[38;5;124m\"\u001B[39m\u001B[38;5;124mfail_silently\u001B[39m\u001B[38;5;124m\"\u001B[39m\u001B[38;5;124m has been deprecated in favor of \u001B[39m\u001B[38;5;124m'\u001B[39m\n\u001B[0;32m   6852\u001B[0m                    \u001B[38;5;124m'\u001B[39m\u001B[38;5;124m\"\u001B[39m\u001B[38;5;124msafe\u001B[39m\u001B[38;5;124m\"\u001B[39m\u001B[38;5;124m for the create_table() method.\u001B[39m\u001B[38;5;124m'\u001B[39m)\n\u001B[0;32m   6853\u001B[0m     safe \u001B[38;5;241m=\u001B[39m options\u001B[38;5;241m.\u001B[39mpop(\u001B[38;5;124m'\u001B[39m\u001B[38;5;124mfail_silently\u001B[39m\u001B[38;5;124m'\u001B[39m)\n\u001B[1;32m-> 6855\u001B[0m \u001B[38;5;28;01mif\u001B[39;00m safe \u001B[38;5;129;01mand\u001B[39;00m \u001B[38;5;129;01mnot\u001B[39;00m \u001B[38;5;28;43mcls\u001B[39;49m\u001B[38;5;241;43m.\u001B[39;49m\u001B[43m_schema\u001B[49m\u001B[38;5;241;43m.\u001B[39;49m\u001B[43mdatabase\u001B[49m\u001B[38;5;241m.\u001B[39msafe_create_index \\\n\u001B[0;32m   6856\u001B[0m    \u001B[38;5;129;01mand\u001B[39;00m \u001B[38;5;28mcls\u001B[39m\u001B[38;5;241m.\u001B[39mtable_exists():\n\u001B[0;32m   6857\u001B[0m     \u001B[38;5;28;01mreturn\u001B[39;00m\n\u001B[0;32m   6858\u001B[0m \u001B[38;5;28;01mif\u001B[39;00m \u001B[38;5;28mcls\u001B[39m\u001B[38;5;241m.\u001B[39m_meta\u001B[38;5;241m.\u001B[39mtemporary:\n",
      "File \u001B[1;32m~\\workspace\\venv311\\Lib\\site-packages\\peewee.py:5744\u001B[0m, in \u001B[0;36mSchemaManager.database\u001B[1;34m(self)\u001B[0m\n\u001B[0;32m   5742\u001B[0m db \u001B[38;5;241m=\u001B[39m \u001B[38;5;28mself\u001B[39m\u001B[38;5;241m.\u001B[39m_database \u001B[38;5;129;01mor\u001B[39;00m \u001B[38;5;28mself\u001B[39m\u001B[38;5;241m.\u001B[39mmodel\u001B[38;5;241m.\u001B[39m_meta\u001B[38;5;241m.\u001B[39mdatabase\n\u001B[0;32m   5743\u001B[0m \u001B[38;5;28;01mif\u001B[39;00m db \u001B[38;5;129;01mis\u001B[39;00m \u001B[38;5;28;01mNone\u001B[39;00m:\n\u001B[1;32m-> 5744\u001B[0m     \u001B[38;5;28;01mraise\u001B[39;00m ImproperlyConfigured(\u001B[38;5;124m'\u001B[39m\u001B[38;5;124mdatabase attribute does not appear to \u001B[39m\u001B[38;5;124m'\u001B[39m\n\u001B[0;32m   5745\u001B[0m                                \u001B[38;5;124m'\u001B[39m\u001B[38;5;124mbe set on the model: \u001B[39m\u001B[38;5;132;01m%s\u001B[39;00m\u001B[38;5;124m'\u001B[39m \u001B[38;5;241m%\u001B[39m \u001B[38;5;28mself\u001B[39m\u001B[38;5;241m.\u001B[39mmodel)\n\u001B[0;32m   5746\u001B[0m \u001B[38;5;28;01mreturn\u001B[39;00m db\n",
      "\u001B[1;31mImproperlyConfigured\u001B[0m: database attribute does not appear to be set on the model: <Model: Test>"
     ]
    }
   ],
   "source": [
    "Test.create_table()"
   ],
   "metadata": {
    "collapsed": false,
    "pycharm": {
     "name": "#%%\n"
    }
   }
  },
  {
   "cell_type": "code",
   "execution_count": 16,
   "outputs": [
    {
     "ename": "InterfaceError",
     "evalue": "Query must be bound to a database in order to call \"execute\".",
     "output_type": "error",
     "traceback": [
      "\u001B[1;31m---------------------------------------------------------------------------\u001B[0m",
      "\u001B[1;31mInterfaceError\u001B[0m                            Traceback (most recent call last)",
      "Cell \u001B[1;32mIn [16], line 15\u001B[0m\n\u001B[0;32m     12\u001B[0m ds1 \u001B[38;5;241m=\u001B[39m gen_entries(\u001B[38;5;28mrange\u001B[39m(\u001B[38;5;241m1\u001B[39m, \u001B[38;5;241m10\u001B[39m))\n\u001B[0;32m     13\u001B[0m ds2 \u001B[38;5;241m=\u001B[39m gen_entries(\u001B[38;5;28mrange\u001B[39m(\u001B[38;5;241m20\u001B[39m, \u001B[38;5;241m22\u001B[39m))\n\u001B[1;32m---> 15\u001B[0m \u001B[43mTest\u001B[49m\u001B[38;5;241;43m.\u001B[39;49m\u001B[43minsert_many\u001B[49m\u001B[43m(\u001B[49m\u001B[43mds2\u001B[49m\u001B[43m)\u001B[49m\u001B[38;5;241;43m.\u001B[39;49m\u001B[43mon_conflict_ignore\u001B[49m\u001B[43m(\u001B[49m\u001B[43m)\u001B[49m\u001B[38;5;241;43m.\u001B[39;49m\u001B[43mexecute\u001B[49m\u001B[43m(\u001B[49m\u001B[43m)\u001B[49m\n",
      "File \u001B[1;32m~\\workspace\\venv311\\Lib\\site-packages\\peewee.py:1960\u001B[0m, in \u001B[0;36mdatabase_required.<locals>.inner\u001B[1;34m(self, database, *args, **kwargs)\u001B[0m\n\u001B[0;32m   1958\u001B[0m database \u001B[38;5;241m=\u001B[39m \u001B[38;5;28mself\u001B[39m\u001B[38;5;241m.\u001B[39m_database \u001B[38;5;28;01mif\u001B[39;00m database \u001B[38;5;129;01mis\u001B[39;00m \u001B[38;5;28;01mNone\u001B[39;00m \u001B[38;5;28;01melse\u001B[39;00m database\n\u001B[0;32m   1959\u001B[0m \u001B[38;5;28;01mif\u001B[39;00m \u001B[38;5;129;01mnot\u001B[39;00m database:\n\u001B[1;32m-> 1960\u001B[0m     \u001B[38;5;28;01mraise\u001B[39;00m InterfaceError(\u001B[38;5;124m'\u001B[39m\u001B[38;5;124mQuery must be bound to a database in order \u001B[39m\u001B[38;5;124m'\u001B[39m\n\u001B[0;32m   1961\u001B[0m                          \u001B[38;5;124m'\u001B[39m\u001B[38;5;124mto call \u001B[39m\u001B[38;5;124m\"\u001B[39m\u001B[38;5;132;01m%s\u001B[39;00m\u001B[38;5;124m\"\u001B[39m\u001B[38;5;124m.\u001B[39m\u001B[38;5;124m'\u001B[39m \u001B[38;5;241m%\u001B[39m method\u001B[38;5;241m.\u001B[39m\u001B[38;5;18m__name__\u001B[39m)\n\u001B[0;32m   1962\u001B[0m \u001B[38;5;28;01mreturn\u001B[39;00m method(\u001B[38;5;28mself\u001B[39m, database, \u001B[38;5;241m*\u001B[39margs, \u001B[38;5;241m*\u001B[39m\u001B[38;5;241m*\u001B[39mkwargs)\n",
      "\u001B[1;31mInterfaceError\u001B[0m: Query must be bound to a database in order to call \"execute\"."
     ]
    }
   ],
   "source": [
    "import uuid\n",
    "\n",
    "def gen_entries(ls):\n",
    "    ds = []\n",
    "    for i in ls:\n",
    "        d = {\"id\":uuid.uuid4(),\n",
    "             \"tms\": i,\n",
    "             \"sym\":\"eth\"}\n",
    "        ds.append(d)\n",
    "    return ds\n",
    "\n",
    "ds1 = gen_entries(range(1, 10))\n",
    "ds2 = gen_entries(range(20, 22))\n",
    "\n",
    "Test.insert_many(ds2).on_conflict_ignore().execute()"
   ],
   "metadata": {
    "collapsed": false,
    "pycharm": {
     "name": "#%%\n"
    }
   }
  },
  {
   "cell_type": "code",
   "execution_count": 4,
   "outputs": [
    {
     "ename": "InterfaceError",
     "evalue": "Query must be bound to a database in order to call \"execute\".",
     "output_type": "error",
     "traceback": [
      "\u001B[1;31m---------------------------------------------------------------------------\u001B[0m",
      "\u001B[1;31mInterfaceError\u001B[0m                            Traceback (most recent call last)",
      "Cell \u001B[1;32mIn [4], line 3\u001B[0m\n\u001B[0;32m      1\u001B[0m query \u001B[38;5;241m=\u001B[39m Test\u001B[38;5;241m.\u001B[39mselect()\n\u001B[1;32m----> 3\u001B[0m \u001B[38;5;28;01mfor\u001B[39;00m q \u001B[38;5;129;01min\u001B[39;00m query:\n\u001B[0;32m      4\u001B[0m     \u001B[38;5;28mprint\u001B[39m(q\u001B[38;5;241m.\u001B[39mtms)\n",
      "File \u001B[1;32m~\\workspace\\venv311\\Lib\\site-packages\\peewee.py:7062\u001B[0m, in \u001B[0;36mBaseModelSelect.__iter__\u001B[1;34m(self)\u001B[0m\n\u001B[0;32m   7060\u001B[0m \u001B[38;5;28;01mdef\u001B[39;00m \u001B[38;5;21m__iter__\u001B[39m(\u001B[38;5;28mself\u001B[39m):\n\u001B[0;32m   7061\u001B[0m     \u001B[38;5;28;01mif\u001B[39;00m \u001B[38;5;129;01mnot\u001B[39;00m \u001B[38;5;28mself\u001B[39m\u001B[38;5;241m.\u001B[39m_cursor_wrapper:\n\u001B[1;32m-> 7062\u001B[0m         \u001B[38;5;28;43mself\u001B[39;49m\u001B[38;5;241;43m.\u001B[39;49m\u001B[43mexecute\u001B[49m\u001B[43m(\u001B[49m\u001B[43m)\u001B[49m\n\u001B[0;32m   7063\u001B[0m     \u001B[38;5;28;01mreturn\u001B[39;00m \u001B[38;5;28miter\u001B[39m(\u001B[38;5;28mself\u001B[39m\u001B[38;5;241m.\u001B[39m_cursor_wrapper)\n",
      "File \u001B[1;32m~\\workspace\\venv311\\Lib\\site-packages\\peewee.py:1960\u001B[0m, in \u001B[0;36mdatabase_required.<locals>.inner\u001B[1;34m(self, database, *args, **kwargs)\u001B[0m\n\u001B[0;32m   1958\u001B[0m database \u001B[38;5;241m=\u001B[39m \u001B[38;5;28mself\u001B[39m\u001B[38;5;241m.\u001B[39m_database \u001B[38;5;28;01mif\u001B[39;00m database \u001B[38;5;129;01mis\u001B[39;00m \u001B[38;5;28;01mNone\u001B[39;00m \u001B[38;5;28;01melse\u001B[39;00m database\n\u001B[0;32m   1959\u001B[0m \u001B[38;5;28;01mif\u001B[39;00m \u001B[38;5;129;01mnot\u001B[39;00m database:\n\u001B[1;32m-> 1960\u001B[0m     \u001B[38;5;28;01mraise\u001B[39;00m InterfaceError(\u001B[38;5;124m'\u001B[39m\u001B[38;5;124mQuery must be bound to a database in order \u001B[39m\u001B[38;5;124m'\u001B[39m\n\u001B[0;32m   1961\u001B[0m                          \u001B[38;5;124m'\u001B[39m\u001B[38;5;124mto call \u001B[39m\u001B[38;5;124m\"\u001B[39m\u001B[38;5;132;01m%s\u001B[39;00m\u001B[38;5;124m\"\u001B[39m\u001B[38;5;124m.\u001B[39m\u001B[38;5;124m'\u001B[39m \u001B[38;5;241m%\u001B[39m method\u001B[38;5;241m.\u001B[39m\u001B[38;5;18m__name__\u001B[39m)\n\u001B[0;32m   1962\u001B[0m \u001B[38;5;28;01mreturn\u001B[39;00m method(\u001B[38;5;28mself\u001B[39m, database, \u001B[38;5;241m*\u001B[39margs, \u001B[38;5;241m*\u001B[39m\u001B[38;5;241m*\u001B[39mkwargs)\n",
      "\u001B[1;31mInterfaceError\u001B[0m: Query must be bound to a database in order to call \"execute\"."
     ]
    }
   ],
   "source": [
    "query = Test.select()\n",
    "\n",
    "for q in query:\n",
    "    print(q.tms)"
   ],
   "metadata": {
    "collapsed": false,
    "pycharm": {
     "name": "#%%\n"
    }
   }
  },
  {
   "cell_type": "code",
   "execution_count": 11,
   "outputs": [
    {
     "data": {
      "text/plain": "<peewee.ModelTupleCursorWrapper at 0x28e9e9a8190>"
     },
     "execution_count": 11,
     "metadata": {},
     "output_type": "execute_result"
    }
   ],
   "source": [
    "Test.insert_many(ds2).on_conflict_ignore().execute()"
   ],
   "metadata": {
    "collapsed": false,
    "pycharm": {
     "name": "#%%\n"
    }
   }
  },
  {
   "cell_type": "code",
   "execution_count": 25,
   "outputs": [],
   "source": [
    "_Test = Test.alias()\n",
    "\n",
    "ntms = _Test.tms + 1\n",
    "ptms = _Test.tms - 1\n",
    "subq = (_Test.select(_Test.tms.alias(\"tms\"), ntms.alias(\"ntms\"), ptms.alias(\"ptms\")).where(_Test.tms.between(2, 18)))\n",
    "\n",
    "topq = Test.select(Test.tms)\n",
    "query = Test.select(subq.c.tms).from_(subq).where((subq.c.ntms.not_in(topq)) | (subq.c.ptms.not_in(topq)))"
   ],
   "metadata": {
    "collapsed": false,
    "pycharm": {
     "name": "#%%\n"
    }
   }
  },
  {
   "cell_type": "code",
   "execution_count": null,
   "outputs": [],
   "source": [
    "def find_gaps(db, start, end, di = 60000):\n",
    "    _db = db.alias()\n",
    "    ntms = _db.timestamp + di\n",
    "    ptms = _db.timestamp - di\n",
    "    subq = (_db.select(_db.timestamp.alias(\"tms\"), ntms.alias(\"ntms\"), ptms.alias(\"ptms\")).where(_db.timestamp.between(start+di, end-di)))\n",
    "\n",
    "    topq = db.select(db.timestamp)\n",
    "    query = db.select(subq.c.tms).from_(subq).where((subq.c.ntms.not_in(topq)) | (subq.c.ptms.not_in(topq)))\n",
    "    return list(query.tuples())\n"
   ],
   "metadata": {
    "collapsed": false,
    "pycharm": {
     "name": "#%%\n"
    }
   }
  },
  {
   "cell_type": "code",
   "execution_count": 5,
   "outputs": [],
   "source": [
    "def p(query):\n",
    "    return list(query.tuples())"
   ],
   "metadata": {
    "collapsed": false,
    "pycharm": {
     "name": "#%%\n"
    }
   }
  },
  {
   "cell_type": "code",
   "execution_count": 8,
   "outputs": [
    {
     "data": {
      "text/plain": "[(1, 2),\n (2, 3),\n (3, 4),\n (4, 5),\n (5, 6),\n (6, 7),\n (7, 8),\n (8, 9),\n (9, 10),\n (15, 16),\n (16, 17),\n (17, 18),\n (18, 19),\n (19, 20)]"
     },
     "execution_count": 8,
     "metadata": {},
     "output_type": "execute_result"
    }
   ],
   "source": [
    "p(subq)"
   ],
   "metadata": {
    "collapsed": false,
    "pycharm": {
     "name": "#%%\n"
    }
   }
  },
  {
   "cell_type": "code",
   "execution_count": 26,
   "outputs": [],
   "source": [
    "topq = Test.select(Test.tms)\n",
    "query = Test.select(subq.c.tms).from_(subq).where((subq.c.ntms.not_in(topq)) | (subq.c.ptms.not_in(topq)))"
   ],
   "metadata": {
    "collapsed": false,
    "pycharm": {
     "name": "#%%\n"
    }
   }
  },
  {
   "cell_type": "code",
   "execution_count": 27,
   "outputs": [
    {
     "data": {
      "text/plain": "[(9,), (15,)]"
     },
     "execution_count": 27,
     "metadata": {},
     "output_type": "execute_result"
    }
   ],
   "source": [
    "p(query)"
   ],
   "metadata": {
    "collapsed": false,
    "pycharm": {
     "name": "#%%\n"
    }
   }
  },
  {
   "cell_type": "code",
   "execution_count": null,
   "outputs": [],
   "source": [],
   "metadata": {
    "collapsed": false,
    "pycharm": {
     "name": "#%%\n"
    }
   }
  },
  {
   "cell_type": "code",
   "execution_count": 17,
   "outputs": [],
   "source": [
    "topq = Test.select(Test.tms).where(Test.tms.not_in(subq2))"
   ],
   "metadata": {
    "collapsed": false,
    "pycharm": {
     "name": "#%%\n"
    }
   }
  },
  {
   "cell_type": "code",
   "execution_count": 22,
   "outputs": [],
   "source": [
    "ntms = _Test.tms + 1"
   ],
   "metadata": {
    "collapsed": false,
    "pycharm": {
     "name": "#%%\n"
    }
   }
  },
  {
   "cell_type": "code",
   "execution_count": 21,
   "outputs": [
    {
     "ename": "ValueError",
     "evalue": "Query has not been executed.",
     "output_type": "error",
     "traceback": [
      "\u001B[1;31m---------------------------------------------------------------------------\u001B[0m",
      "\u001B[1;31mValueError\u001B[0m                                Traceback (most recent call last)",
      "Cell \u001B[1;32mIn [21], line 1\u001B[0m\n\u001B[1;32m----> 1\u001B[0m \u001B[38;5;28;43mlist\u001B[39;49m\u001B[43m(\u001B[49m\u001B[43mquery\u001B[49m\u001B[38;5;241;43m.\u001B[39;49m\u001B[43mselect\u001B[49m\u001B[43m(\u001B[49m\u001B[43m)\u001B[49m\u001B[38;5;241;43m.\u001B[39;49m\u001B[43mwhere\u001B[49m\u001B[43m(\u001B[49m\u001B[43m_Test\u001B[49m\u001B[38;5;241;43m.\u001B[39;49m\u001B[43mtms\u001B[49m\u001B[38;5;241;43m.\u001B[39;49m\u001B[43mnot_in\u001B[49m\u001B[43m(\u001B[49m\u001B[43mTest\u001B[49m\u001B[38;5;241;43m.\u001B[39;49m\u001B[43mtms\u001B[49m\u001B[43m)\u001B[49m\u001B[43m)\u001B[49m\u001B[38;5;241;43m.\u001B[39;49m\u001B[43mtuples\u001B[49m\u001B[43m(\u001B[49m\u001B[43m)\u001B[49m\u001B[43m)\u001B[49m\n",
      "File \u001B[1;32m~\\workspace\\venv311\\Lib\\site-packages\\peewee.py:2048\u001B[0m, in \u001B[0;36mBaseQuery.__iter__\u001B[1;34m(self)\u001B[0m\n\u001B[0;32m   2047\u001B[0m \u001B[38;5;28;01mdef\u001B[39;00m \u001B[38;5;21m__iter__\u001B[39m(\u001B[38;5;28mself\u001B[39m):\n\u001B[1;32m-> 2048\u001B[0m     \u001B[38;5;28;43mself\u001B[39;49m\u001B[38;5;241;43m.\u001B[39;49m\u001B[43m_ensure_execution\u001B[49m\u001B[43m(\u001B[49m\u001B[43m)\u001B[49m\n\u001B[0;32m   2049\u001B[0m     \u001B[38;5;28;01mreturn\u001B[39;00m \u001B[38;5;28miter\u001B[39m(\u001B[38;5;28mself\u001B[39m\u001B[38;5;241m.\u001B[39m_cursor_wrapper)\n",
      "File \u001B[1;32m~\\workspace\\venv311\\Lib\\site-packages\\peewee.py:2044\u001B[0m, in \u001B[0;36mBaseQuery._ensure_execution\u001B[1;34m(self)\u001B[0m\n\u001B[0;32m   2042\u001B[0m \u001B[38;5;28;01mif\u001B[39;00m \u001B[38;5;129;01mnot\u001B[39;00m \u001B[38;5;28mself\u001B[39m\u001B[38;5;241m.\u001B[39m_cursor_wrapper:\n\u001B[0;32m   2043\u001B[0m     \u001B[38;5;28;01mif\u001B[39;00m \u001B[38;5;129;01mnot\u001B[39;00m \u001B[38;5;28mself\u001B[39m\u001B[38;5;241m.\u001B[39m_database:\n\u001B[1;32m-> 2044\u001B[0m         \u001B[38;5;28;01mraise\u001B[39;00m \u001B[38;5;167;01mValueError\u001B[39;00m(\u001B[38;5;124m'\u001B[39m\u001B[38;5;124mQuery has not been executed.\u001B[39m\u001B[38;5;124m'\u001B[39m)\n\u001B[0;32m   2045\u001B[0m     \u001B[38;5;28mself\u001B[39m\u001B[38;5;241m.\u001B[39mexecute()\n",
      "\u001B[1;31mValueError\u001B[0m: Query has not been executed."
     ]
    }
   ],
   "source": [
    "list(query.select().where(_Test.tms.not_in(Test.tms)).tuples())"
   ],
   "metadata": {
    "collapsed": false,
    "pycharm": {
     "name": "#%%\n"
    }
   }
  },
  {
   "cell_type": "code",
   "execution_count": null,
   "outputs": [],
   "source": [],
   "metadata": {
    "collapsed": false,
    "pycharm": {
     "name": "#%%\n"
    }
   }
  }
 ],
 "metadata": {
  "kernelspec": {
   "display_name": "Python 3",
   "language": "python",
   "name": "python3"
  },
  "language_info": {
   "codemirror_mode": {
    "name": "ipython",
    "version": 2
   },
   "file_extension": ".py",
   "mimetype": "text/x-python",
   "name": "python",
   "nbconvert_exporter": "python",
   "pygments_lexer": "ipython2",
   "version": "2.7.6"
  }
 },
 "nbformat": 4,
 "nbformat_minor": 0
}