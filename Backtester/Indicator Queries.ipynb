{
 "cells": [
  {
   "cell_type": "code",
   "execution_count": 6,
   "outputs": [],
   "source": [
    "from Backtester.streamer.simple import SimpleStreamer\n",
    "\n",
    "class SimpleIndicator(SimpleStreamer):\n",
    "    def __init__(self, exchange=\"bybit\", symbol=\"BTC/USDT:USDT\"):\n",
    "        super().__init__(exchange, symbol)\n",
    "\n",
    "    def get_vwap(self):\n",
    "        pass"
   ],
   "metadata": {
    "collapsed": false,
    "pycharm": {
     "name": "#%%\n"
    }
   }
  },
  {
   "cell_type": "code",
   "execution_count": 3,
   "outputs": [],
   "source": [
    "import numpy as np\n",
    "import pandas as pd\n",
    "from Backtester.streamer.simple import SimpleStreamer\n",
    "simp = SimpleIndicator()"
   ],
   "metadata": {
    "collapsed": false,
    "pycharm": {
     "name": "#%%\n"
    }
   }
  },
  {
   "cell_type": "code",
   "execution_count": 4,
   "outputs": [],
   "source": [
    "def calc_vwap(candles: np.ndarray) -> float:\n",
    "    vol_avg = ((candles[:,2] + candles[:,3]) / 2) * candles[:,5]\n",
    "    print(np.sum(vol_avg), np.sum(candles[:,5]))\n",
    "    return np.sum(vol_avg) / np.sum(candles[:,5])"
   ],
   "metadata": {
    "collapsed": false,
    "pycharm": {
     "name": "#%%\n"
    }
   }
  },
  {
   "cell_type": "code",
   "execution_count": 10,
   "outputs": [],
   "source": [
    "[start, end, *_] = simp._date_iterator(\"2022-12-01\",  \"2022-12-02\", \"1D\", astype=\"int\")"
   ],
   "metadata": {
    "collapsed": false,
    "pycharm": {
     "name": "#%%\n"
    }
   }
  },
  {
   "cell_type": "code",
   "execution_count": 11,
   "outputs": [
    {
     "name": "stdout",
     "output_type": "stream",
     "text": [
      "{'exchange': 'bybit', 'market': 'BTC/USDT:USDT', 'timeframe': '1m', 'start': 1669852800000, 'end': 1669939200000, 'limit': 1440}\n"
     ]
    }
   ],
   "source": [
    "meta, klines = simp.get(start=start, end=end)"
   ],
   "metadata": {
    "collapsed": false,
    "pycharm": {
     "name": "#%%\n"
    }
   }
  },
  {
   "cell_type": "markdown",
   "source": [],
   "metadata": {
    "collapsed": false,
    "pycharm": {
     "name": "#%% md\n"
    }
   }
  },
  {
   "cell_type": "code",
   "execution_count": 14,
   "outputs": [
    {
     "name": "stdout",
     "output_type": "stream",
     "text": [
      "1971313137.79045 / 115583.125\n"
     ]
    },
    {
     "data": {
      "text/plain": "17055.371515439216"
     },
     "execution_count": 14,
     "metadata": {},
     "output_type": "execute_result"
    }
   ],
   "source": [
    "from Backtester.database.models.candle import Candle\n",
    "from peewee import fn\n",
    "\n",
    "\n",
    "#meta = {'exchange': 'bybit', 'market': 'BTC/USDT:USDT', 'timeframe': '1m', 'start': 1669852800000, 'end': 1669939200000, 'limit': 1440}\n",
    "\n",
    "def query_vwap(meta ,db=Candle):\n",
    "    _db = db.alias()\n",
    "\n",
    "    vw_p = (_db.high + _db.low)/2 * _db.volume\n",
    "    vwp_sum = _db.select(fn.SUM(vw_p).alias(\"vwp_sum\")).where(_db.exchange == meta[\"exchange\"],\n",
    "                                                   _db.symbol == meta[\"market\"],\n",
    "                                                   _db.timeframe == meta[\"timeframe\"],\n",
    "                                                   _db.timestamp.between(meta[\"start\"], meta[\"end\"])).scalar()\n",
    "\n",
    "    v_sum = db.select(fn.SUM(db.volume)).where(db.exchange == meta[\"exchange\"],\n",
    "                                               db.symbol == meta[\"market\"],\n",
    "                                               db.timeframe == meta[\"timeframe\"],\n",
    "                                               db.timestamp.between(meta[\"start\"], meta[\"end\"])).scalar()\n",
    "    return vwp_sum / v_sum\n",
    "\n",
    "\n",
    "\n",
    "query_vwap(meta)"
   ],
   "metadata": {
    "collapsed": false,
    "pycharm": {
     "name": "#%%\n"
    }
   }
  },
  {
   "cell_type": "code",
   "execution_count": 4,
   "outputs": [],
   "source": [
    "import pandas as pd\n",
    "import numpy as np\n",
    "\n",
    "def candles_to_df(candles, columns=[\"Date\", \"Open\",\"High\",\"Low\",\"Close\",\"Volume\"]): #[\"date\", \"open\",\"high\",\"low\",\"close\",\"volume\"]\n",
    "    df = pd.DataFrame(candles, columns=columns)\n",
    "    df[columns[0]] = pd.to_datetime(df[columns[0]], unit=\"ms\")\n",
    "    return df\n",
    "\n",
    "def get_vwap_by_tx(candles: dict)-> dict:\n",
    "    vwaps = {}\n",
    "    for tx, c in candles.items():\n",
    "        vwaps[tx] = calc_vwap(c)\n",
    "    return vwaps\n",
    "\n",
    "def show_candles(tx: str, candles: np.ndarray):\n",
    "    df = candles_to_df(candles)\n",
    "    print(f\"CANDLES FOR TIMEFRAME:   {tx}  -------->\")\n",
    "    print(\"\\n\")\n",
    "    print(df.head(10))\n",
    "    print(\"\\n\\n\\n\")\n",
    "\n",
    "def calc_mean_price(candles: np.ndarray, **kwargs)-> np.ndarray:\n",
    "    return (candles[:, 2] + candles[:, 3])/2\n",
    "\n",
    "def vol_mean_price(candles: np.ndarray, **kwargs)-> np.ndarray:\n",
    "    return ((candles[:,2] + candles[:,3]) / 2) * candles[:,5]\n",
    "\n",
    "def calc_vwap_cum(candles: np.ndarray, **kwargs)-> np.ndarray:\n",
    "    vol_cum = np.cumsum(candles[:,5])\n",
    "    vol_avg_cum = np.cumsum(vol_mean_price(candles))\n",
    "    return vol_avg_cum / vol_cum\n",
    "\n",
    "def vwap_delta(mean, vwap_cum):\n",
    "    return mean - vwap_cum\n",
    "\n",
    "def vwap_deviation(vwap_delta):\n",
    "    return abs(vwap_delta)**2\n",
    "\n",
    "def vwap_std(vwap_dev):\n",
    "    return np.sqrt(vwap_dev)\n",
    "\n",
    "def get_vwap_std(candles: np.ndarray):\n",
    "    _mean = calc_mean_price(candles)\n",
    "    _vwap_cum = calc_vwap_cum(candles)\n",
    "    return vwap_std(vwap_deviation(vwap_delta(_mean, _vwap_cum)))\n",
    "\n",
    "def calc_vwap_state(candles, **kwargs):\n",
    "    mean = calc_mean_price(candles)\n",
    "    vwap = calc_vwap_cum(candles)\n",
    "    std = calc_std_cum(candles)\n",
    "    return np.divide((mean - vwap), std, out=np.zeros(std.shape, dtype=float), where=std!=0)\n",
    "    #return np.where(std != 0, (mean - vwap) / std, 0)\n",
    "\n",
    "def get_bands(_mean, _std, factor=1, **kwargs):\n",
    "    hh_band = _mean + factor*_std\n",
    "    ll_band = _mean - factor*_std\n",
    "    return hh_band, ll_band\n",
    "\n",
    "def calc_std_cum(candles: np.ndarray, **kwargs):\n",
    "    vw_std = get_vwap_std(candles)\n",
    "    return np.cumsum(vw_std) / np.arange(1,len(vw_std)+1)\n",
    "\n",
    "\n",
    "def get_vwap_eval_df(c: np.ndarray):\n",
    "    _std = calc_std_cum(c)\n",
    "    _vwap = calc_vwap_cum(c)\n",
    "    _mean = calc_mean_price(c)\n",
    "    _state = calc_vwap_state(c)\n",
    "\n",
    "    hb1, lb1 = get_bands(_vwap, _std)\n",
    "    hb2, lb2 = get_bands(_vwap, _std, 2)\n",
    "\n",
    "    df = pd.DataFrame({\"std\":_std, \"vwap\":_vwap, \"price\":_mean, \"high_band\":hb1, \"low_band\":lb1, \"high_band2\":hb2, \"low_band2\":lb2, \"std_state\":_state}, index=c[:,0])\n",
    "    df.index = pd.to_datetime(df.index, unit=\"ms\")\n",
    "    df.index.name = \"Date\"\n",
    "    return df"
   ],
   "metadata": {
    "collapsed": false,
    "pycharm": {
     "name": "#%%\n"
    }
   }
  },
  {
   "cell_type": "code",
   "execution_count": 7,
   "outputs": [
    {
     "name": "stdout",
     "output_type": "stream",
     "text": [
      "{'exchange': 'bybit', 'market': 'BTC/USDT:USDT', 'timeframe': '1m', 'start': 1669852800000, 'end': 1669939200000, 'limit': 1440}\n"
     ]
    }
   ],
   "source": [
    "from Backtester.streamer.simple import SimpleStreamer\n",
    "simp = SimpleIndicator()\n",
    "\n",
    "meta, candles = simp.get(start=\"2022-12-01\",end=\"2022-12-02\")"
   ],
   "metadata": {
    "collapsed": false,
    "pycharm": {
     "name": "#%%\n"
    }
   }
  },
  {
   "cell_type": "code",
   "execution_count": 8,
   "outputs": [
    {
     "data": {
      "text/plain": "                           std          vwap     price     high_band  \\\nDate                                                                   \n2022-12-01 00:00:00   0.000000  17148.000000  17148.00  17148.000000   \n2022-12-01 00:01:00   3.220053  17150.309894  17156.75  17153.529947   \n2022-12-01 00:02:00   2.234991  17150.264866  17150.00  17152.499856   \n2022-12-01 00:03:00   2.643931  17149.370754  17145.50  17152.014685   \n2022-12-01 00:04:00   2.377651  17149.687471  17151.00  17152.065122   \n...                        ...           ...       ...           ...   \n2022-12-01 23:56:00  64.752997  17055.537866  16955.00  17120.290863   \n2022-12-01 23:57:00  64.775615  17055.527749  16958.25  17120.303365   \n2022-12-01 23:58:00  64.798026  17055.525228  16958.50  17120.323255   \n2022-12-01 23:59:00  64.815140  17055.441327  16966.00  17120.256467   \n2022-12-02 00:00:00  64.829407  17055.373635  16970.00  17120.203041   \n\n                         low_band    high_band2     low_band2  std_state  \nDate                                                                      \n2022-12-01 00:00:00  17148.000000  17148.000000  17148.000000   0.000000  \n2022-12-01 00:01:00  17147.089841  17156.750000  17143.869788   2.000000  \n2022-12-01 00:02:00  17148.029875  17154.734847  17145.794885  -0.118509  \n2022-12-01 00:03:00  17146.726822  17154.658616  17144.082891  -1.464014  \n2022-12-01 00:04:00  17147.309821  17154.442773  17144.932170   0.552027  \n...                           ...           ...           ...        ...  \n2022-12-01 23:56:00  16990.784869  17185.043860  16926.031871  -1.552636  \n2022-12-01 23:57:00  16990.752134  17185.078980  16925.976519  -1.501765  \n2022-12-01 23:58:00  16990.727202  17185.121281  16925.929175  -1.497349  \n2022-12-01 23:59:00  16990.626187  17185.071607  16925.811048  -1.379945  \n2022-12-02 00:00:00  16990.544228  17185.032448  16925.714821  -1.316897  \n\n[1441 rows x 8 columns]",
      "text/html": "<div>\n<style scoped>\n    .dataframe tbody tr th:only-of-type {\n        vertical-align: middle;\n    }\n\n    .dataframe tbody tr th {\n        vertical-align: top;\n    }\n\n    .dataframe thead th {\n        text-align: right;\n    }\n</style>\n<table border=\"1\" class=\"dataframe\">\n  <thead>\n    <tr style=\"text-align: right;\">\n      <th></th>\n      <th>std</th>\n      <th>vwap</th>\n      <th>price</th>\n      <th>high_band</th>\n      <th>low_band</th>\n      <th>high_band2</th>\n      <th>low_band2</th>\n      <th>std_state</th>\n    </tr>\n    <tr>\n      <th>Date</th>\n      <th></th>\n      <th></th>\n      <th></th>\n      <th></th>\n      <th></th>\n      <th></th>\n      <th></th>\n      <th></th>\n    </tr>\n  </thead>\n  <tbody>\n    <tr>\n      <th>2022-12-01 00:00:00</th>\n      <td>0.000000</td>\n      <td>17148.000000</td>\n      <td>17148.00</td>\n      <td>17148.000000</td>\n      <td>17148.000000</td>\n      <td>17148.000000</td>\n      <td>17148.000000</td>\n      <td>0.000000</td>\n    </tr>\n    <tr>\n      <th>2022-12-01 00:01:00</th>\n      <td>3.220053</td>\n      <td>17150.309894</td>\n      <td>17156.75</td>\n      <td>17153.529947</td>\n      <td>17147.089841</td>\n      <td>17156.750000</td>\n      <td>17143.869788</td>\n      <td>2.000000</td>\n    </tr>\n    <tr>\n      <th>2022-12-01 00:02:00</th>\n      <td>2.234991</td>\n      <td>17150.264866</td>\n      <td>17150.00</td>\n      <td>17152.499856</td>\n      <td>17148.029875</td>\n      <td>17154.734847</td>\n      <td>17145.794885</td>\n      <td>-0.118509</td>\n    </tr>\n    <tr>\n      <th>2022-12-01 00:03:00</th>\n      <td>2.643931</td>\n      <td>17149.370754</td>\n      <td>17145.50</td>\n      <td>17152.014685</td>\n      <td>17146.726822</td>\n      <td>17154.658616</td>\n      <td>17144.082891</td>\n      <td>-1.464014</td>\n    </tr>\n    <tr>\n      <th>2022-12-01 00:04:00</th>\n      <td>2.377651</td>\n      <td>17149.687471</td>\n      <td>17151.00</td>\n      <td>17152.065122</td>\n      <td>17147.309821</td>\n      <td>17154.442773</td>\n      <td>17144.932170</td>\n      <td>0.552027</td>\n    </tr>\n    <tr>\n      <th>...</th>\n      <td>...</td>\n      <td>...</td>\n      <td>...</td>\n      <td>...</td>\n      <td>...</td>\n      <td>...</td>\n      <td>...</td>\n      <td>...</td>\n    </tr>\n    <tr>\n      <th>2022-12-01 23:56:00</th>\n      <td>64.752997</td>\n      <td>17055.537866</td>\n      <td>16955.00</td>\n      <td>17120.290863</td>\n      <td>16990.784869</td>\n      <td>17185.043860</td>\n      <td>16926.031871</td>\n      <td>-1.552636</td>\n    </tr>\n    <tr>\n      <th>2022-12-01 23:57:00</th>\n      <td>64.775615</td>\n      <td>17055.527749</td>\n      <td>16958.25</td>\n      <td>17120.303365</td>\n      <td>16990.752134</td>\n      <td>17185.078980</td>\n      <td>16925.976519</td>\n      <td>-1.501765</td>\n    </tr>\n    <tr>\n      <th>2022-12-01 23:58:00</th>\n      <td>64.798026</td>\n      <td>17055.525228</td>\n      <td>16958.50</td>\n      <td>17120.323255</td>\n      <td>16990.727202</td>\n      <td>17185.121281</td>\n      <td>16925.929175</td>\n      <td>-1.497349</td>\n    </tr>\n    <tr>\n      <th>2022-12-01 23:59:00</th>\n      <td>64.815140</td>\n      <td>17055.441327</td>\n      <td>16966.00</td>\n      <td>17120.256467</td>\n      <td>16990.626187</td>\n      <td>17185.071607</td>\n      <td>16925.811048</td>\n      <td>-1.379945</td>\n    </tr>\n    <tr>\n      <th>2022-12-02 00:00:00</th>\n      <td>64.829407</td>\n      <td>17055.373635</td>\n      <td>16970.00</td>\n      <td>17120.203041</td>\n      <td>16990.544228</td>\n      <td>17185.032448</td>\n      <td>16925.714821</td>\n      <td>-1.316897</td>\n    </tr>\n  </tbody>\n</table>\n<p>1441 rows × 8 columns</p>\n</div>"
     },
     "execution_count": 8,
     "metadata": {},
     "output_type": "execute_result"
    }
   ],
   "source": [
    "get_vwap_eval_df(np.array(candles))"
   ],
   "metadata": {
    "collapsed": false,
    "pycharm": {
     "name": "#%%\n"
    }
   }
  },
  {
   "cell_type": "code",
   "execution_count": 21,
   "outputs": [
    {
     "data": {
      "text/plain": "                tms        std         hband         lband        hband2  \\\n0     1669852800000   0.000000  17148.000000  17148.000000  17148.000000   \n1     1669852860000   3.220322  17153.529678  17147.089034  17156.750000   \n2     1669852920000   2.235093  17152.499729  17148.029543  17154.734822   \n3     1669852980000   2.644055  17152.014995  17146.726885  17154.659050   \n4     1669853040000   2.377659  17152.065582  17147.310263  17154.443242   \n...             ...        ...           ...           ...           ...   \n1436  1669938960000  64.750745  17120.286441  16990.784952  17185.037186   \n1437  1669939020000  64.773362  17120.298647  16990.751922  17185.072010   \n1438  1669939080000  64.795773  17120.318241  16990.726695  17185.114015   \n1439  1669939140000  64.812886  17120.251696  16990.625923  17185.064583   \n1440  1669939200000  64.827153  17120.198669  16990.544362  17185.025822   \n\n            lband2  \n0     17148.000000  \n1     17143.868712  \n2     17145.794449  \n3     17144.082830  \n4     17144.932604  \n...            ...  \n1436  16926.034208  \n1437  16925.978560  \n1438  16925.930922  \n1439  16925.813037  \n1440  16925.717209  \n\n[1441 rows x 6 columns]",
      "text/html": "<div>\n<style scoped>\n    .dataframe tbody tr th:only-of-type {\n        vertical-align: middle;\n    }\n\n    .dataframe tbody tr th {\n        vertical-align: top;\n    }\n\n    .dataframe thead th {\n        text-align: right;\n    }\n</style>\n<table border=\"1\" class=\"dataframe\">\n  <thead>\n    <tr style=\"text-align: right;\">\n      <th></th>\n      <th>tms</th>\n      <th>std</th>\n      <th>hband</th>\n      <th>lband</th>\n      <th>hband2</th>\n      <th>lband2</th>\n    </tr>\n  </thead>\n  <tbody>\n    <tr>\n      <th>0</th>\n      <td>1669852800000</td>\n      <td>0.000000</td>\n      <td>17148.000000</td>\n      <td>17148.000000</td>\n      <td>17148.000000</td>\n      <td>17148.000000</td>\n    </tr>\n    <tr>\n      <th>1</th>\n      <td>1669852860000</td>\n      <td>3.220322</td>\n      <td>17153.529678</td>\n      <td>17147.089034</td>\n      <td>17156.750000</td>\n      <td>17143.868712</td>\n    </tr>\n    <tr>\n      <th>2</th>\n      <td>1669852920000</td>\n      <td>2.235093</td>\n      <td>17152.499729</td>\n      <td>17148.029543</td>\n      <td>17154.734822</td>\n      <td>17145.794449</td>\n    </tr>\n    <tr>\n      <th>3</th>\n      <td>1669852980000</td>\n      <td>2.644055</td>\n      <td>17152.014995</td>\n      <td>17146.726885</td>\n      <td>17154.659050</td>\n      <td>17144.082830</td>\n    </tr>\n    <tr>\n      <th>4</th>\n      <td>1669853040000</td>\n      <td>2.377659</td>\n      <td>17152.065582</td>\n      <td>17147.310263</td>\n      <td>17154.443242</td>\n      <td>17144.932604</td>\n    </tr>\n    <tr>\n      <th>...</th>\n      <td>...</td>\n      <td>...</td>\n      <td>...</td>\n      <td>...</td>\n      <td>...</td>\n      <td>...</td>\n    </tr>\n    <tr>\n      <th>1436</th>\n      <td>1669938960000</td>\n      <td>64.750745</td>\n      <td>17120.286441</td>\n      <td>16990.784952</td>\n      <td>17185.037186</td>\n      <td>16926.034208</td>\n    </tr>\n    <tr>\n      <th>1437</th>\n      <td>1669939020000</td>\n      <td>64.773362</td>\n      <td>17120.298647</td>\n      <td>16990.751922</td>\n      <td>17185.072010</td>\n      <td>16925.978560</td>\n    </tr>\n    <tr>\n      <th>1438</th>\n      <td>1669939080000</td>\n      <td>64.795773</td>\n      <td>17120.318241</td>\n      <td>16990.726695</td>\n      <td>17185.114015</td>\n      <td>16925.930922</td>\n    </tr>\n    <tr>\n      <th>1439</th>\n      <td>1669939140000</td>\n      <td>64.812886</td>\n      <td>17120.251696</td>\n      <td>16990.625923</td>\n      <td>17185.064583</td>\n      <td>16925.813037</td>\n    </tr>\n    <tr>\n      <th>1440</th>\n      <td>1669939200000</td>\n      <td>64.827153</td>\n      <td>17120.198669</td>\n      <td>16990.544362</td>\n      <td>17185.025822</td>\n      <td>16925.717209</td>\n    </tr>\n  </tbody>\n</table>\n<p>1441 rows × 6 columns</p>\n</div>"
     },
     "execution_count": 21,
     "metadata": {},
     "output_type": "execute_result"
    }
   ],
   "source": [
    "pd.DataFrame(list(res.dicts()))"
   ],
   "metadata": {
    "collapsed": false,
    "pycharm": {
     "name": "#%%\n"
    }
   }
  },
  {
   "cell_type": "code",
   "execution_count": 10,
   "outputs": [
    {
     "data": {
      "text/plain": "array([ 0.        ,  6.4401059 ,  0.26486565, ..., 97.02522817,\n       89.4413272 , 85.37363462])"
     },
     "execution_count": 10,
     "metadata": {},
     "output_type": "execute_result"
    }
   ],
   "source": [
    "_vwap_cum = get_vwap_std(np.array(candles))\n",
    "_vwap_cum"
   ],
   "metadata": {
    "collapsed": false,
    "pycharm": {
     "name": "#%%\n"
    }
   }
  },
  {
   "cell_type": "code",
   "execution_count": 8,
   "outputs": [
    {
     "data": {
      "text/plain": "array([ 0.        ,  3.22032194,  2.2350932 , ..., 64.79577325,\n       64.81288647, 64.82715339])"
     },
     "execution_count": 8,
     "metadata": {},
     "output_type": "execute_result"
    }
   ],
   "source": [
    "a = np.array(res.tuples())[:, 1]\n",
    "a / np.arange(1, len(a) +1)"
   ],
   "metadata": {
    "collapsed": false,
    "pycharm": {
     "name": "#%%\n"
    }
   }
  },
  {
   "cell_type": "code",
   "execution_count": 12,
   "outputs": [],
   "source": [
    "import pandas as pd\n",
    "import numpy as np\n",
    "df = pd.DataFrame(list(res.dicts()))"
   ],
   "metadata": {
    "collapsed": false,
    "pycharm": {
     "name": "#%%\n"
    }
   }
  },
  {
   "cell_type": "code",
   "execution_count": 13,
   "outputs": [
    {
     "data": {
      "text/plain": "                tms   idx           std\n0     1669852800000     1      0.000000\n1     1669852860000     2      6.440644\n2     1669852920000     3      6.705280\n3     1669852980000     4     10.576220\n4     1669853040000     5     11.888297\n...             ...   ...           ...\n1436  1669938960000  1437  93046.819950\n1437  1669939020000  1438  93144.095235\n1438  1669939080000  1439  93241.117703\n1439  1669939140000  1440  93330.556512\n1440  1669939200000  1441  93415.928028\n\n[1441 rows x 3 columns]",
      "text/html": "<div>\n<style scoped>\n    .dataframe tbody tr th:only-of-type {\n        vertical-align: middle;\n    }\n\n    .dataframe tbody tr th {\n        vertical-align: top;\n    }\n\n    .dataframe thead th {\n        text-align: right;\n    }\n</style>\n<table border=\"1\" class=\"dataframe\">\n  <thead>\n    <tr style=\"text-align: right;\">\n      <th></th>\n      <th>tms</th>\n      <th>idx</th>\n      <th>std</th>\n    </tr>\n  </thead>\n  <tbody>\n    <tr>\n      <th>0</th>\n      <td>1669852800000</td>\n      <td>1</td>\n      <td>0.000000</td>\n    </tr>\n    <tr>\n      <th>1</th>\n      <td>1669852860000</td>\n      <td>2</td>\n      <td>6.440644</td>\n    </tr>\n    <tr>\n      <th>2</th>\n      <td>1669852920000</td>\n      <td>3</td>\n      <td>6.705280</td>\n    </tr>\n    <tr>\n      <th>3</th>\n      <td>1669852980000</td>\n      <td>4</td>\n      <td>10.576220</td>\n    </tr>\n    <tr>\n      <th>4</th>\n      <td>1669853040000</td>\n      <td>5</td>\n      <td>11.888297</td>\n    </tr>\n    <tr>\n      <th>...</th>\n      <td>...</td>\n      <td>...</td>\n      <td>...</td>\n    </tr>\n    <tr>\n      <th>1436</th>\n      <td>1669938960000</td>\n      <td>1437</td>\n      <td>93046.819950</td>\n    </tr>\n    <tr>\n      <th>1437</th>\n      <td>1669939020000</td>\n      <td>1438</td>\n      <td>93144.095235</td>\n    </tr>\n    <tr>\n      <th>1438</th>\n      <td>1669939080000</td>\n      <td>1439</td>\n      <td>93241.117703</td>\n    </tr>\n    <tr>\n      <th>1439</th>\n      <td>1669939140000</td>\n      <td>1440</td>\n      <td>93330.556512</td>\n    </tr>\n    <tr>\n      <th>1440</th>\n      <td>1669939200000</td>\n      <td>1441</td>\n      <td>93415.928028</td>\n    </tr>\n  </tbody>\n</table>\n<p>1441 rows × 3 columns</p>\n</div>"
     },
     "execution_count": 13,
     "metadata": {},
     "output_type": "execute_result"
    }
   ],
   "source": [
    "df"
   ],
   "metadata": {
    "collapsed": false,
    "pycharm": {
     "name": "#%%\n"
    }
   }
  },
  {
   "cell_type": "code",
   "execution_count": 1,
   "outputs": [],
   "source": [
    "meta = {'exchange': 'bybit', 'market': 'BTC/USDT:USDT', 'timeframe': '1m', 'start': 1669852800000, 'end': 1669939200000, 'limit': 1440}"
   ],
   "metadata": {
    "collapsed": false,
    "pycharm": {
     "name": "#%%\n"
    }
   }
  },
  {
   "cell_type": "code",
   "execution_count": 11,
   "outputs": [],
   "source": [
    "from Backtester.database.models.candle import Candle\n",
    "def query_vwap(meta ,db=Candle):\n",
    "    from peewee import Window, fn\n",
    "    _db = db.alias()\n",
    "\n",
    "    p_avg = (db.high + db.low)/2\n",
    "    vwp = p_avg * db.volume\n",
    "    vwap_cs = fn.SUM(vwp).over(order_by=[db.timestamp]) / fn.SUM(db.volume).over(order_by=[db.timestamp])\n",
    "    vwap_d = p_avg - vwap_cs\n",
    "    vwap_std = fn.SQRT(vwap_d*vwap_d)\n",
    "\n",
    "\n",
    "\n",
    "    vwap_cstd = fn.SUM(vwap_std).over(order_by=[db.timestamp])\n",
    "\n",
    "    hband_one = vwap_cs + vwap_cstd * 1\n",
    "    lband_one = vwap_cs - vwap_cstd *1\n",
    "    hband_two = vwap_cs + vwap_cstd * 2\n",
    "    lband_two = vwap_cs - vwap_cstd * 2\n",
    "\n",
    "    vwap_cumsum = db.select(db.timestamp, vwap_cstd.alias(\"std\"), vwap_cs.alias(\"vwap\"), p_avg.alias(\"price\"), hband_one.alias(\"hband\"), lband_one.alias(\"lband\"), hband_two.alias(\"hband2\"), lband_two.alias(\"lband2\")).where(db.exchange == meta[\"exchange\"],\n",
    "                                               db.symbol == meta[\"market\"],\n",
    "                                               db.timeframe == meta[\"timeframe\"],\n",
    "                                               db.timestamp.between(meta[\"start\"], meta[\"end\"]))\n",
    "    return vwap_cumsum\n",
    "\n",
    "res =query_vwap(meta)"
   ],
   "metadata": {
    "collapsed": false,
    "pycharm": {
     "name": "#%%\n"
    }
   }
  },
  {
   "cell_type": "code",
   "execution_count": 28,
   "outputs": [
    {
     "data": {
      "text/plain": "Timestamp('2022-12-01 00:00:00')"
     },
     "execution_count": 28,
     "metadata": {},
     "output_type": "execute_result"
    }
   ],
   "source": [
    "pd.to_datetime(1669852800000, unit=\"ms\")"
   ],
   "metadata": {
    "collapsed": false,
    "pycharm": {
     "name": "#%%\n"
    }
   }
  },
  {
   "cell_type": "code",
   "execution_count": 31,
   "outputs": [
    {
     "data": {
      "text/plain": "array([[1.66985280e+12, 1.71480000e+04, 3.07004070e+06, 3.07004070e+06,\n        1.79032000e+02, 3.06986166e+06],\n       [1.66985286e+12, 1.71567500e+04, 1.10170349e+06, 4.17174419e+06,\n        2.43246000e+02, 4.17150094e+06],\n       [1.66985292e+12, 1.71500000e+04, 7.09203961e+05, 4.88094815e+06,\n        2.84599000e+02, 4.88066355e+06],\n       ...,\n       [1.66993908e+12, 1.69585000e+04, 5.08415814e+04, 1.96792281e+09,\n        1.15383320e+05, 1.96780743e+09],\n       [1.66993914e+12, 1.69660000e+04, 1.83633198e+06, 1.96975914e+09,\n        1.15491555e+05, 1.96964365e+09],\n       [1.66993920e+12, 1.69700000e+04, 1.55399378e+06, 1.97131314e+09,\n        1.15583125e+05, 1.97119755e+09]])"
     },
     "execution_count": 31,
     "metadata": {},
     "output_type": "execute_result"
    }
   ],
   "source": [
    "np.array(list(res.tuples()))"
   ],
   "metadata": {
    "collapsed": false,
    "pycharm": {
     "name": "#%%\n"
    }
   }
  },
  {
   "cell_type": "code",
   "execution_count": 20,
   "outputs": [
    {
     "data": {
      "text/plain": "                tms        std         hband         lband        hband2  \\\n0     1669852800000   0.000000  17148.000000  17148.000000  17148.000000   \n1     1669852860000   3.220322  17153.529678  17147.089034  17156.750000   \n2     1669852920000   2.235093  17152.499729  17148.029543  17154.734822   \n3     1669852980000   2.644055  17152.014995  17146.726885  17154.659050   \n4     1669853040000   2.377659  17152.065582  17147.310263  17154.443242   \n...             ...        ...           ...           ...           ...   \n1436  1669938960000  64.750745  17120.286441  16990.784952  17185.037186   \n1437  1669939020000  64.773362  17120.298647  16990.751922  17185.072010   \n1438  1669939080000  64.795773  17120.318241  16990.726695  17185.114015   \n1439  1669939140000  64.812886  17120.251696  16990.625923  17185.064583   \n1440  1669939200000  64.827153  17120.198669  16990.544362  17185.025822   \n\n            lband2  \n0     17148.000000  \n1     17143.868712  \n2     17145.794449  \n3     17144.082830  \n4     17144.932604  \n...            ...  \n1436  16926.034208  \n1437  16925.978560  \n1438  16925.930922  \n1439  16925.813037  \n1440  16925.717209  \n\n[1441 rows x 6 columns]",
      "text/html": "<div>\n<style scoped>\n    .dataframe tbody tr th:only-of-type {\n        vertical-align: middle;\n    }\n\n    .dataframe tbody tr th {\n        vertical-align: top;\n    }\n\n    .dataframe thead th {\n        text-align: right;\n    }\n</style>\n<table border=\"1\" class=\"dataframe\">\n  <thead>\n    <tr style=\"text-align: right;\">\n      <th></th>\n      <th>tms</th>\n      <th>std</th>\n      <th>hband</th>\n      <th>lband</th>\n      <th>hband2</th>\n      <th>lband2</th>\n    </tr>\n  </thead>\n  <tbody>\n    <tr>\n      <th>0</th>\n      <td>1669852800000</td>\n      <td>0.000000</td>\n      <td>17148.000000</td>\n      <td>17148.000000</td>\n      <td>17148.000000</td>\n      <td>17148.000000</td>\n    </tr>\n    <tr>\n      <th>1</th>\n      <td>1669852860000</td>\n      <td>3.220322</td>\n      <td>17153.529678</td>\n      <td>17147.089034</td>\n      <td>17156.750000</td>\n      <td>17143.868712</td>\n    </tr>\n    <tr>\n      <th>2</th>\n      <td>1669852920000</td>\n      <td>2.235093</td>\n      <td>17152.499729</td>\n      <td>17148.029543</td>\n      <td>17154.734822</td>\n      <td>17145.794449</td>\n    </tr>\n    <tr>\n      <th>3</th>\n      <td>1669852980000</td>\n      <td>2.644055</td>\n      <td>17152.014995</td>\n      <td>17146.726885</td>\n      <td>17154.659050</td>\n      <td>17144.082830</td>\n    </tr>\n    <tr>\n      <th>4</th>\n      <td>1669853040000</td>\n      <td>2.377659</td>\n      <td>17152.065582</td>\n      <td>17147.310263</td>\n      <td>17154.443242</td>\n      <td>17144.932604</td>\n    </tr>\n    <tr>\n      <th>...</th>\n      <td>...</td>\n      <td>...</td>\n      <td>...</td>\n      <td>...</td>\n      <td>...</td>\n      <td>...</td>\n    </tr>\n    <tr>\n      <th>1436</th>\n      <td>1669938960000</td>\n      <td>64.750745</td>\n      <td>17120.286441</td>\n      <td>16990.784952</td>\n      <td>17185.037186</td>\n      <td>16926.034208</td>\n    </tr>\n    <tr>\n      <th>1437</th>\n      <td>1669939020000</td>\n      <td>64.773362</td>\n      <td>17120.298647</td>\n      <td>16990.751922</td>\n      <td>17185.072010</td>\n      <td>16925.978560</td>\n    </tr>\n    <tr>\n      <th>1438</th>\n      <td>1669939080000</td>\n      <td>64.795773</td>\n      <td>17120.318241</td>\n      <td>16990.726695</td>\n      <td>17185.114015</td>\n      <td>16925.930922</td>\n    </tr>\n    <tr>\n      <th>1439</th>\n      <td>1669939140000</td>\n      <td>64.812886</td>\n      <td>17120.251696</td>\n      <td>16990.625923</td>\n      <td>17185.064583</td>\n      <td>16925.813037</td>\n    </tr>\n    <tr>\n      <th>1440</th>\n      <td>1669939200000</td>\n      <td>64.827153</td>\n      <td>17120.198669</td>\n      <td>16990.544362</td>\n      <td>17185.025822</td>\n      <td>16925.717209</td>\n    </tr>\n  </tbody>\n</table>\n<p>1441 rows × 6 columns</p>\n</div>"
     },
     "execution_count": 20,
     "metadata": {},
     "output_type": "execute_result"
    }
   ],
   "source": [
    "pd.DataFrame(list(res.dicts()))"
   ],
   "metadata": {
    "collapsed": false,
    "pycharm": {
     "name": "#%%\n"
    }
   }
  },
  {
   "cell_type": "code",
   "execution_count": 19,
   "outputs": [],
   "source": [
    "from Backtester.database.models.candle import Candle\n",
    "def query_vwap(meta ,_db=Candle):\n",
    "    from peewee import Window, fn\n",
    "    db = _db.alias()\n",
    "\n",
    "    p_avg = (db.high + db.low)/2\n",
    "    row = 1\n",
    "    rows = fn.SUM(row).over(order_by=[db.timestamp])\n",
    "    vwp = p_avg * db.volume\n",
    "    vwap_cs = fn.SUM(vwp).over(order_by=[db.timestamp]) / fn.SUM(db.volume).over(order_by=[db.timestamp])\n",
    "    vwap_d = p_avg - vwap_cs\n",
    "    vwap_std = fn.SQRT(vwap_d*vwap_d)\n",
    "\n",
    "    subq = db.select(db.timestamp.alias(\"tms\"),\n",
    "                     rows.alias(\"idx\"),\n",
    "                     vwap_std.alias(\"_std\"),\n",
    "                     vwap_cs.alias(\"vwap\"),\n",
    "                     p_avg.alias(\"price\")).where(db.exchange == meta[\"exchange\"],\n",
    "                                                      db.symbol == meta[\"market\"],\n",
    "                                                      db.timeframe == meta[\"timeframe\"],\n",
    "                                                      db.timestamp.between(meta[\"start\"], meta[\"end\"]))\n",
    "\n",
    "    std = fn.SUM(subq.c._std).over(order_by=[subq.c.tms]) / subq.c.idx\n",
    "    hband_one = subq.c.vwap + std * 1\n",
    "    lband_one = subq.c.vwap - std *1\n",
    "    hband_two = subq.c.vwap + std * 2\n",
    "    lband_two = subq.c.vwap - std * 2\n",
    "\n",
    "    resq = _db.select(subq.c.tms,\n",
    "                      std.alias(\"std\"),\n",
    "                      hband_one.alias(\"hband\"),\n",
    "                      lband_one.alias(\"lband\"),\n",
    "                      hband_two.alias(\"hband2\"),\n",
    "                      lband_two.alias(\"lband2\")).from_(subq)\n",
    "                     # subq.c.idx,\n",
    "                     #  fn.SUM(subq.c._std).over(order_by=[subq.c.tms]).alias(\"std\")).from_(subq)\n",
    "\n",
    "    return resq\n",
    "\n",
    "res = query_vwap(meta)\n",
    "                     #\n",
    "                     #\n",
    "                     #\n",
    "                     #\n",
    "                     # vwap_cs.alias(\"vwap\"),\n",
    "                     # p_avg.alias(\"price\"),\n",
    "                     # hband_one.alias(\"hband\"),\n",
    "                     # lband_one.alias(\"lband\"),\n",
    "                     # hband_two.alias(\"hband2\"),\n",
    "                     # lband_two.alias(\"lband2\")).where(db.exchange == meta[\"exchange\"],\n",
    "                     #                                  db.symbol == meta[\"market\"],\n",
    "                     #                                  db.timeframe == meta[\"timeframe\"],\n",
    "                     #                                  db.timestamp.between(meta[\"start\"], meta[\"end\"]))\n",
    "    #\n",
    "    # vwap_cstd = fn.SUM(vwap_std).over(order_by=[db.timestamp])\n",
    "    #\n",
    "\n",
    "    #\n",
    "    # vwap_cumsum = db.select(db.timestamp, vwap_cstd.alias(\"std\"), vwap_cs.alias(\"vwap\"), p_avg.alias(\"price\"), hband_one.alias(\"hband\"), lband_one.alias(\"lband\"), hband_two.alias(\"hband2\"), lband_two.alias(\"lband2\")).where(db.exchange == meta[\"exchange\"],\n",
    "    #                                                                                                                                                                                                                            db.symbol == meta[\"market\"],\n",
    "    #                                                                                                                                                                                                                            db.timeframe == meta[\"timeframe\"],\n",
    "    #                                                                                                                                                                                                                            db.timestamp.between(meta[\"start\"], meta[\"end\"]))\n",
    "    # return vwap_cumsum"
   ],
   "metadata": {
    "collapsed": false,
    "pycharm": {
     "name": "#%%\n"
    }
   }
  },
  {
   "cell_type": "code",
   "execution_count": 1,
   "outputs": [],
   "source": [
    "meta = {'exchange': 'bybit', 'market': 'BTC/USDT:USDT', 'timeframe': '1m', 'start': 1669852800000, 'end': 1669939200000, 'limit': 1440}"
   ],
   "metadata": {
    "collapsed": false,
    "pycharm": {
     "name": "#%%\n"
    }
   }
  },
  {
   "cell_type": "code",
   "execution_count": 9,
   "outputs": [],
   "source": [
    "def query_drawdown(meta: dict, db=None, direction=\"buy\"):\n",
    "    from Backtester.database.models.candle import Candle\n",
    "    from peewee import Window, fn\n",
    "    db = Candle if not db else db\n",
    "\n",
    "\n",
    "    if direction == \"buy\":\n",
    "        minq = db.select(fn.MIN(db.low)).where(db.exchange == meta[\"exchange\"],\n",
    "                                                db.symbol == meta[\"market\"],\n",
    "                                                db.timeframe == meta[\"timeframe\"],\n",
    "                                                db.timestamp.between(meta[\"start\"], meta[\"end\"]))\n",
    "\n",
    "        query = db.select(db.timestamp, db.low).where(db.exchange == meta[\"exchange\"],\n",
    "                                                      db.symbol == meta[\"market\"],\n",
    "                                                      db.timeframe == meta[\"timeframe\"],\n",
    "                                                      db.timestamp.between(meta[\"start\"], meta[\"end\"]),\n",
    "                                                      db.low == minq)\n",
    "\n",
    "    else:\n",
    "        maxq = db.select(fn.MAX(db.high)).where(db.exchange == meta[\"exchange\"],\n",
    "                                                                db.symbol == meta[\"market\"],\n",
    "                                                                db.timeframe == meta[\"timeframe\"],\n",
    "                                                                db.timestamp.between(meta[\"start\"], meta[\"end\"]))\n",
    "        query = db.select(db.timestamp, db.high).where(db.exchange == meta[\"exchange\"],\n",
    "                                                      db.symbol == meta[\"market\"],\n",
    "                                                      db.timeframe == meta[\"timeframe\"],\n",
    "                                                      db.timestamp.between(meta[\"start\"], meta[\"end\"]),\n",
    "                                                      db.high == maxq)\n",
    "    return query"
   ],
   "metadata": {
    "collapsed": false,
    "pycharm": {
     "name": "#%%\n"
    }
   }
  },
  {
   "cell_type": "code",
   "execution_count": 10,
   "outputs": [],
   "source": [
    "res = query_drawdown(meta)"
   ],
   "metadata": {
    "collapsed": false,
    "pycharm": {
     "name": "#%%\n"
    }
   }
  },
  {
   "cell_type": "code",
   "execution_count": 11,
   "outputs": [
    {
     "data": {
      "text/plain": "[(1669928520000, 16850.0)]"
     },
     "execution_count": 11,
     "metadata": {},
     "output_type": "execute_result"
    }
   ],
   "source": [
    "list(res.tuples())"
   ],
   "metadata": {
    "collapsed": false,
    "pycharm": {
     "name": "#%%\n"
    }
   }
  },
  {
   "cell_type": "code",
   "execution_count": null,
   "outputs": [],
   "source": [],
   "metadata": {
    "collapsed": false,
    "pycharm": {
     "name": "#%%\n"
    }
   }
  }
 ],
 "metadata": {
  "kernelspec": {
   "display_name": "Python 3",
   "language": "python",
   "name": "python3"
  },
  "language_info": {
   "codemirror_mode": {
    "name": "ipython",
    "version": 2
   },
   "file_extension": ".py",
   "mimetype": "text/x-python",
   "name": "python",
   "nbconvert_exporter": "python",
   "pygments_lexer": "ipython2",
   "version": "2.7.6"
  }
 },
 "nbformat": 4,
 "nbformat_minor": 0
}