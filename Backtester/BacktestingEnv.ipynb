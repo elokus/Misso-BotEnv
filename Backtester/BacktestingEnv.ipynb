{
 "cells": [
  {
   "cell_type": "markdown",
   "source": [
    "# Development Backtesting Enviornment\n",
    "---\n",
    "We want to develope an Environment to test & create different strategies as well as evaluate parameter for strategies.\n",
    "\n"
   ],
   "metadata": {
    "collapsed": false,
    "pycharm": {
     "name": "#%% md\n"
    }
   }
  },
  {
   "cell_type": "markdown",
   "source": [
    "1. Load Candles for testing date range"
   ],
   "metadata": {
    "collapsed": false,
    "pycharm": {
     "name": "#%% md\n"
    }
   }
  },
  {
   "cell_type": "code",
   "execution_count": 3,
   "outputs": [
    {
     "name": "stdout",
     "output_type": "stream",
     "text": [
      "{'exchange': 'bybit', 'market': 'BTC/USDT:USDT', 'timeframe': '1m', 'start': 1666224000000, 'end': 1670544000000, 'limit': 72000}\n",
      "{'exchange': 'bybit', 'market': 'BTC/USDT:USDT', 'timeframe': '1m', 'start': 1666224000000, 'end': 1670544000000, 'limit': 72000} 199\n",
      "{'exchange': 'bybit', 'market': 'BTC/USDT:USDT', 'timeframe': '1m', 'start': 1666224000000, 'end': 1670544000000, 'limit': 72000} 398\n",
      "{'exchange': 'bybit', 'market': 'BTC/USDT:USDT', 'timeframe': '1m', 'start': 1666224000000, 'end': 1670544000000, 'limit': 72000} 597\n",
      "{'exchange': 'bybit', 'market': 'BTC/USDT:USDT', 'timeframe': '1m', 'start': 1666224000000, 'end': 1670544000000, 'limit': 72000} 796\n",
      "{'exchange': 'bybit', 'market': 'BTC/USDT:USDT', 'timeframe': '1m', 'start': 1666224000000, 'end': 1670544000000, 'limit': 72000} 995\n",
      "{'exchange': 'bybit', 'market': 'BTC/USDT:USDT', 'timeframe': '1m', 'start': 1666224000000, 'end': 1670544000000, 'limit': 72000} 1194\n",
      "{'exchange': 'bybit', 'market': 'BTC/USDT:USDT', 'timeframe': '1m', 'start': 1666224000000, 'end': 1670544000000, 'limit': 72000} 1393\n",
      "{'exchange': 'bybit', 'market': 'BTC/USDT:USDT', 'timeframe': '1m', 'start': 1666224000000, 'end': 1670544000000, 'limit': 72000} 1592\n",
      "{'exchange': 'bybit', 'market': 'BTC/USDT:USDT', 'timeframe': '1m', 'start': 1666224000000, 'end': 1670544000000, 'limit': 72000} 1791\n",
      "{'exchange': 'bybit', 'market': 'BTC/USDT:USDT', 'timeframe': '1m', 'start': 1666224000000, 'end': 1670544000000, 'limit': 72000} 1990\n",
      "{'exchange': 'bybit', 'market': 'BTC/USDT:USDT', 'timeframe': '1m', 'start': 1666224000000, 'end': 1670544000000, 'limit': 72000} 2189\n",
      "{'exchange': 'bybit', 'market': 'BTC/USDT:USDT', 'timeframe': '1m', 'start': 1666224000000, 'end': 1670544000000, 'limit': 72000} 2388\n",
      "{'exchange': 'bybit', 'market': 'BTC/USDT:USDT', 'timeframe': '1m', 'start': 1666224000000, 'end': 1670544000000, 'limit': 72000} 2587\n",
      "{'exchange': 'bybit', 'market': 'BTC/USDT:USDT', 'timeframe': '1m', 'start': 1666224000000, 'end': 1670544000000, 'limit': 72000} 2786\n",
      "{'exchange': 'bybit', 'market': 'BTC/USDT:USDT', 'timeframe': '1m', 'start': 1666224000000, 'end': 1670544000000, 'limit': 72000} 2985\n",
      "{'exchange': 'bybit', 'market': 'BTC/USDT:USDT', 'timeframe': '1m', 'start': 1666224000000, 'end': 1670544000000, 'limit': 72000} 3184\n",
      "{'exchange': 'bybit', 'market': 'BTC/USDT:USDT', 'timeframe': '1m', 'start': 1666224000000, 'end': 1670544000000, 'limit': 72000} 3383\n",
      "{'exchange': 'bybit', 'market': 'BTC/USDT:USDT', 'timeframe': '1m', 'start': 1666224000000, 'end': 1670544000000, 'limit': 72000} 3582\n",
      "{'exchange': 'bybit', 'market': 'BTC/USDT:USDT', 'timeframe': '1m', 'start': 1666224000000, 'end': 1670544000000, 'limit': 72000} 3781\n",
      "{'exchange': 'bybit', 'market': 'BTC/USDT:USDT', 'timeframe': '1m', 'start': 1666224000000, 'end': 1670544000000, 'limit': 72000} 3980\n",
      "{'exchange': 'bybit', 'market': 'BTC/USDT:USDT', 'timeframe': '1m', 'start': 1666224000000, 'end': 1670544000000, 'limit': 72000} 4179\n",
      "{'exchange': 'bybit', 'market': 'BTC/USDT:USDT', 'timeframe': '1m', 'start': 1666224000000, 'end': 1670544000000, 'limit': 72000} 4378\n",
      "{'exchange': 'bybit', 'market': 'BTC/USDT:USDT', 'timeframe': '1m', 'start': 1666224000000, 'end': 1670544000000, 'limit': 72000} 4577\n",
      "{'exchange': 'bybit', 'market': 'BTC/USDT:USDT', 'timeframe': '1m', 'start': 1666224000000, 'end': 1670544000000, 'limit': 72000} 4776\n",
      "{'exchange': 'bybit', 'market': 'BTC/USDT:USDT', 'timeframe': '1m', 'start': 1666224000000, 'end': 1670544000000, 'limit': 72000} 4975\n",
      "{'exchange': 'bybit', 'market': 'BTC/USDT:USDT', 'timeframe': '1m', 'start': 1666224000000, 'end': 1670544000000, 'limit': 72000} 5174\n",
      "{'exchange': 'bybit', 'market': 'BTC/USDT:USDT', 'timeframe': '1m', 'start': 1666224000000, 'end': 1670544000000, 'limit': 72000} 5373\n",
      "{'exchange': 'bybit', 'market': 'BTC/USDT:USDT', 'timeframe': '1m', 'start': 1666224000000, 'end': 1670544000000, 'limit': 72000} 5572\n",
      "{'exchange': 'bybit', 'market': 'BTC/USDT:USDT', 'timeframe': '1m', 'start': 1666224000000, 'end': 1670544000000, 'limit': 72000} 5771\n",
      "{'exchange': 'bybit', 'market': 'BTC/USDT:USDT', 'timeframe': '1m', 'start': 1666224000000, 'end': 1670544000000, 'limit': 72000} 5970\n",
      "{'exchange': 'bybit', 'market': 'BTC/USDT:USDT', 'timeframe': '1m', 'start': 1666224000000, 'end': 1670544000000, 'limit': 72000} 6169\n",
      "{'exchange': 'bybit', 'market': 'BTC/USDT:USDT', 'timeframe': '1m', 'start': 1666224000000, 'end': 1670544000000, 'limit': 72000} 6368\n",
      "{'exchange': 'bybit', 'market': 'BTC/USDT:USDT', 'timeframe': '1m', 'start': 1666224000000, 'end': 1670544000000, 'limit': 72000} 6567\n",
      "{'exchange': 'bybit', 'market': 'BTC/USDT:USDT', 'timeframe': '1m', 'start': 1666224000000, 'end': 1670544000000, 'limit': 72000} 6766\n",
      "{'exchange': 'bybit', 'market': 'BTC/USDT:USDT', 'timeframe': '1m', 'start': 1666224000000, 'end': 1670544000000, 'limit': 72000} 6965\n",
      "{'exchange': 'bybit', 'market': 'BTC/USDT:USDT', 'timeframe': '1m', 'start': 1666224000000, 'end': 1670544000000, 'limit': 72000} 7164\n",
      "{'exchange': 'bybit', 'market': 'BTC/USDT:USDT', 'timeframe': '1m', 'start': 1666224000000, 'end': 1670544000000, 'limit': 72000} 7363\n",
      "{'exchange': 'bybit', 'market': 'BTC/USDT:USDT', 'timeframe': '1m', 'start': 1666224000000, 'end': 1670544000000, 'limit': 72000} 7562\n",
      "{'exchange': 'bybit', 'market': 'BTC/USDT:USDT', 'timeframe': '1m', 'start': 1666224000000, 'end': 1670544000000, 'limit': 72000} 7761\n",
      "{'exchange': 'bybit', 'market': 'BTC/USDT:USDT', 'timeframe': '1m', 'start': 1666224000000, 'end': 1670544000000, 'limit': 72000} 7960\n",
      "{'exchange': 'bybit', 'market': 'BTC/USDT:USDT', 'timeframe': '1m', 'start': 1666224000000, 'end': 1670544000000, 'limit': 72000} 8159\n",
      "{'exchange': 'bybit', 'market': 'BTC/USDT:USDT', 'timeframe': '1m', 'start': 1666224000000, 'end': 1670544000000, 'limit': 72000} 8358\n",
      "{'exchange': 'bybit', 'market': 'BTC/USDT:USDT', 'timeframe': '1m', 'start': 1666224000000, 'end': 1670544000000, 'limit': 72000} 8557\n",
      "{'exchange': 'bybit', 'market': 'BTC/USDT:USDT', 'timeframe': '1m', 'start': 1666224000000, 'end': 1670544000000, 'limit': 72000} 8756\n",
      "{'exchange': 'bybit', 'market': 'BTC/USDT:USDT', 'timeframe': '1m', 'start': 1666224000000, 'end': 1670544000000, 'limit': 72000} 8955\n",
      "{'exchange': 'bybit', 'market': 'BTC/USDT:USDT', 'timeframe': '1m', 'start': 1666224000000, 'end': 1670544000000, 'limit': 72000} 9154\n",
      "{'exchange': 'bybit', 'market': 'BTC/USDT:USDT', 'timeframe': '1m', 'start': 1666224000000, 'end': 1670544000000, 'limit': 72000} 9353\n",
      "{'exchange': 'bybit', 'market': 'BTC/USDT:USDT', 'timeframe': '1m', 'start': 1666224000000, 'end': 1670544000000, 'limit': 72000} 9552\n",
      "{'exchange': 'bybit', 'market': 'BTC/USDT:USDT', 'timeframe': '1m', 'start': 1666224000000, 'end': 1670544000000, 'limit': 72000} 9751\n",
      "{'exchange': 'bybit', 'market': 'BTC/USDT:USDT', 'timeframe': '1m', 'start': 1666224000000, 'end': 1670544000000, 'limit': 72000} 9950\n",
      "{'exchange': 'bybit', 'market': 'BTC/USDT:USDT', 'timeframe': '1m', 'start': 1666224000000, 'end': 1670544000000, 'limit': 72000} 10149\n",
      "{'exchange': 'bybit', 'market': 'BTC/USDT:USDT', 'timeframe': '1m', 'start': 1666224000000, 'end': 1670544000000, 'limit': 72000} 10348\n",
      "{'exchange': 'bybit', 'market': 'BTC/USDT:USDT', 'timeframe': '1m', 'start': 1666224000000, 'end': 1670544000000, 'limit': 72000} 10547\n",
      "{'exchange': 'bybit', 'market': 'BTC/USDT:USDT', 'timeframe': '1m', 'start': 1666224000000, 'end': 1670544000000, 'limit': 72000} 10746\n",
      "{'exchange': 'bybit', 'market': 'BTC/USDT:USDT', 'timeframe': '1m', 'start': 1666224000000, 'end': 1670544000000, 'limit': 72000} 10945\n",
      "{'exchange': 'bybit', 'market': 'BTC/USDT:USDT', 'timeframe': '1m', 'start': 1666224000000, 'end': 1670544000000, 'limit': 72000} 11144\n",
      "{'exchange': 'bybit', 'market': 'BTC/USDT:USDT', 'timeframe': '1m', 'start': 1666224000000, 'end': 1670544000000, 'limit': 72000} 11343\n",
      "{'exchange': 'bybit', 'market': 'BTC/USDT:USDT', 'timeframe': '1m', 'start': 1666224000000, 'end': 1670544000000, 'limit': 72000} 11542\n",
      "{'exchange': 'bybit', 'market': 'BTC/USDT:USDT', 'timeframe': '1m', 'start': 1666224000000, 'end': 1670544000000, 'limit': 72000} 11741\n",
      "{'exchange': 'bybit', 'market': 'BTC/USDT:USDT', 'timeframe': '1m', 'start': 1666224000000, 'end': 1670544000000, 'limit': 72000} 11940\n",
      "{'exchange': 'bybit', 'market': 'BTC/USDT:USDT', 'timeframe': '1m', 'start': 1666224000000, 'end': 1670544000000, 'limit': 72000} 12139\n",
      "{'exchange': 'bybit', 'market': 'BTC/USDT:USDT', 'timeframe': '1m', 'start': 1666224000000, 'end': 1670544000000, 'limit': 72000} 12338\n",
      "{'exchange': 'bybit', 'market': 'BTC/USDT:USDT', 'timeframe': '1m', 'start': 1666224000000, 'end': 1670544000000, 'limit': 72000} 12537\n",
      "{'exchange': 'bybit', 'market': 'BTC/USDT:USDT', 'timeframe': '1m', 'start': 1666224000000, 'end': 1670544000000, 'limit': 72000} 12736\n",
      "{'exchange': 'bybit', 'market': 'BTC/USDT:USDT', 'timeframe': '1m', 'start': 1666224000000, 'end': 1670544000000, 'limit': 72000} 12935\n",
      "{'exchange': 'bybit', 'market': 'BTC/USDT:USDT', 'timeframe': '1m', 'start': 1666224000000, 'end': 1670544000000, 'limit': 72000} 13134\n",
      "{'exchange': 'bybit', 'market': 'BTC/USDT:USDT', 'timeframe': '1m', 'start': 1666224000000, 'end': 1670544000000, 'limit': 72000} 13333\n",
      "{'exchange': 'bybit', 'market': 'BTC/USDT:USDT', 'timeframe': '1m', 'start': 1666224000000, 'end': 1670544000000, 'limit': 72000} 13532\n",
      "{'exchange': 'bybit', 'market': 'BTC/USDT:USDT', 'timeframe': '1m', 'start': 1666224000000, 'end': 1670544000000, 'limit': 72000} 13731\n",
      "{'exchange': 'bybit', 'market': 'BTC/USDT:USDT', 'timeframe': '1m', 'start': 1666224000000, 'end': 1670544000000, 'limit': 72000} 13930\n",
      "{'exchange': 'bybit', 'market': 'BTC/USDT:USDT', 'timeframe': '1m', 'start': 1666224000000, 'end': 1670544000000, 'limit': 72000} 14129\n",
      "{'exchange': 'bybit', 'market': 'BTC/USDT:USDT', 'timeframe': '1m', 'start': 1666224000000, 'end': 1670544000000, 'limit': 72000} 14328\n",
      "{'exchange': 'bybit', 'market': 'BTC/USDT:USDT', 'timeframe': '1m', 'start': 1666224000000, 'end': 1670544000000, 'limit': 72000} 14527\n",
      "{'exchange': 'bybit', 'market': 'BTC/USDT:USDT', 'timeframe': '1m', 'start': 1666224000000, 'end': 1670544000000, 'limit': 72000} 14726\n",
      "{'exchange': 'bybit', 'market': 'BTC/USDT:USDT', 'timeframe': '1m', 'start': 1666224000000, 'end': 1670544000000, 'limit': 72000} 14925\n",
      "{'exchange': 'bybit', 'market': 'BTC/USDT:USDT', 'timeframe': '1m', 'start': 1666224000000, 'end': 1670544000000, 'limit': 72000} 15124\n",
      "{'exchange': 'bybit', 'market': 'BTC/USDT:USDT', 'timeframe': '1m', 'start': 1666224000000, 'end': 1670544000000, 'limit': 72000} 15323\n",
      "{'exchange': 'bybit', 'market': 'BTC/USDT:USDT', 'timeframe': '1m', 'start': 1666224000000, 'end': 1670544000000, 'limit': 72000} 15522\n",
      "{'exchange': 'bybit', 'market': 'BTC/USDT:USDT', 'timeframe': '1m', 'start': 1666224000000, 'end': 1670544000000, 'limit': 72000} 15721\n",
      "{'exchange': 'bybit', 'market': 'BTC/USDT:USDT', 'timeframe': '1m', 'start': 1666224000000, 'end': 1670544000000, 'limit': 72000} 15920\n",
      "{'exchange': 'bybit', 'market': 'BTC/USDT:USDT', 'timeframe': '1m', 'start': 1666224000000, 'end': 1670544000000, 'limit': 72000} 16119\n",
      "{'exchange': 'bybit', 'market': 'BTC/USDT:USDT', 'timeframe': '1m', 'start': 1666224000000, 'end': 1670544000000, 'limit': 72000} 16318\n",
      "{'exchange': 'bybit', 'market': 'BTC/USDT:USDT', 'timeframe': '1m', 'start': 1666224000000, 'end': 1670544000000, 'limit': 72000} 16517\n",
      "{'exchange': 'bybit', 'market': 'BTC/USDT:USDT', 'timeframe': '1m', 'start': 1666224000000, 'end': 1670544000000, 'limit': 72000} 16716\n",
      "{'exchange': 'bybit', 'market': 'BTC/USDT:USDT', 'timeframe': '1m', 'start': 1666224000000, 'end': 1670544000000, 'limit': 72000} 16915\n",
      "{'exchange': 'bybit', 'market': 'BTC/USDT:USDT', 'timeframe': '1m', 'start': 1666224000000, 'end': 1670544000000, 'limit': 72000} 17114\n",
      "{'exchange': 'bybit', 'market': 'BTC/USDT:USDT', 'timeframe': '1m', 'start': 1666224000000, 'end': 1670544000000, 'limit': 72000} 17313\n",
      "{'exchange': 'bybit', 'market': 'BTC/USDT:USDT', 'timeframe': '1m', 'start': 1666224000000, 'end': 1670544000000, 'limit': 72000} 17512\n",
      "{'exchange': 'bybit', 'market': 'BTC/USDT:USDT', 'timeframe': '1m', 'start': 1666224000000, 'end': 1670544000000, 'limit': 72000} 17711\n",
      "{'exchange': 'bybit', 'market': 'BTC/USDT:USDT', 'timeframe': '1m', 'start': 1666224000000, 'end': 1670544000000, 'limit': 72000} 17910\n",
      "{'exchange': 'bybit', 'market': 'BTC/USDT:USDT', 'timeframe': '1m', 'start': 1666224000000, 'end': 1670544000000, 'limit': 72000} 18109\n",
      "{'exchange': 'bybit', 'market': 'BTC/USDT:USDT', 'timeframe': '1m', 'start': 1666224000000, 'end': 1670544000000, 'limit': 72000} 18308\n",
      "{'exchange': 'bybit', 'market': 'BTC/USDT:USDT', 'timeframe': '1m', 'start': 1666224000000, 'end': 1670544000000, 'limit': 72000} 18507\n",
      "{'exchange': 'bybit', 'market': 'BTC/USDT:USDT', 'timeframe': '1m', 'start': 1666224000000, 'end': 1670544000000, 'limit': 72000} 18706\n",
      "{'exchange': 'bybit', 'market': 'BTC/USDT:USDT', 'timeframe': '1m', 'start': 1666224000000, 'end': 1670544000000, 'limit': 72000} 18905\n",
      "{'exchange': 'bybit', 'market': 'BTC/USDT:USDT', 'timeframe': '1m', 'start': 1666224000000, 'end': 1670544000000, 'limit': 72000} 19104\n",
      "{'exchange': 'bybit', 'market': 'BTC/USDT:USDT', 'timeframe': '1m', 'start': 1666224000000, 'end': 1670544000000, 'limit': 72000} 19303\n",
      "{'exchange': 'bybit', 'market': 'BTC/USDT:USDT', 'timeframe': '1m', 'start': 1666224000000, 'end': 1670544000000, 'limit': 72000} 19502\n",
      "{'exchange': 'bybit', 'market': 'BTC/USDT:USDT', 'timeframe': '1m', 'start': 1666224000000, 'end': 1670544000000, 'limit': 72000} 19701\n",
      "{'exchange': 'bybit', 'market': 'BTC/USDT:USDT', 'timeframe': '1m', 'start': 1666224000000, 'end': 1670544000000, 'limit': 72000} 19900\n",
      "{'exchange': 'bybit', 'market': 'BTC/USDT:USDT', 'timeframe': '1m', 'start': 1666224000000, 'end': 1670544000000, 'limit': 72000} 20099\n",
      "{'exchange': 'bybit', 'market': 'BTC/USDT:USDT', 'timeframe': '1m', 'start': 1666224000000, 'end': 1670544000000, 'limit': 72000} 20298\n",
      "{'exchange': 'bybit', 'market': 'BTC/USDT:USDT', 'timeframe': '1m', 'start': 1666224000000, 'end': 1670544000000, 'limit': 72000} 20497\n",
      "{'exchange': 'bybit', 'market': 'BTC/USDT:USDT', 'timeframe': '1m', 'start': 1666224000000, 'end': 1670544000000, 'limit': 72000} 20696\n",
      "{'exchange': 'bybit', 'market': 'BTC/USDT:USDT', 'timeframe': '1m', 'start': 1666224000000, 'end': 1670544000000, 'limit': 72000} 20895\n",
      "{'exchange': 'bybit', 'market': 'BTC/USDT:USDT', 'timeframe': '1m', 'start': 1666224000000, 'end': 1670544000000, 'limit': 72000} 21094\n",
      "{'exchange': 'bybit', 'market': 'BTC/USDT:USDT', 'timeframe': '1m', 'start': 1666224000000, 'end': 1670544000000, 'limit': 72000} 21293\n",
      "{'exchange': 'bybit', 'market': 'BTC/USDT:USDT', 'timeframe': '1m', 'start': 1666224000000, 'end': 1670544000000, 'limit': 72000} 21492\n",
      "{'exchange': 'bybit', 'market': 'BTC/USDT:USDT', 'timeframe': '1m', 'start': 1666224000000, 'end': 1670544000000, 'limit': 72000} 21691\n",
      "{'exchange': 'bybit', 'market': 'BTC/USDT:USDT', 'timeframe': '1m', 'start': 1666224000000, 'end': 1670544000000, 'limit': 72000} 21890\n",
      "{'exchange': 'bybit', 'market': 'BTC/USDT:USDT', 'timeframe': '1m', 'start': 1666224000000, 'end': 1670544000000, 'limit': 72000} 22089\n",
      "{'exchange': 'bybit', 'market': 'BTC/USDT:USDT', 'timeframe': '1m', 'start': 1666224000000, 'end': 1670544000000, 'limit': 72000} 22288\n",
      "{'exchange': 'bybit', 'market': 'BTC/USDT:USDT', 'timeframe': '1m', 'start': 1666224000000, 'end': 1670544000000, 'limit': 72000} 22487\n",
      "{'exchange': 'bybit', 'market': 'BTC/USDT:USDT', 'timeframe': '1m', 'start': 1666224000000, 'end': 1670544000000, 'limit': 72000} 22686\n",
      "{'exchange': 'bybit', 'market': 'BTC/USDT:USDT', 'timeframe': '1m', 'start': 1666224000000, 'end': 1670544000000, 'limit': 72000} 22885\n",
      "{'exchange': 'bybit', 'market': 'BTC/USDT:USDT', 'timeframe': '1m', 'start': 1666224000000, 'end': 1670544000000, 'limit': 72000} 23084\n",
      "{'exchange': 'bybit', 'market': 'BTC/USDT:USDT', 'timeframe': '1m', 'start': 1666224000000, 'end': 1670544000000, 'limit': 72000} 23283\n",
      "{'exchange': 'bybit', 'market': 'BTC/USDT:USDT', 'timeframe': '1m', 'start': 1666224000000, 'end': 1670544000000, 'limit': 72000} 23482\n",
      "{'exchange': 'bybit', 'market': 'BTC/USDT:USDT', 'timeframe': '1m', 'start': 1666224000000, 'end': 1670544000000, 'limit': 72000} 23681\n",
      "{'exchange': 'bybit', 'market': 'BTC/USDT:USDT', 'timeframe': '1m', 'start': 1666224000000, 'end': 1670544000000, 'limit': 72000} 23880\n",
      "{'exchange': 'bybit', 'market': 'BTC/USDT:USDT', 'timeframe': '1m', 'start': 1666224000000, 'end': 1670544000000, 'limit': 72000} 24079\n",
      "{'exchange': 'bybit', 'market': 'BTC/USDT:USDT', 'timeframe': '1m', 'start': 1666224000000, 'end': 1670544000000, 'limit': 72000} 24278\n",
      "{'exchange': 'bybit', 'market': 'BTC/USDT:USDT', 'timeframe': '1m', 'start': 1666224000000, 'end': 1670544000000, 'limit': 72000} 24477\n",
      "{'exchange': 'bybit', 'market': 'BTC/USDT:USDT', 'timeframe': '1m', 'start': 1666224000000, 'end': 1670544000000, 'limit': 72000} 24676\n",
      "{'exchange': 'bybit', 'market': 'BTC/USDT:USDT', 'timeframe': '1m', 'start': 1666224000000, 'end': 1670544000000, 'limit': 72000} 24875\n",
      "{'exchange': 'bybit', 'market': 'BTC/USDT:USDT', 'timeframe': '1m', 'start': 1666224000000, 'end': 1670544000000, 'limit': 72000} 25074\n",
      "{'exchange': 'bybit', 'market': 'BTC/USDT:USDT', 'timeframe': '1m', 'start': 1666224000000, 'end': 1670544000000, 'limit': 72000} 25273\n",
      "{'exchange': 'bybit', 'market': 'BTC/USDT:USDT', 'timeframe': '1m', 'start': 1666224000000, 'end': 1670544000000, 'limit': 72000} 25472\n",
      "{'exchange': 'bybit', 'market': 'BTC/USDT:USDT', 'timeframe': '1m', 'start': 1666224000000, 'end': 1670544000000, 'limit': 72000} 25671\n",
      "{'exchange': 'bybit', 'market': 'BTC/USDT:USDT', 'timeframe': '1m', 'start': 1666224000000, 'end': 1670544000000, 'limit': 72000} 25870\n",
      "{'exchange': 'bybit', 'market': 'BTC/USDT:USDT', 'timeframe': '1m', 'start': 1666224000000, 'end': 1670544000000, 'limit': 72000} 26069\n",
      "{'exchange': 'bybit', 'market': 'BTC/USDT:USDT', 'timeframe': '1m', 'start': 1666224000000, 'end': 1670544000000, 'limit': 72000} 26268\n",
      "{'exchange': 'bybit', 'market': 'BTC/USDT:USDT', 'timeframe': '1m', 'start': 1666224000000, 'end': 1670544000000, 'limit': 72000} 26467\n",
      "{'exchange': 'bybit', 'market': 'BTC/USDT:USDT', 'timeframe': '1m', 'start': 1666224000000, 'end': 1670544000000, 'limit': 72000} 26666\n",
      "{'exchange': 'bybit', 'market': 'BTC/USDT:USDT', 'timeframe': '1m', 'start': 1666224000000, 'end': 1670544000000, 'limit': 72000} 26865\n",
      "{'exchange': 'bybit', 'market': 'BTC/USDT:USDT', 'timeframe': '1m', 'start': 1666224000000, 'end': 1670544000000, 'limit': 72000} 27064\n",
      "{'exchange': 'bybit', 'market': 'BTC/USDT:USDT', 'timeframe': '1m', 'start': 1666224000000, 'end': 1670544000000, 'limit': 72000} 27263\n",
      "{'exchange': 'bybit', 'market': 'BTC/USDT:USDT', 'timeframe': '1m', 'start': 1666224000000, 'end': 1670544000000, 'limit': 72000} 27462\n",
      "{'exchange': 'bybit', 'market': 'BTC/USDT:USDT', 'timeframe': '1m', 'start': 1666224000000, 'end': 1670544000000, 'limit': 72000} 27661\n",
      "{'exchange': 'bybit', 'market': 'BTC/USDT:USDT', 'timeframe': '1m', 'start': 1666224000000, 'end': 1670544000000, 'limit': 72000} 27860\n",
      "{'exchange': 'bybit', 'market': 'BTC/USDT:USDT', 'timeframe': '1m', 'start': 1666224000000, 'end': 1670544000000, 'limit': 72000} 28059\n",
      "{'exchange': 'bybit', 'market': 'BTC/USDT:USDT', 'timeframe': '1m', 'start': 1666224000000, 'end': 1670544000000, 'limit': 72000} 28258\n",
      "{'exchange': 'bybit', 'market': 'BTC/USDT:USDT', 'timeframe': '1m', 'start': 1666224000000, 'end': 1670544000000, 'limit': 72000} 28457\n",
      "{'exchange': 'bybit', 'market': 'BTC/USDT:USDT', 'timeframe': '1m', 'start': 1666224000000, 'end': 1670544000000, 'limit': 72000} 28656\n",
      "{'exchange': 'bybit', 'market': 'BTC/USDT:USDT', 'timeframe': '1m', 'start': 1666224000000, 'end': 1670544000000, 'limit': 72000} 28855\n",
      "{'exchange': 'bybit', 'market': 'BTC/USDT:USDT', 'timeframe': '1m', 'start': 1666224000000, 'end': 1670544000000, 'limit': 72000} 29054\n",
      "{'exchange': 'bybit', 'market': 'BTC/USDT:USDT', 'timeframe': '1m', 'start': 1666224000000, 'end': 1670544000000, 'limit': 72000} 29253\n",
      "{'exchange': 'bybit', 'market': 'BTC/USDT:USDT', 'timeframe': '1m', 'start': 1666224000000, 'end': 1670544000000, 'limit': 72000} 29452\n",
      "{'exchange': 'bybit', 'market': 'BTC/USDT:USDT', 'timeframe': '1m', 'start': 1666224000000, 'end': 1670544000000, 'limit': 72000} 29651\n",
      "{'exchange': 'bybit', 'market': 'BTC/USDT:USDT', 'timeframe': '1m', 'start': 1666224000000, 'end': 1670544000000, 'limit': 72000} 29850\n",
      "{'exchange': 'bybit', 'market': 'BTC/USDT:USDT', 'timeframe': '1m', 'start': 1666224000000, 'end': 1670544000000, 'limit': 72000} 30049\n",
      "{'exchange': 'bybit', 'market': 'BTC/USDT:USDT', 'timeframe': '1m', 'start': 1666224000000, 'end': 1670544000000, 'limit': 72000} 30248\n",
      "{'exchange': 'bybit', 'market': 'BTC/USDT:USDT', 'timeframe': '1m', 'start': 1666224000000, 'end': 1670544000000, 'limit': 72000} 30447\n",
      "{'exchange': 'bybit', 'market': 'BTC/USDT:USDT', 'timeframe': '1m', 'start': 1666224000000, 'end': 1670544000000, 'limit': 72000} 30646\n",
      "{'exchange': 'bybit', 'market': 'BTC/USDT:USDT', 'timeframe': '1m', 'start': 1666224000000, 'end': 1670544000000, 'limit': 72000} 30845\n",
      "{'exchange': 'bybit', 'market': 'BTC/USDT:USDT', 'timeframe': '1m', 'start': 1666224000000, 'end': 1670544000000, 'limit': 72000} 31044\n",
      "{'exchange': 'bybit', 'market': 'BTC/USDT:USDT', 'timeframe': '1m', 'start': 1666224000000, 'end': 1670544000000, 'limit': 72000} 31243\n",
      "{'exchange': 'bybit', 'market': 'BTC/USDT:USDT', 'timeframe': '1m', 'start': 1666224000000, 'end': 1670544000000, 'limit': 72000} 31442\n",
      "{'exchange': 'bybit', 'market': 'BTC/USDT:USDT', 'timeframe': '1m', 'start': 1666224000000, 'end': 1670544000000, 'limit': 72000} 31641\n",
      "{'exchange': 'bybit', 'market': 'BTC/USDT:USDT', 'timeframe': '1m', 'start': 1666224000000, 'end': 1670544000000, 'limit': 72000} 31840\n",
      "{'exchange': 'bybit', 'market': 'BTC/USDT:USDT', 'timeframe': '1m', 'start': 1666224000000, 'end': 1670544000000, 'limit': 72000} 32039\n",
      "{'exchange': 'bybit', 'market': 'BTC/USDT:USDT', 'timeframe': '1m', 'start': 1666224000000, 'end': 1670544000000, 'limit': 72000} 32238\n",
      "{'exchange': 'bybit', 'market': 'BTC/USDT:USDT', 'timeframe': '1m', 'start': 1666224000000, 'end': 1670544000000, 'limit': 72000} 32437\n",
      "{'exchange': 'bybit', 'market': 'BTC/USDT:USDT', 'timeframe': '1m', 'start': 1666224000000, 'end': 1670544000000, 'limit': 72000} 32636\n",
      "{'exchange': 'bybit', 'market': 'BTC/USDT:USDT', 'timeframe': '1m', 'start': 1666224000000, 'end': 1670544000000, 'limit': 72000} 32835\n",
      "{'exchange': 'bybit', 'market': 'BTC/USDT:USDT', 'timeframe': '1m', 'start': 1666224000000, 'end': 1670544000000, 'limit': 72000} 33034\n",
      "{'exchange': 'bybit', 'market': 'BTC/USDT:USDT', 'timeframe': '1m', 'start': 1666224000000, 'end': 1670544000000, 'limit': 72000} 33233\n",
      "{'exchange': 'bybit', 'market': 'BTC/USDT:USDT', 'timeframe': '1m', 'start': 1666224000000, 'end': 1670544000000, 'limit': 72000} 33432\n",
      "{'exchange': 'bybit', 'market': 'BTC/USDT:USDT', 'timeframe': '1m', 'start': 1666224000000, 'end': 1670544000000, 'limit': 72000} 33631\n",
      "{'exchange': 'bybit', 'market': 'BTC/USDT:USDT', 'timeframe': '1m', 'start': 1666224000000, 'end': 1670544000000, 'limit': 72000} 33830\n",
      "{'exchange': 'bybit', 'market': 'BTC/USDT:USDT', 'timeframe': '1m', 'start': 1666224000000, 'end': 1670544000000, 'limit': 72000} 34029\n",
      "{'exchange': 'bybit', 'market': 'BTC/USDT:USDT', 'timeframe': '1m', 'start': 1666224000000, 'end': 1670544000000, 'limit': 72000} 34228\n",
      "{'exchange': 'bybit', 'market': 'BTC/USDT:USDT', 'timeframe': '1m', 'start': 1666224000000, 'end': 1670544000000, 'limit': 72000} 34427\n",
      "{'exchange': 'bybit', 'market': 'BTC/USDT:USDT', 'timeframe': '1m', 'start': 1666224000000, 'end': 1670544000000, 'limit': 72000} 34626\n",
      "{'exchange': 'bybit', 'market': 'BTC/USDT:USDT', 'timeframe': '1m', 'start': 1666224000000, 'end': 1670544000000, 'limit': 72000} 34825\n",
      "{'exchange': 'bybit', 'market': 'BTC/USDT:USDT', 'timeframe': '1m', 'start': 1666224000000, 'end': 1670544000000, 'limit': 72000} 35024\n",
      "{'exchange': 'bybit', 'market': 'BTC/USDT:USDT', 'timeframe': '1m', 'start': 1666224000000, 'end': 1670544000000, 'limit': 72000} 35223\n",
      "{'exchange': 'bybit', 'market': 'BTC/USDT:USDT', 'timeframe': '1m', 'start': 1666224000000, 'end': 1670544000000, 'limit': 72000} 35422\n",
      "{'exchange': 'bybit', 'market': 'BTC/USDT:USDT', 'timeframe': '1m', 'start': 1666224000000, 'end': 1670544000000, 'limit': 72000} 35621\n",
      "{'exchange': 'bybit', 'market': 'BTC/USDT:USDT', 'timeframe': '1m', 'start': 1666224000000, 'end': 1670544000000, 'limit': 72000} 35820\n",
      "{'exchange': 'bybit', 'market': 'BTC/USDT:USDT', 'timeframe': '1m', 'start': 1666224000000, 'end': 1670544000000, 'limit': 72000} 36019\n",
      "{'exchange': 'bybit', 'market': 'BTC/USDT:USDT', 'timeframe': '1m', 'start': 1666224000000, 'end': 1670544000000, 'limit': 72000} 36218\n",
      "{'exchange': 'bybit', 'market': 'BTC/USDT:USDT', 'timeframe': '1m', 'start': 1666224000000, 'end': 1670544000000, 'limit': 72000} 36417\n",
      "{'exchange': 'bybit', 'market': 'BTC/USDT:USDT', 'timeframe': '1m', 'start': 1666224000000, 'end': 1670544000000, 'limit': 72000} 36616\n",
      "{'exchange': 'bybit', 'market': 'BTC/USDT:USDT', 'timeframe': '1m', 'start': 1666224000000, 'end': 1670544000000, 'limit': 72000} 36815\n",
      "{'exchange': 'bybit', 'market': 'BTC/USDT:USDT', 'timeframe': '1m', 'start': 1666224000000, 'end': 1670544000000, 'limit': 72000} 37014\n",
      "{'exchange': 'bybit', 'market': 'BTC/USDT:USDT', 'timeframe': '1m', 'start': 1666224000000, 'end': 1670544000000, 'limit': 72000} 37213\n",
      "{'exchange': 'bybit', 'market': 'BTC/USDT:USDT', 'timeframe': '1m', 'start': 1666224000000, 'end': 1670544000000, 'limit': 72000} 37412\n",
      "{'exchange': 'bybit', 'market': 'BTC/USDT:USDT', 'timeframe': '1m', 'start': 1666224000000, 'end': 1670544000000, 'limit': 72000} 37611\n",
      "{'exchange': 'bybit', 'market': 'BTC/USDT:USDT', 'timeframe': '1m', 'start': 1666224000000, 'end': 1670544000000, 'limit': 72000} 37810\n",
      "{'exchange': 'bybit', 'market': 'BTC/USDT:USDT', 'timeframe': '1m', 'start': 1666224000000, 'end': 1670544000000, 'limit': 72000} 38009\n",
      "{'exchange': 'bybit', 'market': 'BTC/USDT:USDT', 'timeframe': '1m', 'start': 1666224000000, 'end': 1670544000000, 'limit': 72000} 38208\n",
      "{'exchange': 'bybit', 'market': 'BTC/USDT:USDT', 'timeframe': '1m', 'start': 1666224000000, 'end': 1670544000000, 'limit': 72000} 38407\n",
      "{'exchange': 'bybit', 'market': 'BTC/USDT:USDT', 'timeframe': '1m', 'start': 1666224000000, 'end': 1670544000000, 'limit': 72000} 38606\n",
      "{'exchange': 'bybit', 'market': 'BTC/USDT:USDT', 'timeframe': '1m', 'start': 1666224000000, 'end': 1670544000000, 'limit': 72000} 38805\n",
      "{'exchange': 'bybit', 'market': 'BTC/USDT:USDT', 'timeframe': '1m', 'start': 1666224000000, 'end': 1670544000000, 'limit': 72000} 39004\n",
      "{'exchange': 'bybit', 'market': 'BTC/USDT:USDT', 'timeframe': '1m', 'start': 1666224000000, 'end': 1670544000000, 'limit': 72000} 39203\n",
      "{'exchange': 'bybit', 'market': 'BTC/USDT:USDT', 'timeframe': '1m', 'start': 1666224000000, 'end': 1670544000000, 'limit': 72000} 39402\n",
      "{'exchange': 'bybit', 'market': 'BTC/USDT:USDT', 'timeframe': '1m', 'start': 1666224000000, 'end': 1670544000000, 'limit': 72000} 39601\n",
      "{'exchange': 'bybit', 'market': 'BTC/USDT:USDT', 'timeframe': '1m', 'start': 1666224000000, 'end': 1670544000000, 'limit': 72000} 39800\n",
      "{'exchange': 'bybit', 'market': 'BTC/USDT:USDT', 'timeframe': '1m', 'start': 1666224000000, 'end': 1670544000000, 'limit': 72000} 39999\n",
      "{'exchange': 'bybit', 'market': 'BTC/USDT:USDT', 'timeframe': '1m', 'start': 1666224000000, 'end': 1670544000000, 'limit': 72000} 40198\n",
      "{'exchange': 'bybit', 'market': 'BTC/USDT:USDT', 'timeframe': '1m', 'start': 1666224000000, 'end': 1670544000000, 'limit': 72000} 40397\n",
      "{'exchange': 'bybit', 'market': 'BTC/USDT:USDT', 'timeframe': '1m', 'start': 1666224000000, 'end': 1670544000000, 'limit': 72000} 40596\n",
      "{'exchange': 'bybit', 'market': 'BTC/USDT:USDT', 'timeframe': '1m', 'start': 1666224000000, 'end': 1670544000000, 'limit': 72000} 40795\n",
      "{'exchange': 'bybit', 'market': 'BTC/USDT:USDT', 'timeframe': '1m', 'start': 1666224000000, 'end': 1670544000000, 'limit': 72000} 40994\n",
      "{'exchange': 'bybit', 'market': 'BTC/USDT:USDT', 'timeframe': '1m', 'start': 1666224000000, 'end': 1670544000000, 'limit': 72000} 41193\n",
      "{'exchange': 'bybit', 'market': 'BTC/USDT:USDT', 'timeframe': '1m', 'start': 1666224000000, 'end': 1670544000000, 'limit': 72000} 41392\n",
      "{'exchange': 'bybit', 'market': 'BTC/USDT:USDT', 'timeframe': '1m', 'start': 1666224000000, 'end': 1670544000000, 'limit': 72000} 41591\n",
      "{'exchange': 'bybit', 'market': 'BTC/USDT:USDT', 'timeframe': '1m', 'start': 1666224000000, 'end': 1670544000000, 'limit': 72000} 41790\n",
      "{'exchange': 'bybit', 'market': 'BTC/USDT:USDT', 'timeframe': '1m', 'start': 1666224000000, 'end': 1670544000000, 'limit': 72000} 41989\n",
      "{'exchange': 'bybit', 'market': 'BTC/USDT:USDT', 'timeframe': '1m', 'start': 1666224000000, 'end': 1670544000000, 'limit': 72000} 42188\n",
      "{'exchange': 'bybit', 'market': 'BTC/USDT:USDT', 'timeframe': '1m', 'start': 1666224000000, 'end': 1670544000000, 'limit': 72000} 42387\n",
      "{'exchange': 'bybit', 'market': 'BTC/USDT:USDT', 'timeframe': '1m', 'start': 1666224000000, 'end': 1670544000000, 'limit': 72000} 42586\n",
      "{'exchange': 'bybit', 'market': 'BTC/USDT:USDT', 'timeframe': '1m', 'start': 1666224000000, 'end': 1670544000000, 'limit': 72000} 42785\n",
      "{'exchange': 'bybit', 'market': 'BTC/USDT:USDT', 'timeframe': '1m', 'start': 1666224000000, 'end': 1670544000000, 'limit': 72000} 42984\n",
      "{'exchange': 'bybit', 'market': 'BTC/USDT:USDT', 'timeframe': '1m', 'start': 1666224000000, 'end': 1670544000000, 'limit': 72000} 43183\n",
      "{'exchange': 'bybit', 'market': 'BTC/USDT:USDT', 'timeframe': '1m', 'start': 1666224000000, 'end': 1670544000000, 'limit': 72000} 43382\n",
      "{'exchange': 'bybit', 'market': 'BTC/USDT:USDT', 'timeframe': '1m', 'start': 1666224000000, 'end': 1670544000000, 'limit': 72000} 43581\n",
      "{'exchange': 'bybit', 'market': 'BTC/USDT:USDT', 'timeframe': '1m', 'start': 1666224000000, 'end': 1670544000000, 'limit': 72000} 43780\n",
      "{'exchange': 'bybit', 'market': 'BTC/USDT:USDT', 'timeframe': '1m', 'start': 1666224000000, 'end': 1670544000000, 'limit': 72000} 43979\n",
      "{'exchange': 'bybit', 'market': 'BTC/USDT:USDT', 'timeframe': '1m', 'start': 1666224000000, 'end': 1670544000000, 'limit': 72000} 44178\n",
      "{'exchange': 'bybit', 'market': 'BTC/USDT:USDT', 'timeframe': '1m', 'start': 1666224000000, 'end': 1670544000000, 'limit': 72000} 44377\n",
      "{'exchange': 'bybit', 'market': 'BTC/USDT:USDT', 'timeframe': '1m', 'start': 1666224000000, 'end': 1670544000000, 'limit': 72000} 44576\n",
      "{'exchange': 'bybit', 'market': 'BTC/USDT:USDT', 'timeframe': '1m', 'start': 1666224000000, 'end': 1670544000000, 'limit': 72000} 44775\n",
      "{'exchange': 'bybit', 'market': 'BTC/USDT:USDT', 'timeframe': '1m', 'start': 1666224000000, 'end': 1670544000000, 'limit': 72000} 44974\n",
      "{'exchange': 'bybit', 'market': 'BTC/USDT:USDT', 'timeframe': '1m', 'start': 1666224000000, 'end': 1670544000000, 'limit': 72000} 45173\n",
      "{'exchange': 'bybit', 'market': 'BTC/USDT:USDT', 'timeframe': '1m', 'start': 1666224000000, 'end': 1670544000000, 'limit': 72000} 45372\n",
      "{'exchange': 'bybit', 'market': 'BTC/USDT:USDT', 'timeframe': '1m', 'start': 1666224000000, 'end': 1670544000000, 'limit': 72000} 45571\n",
      "{'exchange': 'bybit', 'market': 'BTC/USDT:USDT', 'timeframe': '1m', 'start': 1666224000000, 'end': 1670544000000, 'limit': 72000} 45770\n",
      "{'exchange': 'bybit', 'market': 'BTC/USDT:USDT', 'timeframe': '1m', 'start': 1666224000000, 'end': 1670544000000, 'limit': 72000} 45969\n",
      "{'exchange': 'bybit', 'market': 'BTC/USDT:USDT', 'timeframe': '1m', 'start': 1666224000000, 'end': 1670544000000, 'limit': 72000} 46168\n",
      "{'exchange': 'bybit', 'market': 'BTC/USDT:USDT', 'timeframe': '1m', 'start': 1666224000000, 'end': 1670544000000, 'limit': 72000} 46367\n",
      "{'exchange': 'bybit', 'market': 'BTC/USDT:USDT', 'timeframe': '1m', 'start': 1666224000000, 'end': 1670544000000, 'limit': 72000} 46566\n",
      "{'exchange': 'bybit', 'market': 'BTC/USDT:USDT', 'timeframe': '1m', 'start': 1666224000000, 'end': 1670544000000, 'limit': 72000} 46765\n",
      "{'exchange': 'bybit', 'market': 'BTC/USDT:USDT', 'timeframe': '1m', 'start': 1666224000000, 'end': 1670544000000, 'limit': 72000} 46964\n",
      "{'exchange': 'bybit', 'market': 'BTC/USDT:USDT', 'timeframe': '1m', 'start': 1666224000000, 'end': 1670544000000, 'limit': 72000} 47163\n",
      "{'exchange': 'bybit', 'market': 'BTC/USDT:USDT', 'timeframe': '1m', 'start': 1666224000000, 'end': 1670544000000, 'limit': 72000} 47362\n",
      "{'exchange': 'bybit', 'market': 'BTC/USDT:USDT', 'timeframe': '1m', 'start': 1666224000000, 'end': 1670544000000, 'limit': 72000} 47561\n",
      "{'exchange': 'bybit', 'market': 'BTC/USDT:USDT', 'timeframe': '1m', 'start': 1666224000000, 'end': 1670544000000, 'limit': 72000} 47760\n",
      "{'exchange': 'bybit', 'market': 'BTC/USDT:USDT', 'timeframe': '1m', 'start': 1666224000000, 'end': 1670544000000, 'limit': 72000} 47959\n",
      "{'exchange': 'bybit', 'market': 'BTC/USDT:USDT', 'timeframe': '1m', 'start': 1666224000000, 'end': 1670544000000, 'limit': 72000} 48158\n",
      "{'exchange': 'bybit', 'market': 'BTC/USDT:USDT', 'timeframe': '1m', 'start': 1666224000000, 'end': 1670544000000, 'limit': 72000} 48357\n",
      "{'exchange': 'bybit', 'market': 'BTC/USDT:USDT', 'timeframe': '1m', 'start': 1666224000000, 'end': 1670544000000, 'limit': 72000} 48556\n",
      "{'exchange': 'bybit', 'market': 'BTC/USDT:USDT', 'timeframe': '1m', 'start': 1666224000000, 'end': 1670544000000, 'limit': 72000} 48755\n",
      "{'exchange': 'bybit', 'market': 'BTC/USDT:USDT', 'timeframe': '1m', 'start': 1666224000000, 'end': 1670544000000, 'limit': 72000} 48954\n",
      "{'exchange': 'bybit', 'market': 'BTC/USDT:USDT', 'timeframe': '1m', 'start': 1666224000000, 'end': 1670544000000, 'limit': 72000} 49153\n",
      "{'exchange': 'bybit', 'market': 'BTC/USDT:USDT', 'timeframe': '1m', 'start': 1666224000000, 'end': 1670544000000, 'limit': 72000} 49352\n",
      "{'exchange': 'bybit', 'market': 'BTC/USDT:USDT', 'timeframe': '1m', 'start': 1666224000000, 'end': 1670544000000, 'limit': 72000} 49551\n",
      "{'exchange': 'bybit', 'market': 'BTC/USDT:USDT', 'timeframe': '1m', 'start': 1666224000000, 'end': 1670544000000, 'limit': 72000} 49750\n",
      "{'exchange': 'bybit', 'market': 'BTC/USDT:USDT', 'timeframe': '1m', 'start': 1666224000000, 'end': 1670544000000, 'limit': 72000} 49949\n",
      "{'exchange': 'bybit', 'market': 'BTC/USDT:USDT', 'timeframe': '1m', 'start': 1666224000000, 'end': 1670544000000, 'limit': 72000} 50148\n",
      "{'exchange': 'bybit', 'market': 'BTC/USDT:USDT', 'timeframe': '1m', 'start': 1666224000000, 'end': 1670544000000, 'limit': 72000} 50347\n",
      "{'exchange': 'bybit', 'market': 'BTC/USDT:USDT', 'timeframe': '1m', 'start': 1666224000000, 'end': 1670544000000, 'limit': 72000} 50546\n",
      "{'exchange': 'bybit', 'market': 'BTC/USDT:USDT', 'timeframe': '1m', 'start': 1666224000000, 'end': 1670544000000, 'limit': 72000} 50745\n",
      "{'exchange': 'bybit', 'market': 'BTC/USDT:USDT', 'timeframe': '1m', 'start': 1666224000000, 'end': 1670544000000, 'limit': 72000} 50944\n",
      "{'exchange': 'bybit', 'market': 'BTC/USDT:USDT', 'timeframe': '1m', 'start': 1666224000000, 'end': 1670544000000, 'limit': 72000} 51143\n",
      "{'exchange': 'bybit', 'market': 'BTC/USDT:USDT', 'timeframe': '1m', 'start': 1666224000000, 'end': 1670544000000, 'limit': 72000} 51342\n",
      "{'exchange': 'bybit', 'market': 'BTC/USDT:USDT', 'timeframe': '1m', 'start': 1666224000000, 'end': 1670544000000, 'limit': 72000} 51541\n",
      "{'exchange': 'bybit', 'market': 'BTC/USDT:USDT', 'timeframe': '1m', 'start': 1666224000000, 'end': 1670544000000, 'limit': 72000} 51740\n",
      "{'exchange': 'bybit', 'market': 'BTC/USDT:USDT', 'timeframe': '1m', 'start': 1666224000000, 'end': 1670544000000, 'limit': 72000} 51939\n",
      "{'exchange': 'bybit', 'market': 'BTC/USDT:USDT', 'timeframe': '1m', 'start': 1666224000000, 'end': 1670544000000, 'limit': 72000} 52138\n",
      "{'exchange': 'bybit', 'market': 'BTC/USDT:USDT', 'timeframe': '1m', 'start': 1666224000000, 'end': 1670544000000, 'limit': 72000} 52337\n",
      "{'exchange': 'bybit', 'market': 'BTC/USDT:USDT', 'timeframe': '1m', 'start': 1666224000000, 'end': 1670544000000, 'limit': 72000} 52536\n",
      "{'exchange': 'bybit', 'market': 'BTC/USDT:USDT', 'timeframe': '1m', 'start': 1666224000000, 'end': 1670544000000, 'limit': 72000} 52735\n",
      "{'exchange': 'bybit', 'market': 'BTC/USDT:USDT', 'timeframe': '1m', 'start': 1666224000000, 'end': 1670544000000, 'limit': 72000} 52934\n",
      "{'exchange': 'bybit', 'market': 'BTC/USDT:USDT', 'timeframe': '1m', 'start': 1666224000000, 'end': 1670544000000, 'limit': 72000} 53133\n",
      "{'exchange': 'bybit', 'market': 'BTC/USDT:USDT', 'timeframe': '1m', 'start': 1666224000000, 'end': 1670544000000, 'limit': 72000} 53332\n",
      "{'exchange': 'bybit', 'market': 'BTC/USDT:USDT', 'timeframe': '1m', 'start': 1666224000000, 'end': 1670544000000, 'limit': 72000} 53531\n",
      "{'exchange': 'bybit', 'market': 'BTC/USDT:USDT', 'timeframe': '1m', 'start': 1666224000000, 'end': 1670544000000, 'limit': 72000} 53730\n",
      "{'exchange': 'bybit', 'market': 'BTC/USDT:USDT', 'timeframe': '1m', 'start': 1666224000000, 'end': 1670544000000, 'limit': 72000} 53929\n",
      "{'exchange': 'bybit', 'market': 'BTC/USDT:USDT', 'timeframe': '1m', 'start': 1666224000000, 'end': 1670544000000, 'limit': 72000} 54128\n",
      "{'exchange': 'bybit', 'market': 'BTC/USDT:USDT', 'timeframe': '1m', 'start': 1666224000000, 'end': 1670544000000, 'limit': 72000} 54327\n",
      "{'exchange': 'bybit', 'market': 'BTC/USDT:USDT', 'timeframe': '1m', 'start': 1666224000000, 'end': 1670544000000, 'limit': 72000} 54526\n",
      "{'exchange': 'bybit', 'market': 'BTC/USDT:USDT', 'timeframe': '1m', 'start': 1666224000000, 'end': 1670544000000, 'limit': 72000} 54725\n",
      "{'exchange': 'bybit', 'market': 'BTC/USDT:USDT', 'timeframe': '1m', 'start': 1666224000000, 'end': 1670544000000, 'limit': 72000} 54924\n",
      "{'exchange': 'bybit', 'market': 'BTC/USDT:USDT', 'timeframe': '1m', 'start': 1666224000000, 'end': 1670544000000, 'limit': 72000} 55123\n",
      "{'exchange': 'bybit', 'market': 'BTC/USDT:USDT', 'timeframe': '1m', 'start': 1666224000000, 'end': 1670544000000, 'limit': 72000} 55322\n",
      "{'exchange': 'bybit', 'market': 'BTC/USDT:USDT', 'timeframe': '1m', 'start': 1666224000000, 'end': 1670544000000, 'limit': 72000} 55521\n",
      "{'exchange': 'bybit', 'market': 'BTC/USDT:USDT', 'timeframe': '1m', 'start': 1666224000000, 'end': 1670544000000, 'limit': 72000} 55720\n",
      "{'exchange': 'bybit', 'market': 'BTC/USDT:USDT', 'timeframe': '1m', 'start': 1666224000000, 'end': 1670544000000, 'limit': 72000} 55919\n",
      "{'exchange': 'bybit', 'market': 'BTC/USDT:USDT', 'timeframe': '1m', 'start': 1666224000000, 'end': 1670544000000, 'limit': 72000} 56118\n",
      "{'exchange': 'bybit', 'market': 'BTC/USDT:USDT', 'timeframe': '1m', 'start': 1666224000000, 'end': 1670544000000, 'limit': 72000} 56317\n",
      "{'exchange': 'bybit', 'market': 'BTC/USDT:USDT', 'timeframe': '1m', 'start': 1666224000000, 'end': 1670544000000, 'limit': 72000} 56516\n",
      "{'exchange': 'bybit', 'market': 'BTC/USDT:USDT', 'timeframe': '1m', 'start': 1666224000000, 'end': 1670544000000, 'limit': 72000} 56715\n",
      "{'exchange': 'bybit', 'market': 'BTC/USDT:USDT', 'timeframe': '1m', 'start': 1666224000000, 'end': 1670544000000, 'limit': 72000} 56914\n",
      "{'exchange': 'bybit', 'market': 'BTC/USDT:USDT', 'timeframe': '1m', 'start': 1666224000000, 'end': 1670544000000, 'limit': 72000} 57113\n",
      "{'exchange': 'bybit', 'market': 'BTC/USDT:USDT', 'timeframe': '1m', 'start': 1666224000000, 'end': 1670544000000, 'limit': 72000} 57312\n",
      "{'exchange': 'bybit', 'market': 'BTC/USDT:USDT', 'timeframe': '1m', 'start': 1666224000000, 'end': 1670544000000, 'limit': 72000} 57511\n",
      "{'exchange': 'bybit', 'market': 'BTC/USDT:USDT', 'timeframe': '1m', 'start': 1666224000000, 'end': 1670544000000, 'limit': 72000} 57710\n",
      "{'exchange': 'bybit', 'market': 'BTC/USDT:USDT', 'timeframe': '1m', 'start': 1666224000000, 'end': 1670544000000, 'limit': 72000} 57909\n",
      "{'exchange': 'bybit', 'market': 'BTC/USDT:USDT', 'timeframe': '1m', 'start': 1666224000000, 'end': 1670544000000, 'limit': 72000} 58108\n",
      "{'exchange': 'bybit', 'market': 'BTC/USDT:USDT', 'timeframe': '1m', 'start': 1666224000000, 'end': 1670544000000, 'limit': 72000} 58307\n",
      "{'exchange': 'bybit', 'market': 'BTC/USDT:USDT', 'timeframe': '1m', 'start': 1666224000000, 'end': 1670544000000, 'limit': 72000} 58506\n",
      "{'exchange': 'bybit', 'market': 'BTC/USDT:USDT', 'timeframe': '1m', 'start': 1666224000000, 'end': 1670544000000, 'limit': 72000} 58705\n",
      "{'exchange': 'bybit', 'market': 'BTC/USDT:USDT', 'timeframe': '1m', 'start': 1666224000000, 'end': 1670544000000, 'limit': 72000} 58904\n",
      "{'exchange': 'bybit', 'market': 'BTC/USDT:USDT', 'timeframe': '1m', 'start': 1666224000000, 'end': 1670544000000, 'limit': 72000} 59103\n",
      "{'exchange': 'bybit', 'market': 'BTC/USDT:USDT', 'timeframe': '1m', 'start': 1666224000000, 'end': 1670544000000, 'limit': 72000} 59302\n",
      "{'exchange': 'bybit', 'market': 'BTC/USDT:USDT', 'timeframe': '1m', 'start': 1666224000000, 'end': 1670544000000, 'limit': 72000} 59501\n",
      "{'exchange': 'bybit', 'market': 'BTC/USDT:USDT', 'timeframe': '1m', 'start': 1666224000000, 'end': 1670544000000, 'limit': 72000} 59700\n",
      "{'exchange': 'bybit', 'market': 'BTC/USDT:USDT', 'timeframe': '1m', 'start': 1666224000000, 'end': 1670544000000, 'limit': 72000} 59899\n",
      "{'exchange': 'bybit', 'market': 'BTC/USDT:USDT', 'timeframe': '1m', 'start': 1666224000000, 'end': 1670544000000, 'limit': 72000} 60098\n",
      "{'exchange': 'bybit', 'market': 'BTC/USDT:USDT', 'timeframe': '1m', 'start': 1666224000000, 'end': 1670544000000, 'limit': 72000} 60297\n",
      "{'exchange': 'bybit', 'market': 'BTC/USDT:USDT', 'timeframe': '1m', 'start': 1666224000000, 'end': 1670544000000, 'limit': 72000} 60496\n",
      "{'exchange': 'bybit', 'market': 'BTC/USDT:USDT', 'timeframe': '1m', 'start': 1666224000000, 'end': 1670544000000, 'limit': 72000} 60695\n",
      "{'exchange': 'bybit', 'market': 'BTC/USDT:USDT', 'timeframe': '1m', 'start': 1666224000000, 'end': 1670544000000, 'limit': 72000} 60894\n",
      "{'exchange': 'bybit', 'market': 'BTC/USDT:USDT', 'timeframe': '1m', 'start': 1666224000000, 'end': 1670544000000, 'limit': 72000} 61093\n",
      "{'exchange': 'bybit', 'market': 'BTC/USDT:USDT', 'timeframe': '1m', 'start': 1666224000000, 'end': 1670544000000, 'limit': 72000} 61292\n",
      "{'exchange': 'bybit', 'market': 'BTC/USDT:USDT', 'timeframe': '1m', 'start': 1666224000000, 'end': 1670544000000, 'limit': 72000} 61491\n",
      "{'exchange': 'bybit', 'market': 'BTC/USDT:USDT', 'timeframe': '1m', 'start': 1666224000000, 'end': 1670544000000, 'limit': 72000} 61690\n",
      "{'exchange': 'bybit', 'market': 'BTC/USDT:USDT', 'timeframe': '1m', 'start': 1666224000000, 'end': 1670544000000, 'limit': 72000} 61889\n",
      "{'exchange': 'bybit', 'market': 'BTC/USDT:USDT', 'timeframe': '1m', 'start': 1666224000000, 'end': 1670544000000, 'limit': 72000} 62088\n",
      "{'exchange': 'bybit', 'market': 'BTC/USDT:USDT', 'timeframe': '1m', 'start': 1666224000000, 'end': 1670544000000, 'limit': 72000} 62287\n",
      "{'exchange': 'bybit', 'market': 'BTC/USDT:USDT', 'timeframe': '1m', 'start': 1666224000000, 'end': 1670544000000, 'limit': 72000} 62486\n",
      "{'exchange': 'bybit', 'market': 'BTC/USDT:USDT', 'timeframe': '1m', 'start': 1666224000000, 'end': 1670544000000, 'limit': 72000} 62685\n",
      "{'exchange': 'bybit', 'market': 'BTC/USDT:USDT', 'timeframe': '1m', 'start': 1666224000000, 'end': 1670544000000, 'limit': 72000} 62884\n",
      "{'exchange': 'bybit', 'market': 'BTC/USDT:USDT', 'timeframe': '1m', 'start': 1666224000000, 'end': 1670544000000, 'limit': 72000} 63083\n",
      "{'exchange': 'bybit', 'market': 'BTC/USDT:USDT', 'timeframe': '1m', 'start': 1666224000000, 'end': 1670544000000, 'limit': 72000} 63282\n",
      "{'exchange': 'bybit', 'market': 'BTC/USDT:USDT', 'timeframe': '1m', 'start': 1666224000000, 'end': 1670544000000, 'limit': 72000} 63481\n",
      "{'exchange': 'bybit', 'market': 'BTC/USDT:USDT', 'timeframe': '1m', 'start': 1666224000000, 'end': 1670544000000, 'limit': 72000} 63680\n",
      "{'exchange': 'bybit', 'market': 'BTC/USDT:USDT', 'timeframe': '1m', 'start': 1666224000000, 'end': 1670544000000, 'limit': 72000} 63879\n",
      "{'exchange': 'bybit', 'market': 'BTC/USDT:USDT', 'timeframe': '1m', 'start': 1666224000000, 'end': 1670544000000, 'limit': 72000} 64078\n",
      "{'exchange': 'bybit', 'market': 'BTC/USDT:USDT', 'timeframe': '1m', 'start': 1666224000000, 'end': 1670544000000, 'limit': 72000} 64277\n",
      "{'exchange': 'bybit', 'market': 'BTC/USDT:USDT', 'timeframe': '1m', 'start': 1666224000000, 'end': 1670544000000, 'limit': 72000} 64476\n",
      "{'exchange': 'bybit', 'market': 'BTC/USDT:USDT', 'timeframe': '1m', 'start': 1666224000000, 'end': 1670544000000, 'limit': 72000} 64675\n",
      "{'exchange': 'bybit', 'market': 'BTC/USDT:USDT', 'timeframe': '1m', 'start': 1666224000000, 'end': 1670544000000, 'limit': 72000} 64874\n",
      "{'exchange': 'bybit', 'market': 'BTC/USDT:USDT', 'timeframe': '1m', 'start': 1666224000000, 'end': 1670544000000, 'limit': 72000} 65073\n",
      "{'exchange': 'bybit', 'market': 'BTC/USDT:USDT', 'timeframe': '1m', 'start': 1666224000000, 'end': 1670544000000, 'limit': 72000} 65272\n",
      "{'exchange': 'bybit', 'market': 'BTC/USDT:USDT', 'timeframe': '1m', 'start': 1666224000000, 'end': 1670544000000, 'limit': 72000} 65471\n",
      "{'exchange': 'bybit', 'market': 'BTC/USDT:USDT', 'timeframe': '1m', 'start': 1666224000000, 'end': 1670544000000, 'limit': 72000} 65670\n",
      "{'exchange': 'bybit', 'market': 'BTC/USDT:USDT', 'timeframe': '1m', 'start': 1666224000000, 'end': 1670544000000, 'limit': 72000} 65869\n",
      "{'exchange': 'bybit', 'market': 'BTC/USDT:USDT', 'timeframe': '1m', 'start': 1666224000000, 'end': 1670544000000, 'limit': 72000} 66068\n",
      "{'exchange': 'bybit', 'market': 'BTC/USDT:USDT', 'timeframe': '1m', 'start': 1666224000000, 'end': 1670544000000, 'limit': 72000} 66267\n",
      "{'exchange': 'bybit', 'market': 'BTC/USDT:USDT', 'timeframe': '1m', 'start': 1666224000000, 'end': 1670544000000, 'limit': 72000} 66466\n",
      "{'exchange': 'bybit', 'market': 'BTC/USDT:USDT', 'timeframe': '1m', 'start': 1666224000000, 'end': 1670544000000, 'limit': 72000} 66665\n",
      "{'exchange': 'bybit', 'market': 'BTC/USDT:USDT', 'timeframe': '1m', 'start': 1666224000000, 'end': 1670544000000, 'limit': 72000} 66864\n",
      "{'exchange': 'bybit', 'market': 'BTC/USDT:USDT', 'timeframe': '1m', 'start': 1666224000000, 'end': 1670544000000, 'limit': 72000} 67063\n",
      "{'exchange': 'bybit', 'market': 'BTC/USDT:USDT', 'timeframe': '1m', 'start': 1666224000000, 'end': 1670544000000, 'limit': 72000} 67262\n",
      "{'exchange': 'bybit', 'market': 'BTC/USDT:USDT', 'timeframe': '1m', 'start': 1666224000000, 'end': 1670544000000, 'limit': 72000} 67461\n",
      "{'exchange': 'bybit', 'market': 'BTC/USDT:USDT', 'timeframe': '1m', 'start': 1666224000000, 'end': 1670544000000, 'limit': 72000} 67660\n",
      "{'exchange': 'bybit', 'market': 'BTC/USDT:USDT', 'timeframe': '1m', 'start': 1666224000000, 'end': 1670544000000, 'limit': 72000} 67859\n",
      "{'exchange': 'bybit', 'market': 'BTC/USDT:USDT', 'timeframe': '1m', 'start': 1666224000000, 'end': 1670544000000, 'limit': 72000} 68058\n",
      "{'exchange': 'bybit', 'market': 'BTC/USDT:USDT', 'timeframe': '1m', 'start': 1666224000000, 'end': 1670544000000, 'limit': 72000} 68257\n",
      "{'exchange': 'bybit', 'market': 'BTC/USDT:USDT', 'timeframe': '1m', 'start': 1666224000000, 'end': 1670544000000, 'limit': 72000} 68456\n",
      "{'exchange': 'bybit', 'market': 'BTC/USDT:USDT', 'timeframe': '1m', 'start': 1666224000000, 'end': 1670544000000, 'limit': 72000} 68655\n",
      "{'exchange': 'bybit', 'market': 'BTC/USDT:USDT', 'timeframe': '1m', 'start': 1666224000000, 'end': 1670544000000, 'limit': 72000} 68854\n",
      "{'exchange': 'bybit', 'market': 'BTC/USDT:USDT', 'timeframe': '1m', 'start': 1666224000000, 'end': 1670544000000, 'limit': 72000} 69053\n",
      "{'exchange': 'bybit', 'market': 'BTC/USDT:USDT', 'timeframe': '1m', 'start': 1666224000000, 'end': 1670544000000, 'limit': 72000} 69252\n",
      "{'exchange': 'bybit', 'market': 'BTC/USDT:USDT', 'timeframe': '1m', 'start': 1666224000000, 'end': 1670544000000, 'limit': 72000} 69451\n",
      "{'exchange': 'bybit', 'market': 'BTC/USDT:USDT', 'timeframe': '1m', 'start': 1666224000000, 'end': 1670544000000, 'limit': 72000} 69650\n",
      "{'exchange': 'bybit', 'market': 'BTC/USDT:USDT', 'timeframe': '1m', 'start': 1666224000000, 'end': 1670544000000, 'limit': 72000} 69849\n",
      "{'exchange': 'bybit', 'market': 'BTC/USDT:USDT', 'timeframe': '1m', 'start': 1666224000000, 'end': 1670544000000, 'limit': 72000} 70048\n",
      "{'exchange': 'bybit', 'market': 'BTC/USDT:USDT', 'timeframe': '1m', 'start': 1666224000000, 'end': 1670544000000, 'limit': 72000} 70247\n",
      "{'exchange': 'bybit', 'market': 'BTC/USDT:USDT', 'timeframe': '1m', 'start': 1666224000000, 'end': 1670544000000, 'limit': 72000} 70446\n",
      "{'exchange': 'bybit', 'market': 'BTC/USDT:USDT', 'timeframe': '1m', 'start': 1666224000000, 'end': 1670544000000, 'limit': 72000} 70645\n",
      "{'exchange': 'bybit', 'market': 'BTC/USDT:USDT', 'timeframe': '1m', 'start': 1666224000000, 'end': 1670544000000, 'limit': 72000} 70844\n",
      "{'exchange': 'bybit', 'market': 'BTC/USDT:USDT', 'timeframe': '1m', 'start': 1666224000000, 'end': 1670544000000, 'limit': 72000} 71043\n",
      "{'exchange': 'bybit', 'market': 'BTC/USDT:USDT', 'timeframe': '1m', 'start': 1666224000000, 'end': 1670544000000, 'limit': 72000} 71242\n",
      "{'exchange': 'bybit', 'market': 'BTC/USDT:USDT', 'timeframe': '1m', 'start': 1666224000000, 'end': 1670544000000, 'limit': 72000} 71441\n",
      "{'exchange': 'bybit', 'market': 'BTC/USDT:USDT', 'timeframe': '1m', 'start': 1666224000000, 'end': 1670544000000, 'limit': 72000} 71640\n",
      "{'exchange': 'bybit', 'market': 'BTC/USDT:USDT', 'timeframe': '1m', 'start': 1666224000000, 'end': 1670544000000, 'limit': 72000} 71839\n",
      "{'exchange': 'bybit', 'market': 'BTC/USDT:USDT', 'timeframe': '1m', 'start': 1666224000000, 'end': 1670544000000, 'limit': 72000} 72000\n"
     ]
    }
   ],
   "source": [
    "from Backtester.streamer.candles import CandlesInterface\n",
    "from Backtester.time.time_utility import to_tms\n",
    "\n",
    "candles = CandlesInterface()\n",
    "data = candles.get(\"bybit\", \"BTC/USDT:USDT\", \"1m\", start=\"2022-10-20\", end=\"2022-12-09\")"
   ],
   "metadata": {
    "collapsed": false,
    "pycharm": {
     "name": "#%%\n"
    }
   }
  },
  {
   "cell_type": "markdown",
   "source": [
    "2. Indicator"
   ],
   "metadata": {
    "collapsed": false,
    "pycharm": {
     "name": "#%% md\n"
    }
   }
  },
  {
   "cell_type": "code",
   "execution_count": 4,
   "outputs": [
    {
     "name": "stdout",
     "output_type": "stream",
     "text": [
      "gather from db: {'exchange': 'bybit', 'market': 'BTC/USDT:USDT', 'timeframe': '1m'}\n",
      "{'exchange': 'bybit', 'market': 'BTC/USDT:USDT', 'timeframe': '15m', 'end': 1664582400000, 'limit': 500, 'start': 1664132400000} 199\n",
      "{'exchange': 'bybit', 'market': 'BTC/USDT:USDT', 'timeframe': '1h', 'end': 1664582400000, 'limit': 500, 'start': 1662782400000} 199\n",
      "{'exchange': 'bybit', 'market': 'BTC/USDT:USDT', 'timeframe': '15m', 'end': 1664582400000, 'limit': 500, 'start': 1664132400000} 398\n",
      "{'exchange': 'bybit', 'market': 'BTC/USDT:USDT', 'timeframe': '1h', 'end': 1664582400000, 'limit': 500, 'start': 1662782400000} 398\n",
      "{'exchange': 'bybit', 'market': 'BTC/USDT:USDT', 'timeframe': '15m', 'end': 1664582400000, 'limit': 500, 'start': 1664132400000} 500\n",
      "{'exchange': 'bybit', 'market': 'BTC/USDT:USDT', 'timeframe': '1h', 'end': 1664582400000, 'limit': 500, 'start': 1662782400000} 500\n"
     ]
    }
   ],
   "source": [],
   "metadata": {
    "collapsed": false,
    "pycharm": {
     "name": "#%%\n"
    }
   }
  },
  {
   "cell_type": "code",
   "execution_count": 1,
   "outputs": [
    {
     "name": "stdout",
     "output_type": "stream",
     "text": [
      "gather from db: {'exchange': 'bybit', 'market': 'BTC/USDT:USDT', 'timeframe': '1m'}\n",
      "gather from db: {'exchange': 'bybit', 'market': 'BTC/USDT:USDT', 'timeframe': '15m'}\n",
      "gather from db: {'exchange': 'bybit', 'market': 'BTC/USDT:USDT', 'timeframe': '1h'}\n"
     ]
    },
    {
     "data": {
      "text/plain": "[({'exchange': 'bybit',\n   'market': 'BTC/USDT:USDT',\n   'timeframe': '1m',\n   'end': 1666224060000,\n   'limit': 500,\n   'start': 1666194060000},\n  {-2: 19158.5, -3: 19129.5, -4: 19075.5, 2: 19220.5, 3: 19252.0, 4: 19296.5}),\n ({'exchange': 'bybit',\n   'market': 'BTC/USDT:USDT',\n   'timeframe': '15m',\n   'end': 1666224000000,\n   'limit': 500,\n   'start': 1665774000000},\n  {-2: 19311.5, -3: 19155.0, -4: 18962.0, 2: 19374.0, 3: 19483.0, 4: 19694.0}),\n ({'exchange': 'bybit',\n   'market': 'BTC/USDT:USDT',\n   'timeframe': '1h',\n   'end': 1666224000000,\n   'limit': 500,\n   'start': 1664424000000},\n  {-2: 19028.0, -3: 18831.0, -4: 18071.0, 2: 19799.0, 3: 19982.5, 4: 20451.0})]"
     },
     "execution_count": 1,
     "metadata": {},
     "output_type": "execute_result"
    }
   ],
   "source": [
    "from Backtester.indicators.wave_cluster import get_wave_reports\n",
    "from Backtester.indicators.waves import IterWaves, WaveIterator\n",
    "from Backtester.streamer.candles import streamer\n",
    "\n",
    "\n",
    "\n",
    "def update_data(current_tms: int):\n",
    "    return get_wave_reports(streamer.gather(\"bybit\", \"BTC/USDT:USDT\", [\"1m\", \"15m\", \"1h\"], end=current_tms, limit=500))\n",
    "\n",
    "reports = update_data(1666224060000)\n",
    "reports"
   ],
   "metadata": {
    "collapsed": false,
    "pycharm": {
     "name": "#%%\n"
    }
   }
  },
  {
   "cell_type": "markdown",
   "source": [
    "Backtest how likely the given entires/exits are met."
   ],
   "metadata": {
    "collapsed": false,
    "pycharm": {
     "name": "#%% md\n"
    }
   }
  },
  {
   "cell_type": "markdown",
   "source": [
    "### PriceLevelIndicator"
   ],
   "metadata": {
    "collapsed": false,
    "pycharm": {
     "name": "#%% md\n"
    }
   }
  },
  {
   "cell_type": "code",
   "execution_count": 2,
   "outputs": [
    {
     "data": {
      "text/plain": "{('1h', -4): 18071.0,\n ('1h', -3): 18831.0,\n ('15m', -4): 18962.0,\n ('1m', -4): 19075.5,\n ('1m', -3): 19129.5,\n ('1m', -2): 19158.5,\n ('1m', 2): 19220.5,\n ('1m', 3): 19252.0,\n ('1m', 4): 19296.5,\n ('15m', -2): 19311.5,\n ('15m', 2): 19374.0,\n ('15m', 3): 19483.0,\n ('15m', 4): 19694.0,\n ('1h', 2): 19799.0,\n ('1h', 3): 19982.5,\n ('1h', 4): 20451.0}"
     },
     "execution_count": 2,
     "metadata": {},
     "output_type": "execute_result"
    }
   ],
   "source": [
    "waves = WaveIterator(\"buy\", reports, 19299)\n",
    "waves.iter.data"
   ],
   "metadata": {
    "collapsed": false,
    "pycharm": {
     "name": "#%%\n"
    }
   }
  },
  {
   "cell_type": "code",
   "execution_count": 6,
   "outputs": [],
   "source": [
    "import numpy as np\n",
    "from enum import IntEnum\n",
    "from abc import ABC, abstractmethod\n",
    "\n",
    "EntryExitPrice = tuple[float, float]\n",
    "\n",
    "class candle(IntEnum):\n",
    "    TMS = 0\n",
    "    OPEN = 1\n",
    "    HIGH = 2\n",
    "    LOW = 3\n",
    "    CLOSE = 4\n",
    "    VOLUME = 5\n",
    "\n",
    "\n",
    "\n",
    "class BacktesterPriceLevels:\n",
    "    def __init__(self, meta: dict, data: list):\n",
    "        self.meta = meta\n",
    "        self.data = np.array(data)\n",
    "        self.i = 0\n",
    "\n",
    "        self._indicator = None\n",
    "        self._indicator_method = None\n",
    "        self._side = None\n",
    "        self._state = None\n",
    "        self._bets = []\n",
    "        self._entry = None\n",
    "        self._exit = None\n",
    "\n",
    "    @property\n",
    "    def price(self):\n",
    "        return self.data[self.i, candle.CLOSE]\n",
    "\n",
    "    @property\n",
    "    def timestamp(self):\n",
    "        return self.data[self.i, candle.TMS]\n",
    "\n",
    "    def next(self):\n",
    "        self.i += 1\n",
    "\n",
    "    def add_indicator(self, indicator_object: PriceLevelIndicatorIter, indicator_method) -> None:\n",
    "        self._indicator = indicator_object\n",
    "        self._indicator._method = indicator_method\n",
    "\n",
    "    def get_levels(self):\n",
    "        entry, exit = self._indicator.next()\n",
    "        self._entry = entry\n",
    "        self._exit = exit\n",
    "\n",
    "    def reset_indicator(self) -> None:\n",
    "        self._indicator.reset(get_wave_reports(streamer._gather(self._indicator.get_reset_queries(self.timestamp))), self.price)\n",
    "\n",
    "\n",
    "\n",
    "\n"
   ],
   "metadata": {
    "collapsed": false,
    "pycharm": {
     "name": "#%%\n"
    }
   }
  },
  {
   "cell_type": "code",
   "execution_count": 7,
   "outputs": [],
   "source": [
    "benv = BacktesterPriceLevels(*data)"
   ],
   "metadata": {
    "collapsed": false,
    "pycharm": {
     "name": "#%%\n"
    }
   }
  },
  {
   "cell_type": "code",
   "execution_count": 8,
   "outputs": [],
   "source": [
    "benv.add_indicator(waves, get_wave_reports)"
   ],
   "metadata": {
    "collapsed": false,
    "pycharm": {
     "name": "#%%\n"
    }
   }
  },
  {
   "cell_type": "code",
   "execution_count": 9,
   "outputs": [
    {
     "data": {
      "text/plain": "1666224060000.0"
     },
     "execution_count": 9,
     "metadata": {},
     "output_type": "execute_result"
    }
   ],
   "source": [
    "benv.timestamp"
   ],
   "metadata": {
    "collapsed": false,
    "pycharm": {
     "name": "#%%\n"
    }
   }
  },
  {
   "cell_type": "code",
   "execution_count": 10,
   "outputs": [
    {
     "name": "stdout",
     "output_type": "stream",
     "text": [
      "gather from db: {'exchange': 'bybit', 'market': 'BTC/USDT:USDT', 'timeframe': '1m'}\n",
      "{'exchange': 'bybit', 'market': 'BTC/USDT:USDT', 'timeframe': '15m', 'end': 1666224000000, 'limit': 500, 'start': 1665774000000} 199\n",
      "{'exchange': 'bybit', 'market': 'BTC/USDT:USDT', 'timeframe': '1h', 'end': 1666224000000, 'limit': 500, 'start': 1664424000000} 199\n",
      "{'exchange': 'bybit', 'market': 'BTC/USDT:USDT', 'timeframe': '15m', 'end': 1666224000000, 'limit': 500, 'start': 1665774000000} 398\n",
      "{'exchange': 'bybit', 'market': 'BTC/USDT:USDT', 'timeframe': '1h', 'end': 1666224000000, 'limit': 500, 'start': 1664424000000} 398\n",
      "{'exchange': 'bybit', 'market': 'BTC/USDT:USDT', 'timeframe': '15m', 'end': 1666224000000, 'limit': 500, 'start': 1665774000000} 500\n",
      "{'exchange': 'bybit', 'market': 'BTC/USDT:USDT', 'timeframe': '1h', 'end': 1666224000000, 'limit': 500, 'start': 1664424000000} 500\n"
     ]
    },
    {
     "data": {
      "text/plain": "[({'exchange': 'bybit',\n   'market': 'BTC/USDT:USDT',\n   'timeframe': '1m',\n   'end': 1666224060000,\n   'limit': 500,\n   'start': 1666194060000},\n  {-2: 19158.5, -3: 19129.5, -4: 19075.5, 2: 19220.5, 3: 19252.0, 4: 19296.5}),\n ({'exchange': 'bybit',\n   'market': 'BTC/USDT:USDT',\n   'timeframe': '15m',\n   'end': 1666224000000,\n   'limit': 500,\n   'start': 1665774000000},\n  {-2: 19311.5, -3: 19155.0, -4: 18962.0, 2: 19374.0, 3: 19483.0, 4: 19694.0}),\n ({'exchange': 'bybit',\n   'market': 'BTC/USDT:USDT',\n   'timeframe': '1h',\n   'end': 1666224000000,\n   'limit': 500,\n   'start': 1664424000000},\n  {-2: 19028.0, -3: 18831.0, -4: 18071.0, 2: 19799.0, 3: 19982.5, 4: 20451.0})]"
     },
     "execution_count": 10,
     "metadata": {},
     "output_type": "execute_result"
    }
   ],
   "source": [
    "benv._indicator_method(streamer.gather(\"bybit\", \"BTC/USDT:USDT\", [\"1m\", \"15m\", \"1h\"], end=int(1666224060000), limit=500))"
   ],
   "metadata": {
    "collapsed": false,
    "pycharm": {
     "name": "#%%\n"
    }
   }
  },
  {
   "cell_type": "code",
   "execution_count": 13,
   "outputs": [
    {
     "data": {
      "text/plain": "<candle.CLOSE: 4>"
     },
     "execution_count": 13,
     "metadata": {},
     "output_type": "execute_result"
    }
   ],
   "source": [
    "candle.CLOSE"
   ],
   "metadata": {
    "collapsed": false,
    "pycharm": {
     "name": "#%%\n"
    }
   }
  },
  {
   "cell_type": "code",
   "execution_count": 4,
   "outputs": [
    {
     "data": {
      "text/plain": "[{'exchange': 'bybit',\n  'market': 'BTC/USDT:USDT',\n  'timeframe': '1m',\n  'limit': 500,\n  'end': 123},\n {'exchange': 'bybit',\n  'market': 'BTC/USDT:USDT',\n  'timeframe': '15m',\n  'limit': 500,\n  'end': 123},\n {'exchange': 'bybit',\n  'market': 'BTC/USDT:USDT',\n  'timeframe': '1h',\n  'limit': 500,\n  'end': 123}]"
     },
     "execution_count": 4,
     "metadata": {},
     "output_type": "execute_result"
    }
   ],
   "source": [
    "waves.get_reset_queries(123)"
   ],
   "metadata": {
    "collapsed": false,
    "pycharm": {
     "name": "#%%\n"
    }
   }
  },
  {
   "cell_type": "code",
   "execution_count": null,
   "outputs": [],
   "source": [],
   "metadata": {
    "collapsed": false,
    "pycharm": {
     "name": "#%%\n"
    }
   }
  },
  {
   "cell_type": "code",
   "execution_count": null,
   "outputs": [],
   "source": [],
   "metadata": {
    "collapsed": false,
    "pycharm": {
     "name": "#%%\n"
    }
   }
  }
 ],
 "metadata": {
  "kernelspec": {
   "display_name": "Python 3",
   "language": "python",
   "name": "python3"
  },
  "language_info": {
   "codemirror_mode": {
    "name": "ipython",
    "version": 2
   },
   "file_extension": ".py",
   "mimetype": "text/x-python",
   "name": "python",
   "nbconvert_exporter": "python",
   "pygments_lexer": "ipython2",
   "version": "2.7.6"
  }
 },
 "nbformat": 4,
 "nbformat_minor": 0
}