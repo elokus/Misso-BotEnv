{
 "cells": [
  {
   "cell_type": "code",
   "execution_count": 1,
   "outputs": [
    {
     "ename": "OperationFailure",
     "evalue": "symbol is not allowed or the syntax is incorrect, see the Atlas documentation for more information, full error: {'ok': 0, 'errmsg': 'symbol is not allowed or the syntax is incorrect, see the Atlas documentation for more information', 'code': 8000, 'codeName': 'AtlasError'}",
     "output_type": "error",
     "traceback": [
      "\u001B[1;31m---------------------------------------------------------------------------\u001B[0m",
      "\u001B[1;31mOperationFailure\u001B[0m                          Traceback (most recent call last)",
      "Cell \u001B[1;32mIn [1], line 4\u001B[0m\n\u001B[0;32m      1\u001B[0m \u001B[38;5;28;01mfrom\u001B[39;00m \u001B[38;5;21;01mBacktester\u001B[39;00m\u001B[38;5;21;01m.\u001B[39;00m\u001B[38;5;21;01mdatabase\u001B[39;00m\u001B[38;5;21;01m.\u001B[39;00m\u001B[38;5;21;01mclient\u001B[39;00m \u001B[38;5;28;01mimport\u001B[39;00m get_database\n\u001B[0;32m      3\u001B[0m db \u001B[38;5;241m=\u001B[39m get_database(\u001B[38;5;124m\"\u001B[39m\u001B[38;5;124mmarket_data\u001B[39m\u001B[38;5;124m\"\u001B[39m)\n\u001B[1;32m----> 4\u001B[0m \u001B[43mdb\u001B[49m\u001B[43m[\u001B[49m\u001B[38;5;124;43m\"\u001B[39;49m\u001B[38;5;124;43m1m\u001B[39;49m\u001B[38;5;124;43m\"\u001B[39;49m\u001B[43m]\u001B[49m\u001B[38;5;241;43m.\u001B[39;49m\u001B[43maggregate\u001B[49m\u001B[43m(\u001B[49m\u001B[43m[\u001B[49m\u001B[43m{\u001B[49m\u001B[38;5;124;43m\"\u001B[39;49m\u001B[38;5;124;43msymbol\u001B[39;49m\u001B[38;5;124;43m\"\u001B[39;49m\u001B[43m:\u001B[49m\u001B[38;5;124;43m\"\u001B[39;49m\u001B[38;5;124;43m$symbol\u001B[39;49m\u001B[38;5;124;43m\"\u001B[39;49m\u001B[43m,\u001B[49m\u001B[43m \u001B[49m\u001B[38;5;124;43m\"\u001B[39;49m\u001B[38;5;124;43mopen\u001B[39;49m\u001B[38;5;124;43m\"\u001B[39;49m\u001B[43m:\u001B[49m\u001B[38;5;124;43m\"\u001B[39;49m\u001B[38;5;124;43m$open\u001B[39;49m\u001B[38;5;124;43m\"\u001B[39;49m\u001B[43m,\u001B[49m\u001B[43m \u001B[49m\u001B[38;5;124;43m\"\u001B[39;49m\u001B[38;5;124;43mclose\u001B[39;49m\u001B[38;5;124;43m\"\u001B[39;49m\u001B[43m:\u001B[49m\u001B[38;5;124;43m\"\u001B[39;49m\u001B[38;5;124;43m$close\u001B[39;49m\u001B[38;5;124;43m\"\u001B[39;49m\u001B[43m,\u001B[49m\u001B[43m \u001B[49m\u001B[38;5;124;43m\"\u001B[39;49m\u001B[38;5;124;43mvolume\u001B[39;49m\u001B[38;5;124;43m\"\u001B[39;49m\u001B[43m:\u001B[49m\u001B[38;5;124;43m\"\u001B[39;49m\u001B[38;5;124;43m$volume\u001B[39;49m\u001B[38;5;124;43m\"\u001B[39;49m\u001B[43m}\u001B[49m\u001B[43m]\u001B[49m\u001B[43m)\u001B[49m\n",
      "File \u001B[1;32m~\\workspace\\venv311\\Lib\\site-packages\\pymongo\\collection.py:2436\u001B[0m, in \u001B[0;36mCollection.aggregate\u001B[1;34m(self, pipeline, session, let, comment, **kwargs)\u001B[0m\n\u001B[0;32m   2358\u001B[0m \u001B[38;5;124;03m\"\"\"Perform an aggregation using the aggregation framework on this\u001B[39;00m\n\u001B[0;32m   2359\u001B[0m \u001B[38;5;124;03mcollection.\u001B[39;00m\n\u001B[0;32m   2360\u001B[0m \n\u001B[1;32m   (...)\u001B[0m\n\u001B[0;32m   2432\u001B[0m \u001B[38;5;124;03m    https://mongodb.com/docs/manual/reference/command/aggregate\u001B[39;00m\n\u001B[0;32m   2433\u001B[0m \u001B[38;5;124;03m\"\"\"\u001B[39;00m\n\u001B[0;32m   2435\u001B[0m \u001B[38;5;28;01mwith\u001B[39;00m \u001B[38;5;28mself\u001B[39m\u001B[38;5;241m.\u001B[39m__database\u001B[38;5;241m.\u001B[39mclient\u001B[38;5;241m.\u001B[39m_tmp_session(session, close\u001B[38;5;241m=\u001B[39m\u001B[38;5;28;01mFalse\u001B[39;00m) \u001B[38;5;28;01mas\u001B[39;00m s:\n\u001B[1;32m-> 2436\u001B[0m     \u001B[38;5;28;01mreturn\u001B[39;00m \u001B[38;5;28;43mself\u001B[39;49m\u001B[38;5;241;43m.\u001B[39;49m\u001B[43m_aggregate\u001B[49m\u001B[43m(\u001B[49m\n\u001B[0;32m   2437\u001B[0m \u001B[43m        \u001B[49m\u001B[43m_CollectionAggregationCommand\u001B[49m\u001B[43m,\u001B[49m\n\u001B[0;32m   2438\u001B[0m \u001B[43m        \u001B[49m\u001B[43mpipeline\u001B[49m\u001B[43m,\u001B[49m\n\u001B[0;32m   2439\u001B[0m \u001B[43m        \u001B[49m\u001B[43mCommandCursor\u001B[49m\u001B[43m,\u001B[49m\n\u001B[0;32m   2440\u001B[0m \u001B[43m        \u001B[49m\u001B[43msession\u001B[49m\u001B[38;5;241;43m=\u001B[39;49m\u001B[43ms\u001B[49m\u001B[43m,\u001B[49m\n\u001B[0;32m   2441\u001B[0m \u001B[43m        \u001B[49m\u001B[43mexplicit_session\u001B[49m\u001B[38;5;241;43m=\u001B[39;49m\u001B[43msession\u001B[49m\u001B[43m \u001B[49m\u001B[38;5;129;43;01mis\u001B[39;49;00m\u001B[43m \u001B[49m\u001B[38;5;129;43;01mnot\u001B[39;49;00m\u001B[43m \u001B[49m\u001B[38;5;28;43;01mNone\u001B[39;49;00m\u001B[43m,\u001B[49m\n\u001B[0;32m   2442\u001B[0m \u001B[43m        \u001B[49m\u001B[43mlet\u001B[49m\u001B[38;5;241;43m=\u001B[39;49m\u001B[43mlet\u001B[49m\u001B[43m,\u001B[49m\n\u001B[0;32m   2443\u001B[0m \u001B[43m        \u001B[49m\u001B[43mcomment\u001B[49m\u001B[38;5;241;43m=\u001B[39;49m\u001B[43mcomment\u001B[49m\u001B[43m,\u001B[49m\n\u001B[0;32m   2444\u001B[0m \u001B[43m        \u001B[49m\u001B[38;5;241;43m*\u001B[39;49m\u001B[38;5;241;43m*\u001B[39;49m\u001B[43mkwargs\u001B[49m\u001B[43m,\u001B[49m\n\u001B[0;32m   2445\u001B[0m \u001B[43m    \u001B[49m\u001B[43m)\u001B[49m\n",
      "File \u001B[1;32m~\\workspace\\venv311\\Lib\\site-packages\\pymongo\\_csot.py:105\u001B[0m, in \u001B[0;36mapply.<locals>.csot_wrapper\u001B[1;34m(self, *args, **kwargs)\u001B[0m\n\u001B[0;32m    103\u001B[0m         \u001B[38;5;28;01mwith\u001B[39;00m _TimeoutContext(timeout):\n\u001B[0;32m    104\u001B[0m             \u001B[38;5;28;01mreturn\u001B[39;00m func(\u001B[38;5;28mself\u001B[39m, \u001B[38;5;241m*\u001B[39margs, \u001B[38;5;241m*\u001B[39m\u001B[38;5;241m*\u001B[39mkwargs)\n\u001B[1;32m--> 105\u001B[0m \u001B[38;5;28;01mreturn\u001B[39;00m \u001B[43mfunc\u001B[49m\u001B[43m(\u001B[49m\u001B[38;5;28;43mself\u001B[39;49m\u001B[43m,\u001B[49m\u001B[43m \u001B[49m\u001B[38;5;241;43m*\u001B[39;49m\u001B[43margs\u001B[49m\u001B[43m,\u001B[49m\u001B[43m \u001B[49m\u001B[38;5;241;43m*\u001B[39;49m\u001B[38;5;241;43m*\u001B[39;49m\u001B[43mkwargs\u001B[49m\u001B[43m)\u001B[49m\n",
      "File \u001B[1;32m~\\workspace\\venv311\\Lib\\site-packages\\pymongo\\collection.py:2343\u001B[0m, in \u001B[0;36mCollection._aggregate\u001B[1;34m(self, aggregation_command, pipeline, cursor_class, session, explicit_session, let, comment, **kwargs)\u001B[0m\n\u001B[0;32m   2332\u001B[0m     kwargs[\u001B[38;5;124m\"\u001B[39m\u001B[38;5;124mcomment\u001B[39m\u001B[38;5;124m\"\u001B[39m] \u001B[38;5;241m=\u001B[39m comment\n\u001B[0;32m   2333\u001B[0m cmd \u001B[38;5;241m=\u001B[39m aggregation_command(\n\u001B[0;32m   2334\u001B[0m     \u001B[38;5;28mself\u001B[39m,\n\u001B[0;32m   2335\u001B[0m     cursor_class,\n\u001B[1;32m   (...)\u001B[0m\n\u001B[0;32m   2340\u001B[0m     user_fields\u001B[38;5;241m=\u001B[39m{\u001B[38;5;124m\"\u001B[39m\u001B[38;5;124mcursor\u001B[39m\u001B[38;5;124m\"\u001B[39m: {\u001B[38;5;124m\"\u001B[39m\u001B[38;5;124mfirstBatch\u001B[39m\u001B[38;5;124m\"\u001B[39m: \u001B[38;5;241m1\u001B[39m}},\n\u001B[0;32m   2341\u001B[0m )\n\u001B[1;32m-> 2343\u001B[0m \u001B[38;5;28;01mreturn\u001B[39;00m \u001B[38;5;28;43mself\u001B[39;49m\u001B[38;5;241;43m.\u001B[39;49m\u001B[43m__database\u001B[49m\u001B[38;5;241;43m.\u001B[39;49m\u001B[43mclient\u001B[49m\u001B[38;5;241;43m.\u001B[39;49m\u001B[43m_retryable_read\u001B[49m\u001B[43m(\u001B[49m\n\u001B[0;32m   2344\u001B[0m \u001B[43m    \u001B[49m\u001B[43mcmd\u001B[49m\u001B[38;5;241;43m.\u001B[39;49m\u001B[43mget_cursor\u001B[49m\u001B[43m,\u001B[49m\n\u001B[0;32m   2345\u001B[0m \u001B[43m    \u001B[49m\u001B[43mcmd\u001B[49m\u001B[38;5;241;43m.\u001B[39;49m\u001B[43mget_read_preference\u001B[49m\u001B[43m(\u001B[49m\u001B[43msession\u001B[49m\u001B[43m)\u001B[49m\u001B[43m,\u001B[49m\n\u001B[0;32m   2346\u001B[0m \u001B[43m    \u001B[49m\u001B[43msession\u001B[49m\u001B[43m,\u001B[49m\n\u001B[0;32m   2347\u001B[0m \u001B[43m    \u001B[49m\u001B[43mretryable\u001B[49m\u001B[38;5;241;43m=\u001B[39;49m\u001B[38;5;129;43;01mnot\u001B[39;49;00m\u001B[43m \u001B[49m\u001B[43mcmd\u001B[49m\u001B[38;5;241;43m.\u001B[39;49m\u001B[43m_performs_write\u001B[49m\u001B[43m,\u001B[49m\n\u001B[0;32m   2348\u001B[0m \u001B[43m\u001B[49m\u001B[43m)\u001B[49m\n",
      "File \u001B[1;32m~\\workspace\\venv311\\Lib\\site-packages\\pymongo\\_csot.py:105\u001B[0m, in \u001B[0;36mapply.<locals>.csot_wrapper\u001B[1;34m(self, *args, **kwargs)\u001B[0m\n\u001B[0;32m    103\u001B[0m         \u001B[38;5;28;01mwith\u001B[39;00m _TimeoutContext(timeout):\n\u001B[0;32m    104\u001B[0m             \u001B[38;5;28;01mreturn\u001B[39;00m func(\u001B[38;5;28mself\u001B[39m, \u001B[38;5;241m*\u001B[39margs, \u001B[38;5;241m*\u001B[39m\u001B[38;5;241m*\u001B[39mkwargs)\n\u001B[1;32m--> 105\u001B[0m \u001B[38;5;28;01mreturn\u001B[39;00m \u001B[43mfunc\u001B[49m\u001B[43m(\u001B[49m\u001B[38;5;28;43mself\u001B[39;49m\u001B[43m,\u001B[49m\u001B[43m \u001B[49m\u001B[38;5;241;43m*\u001B[39;49m\u001B[43margs\u001B[49m\u001B[43m,\u001B[49m\u001B[43m \u001B[49m\u001B[38;5;241;43m*\u001B[39;49m\u001B[38;5;241;43m*\u001B[39;49m\u001B[43mkwargs\u001B[49m\u001B[43m)\u001B[49m\n",
      "File \u001B[1;32m~\\workspace\\venv311\\Lib\\site-packages\\pymongo\\mongo_client.py:1448\u001B[0m, in \u001B[0;36mMongoClient._retryable_read\u001B[1;34m(self, func, read_pref, session, address, retryable)\u001B[0m\n\u001B[0;32m   1446\u001B[0m             \u001B[38;5;28;01massert\u001B[39;00m last_error \u001B[38;5;129;01mis\u001B[39;00m \u001B[38;5;129;01mnot\u001B[39;00m \u001B[38;5;28;01mNone\u001B[39;00m\n\u001B[0;32m   1447\u001B[0m             \u001B[38;5;28;01mraise\u001B[39;00m last_error\n\u001B[1;32m-> 1448\u001B[0m         \u001B[38;5;28;01mreturn\u001B[39;00m \u001B[43mfunc\u001B[49m\u001B[43m(\u001B[49m\u001B[43msession\u001B[49m\u001B[43m,\u001B[49m\u001B[43m \u001B[49m\u001B[43mserver\u001B[49m\u001B[43m,\u001B[49m\u001B[43m \u001B[49m\u001B[43msock_info\u001B[49m\u001B[43m,\u001B[49m\u001B[43m \u001B[49m\u001B[43mread_pref\u001B[49m\u001B[43m)\u001B[49m\n\u001B[0;32m   1449\u001B[0m \u001B[38;5;28;01mexcept\u001B[39;00m ServerSelectionTimeoutError:\n\u001B[0;32m   1450\u001B[0m     \u001B[38;5;28;01mif\u001B[39;00m retrying:\n\u001B[0;32m   1451\u001B[0m         \u001B[38;5;66;03m# The application may think the write was never attempted\u001B[39;00m\n\u001B[0;32m   1452\u001B[0m         \u001B[38;5;66;03m# if we raise ServerSelectionTimeoutError on the retry\u001B[39;00m\n\u001B[0;32m   1453\u001B[0m         \u001B[38;5;66;03m# attempt. Raise the original exception instead.\u001B[39;00m\n",
      "File \u001B[1;32m~\\workspace\\venv311\\Lib\\site-packages\\pymongo\\aggregation.py:142\u001B[0m, in \u001B[0;36m_AggregationCommand.get_cursor\u001B[1;34m(self, session, server, sock_info, read_preference)\u001B[0m\n\u001B[0;32m    139\u001B[0m     write_concern \u001B[38;5;241m=\u001B[39m \u001B[38;5;28;01mNone\u001B[39;00m\n\u001B[0;32m    141\u001B[0m \u001B[38;5;66;03m# Run command.\u001B[39;00m\n\u001B[1;32m--> 142\u001B[0m result \u001B[38;5;241m=\u001B[39m \u001B[43msock_info\u001B[49m\u001B[38;5;241;43m.\u001B[39;49m\u001B[43mcommand\u001B[49m\u001B[43m(\u001B[49m\n\u001B[0;32m    143\u001B[0m \u001B[43m    \u001B[49m\u001B[38;5;28;43mself\u001B[39;49m\u001B[38;5;241;43m.\u001B[39;49m\u001B[43m_database\u001B[49m\u001B[38;5;241;43m.\u001B[39;49m\u001B[43mname\u001B[49m\u001B[43m,\u001B[49m\n\u001B[0;32m    144\u001B[0m \u001B[43m    \u001B[49m\u001B[43mcmd\u001B[49m\u001B[43m,\u001B[49m\n\u001B[0;32m    145\u001B[0m \u001B[43m    \u001B[49m\u001B[43mread_preference\u001B[49m\u001B[43m,\u001B[49m\n\u001B[0;32m    146\u001B[0m \u001B[43m    \u001B[49m\u001B[38;5;28;43mself\u001B[39;49m\u001B[38;5;241;43m.\u001B[39;49m\u001B[43m_target\u001B[49m\u001B[38;5;241;43m.\u001B[39;49m\u001B[43mcodec_options\u001B[49m\u001B[43m,\u001B[49m\n\u001B[0;32m    147\u001B[0m \u001B[43m    \u001B[49m\u001B[43mparse_write_concern_error\u001B[49m\u001B[38;5;241;43m=\u001B[39;49m\u001B[38;5;28;43;01mTrue\u001B[39;49;00m\u001B[43m,\u001B[49m\n\u001B[0;32m    148\u001B[0m \u001B[43m    \u001B[49m\u001B[43mread_concern\u001B[49m\u001B[38;5;241;43m=\u001B[39;49m\u001B[43mread_concern\u001B[49m\u001B[43m,\u001B[49m\n\u001B[0;32m    149\u001B[0m \u001B[43m    \u001B[49m\u001B[43mwrite_concern\u001B[49m\u001B[38;5;241;43m=\u001B[39;49m\u001B[43mwrite_concern\u001B[49m\u001B[43m,\u001B[49m\n\u001B[0;32m    150\u001B[0m \u001B[43m    \u001B[49m\u001B[43mcollation\u001B[49m\u001B[38;5;241;43m=\u001B[39;49m\u001B[38;5;28;43mself\u001B[39;49m\u001B[38;5;241;43m.\u001B[39;49m\u001B[43m_collation\u001B[49m\u001B[43m,\u001B[49m\n\u001B[0;32m    151\u001B[0m \u001B[43m    \u001B[49m\u001B[43msession\u001B[49m\u001B[38;5;241;43m=\u001B[39;49m\u001B[43msession\u001B[49m\u001B[43m,\u001B[49m\n\u001B[0;32m    152\u001B[0m \u001B[43m    \u001B[49m\u001B[43mclient\u001B[49m\u001B[38;5;241;43m=\u001B[39;49m\u001B[38;5;28;43mself\u001B[39;49m\u001B[38;5;241;43m.\u001B[39;49m\u001B[43m_database\u001B[49m\u001B[38;5;241;43m.\u001B[39;49m\u001B[43mclient\u001B[49m\u001B[43m,\u001B[49m\n\u001B[0;32m    153\u001B[0m \u001B[43m    \u001B[49m\u001B[43muser_fields\u001B[49m\u001B[38;5;241;43m=\u001B[39;49m\u001B[38;5;28;43mself\u001B[39;49m\u001B[38;5;241;43m.\u001B[39;49m\u001B[43m_user_fields\u001B[49m\u001B[43m,\u001B[49m\n\u001B[0;32m    154\u001B[0m \u001B[43m\u001B[49m\u001B[43m)\u001B[49m\n\u001B[0;32m    156\u001B[0m \u001B[38;5;28;01mif\u001B[39;00m \u001B[38;5;28mself\u001B[39m\u001B[38;5;241m.\u001B[39m_result_processor:\n\u001B[0;32m    157\u001B[0m     \u001B[38;5;28mself\u001B[39m\u001B[38;5;241m.\u001B[39m_result_processor(result, sock_info)\n",
      "File \u001B[1;32m~\\workspace\\venv311\\Lib\\site-packages\\pymongo\\pool.py:767\u001B[0m, in \u001B[0;36mSocketInfo.command\u001B[1;34m(self, dbname, spec, read_preference, codec_options, check, allowable_errors, read_concern, write_concern, parse_write_concern_error, collation, session, client, retryable_write, publish_events, user_fields, exhaust_allowed)\u001B[0m\n\u001B[0;32m    765\u001B[0m     \u001B[38;5;28mself\u001B[39m\u001B[38;5;241m.\u001B[39m_raise_if_not_writable(unacknowledged)\n\u001B[0;32m    766\u001B[0m \u001B[38;5;28;01mtry\u001B[39;00m:\n\u001B[1;32m--> 767\u001B[0m     \u001B[38;5;28;01mreturn\u001B[39;00m \u001B[43mcommand\u001B[49m\u001B[43m(\u001B[49m\n\u001B[0;32m    768\u001B[0m \u001B[43m        \u001B[49m\u001B[38;5;28;43mself\u001B[39;49m\u001B[43m,\u001B[49m\n\u001B[0;32m    769\u001B[0m \u001B[43m        \u001B[49m\u001B[43mdbname\u001B[49m\u001B[43m,\u001B[49m\n\u001B[0;32m    770\u001B[0m \u001B[43m        \u001B[49m\u001B[43mspec\u001B[49m\u001B[43m,\u001B[49m\n\u001B[0;32m    771\u001B[0m \u001B[43m        \u001B[49m\u001B[38;5;28;43mself\u001B[39;49m\u001B[38;5;241;43m.\u001B[39;49m\u001B[43mis_mongos\u001B[49m\u001B[43m,\u001B[49m\n\u001B[0;32m    772\u001B[0m \u001B[43m        \u001B[49m\u001B[43mread_preference\u001B[49m\u001B[43m,\u001B[49m\n\u001B[0;32m    773\u001B[0m \u001B[43m        \u001B[49m\u001B[43mcodec_options\u001B[49m\u001B[43m,\u001B[49m\n\u001B[0;32m    774\u001B[0m \u001B[43m        \u001B[49m\u001B[43msession\u001B[49m\u001B[43m,\u001B[49m\n\u001B[0;32m    775\u001B[0m \u001B[43m        \u001B[49m\u001B[43mclient\u001B[49m\u001B[43m,\u001B[49m\n\u001B[0;32m    776\u001B[0m \u001B[43m        \u001B[49m\u001B[43mcheck\u001B[49m\u001B[43m,\u001B[49m\n\u001B[0;32m    777\u001B[0m \u001B[43m        \u001B[49m\u001B[43mallowable_errors\u001B[49m\u001B[43m,\u001B[49m\n\u001B[0;32m    778\u001B[0m \u001B[43m        \u001B[49m\u001B[38;5;28;43mself\u001B[39;49m\u001B[38;5;241;43m.\u001B[39;49m\u001B[43maddress\u001B[49m\u001B[43m,\u001B[49m\n\u001B[0;32m    779\u001B[0m \u001B[43m        \u001B[49m\u001B[43mlisteners\u001B[49m\u001B[43m,\u001B[49m\n\u001B[0;32m    780\u001B[0m \u001B[43m        \u001B[49m\u001B[38;5;28;43mself\u001B[39;49m\u001B[38;5;241;43m.\u001B[39;49m\u001B[43mmax_bson_size\u001B[49m\u001B[43m,\u001B[49m\n\u001B[0;32m    781\u001B[0m \u001B[43m        \u001B[49m\u001B[43mread_concern\u001B[49m\u001B[43m,\u001B[49m\n\u001B[0;32m    782\u001B[0m \u001B[43m        \u001B[49m\u001B[43mparse_write_concern_error\u001B[49m\u001B[38;5;241;43m=\u001B[39;49m\u001B[43mparse_write_concern_error\u001B[49m\u001B[43m,\u001B[49m\n\u001B[0;32m    783\u001B[0m \u001B[43m        \u001B[49m\u001B[43mcollation\u001B[49m\u001B[38;5;241;43m=\u001B[39;49m\u001B[43mcollation\u001B[49m\u001B[43m,\u001B[49m\n\u001B[0;32m    784\u001B[0m \u001B[43m        \u001B[49m\u001B[43mcompression_ctx\u001B[49m\u001B[38;5;241;43m=\u001B[39;49m\u001B[38;5;28;43mself\u001B[39;49m\u001B[38;5;241;43m.\u001B[39;49m\u001B[43mcompression_context\u001B[49m\u001B[43m,\u001B[49m\n\u001B[0;32m    785\u001B[0m \u001B[43m        \u001B[49m\u001B[43muse_op_msg\u001B[49m\u001B[38;5;241;43m=\u001B[39;49m\u001B[38;5;28;43mself\u001B[39;49m\u001B[38;5;241;43m.\u001B[39;49m\u001B[43mop_msg_enabled\u001B[49m\u001B[43m,\u001B[49m\n\u001B[0;32m    786\u001B[0m \u001B[43m        \u001B[49m\u001B[43munacknowledged\u001B[49m\u001B[38;5;241;43m=\u001B[39;49m\u001B[43munacknowledged\u001B[49m\u001B[43m,\u001B[49m\n\u001B[0;32m    787\u001B[0m \u001B[43m        \u001B[49m\u001B[43muser_fields\u001B[49m\u001B[38;5;241;43m=\u001B[39;49m\u001B[43muser_fields\u001B[49m\u001B[43m,\u001B[49m\n\u001B[0;32m    788\u001B[0m \u001B[43m        \u001B[49m\u001B[43mexhaust_allowed\u001B[49m\u001B[38;5;241;43m=\u001B[39;49m\u001B[43mexhaust_allowed\u001B[49m\u001B[43m,\u001B[49m\n\u001B[0;32m    789\u001B[0m \u001B[43m        \u001B[49m\u001B[43mwrite_concern\u001B[49m\u001B[38;5;241;43m=\u001B[39;49m\u001B[43mwrite_concern\u001B[49m\u001B[43m,\u001B[49m\n\u001B[0;32m    790\u001B[0m \u001B[43m    \u001B[49m\u001B[43m)\u001B[49m\n\u001B[0;32m    791\u001B[0m \u001B[38;5;28;01mexcept\u001B[39;00m (OperationFailure, NotPrimaryError):\n\u001B[0;32m    792\u001B[0m     \u001B[38;5;28;01mraise\u001B[39;00m\n",
      "File \u001B[1;32m~\\workspace\\venv311\\Lib\\site-packages\\pymongo\\network.py:166\u001B[0m, in \u001B[0;36mcommand\u001B[1;34m(sock_info, dbname, spec, is_mongos, read_preference, codec_options, session, client, check, allowable_errors, address, listeners, max_bson_size, read_concern, parse_write_concern_error, collation, compression_ctx, use_op_msg, unacknowledged, user_fields, exhaust_allowed, write_concern)\u001B[0m\n\u001B[0;32m    164\u001B[0m             client\u001B[38;5;241m.\u001B[39m_process_response(response_doc, session)\n\u001B[0;32m    165\u001B[0m         \u001B[38;5;28;01mif\u001B[39;00m check:\n\u001B[1;32m--> 166\u001B[0m             \u001B[43mhelpers\u001B[49m\u001B[38;5;241;43m.\u001B[39;49m\u001B[43m_check_command_response\u001B[49m\u001B[43m(\u001B[49m\n\u001B[0;32m    167\u001B[0m \u001B[43m                \u001B[49m\u001B[43mresponse_doc\u001B[49m\u001B[43m,\u001B[49m\n\u001B[0;32m    168\u001B[0m \u001B[43m                \u001B[49m\u001B[43msock_info\u001B[49m\u001B[38;5;241;43m.\u001B[39;49m\u001B[43mmax_wire_version\u001B[49m\u001B[43m,\u001B[49m\n\u001B[0;32m    169\u001B[0m \u001B[43m                \u001B[49m\u001B[43mallowable_errors\u001B[49m\u001B[43m,\u001B[49m\n\u001B[0;32m    170\u001B[0m \u001B[43m                \u001B[49m\u001B[43mparse_write_concern_error\u001B[49m\u001B[38;5;241;43m=\u001B[39;49m\u001B[43mparse_write_concern_error\u001B[49m\u001B[43m,\u001B[49m\n\u001B[0;32m    171\u001B[0m \u001B[43m            \u001B[49m\u001B[43m)\u001B[49m\n\u001B[0;32m    172\u001B[0m \u001B[38;5;28;01mexcept\u001B[39;00m \u001B[38;5;167;01mException\u001B[39;00m \u001B[38;5;28;01mas\u001B[39;00m exc:\n\u001B[0;32m    173\u001B[0m     \u001B[38;5;28;01mif\u001B[39;00m publish:\n",
      "File \u001B[1;32m~\\workspace\\venv311\\Lib\\site-packages\\pymongo\\helpers.py:181\u001B[0m, in \u001B[0;36m_check_command_response\u001B[1;34m(response, max_wire_version, allowable_errors, parse_write_concern_error)\u001B[0m\n\u001B[0;32m    178\u001B[0m \u001B[38;5;28;01melif\u001B[39;00m code \u001B[38;5;241m==\u001B[39m \u001B[38;5;241m43\u001B[39m:\n\u001B[0;32m    179\u001B[0m     \u001B[38;5;28;01mraise\u001B[39;00m CursorNotFound(errmsg, code, response, max_wire_version)\n\u001B[1;32m--> 181\u001B[0m \u001B[38;5;28;01mraise\u001B[39;00m OperationFailure(errmsg, code, response, max_wire_version)\n",
      "\u001B[1;31mOperationFailure\u001B[0m: symbol is not allowed or the syntax is incorrect, see the Atlas documentation for more information, full error: {'ok': 0, 'errmsg': 'symbol is not allowed or the syntax is incorrect, see the Atlas documentation for more information', 'code': 8000, 'codeName': 'AtlasError'}"
     ]
    }
   ],
   "source": [
    "from Backtester.database.client import get_database\n",
    "\n",
    "db = get_database(\"market_data\")\n",
    "db[\"1m\"].aggregate([{\"symbol\":\"$symbol\", \"open\":\"$open\", \"close\":\"$close\", \"volume\":\"$volume\"}])\n",
    "\n"
   ],
   "metadata": {
    "collapsed": false,
    "pycharm": {
     "name": "#%%\n"
    }
   }
  },
  {
   "cell_type": "code",
   "execution_count": 32,
   "outputs": [],
   "source": [
    "cursor = db[\"1m\"].aggregate([{\"$sort\":{\"symbol\":1}}, {\"$group\":{\"_id\":{\"symbol\":\"$symbol\"}}}])"
   ],
   "metadata": {
    "collapsed": false,
    "pycharm": {
     "name": "#%%\n"
    }
   }
  },
  {
   "cell_type": "code",
   "execution_count": 37,
   "outputs": [
    {
     "data": {
      "text/plain": "dict"
     },
     "execution_count": 37,
     "metadata": {},
     "output_type": "execute_result"
    }
   ],
   "source": [
    "type(data)"
   ],
   "metadata": {
    "collapsed": false,
    "pycharm": {
     "name": "#%%\n"
    }
   }
  },
  {
   "cell_type": "code",
   "execution_count": 1,
   "outputs": [
    {
     "data": {
      "text/plain": "'livetest'"
     },
     "execution_count": 1,
     "metadata": {},
     "output_type": "execute_result"
    }
   ],
   "source": [
    "from utilities import get_env_mode\n",
    "\n",
    "get_env_mode()"
   ],
   "metadata": {
    "collapsed": false,
    "pycharm": {
     "name": "#%%\n"
    }
   }
  },
  {
   "cell_type": "code",
   "execution_count": 2,
   "outputs": [],
   "source": [
    "data = {(\"BTC\",\"15m\"):[[12, 12, 12, 12, 12, 12]]}"
   ],
   "metadata": {
    "collapsed": false,
    "pycharm": {
     "name": "#%%\n"
    }
   }
  },
  {
   "cell_type": "code",
   "execution_count": 2,
   "outputs": [],
   "source": [
    "from playhouse.postgres_ext import PostgresqlExtDatabase\n",
    "\n",
    "db = PostgresqlExtDatabase(\"postgres\",user=\"postgres\",\n",
    "                           password=\"xxxxx\",\n",
    "                           host=\"localhost\",\n",
    "                           port=int(5432))"
   ],
   "metadata": {
    "collapsed": false,
    "pycharm": {
     "name": "#%%\n"
    }
   }
  },
  {
   "cell_type": "code",
   "execution_count": null,
   "outputs": [],
   "source": [],
   "metadata": {
    "collapsed": false,
    "pycharm": {
     "name": "#%%\n"
    }
   }
  },
  {
   "cell_type": "markdown",
   "source": [],
   "metadata": {
    "collapsed": false,
    "pycharm": {
     "name": "#%% md\n"
    }
   }
  },
  {
   "cell_type": "code",
   "execution_count": 5,
   "outputs": [
    {
     "data": {
      "text/plain": "True"
     },
     "execution_count": 5,
     "metadata": {},
     "output_type": "execute_result"
    }
   ],
   "source": [
    "db.close()"
   ],
   "metadata": {
    "collapsed": false,
    "pycharm": {
     "name": "#%%\n"
    }
   }
  },
  {
   "cell_type": "code",
   "execution_count": 8,
   "outputs": [],
   "source": [
    "from psg.store_db import store_candles_into_db\n",
    "import numpy as np\n",
    "\n",
    "for (sym, tx), v in data.items():\n",
    "    store_candles_into_db(\"bybit\", sym, tx, np.array(v))"
   ],
   "metadata": {
    "collapsed": false,
    "pycharm": {
     "name": "#%%\n"
    }
   }
  },
  {
   "cell_type": "code",
   "execution_count": 18,
   "outputs": [
    {
     "name": "stdout",
     "output_type": "stream",
     "text": [
      "AAVE/USDT:USDT\n",
      "AAVE/USDT:USDT\n",
      "AAVE/USDT:USDT\n",
      "AAVE/USDT:USDT\n",
      "AAVE/USDT:USDT\n",
      "AAVE/USDT:USDT\n",
      "AAVE/USDT:USDT\n",
      "AAVE/USDT:USDT\n",
      "AAVE/USDT:USDT\n",
      "AAVE/USDT:USDT\n",
      "AAVE/USDT:USDT\n",
      "AAVE/USDT:USDT\n",
      "AAVE/USDT:USDT\n",
      "AAVE/USDT:USDT\n",
      "AAVE/USDT:USDT\n",
      "AAVE/USDT:USDT\n",
      "AAVE/USDT:USDT\n",
      "AAVE/USDT:USDT\n",
      "AAVE/USDT:USDT\n",
      "AAVE/USDT:USDT\n",
      "AAVE/USDT:USDT\n",
      "AAVE/USDT:USDT\n",
      "AAVE/USDT:USDT\n",
      "AAVE/USDT:USDT\n",
      "AAVE/USDT:USDT\n",
      "AAVE/USDT:USDT\n",
      "AAVE/USDT:USDT\n",
      "AAVE/USDT:USDT\n",
      "AAVE/USDT:USDT\n",
      "AAVE/USDT:USDT\n",
      "AAVE/USDT:USDT\n",
      "AAVE/USDT:USDT\n",
      "AAVE/USDT:USDT\n",
      "AAVE/USDT:USDT\n",
      "AAVE/USDT:USDT\n",
      "AAVE/USDT:USDT\n",
      "AAVE/USDT:USDT\n",
      "AAVE/USDT:USDT\n",
      "AAVE/USDT:USDT\n",
      "AAVE/USDT:USDT\n",
      "AAVE/USDT:USDT\n",
      "AAVE/USDT:USDT\n",
      "AAVE/USDT:USDT\n",
      "AAVE/USDT:USDT\n",
      "AAVE/USDT:USDT\n",
      "AAVE/USDT:USDT\n",
      "AAVE/USDT:USDT\n",
      "AAVE/USDT:USDT\n",
      "AAVE/USDT:USDT\n",
      "AAVE/USDT:USDT\n",
      "AAVE/USDT:USDT\n",
      "AAVE/USDT:USDT\n",
      "AAVE/USDT:USDT\n",
      "AAVE/USDT:USDT\n",
      "AAVE/USDT:USDT\n",
      "AAVE/USDT:USDT\n",
      "AAVE/USDT:USDT\n",
      "AAVE/USDT:USDT\n",
      "AAVE/USDT:USDT\n",
      "AAVE/USDT:USDT\n",
      "ADA/USDT:USDT\n",
      "ADA/USDT:USDT\n",
      "ADA/USDT:USDT\n",
      "ADA/USDT:USDT\n",
      "ADA/USDT:USDT\n",
      "ADA/USDT:USDT\n",
      "ADA/USDT:USDT\n",
      "ADA/USDT:USDT\n",
      "ADA/USDT:USDT\n",
      "ADA/USDT:USDT\n",
      "ADA/USDT:USDT\n",
      "ADA/USDT:USDT\n",
      "ADA/USDT:USDT\n",
      "ADA/USDT:USDT\n",
      "ADA/USDT:USDT\n",
      "ADA/USDT:USDT\n",
      "ADA/USDT:USDT\n",
      "ADA/USDT:USDT\n",
      "ADA/USDT:USDT\n",
      "ADA/USDT:USDT\n",
      "ADA/USDT:USDT\n",
      "ADA/USDT:USDT\n",
      "ADA/USDT:USDT\n",
      "ADA/USDT:USDT\n",
      "ADA/USDT:USDT\n",
      "ADA/USDT:USDT\n",
      "ADA/USDT:USDT\n",
      "ADA/USDT:USDT\n",
      "ADA/USDT:USDT\n",
      "ADA/USDT:USDT\n",
      "ADA/USDT:USDT\n",
      "ADA/USDT:USDT\n",
      "ADA/USDT:USDT\n",
      "ADA/USDT:USDT\n",
      "ADA/USDT:USDT\n",
      "ADA/USDT:USDT\n",
      "ADA/USDT:USDT\n",
      "ADA/USDT:USDT\n",
      "ADA/USDT:USDT\n",
      "ADA/USDT:USDT\n",
      "ADA/USDT:USDT\n",
      "ADA/USDT:USDT\n",
      "ADA/USDT:USDT\n",
      "ADA/USDT:USDT\n",
      "ADA/USDT:USDT\n",
      "ADA/USDT:USDT\n",
      "ADA/USDT:USDT\n",
      "ADA/USDT:USDT\n",
      "ADA/USDT:USDT\n",
      "ADA/USDT:USDT\n",
      "ADA/USDT:USDT\n",
      "ADA/USDT:USDT\n",
      "ADA/USDT:USDT\n",
      "ADA/USDT:USDT\n",
      "ADA/USDT:USDT\n",
      "ADA/USDT:USDT\n",
      "ADA/USDT:USDT\n",
      "ADA/USDT:USDT\n",
      "ADA/USDT:USDT\n",
      "ADA/USDT:USDT\n",
      "AAVE/USDT:USDT\n",
      "AAVE/USDT:USDT\n",
      "AAVE/USDT:USDT\n",
      "AAVE/USDT:USDT\n",
      "AAVE/USDT:USDT\n",
      "AAVE/USDT:USDT\n",
      "AAVE/USDT:USDT\n",
      "AAVE/USDT:USDT\n",
      "AAVE/USDT:USDT\n",
      "AAVE/USDT:USDT\n",
      "AAVE/USDT:USDT\n",
      "AAVE/USDT:USDT\n",
      "AAVE/USDT:USDT\n",
      "AAVE/USDT:USDT\n",
      "AAVE/USDT:USDT\n",
      "AAVE/USDT:USDT\n",
      "AAVE/USDT:USDT\n",
      "AAVE/USDT:USDT\n",
      "AAVE/USDT:USDT\n",
      "AAVE/USDT:USDT\n",
      "AAVE/USDT:USDT\n",
      "AAVE/USDT:USDT\n",
      "AAVE/USDT:USDT\n",
      "AAVE/USDT:USDT\n",
      "AAVE/USDT:USDT\n",
      "AAVE/USDT:USDT\n",
      "AAVE/USDT:USDT\n",
      "AAVE/USDT:USDT\n",
      "AAVE/USDT:USDT\n",
      "AAVE/USDT:USDT\n",
      "AAVE/USDT:USDT\n",
      "AAVE/USDT:USDT\n",
      "AAVE/USDT:USDT\n",
      "AAVE/USDT:USDT\n",
      "AAVE/USDT:USDT\n",
      "AAVE/USDT:USDT\n",
      "AAVE/USDT:USDT\n",
      "AAVE/USDT:USDT\n",
      "AAVE/USDT:USDT\n",
      "AAVE/USDT:USDT\n",
      "AAVE/USDT:USDT\n",
      "AAVE/USDT:USDT\n",
      "AAVE/USDT:USDT\n",
      "AAVE/USDT:USDT\n",
      "AAVE/USDT:USDT\n",
      "AAVE/USDT:USDT\n",
      "AAVE/USDT:USDT\n",
      "AAVE/USDT:USDT\n",
      "AAVE/USDT:USDT\n",
      "AAVE/USDT:USDT\n",
      "AAVE/USDT:USDT\n",
      "AAVE/USDT:USDT\n",
      "AAVE/USDT:USDT\n",
      "AAVE/USDT:USDT\n",
      "AAVE/USDT:USDT\n",
      "AAVE/USDT:USDT\n",
      "AAVE/USDT:USDT\n",
      "AAVE/USDT:USDT\n",
      "AAVE/USDT:USDT\n",
      "AAVE/USDT:USDT\n",
      "ADA/USDT:USDT\n",
      "ADA/USDT:USDT\n",
      "ADA/USDT:USDT\n",
      "ADA/USDT:USDT\n",
      "ADA/USDT:USDT\n",
      "ADA/USDT:USDT\n",
      "ADA/USDT:USDT\n",
      "ADA/USDT:USDT\n",
      "ADA/USDT:USDT\n",
      "ADA/USDT:USDT\n",
      "ADA/USDT:USDT\n",
      "ADA/USDT:USDT\n",
      "ADA/USDT:USDT\n",
      "ADA/USDT:USDT\n",
      "ADA/USDT:USDT\n",
      "ADA/USDT:USDT\n",
      "ADA/USDT:USDT\n",
      "ADA/USDT:USDT\n",
      "ADA/USDT:USDT\n",
      "ADA/USDT:USDT\n",
      "ADA/USDT:USDT\n",
      "ADA/USDT:USDT\n",
      "ADA/USDT:USDT\n",
      "ADA/USDT:USDT\n",
      "ADA/USDT:USDT\n",
      "ADA/USDT:USDT\n",
      "ADA/USDT:USDT\n",
      "ADA/USDT:USDT\n",
      "ADA/USDT:USDT\n",
      "ADA/USDT:USDT\n",
      "ADA/USDT:USDT\n",
      "ADA/USDT:USDT\n",
      "ADA/USDT:USDT\n",
      "ADA/USDT:USDT\n",
      "ADA/USDT:USDT\n",
      "ADA/USDT:USDT\n",
      "ADA/USDT:USDT\n",
      "ADA/USDT:USDT\n",
      "ADA/USDT:USDT\n",
      "ADA/USDT:USDT\n",
      "ADA/USDT:USDT\n",
      "ADA/USDT:USDT\n",
      "ADA/USDT:USDT\n",
      "ADA/USDT:USDT\n",
      "ADA/USDT:USDT\n",
      "ADA/USDT:USDT\n",
      "ADA/USDT:USDT\n",
      "ADA/USDT:USDT\n",
      "ADA/USDT:USDT\n",
      "ADA/USDT:USDT\n",
      "ADA/USDT:USDT\n",
      "ADA/USDT:USDT\n",
      "ADA/USDT:USDT\n",
      "ADA/USDT:USDT\n",
      "ADA/USDT:USDT\n",
      "ADA/USDT:USDT\n",
      "ADA/USDT:USDT\n",
      "ADA/USDT:USDT\n",
      "ADA/USDT:USDT\n",
      "ADA/USDT:USDT\n",
      "AAVE/USDT:USDT\n",
      "AAVE/USDT:USDT\n",
      "AAVE/USDT:USDT\n",
      "AAVE/USDT:USDT\n",
      "AAVE/USDT:USDT\n",
      "AAVE/USDT:USDT\n",
      "AAVE/USDT:USDT\n",
      "AAVE/USDT:USDT\n",
      "AAVE/USDT:USDT\n",
      "AAVE/USDT:USDT\n",
      "AAVE/USDT:USDT\n",
      "AAVE/USDT:USDT\n",
      "AAVE/USDT:USDT\n",
      "AAVE/USDT:USDT\n",
      "AAVE/USDT:USDT\n",
      "AAVE/USDT:USDT\n",
      "AAVE/USDT:USDT\n",
      "AAVE/USDT:USDT\n",
      "AAVE/USDT:USDT\n",
      "AAVE/USDT:USDT\n",
      "AAVE/USDT:USDT\n",
      "AAVE/USDT:USDT\n",
      "AAVE/USDT:USDT\n",
      "AAVE/USDT:USDT\n",
      "AAVE/USDT:USDT\n",
      "AAVE/USDT:USDT\n",
      "AAVE/USDT:USDT\n",
      "AAVE/USDT:USDT\n",
      "AAVE/USDT:USDT\n",
      "AAVE/USDT:USDT\n",
      "AAVE/USDT:USDT\n",
      "AAVE/USDT:USDT\n",
      "AAVE/USDT:USDT\n",
      "AAVE/USDT:USDT\n",
      "AAVE/USDT:USDT\n",
      "AAVE/USDT:USDT\n",
      "AAVE/USDT:USDT\n",
      "AAVE/USDT:USDT\n",
      "AAVE/USDT:USDT\n",
      "AAVE/USDT:USDT\n",
      "AAVE/USDT:USDT\n",
      "AAVE/USDT:USDT\n",
      "AAVE/USDT:USDT\n",
      "AAVE/USDT:USDT\n",
      "AAVE/USDT:USDT\n",
      "AAVE/USDT:USDT\n",
      "AAVE/USDT:USDT\n",
      "AAVE/USDT:USDT\n",
      "AAVE/USDT:USDT\n",
      "AAVE/USDT:USDT\n",
      "AAVE/USDT:USDT\n",
      "AAVE/USDT:USDT\n",
      "AAVE/USDT:USDT\n",
      "AAVE/USDT:USDT\n",
      "AAVE/USDT:USDT\n",
      "AAVE/USDT:USDT\n",
      "AAVE/USDT:USDT\n",
      "AAVE/USDT:USDT\n",
      "AAVE/USDT:USDT\n",
      "AAVE/USDT:USDT\n",
      "ADA/USDT:USDT\n",
      "ADA/USDT:USDT\n",
      "ADA/USDT:USDT\n",
      "ADA/USDT:USDT\n",
      "ADA/USDT:USDT\n",
      "ADA/USDT:USDT\n",
      "ADA/USDT:USDT\n",
      "ADA/USDT:USDT\n",
      "ADA/USDT:USDT\n",
      "ADA/USDT:USDT\n",
      "ADA/USDT:USDT\n",
      "ADA/USDT:USDT\n",
      "ADA/USDT:USDT\n",
      "ADA/USDT:USDT\n",
      "ADA/USDT:USDT\n",
      "ADA/USDT:USDT\n",
      "ADA/USDT:USDT\n",
      "ADA/USDT:USDT\n",
      "ADA/USDT:USDT\n",
      "ADA/USDT:USDT\n",
      "ADA/USDT:USDT\n",
      "ADA/USDT:USDT\n",
      "ADA/USDT:USDT\n",
      "ADA/USDT:USDT\n",
      "ADA/USDT:USDT\n",
      "ADA/USDT:USDT\n",
      "ADA/USDT:USDT\n",
      "ADA/USDT:USDT\n",
      "ADA/USDT:USDT\n",
      "ADA/USDT:USDT\n",
      "ADA/USDT:USDT\n",
      "ADA/USDT:USDT\n",
      "ADA/USDT:USDT\n",
      "ADA/USDT:USDT\n",
      "ADA/USDT:USDT\n",
      "ADA/USDT:USDT\n",
      "ADA/USDT:USDT\n",
      "ADA/USDT:USDT\n",
      "ADA/USDT:USDT\n",
      "ADA/USDT:USDT\n",
      "ADA/USDT:USDT\n",
      "ADA/USDT:USDT\n",
      "ADA/USDT:USDT\n",
      "ADA/USDT:USDT\n",
      "ADA/USDT:USDT\n",
      "ADA/USDT:USDT\n",
      "ADA/USDT:USDT\n",
      "ADA/USDT:USDT\n",
      "ADA/USDT:USDT\n",
      "ADA/USDT:USDT\n",
      "ADA/USDT:USDT\n",
      "ADA/USDT:USDT\n",
      "ADA/USDT:USDT\n",
      "ADA/USDT:USDT\n",
      "ADA/USDT:USDT\n",
      "ADA/USDT:USDT\n",
      "ADA/USDT:USDT\n",
      "ADA/USDT:USDT\n",
      "ADA/USDT:USDT\n",
      "ADA/USDT:USDT\n",
      "AAVE/USDT:USDT\n",
      "AAVE/USDT:USDT\n",
      "AAVE/USDT:USDT\n",
      "AAVE/USDT:USDT\n",
      "AAVE/USDT:USDT\n",
      "AAVE/USDT:USDT\n",
      "AAVE/USDT:USDT\n",
      "AAVE/USDT:USDT\n",
      "AAVE/USDT:USDT\n",
      "AAVE/USDT:USDT\n",
      "AAVE/USDT:USDT\n",
      "AAVE/USDT:USDT\n",
      "AAVE/USDT:USDT\n",
      "AAVE/USDT:USDT\n",
      "AAVE/USDT:USDT\n",
      "AAVE/USDT:USDT\n",
      "AAVE/USDT:USDT\n",
      "AAVE/USDT:USDT\n",
      "AAVE/USDT:USDT\n",
      "AAVE/USDT:USDT\n",
      "AAVE/USDT:USDT\n",
      "AAVE/USDT:USDT\n",
      "AAVE/USDT:USDT\n",
      "AAVE/USDT:USDT\n",
      "AAVE/USDT:USDT\n",
      "AAVE/USDT:USDT\n",
      "AAVE/USDT:USDT\n",
      "AAVE/USDT:USDT\n",
      "AAVE/USDT:USDT\n",
      "AAVE/USDT:USDT\n",
      "AAVE/USDT:USDT\n",
      "AAVE/USDT:USDT\n",
      "AAVE/USDT:USDT\n",
      "AAVE/USDT:USDT\n",
      "AAVE/USDT:USDT\n",
      "AAVE/USDT:USDT\n",
      "AAVE/USDT:USDT\n",
      "AAVE/USDT:USDT\n",
      "AAVE/USDT:USDT\n",
      "AAVE/USDT:USDT\n",
      "AAVE/USDT:USDT\n",
      "AAVE/USDT:USDT\n",
      "AAVE/USDT:USDT\n",
      "AAVE/USDT:USDT\n",
      "AAVE/USDT:USDT\n",
      "AAVE/USDT:USDT\n",
      "AAVE/USDT:USDT\n",
      "AAVE/USDT:USDT\n",
      "AAVE/USDT:USDT\n",
      "AAVE/USDT:USDT\n",
      "AAVE/USDT:USDT\n",
      "AAVE/USDT:USDT\n",
      "AAVE/USDT:USDT\n",
      "AAVE/USDT:USDT\n",
      "AAVE/USDT:USDT\n",
      "AAVE/USDT:USDT\n",
      "AAVE/USDT:USDT\n",
      "AAVE/USDT:USDT\n",
      "AAVE/USDT:USDT\n",
      "AAVE/USDT:USDT\n",
      "AAVE/USDT:USDT\n",
      "ADA/USDT:USDT\n",
      "ADA/USDT:USDT\n",
      "ADA/USDT:USDT\n",
      "ADA/USDT:USDT\n",
      "ADA/USDT:USDT\n",
      "ADA/USDT:USDT\n",
      "ADA/USDT:USDT\n",
      "ADA/USDT:USDT\n",
      "ADA/USDT:USDT\n",
      "ADA/USDT:USDT\n",
      "ADA/USDT:USDT\n",
      "ADA/USDT:USDT\n",
      "ADA/USDT:USDT\n",
      "ADA/USDT:USDT\n",
      "ADA/USDT:USDT\n",
      "ADA/USDT:USDT\n",
      "ADA/USDT:USDT\n",
      "ADA/USDT:USDT\n",
      "ADA/USDT:USDT\n",
      "ADA/USDT:USDT\n",
      "ADA/USDT:USDT\n",
      "ADA/USDT:USDT\n",
      "ADA/USDT:USDT\n",
      "ADA/USDT:USDT\n",
      "ADA/USDT:USDT\n",
      "ADA/USDT:USDT\n",
      "ADA/USDT:USDT\n",
      "ADA/USDT:USDT\n",
      "ADA/USDT:USDT\n",
      "ADA/USDT:USDT\n",
      "ADA/USDT:USDT\n",
      "ADA/USDT:USDT\n",
      "ADA/USDT:USDT\n",
      "ADA/USDT:USDT\n",
      "ADA/USDT:USDT\n",
      "ADA/USDT:USDT\n",
      "ADA/USDT:USDT\n",
      "ADA/USDT:USDT\n",
      "ADA/USDT:USDT\n",
      "ADA/USDT:USDT\n",
      "ADA/USDT:USDT\n",
      "ADA/USDT:USDT\n",
      "ADA/USDT:USDT\n",
      "ADA/USDT:USDT\n",
      "ADA/USDT:USDT\n",
      "ADA/USDT:USDT\n",
      "ADA/USDT:USDT\n",
      "ADA/USDT:USDT\n",
      "ADA/USDT:USDT\n",
      "ADA/USDT:USDT\n",
      "ADA/USDT:USDT\n",
      "ADA/USDT:USDT\n",
      "ADA/USDT:USDT\n",
      "ADA/USDT:USDT\n",
      "ADA/USDT:USDT\n",
      "ADA/USDT:USDT\n",
      "ADA/USDT:USDT\n",
      "ADA/USDT:USDT\n",
      "ADA/USDT:USDT\n",
      "ADA/USDT:USDT\n",
      "ADA/USDT:USDT\n",
      "AAVE/USDT:USDT\n",
      "AAVE/USDT:USDT\n",
      "AAVE/USDT:USDT\n",
      "AAVE/USDT:USDT\n",
      "AAVE/USDT:USDT\n",
      "AAVE/USDT:USDT\n",
      "AAVE/USDT:USDT\n",
      "AAVE/USDT:USDT\n",
      "AAVE/USDT:USDT\n",
      "AAVE/USDT:USDT\n",
      "AAVE/USDT:USDT\n",
      "AAVE/USDT:USDT\n",
      "AAVE/USDT:USDT\n",
      "AAVE/USDT:USDT\n",
      "AAVE/USDT:USDT\n",
      "AAVE/USDT:USDT\n",
      "AAVE/USDT:USDT\n",
      "AAVE/USDT:USDT\n",
      "AAVE/USDT:USDT\n",
      "AAVE/USDT:USDT\n",
      "AAVE/USDT:USDT\n",
      "AAVE/USDT:USDT\n",
      "AAVE/USDT:USDT\n",
      "AAVE/USDT:USDT\n",
      "AAVE/USDT:USDT\n",
      "AAVE/USDT:USDT\n",
      "AAVE/USDT:USDT\n",
      "AAVE/USDT:USDT\n",
      "AAVE/USDT:USDT\n",
      "AAVE/USDT:USDT\n",
      "AAVE/USDT:USDT\n",
      "AAVE/USDT:USDT\n",
      "AAVE/USDT:USDT\n",
      "AAVE/USDT:USDT\n",
      "AAVE/USDT:USDT\n",
      "AAVE/USDT:USDT\n",
      "AAVE/USDT:USDT\n",
      "AAVE/USDT:USDT\n",
      "AAVE/USDT:USDT\n",
      "AAVE/USDT:USDT\n",
      "AAVE/USDT:USDT\n",
      "AAVE/USDT:USDT\n",
      "AAVE/USDT:USDT\n",
      "AAVE/USDT:USDT\n",
      "AAVE/USDT:USDT\n",
      "AAVE/USDT:USDT\n",
      "AAVE/USDT:USDT\n",
      "AAVE/USDT:USDT\n",
      "AAVE/USDT:USDT\n",
      "AAVE/USDT:USDT\n",
      "AAVE/USDT:USDT\n",
      "AAVE/USDT:USDT\n",
      "AAVE/USDT:USDT\n",
      "AAVE/USDT:USDT\n",
      "AAVE/USDT:USDT\n",
      "AAVE/USDT:USDT\n",
      "AAVE/USDT:USDT\n",
      "AAVE/USDT:USDT\n",
      "AAVE/USDT:USDT\n",
      "AAVE/USDT:USDT\n",
      "ADA/USDT:USDT\n",
      "ADA/USDT:USDT\n",
      "ADA/USDT:USDT\n",
      "ADA/USDT:USDT\n",
      "ADA/USDT:USDT\n",
      "ADA/USDT:USDT\n",
      "ADA/USDT:USDT\n",
      "ADA/USDT:USDT\n",
      "ADA/USDT:USDT\n",
      "ADA/USDT:USDT\n",
      "ADA/USDT:USDT\n",
      "ADA/USDT:USDT\n",
      "ADA/USDT:USDT\n",
      "ADA/USDT:USDT\n",
      "ADA/USDT:USDT\n",
      "ADA/USDT:USDT\n",
      "ADA/USDT:USDT\n",
      "ADA/USDT:USDT\n",
      "ADA/USDT:USDT\n",
      "ADA/USDT:USDT\n",
      "ADA/USDT:USDT\n",
      "ADA/USDT:USDT\n",
      "ADA/USDT:USDT\n",
      "ADA/USDT:USDT\n",
      "ADA/USDT:USDT\n",
      "ADA/USDT:USDT\n",
      "ADA/USDT:USDT\n",
      "ADA/USDT:USDT\n",
      "ADA/USDT:USDT\n",
      "ADA/USDT:USDT\n",
      "ADA/USDT:USDT\n",
      "ADA/USDT:USDT\n",
      "ADA/USDT:USDT\n",
      "ADA/USDT:USDT\n",
      "ADA/USDT:USDT\n",
      "ADA/USDT:USDT\n",
      "ADA/USDT:USDT\n",
      "ADA/USDT:USDT\n",
      "ADA/USDT:USDT\n",
      "ADA/USDT:USDT\n",
      "ADA/USDT:USDT\n",
      "ADA/USDT:USDT\n",
      "ADA/USDT:USDT\n",
      "ADA/USDT:USDT\n",
      "ADA/USDT:USDT\n",
      "ADA/USDT:USDT\n",
      "ADA/USDT:USDT\n",
      "ADA/USDT:USDT\n",
      "ADA/USDT:USDT\n",
      "ADA/USDT:USDT\n",
      "ADA/USDT:USDT\n",
      "ADA/USDT:USDT\n",
      "ADA/USDT:USDT\n",
      "ADA/USDT:USDT\n",
      "ADA/USDT:USDT\n",
      "ADA/USDT:USDT\n",
      "ADA/USDT:USDT\n",
      "ADA/USDT:USDT\n",
      "ADA/USDT:USDT\n",
      "ADA/USDT:USDT\n",
      "AAVE/USDT:USDT\n",
      "AAVE/USDT:USDT\n",
      "AAVE/USDT:USDT\n",
      "AAVE/USDT:USDT\n",
      "AAVE/USDT:USDT\n",
      "AAVE/USDT:USDT\n",
      "AAVE/USDT:USDT\n",
      "AAVE/USDT:USDT\n",
      "AAVE/USDT:USDT\n",
      "AAVE/USDT:USDT\n",
      "AAVE/USDT:USDT\n",
      "AAVE/USDT:USDT\n",
      "AAVE/USDT:USDT\n",
      "AAVE/USDT:USDT\n",
      "AAVE/USDT:USDT\n",
      "AAVE/USDT:USDT\n",
      "AAVE/USDT:USDT\n",
      "AAVE/USDT:USDT\n",
      "AAVE/USDT:USDT\n",
      "AAVE/USDT:USDT\n",
      "AAVE/USDT:USDT\n",
      "AAVE/USDT:USDT\n",
      "AAVE/USDT:USDT\n",
      "AAVE/USDT:USDT\n",
      "AAVE/USDT:USDT\n",
      "AAVE/USDT:USDT\n",
      "AAVE/USDT:USDT\n",
      "AAVE/USDT:USDT\n",
      "AAVE/USDT:USDT\n",
      "AAVE/USDT:USDT\n",
      "AAVE/USDT:USDT\n",
      "AAVE/USDT:USDT\n",
      "AAVE/USDT:USDT\n",
      "AAVE/USDT:USDT\n",
      "AAVE/USDT:USDT\n",
      "AAVE/USDT:USDT\n",
      "AAVE/USDT:USDT\n",
      "AAVE/USDT:USDT\n",
      "AAVE/USDT:USDT\n",
      "AAVE/USDT:USDT\n",
      "AAVE/USDT:USDT\n",
      "AAVE/USDT:USDT\n",
      "AAVE/USDT:USDT\n",
      "AAVE/USDT:USDT\n",
      "AAVE/USDT:USDT\n",
      "AAVE/USDT:USDT\n",
      "AAVE/USDT:USDT\n",
      "AAVE/USDT:USDT\n",
      "AAVE/USDT:USDT\n",
      "AAVE/USDT:USDT\n",
      "AAVE/USDT:USDT\n",
      "AAVE/USDT:USDT\n",
      "AAVE/USDT:USDT\n",
      "AAVE/USDT:USDT\n",
      "AAVE/USDT:USDT\n",
      "AAVE/USDT:USDT\n",
      "AAVE/USDT:USDT\n",
      "AAVE/USDT:USDT\n",
      "AAVE/USDT:USDT\n",
      "AAVE/USDT:USDT\n",
      "ADA/USDT:USDT\n",
      "ADA/USDT:USDT\n",
      "ADA/USDT:USDT\n",
      "ADA/USDT:USDT\n",
      "ADA/USDT:USDT\n",
      "ADA/USDT:USDT\n",
      "ADA/USDT:USDT\n",
      "ADA/USDT:USDT\n",
      "ADA/USDT:USDT\n",
      "ADA/USDT:USDT\n",
      "ADA/USDT:USDT\n",
      "ADA/USDT:USDT\n",
      "ADA/USDT:USDT\n",
      "ADA/USDT:USDT\n",
      "ADA/USDT:USDT\n",
      "ADA/USDT:USDT\n",
      "ADA/USDT:USDT\n",
      "ADA/USDT:USDT\n",
      "ADA/USDT:USDT\n",
      "ADA/USDT:USDT\n",
      "ADA/USDT:USDT\n",
      "ADA/USDT:USDT\n",
      "ADA/USDT:USDT\n",
      "ADA/USDT:USDT\n",
      "ADA/USDT:USDT\n",
      "ADA/USDT:USDT\n",
      "ADA/USDT:USDT\n",
      "ADA/USDT:USDT\n",
      "ADA/USDT:USDT\n",
      "ADA/USDT:USDT\n",
      "ADA/USDT:USDT\n",
      "ADA/USDT:USDT\n",
      "ADA/USDT:USDT\n",
      "ADA/USDT:USDT\n",
      "ADA/USDT:USDT\n",
      "ADA/USDT:USDT\n",
      "ADA/USDT:USDT\n",
      "ADA/USDT:USDT\n",
      "ADA/USDT:USDT\n",
      "ADA/USDT:USDT\n",
      "ADA/USDT:USDT\n",
      "ADA/USDT:USDT\n",
      "ADA/USDT:USDT\n",
      "ADA/USDT:USDT\n",
      "ADA/USDT:USDT\n",
      "ADA/USDT:USDT\n",
      "ADA/USDT:USDT\n",
      "ADA/USDT:USDT\n",
      "ADA/USDT:USDT\n",
      "ADA/USDT:USDT\n",
      "ADA/USDT:USDT\n",
      "ADA/USDT:USDT\n",
      "ADA/USDT:USDT\n",
      "ADA/USDT:USDT\n",
      "ADA/USDT:USDT\n",
      "ADA/USDT:USDT\n",
      "ADA/USDT:USDT\n",
      "ADA/USDT:USDT\n",
      "ADA/USDT:USDT\n",
      "ADA/USDT:USDT\n",
      "AAVE/USDT:USDT\n",
      "AAVE/USDT:USDT\n",
      "AAVE/USDT:USDT\n",
      "AAVE/USDT:USDT\n",
      "AAVE/USDT:USDT\n",
      "AAVE/USDT:USDT\n",
      "AAVE/USDT:USDT\n",
      "AAVE/USDT:USDT\n",
      "AAVE/USDT:USDT\n",
      "AAVE/USDT:USDT\n",
      "AAVE/USDT:USDT\n",
      "AAVE/USDT:USDT\n",
      "AAVE/USDT:USDT\n",
      "AAVE/USDT:USDT\n",
      "AAVE/USDT:USDT\n",
      "AAVE/USDT:USDT\n",
      "AAVE/USDT:USDT\n",
      "AAVE/USDT:USDT\n",
      "AAVE/USDT:USDT\n",
      "AAVE/USDT:USDT\n",
      "AAVE/USDT:USDT\n",
      "AAVE/USDT:USDT\n",
      "AAVE/USDT:USDT\n",
      "AAVE/USDT:USDT\n",
      "AAVE/USDT:USDT\n",
      "AAVE/USDT:USDT\n",
      "AAVE/USDT:USDT\n",
      "AAVE/USDT:USDT\n",
      "AAVE/USDT:USDT\n",
      "AAVE/USDT:USDT\n",
      "AAVE/USDT:USDT\n",
      "AAVE/USDT:USDT\n",
      "AAVE/USDT:USDT\n",
      "AAVE/USDT:USDT\n",
      "AAVE/USDT:USDT\n",
      "AAVE/USDT:USDT\n",
      "AAVE/USDT:USDT\n",
      "AAVE/USDT:USDT\n",
      "AAVE/USDT:USDT\n",
      "AAVE/USDT:USDT\n",
      "AAVE/USDT:USDT\n",
      "AAVE/USDT:USDT\n",
      "AAVE/USDT:USDT\n",
      "AAVE/USDT:USDT\n",
      "AAVE/USDT:USDT\n",
      "AAVE/USDT:USDT\n",
      "AAVE/USDT:USDT\n",
      "AAVE/USDT:USDT\n",
      "AAVE/USDT:USDT\n",
      "AAVE/USDT:USDT\n",
      "AAVE/USDT:USDT\n",
      "AAVE/USDT:USDT\n",
      "AAVE/USDT:USDT\n",
      "AAVE/USDT:USDT\n",
      "AAVE/USDT:USDT\n",
      "AAVE/USDT:USDT\n",
      "AAVE/USDT:USDT\n",
      "AAVE/USDT:USDT\n",
      "AAVE/USDT:USDT\n",
      "AAVE/USDT:USDT\n",
      "AAVE/USDT:USDT\n",
      "ADA/USDT:USDT\n",
      "ADA/USDT:USDT\n",
      "ADA/USDT:USDT\n",
      "ADA/USDT:USDT\n",
      "ADA/USDT:USDT\n",
      "ADA/USDT:USDT\n",
      "ADA/USDT:USDT\n",
      "ADA/USDT:USDT\n",
      "ADA/USDT:USDT\n",
      "ADA/USDT:USDT\n",
      "ADA/USDT:USDT\n",
      "ADA/USDT:USDT\n",
      "ADA/USDT:USDT\n",
      "ADA/USDT:USDT\n",
      "ADA/USDT:USDT\n",
      "ADA/USDT:USDT\n",
      "ADA/USDT:USDT\n",
      "ADA/USDT:USDT\n",
      "ADA/USDT:USDT\n",
      "ADA/USDT:USDT\n",
      "ADA/USDT:USDT\n",
      "ADA/USDT:USDT\n",
      "ADA/USDT:USDT\n",
      "ADA/USDT:USDT\n",
      "ADA/USDT:USDT\n",
      "ADA/USDT:USDT\n",
      "ADA/USDT:USDT\n",
      "ADA/USDT:USDT\n",
      "ADA/USDT:USDT\n",
      "ADA/USDT:USDT\n",
      "ADA/USDT:USDT\n",
      "ADA/USDT:USDT\n",
      "ADA/USDT:USDT\n",
      "ADA/USDT:USDT\n",
      "ADA/USDT:USDT\n",
      "ADA/USDT:USDT\n",
      "ADA/USDT:USDT\n",
      "ADA/USDT:USDT\n",
      "ADA/USDT:USDT\n",
      "ADA/USDT:USDT\n",
      "ADA/USDT:USDT\n",
      "ADA/USDT:USDT\n",
      "ADA/USDT:USDT\n",
      "ADA/USDT:USDT\n",
      "ADA/USDT:USDT\n",
      "ADA/USDT:USDT\n",
      "ADA/USDT:USDT\n",
      "ADA/USDT:USDT\n",
      "ADA/USDT:USDT\n",
      "ADA/USDT:USDT\n",
      "ADA/USDT:USDT\n",
      "ADA/USDT:USDT\n",
      "ADA/USDT:USDT\n",
      "ADA/USDT:USDT\n",
      "ADA/USDT:USDT\n",
      "ADA/USDT:USDT\n",
      "ADA/USDT:USDT\n",
      "ADA/USDT:USDT\n",
      "ADA/USDT:USDT\n",
      "ADA/USDT:USDT\n",
      "ADA/USDT:USDT\n",
      "AAVE/USDT:USDT\n",
      "AAVE/USDT:USDT\n",
      "AAVE/USDT:USDT\n",
      "AAVE/USDT:USDT\n",
      "AAVE/USDT:USDT\n",
      "AAVE/USDT:USDT\n",
      "AAVE/USDT:USDT\n",
      "AAVE/USDT:USDT\n",
      "AAVE/USDT:USDT\n",
      "AAVE/USDT:USDT\n",
      "AAVE/USDT:USDT\n",
      "AAVE/USDT:USDT\n",
      "AAVE/USDT:USDT\n",
      "AAVE/USDT:USDT\n",
      "AAVE/USDT:USDT\n",
      "AAVE/USDT:USDT\n",
      "AAVE/USDT:USDT\n",
      "AAVE/USDT:USDT\n",
      "AAVE/USDT:USDT\n",
      "AAVE/USDT:USDT\n",
      "AAVE/USDT:USDT\n",
      "AAVE/USDT:USDT\n",
      "AAVE/USDT:USDT\n",
      "AAVE/USDT:USDT\n",
      "AAVE/USDT:USDT\n",
      "AAVE/USDT:USDT\n",
      "AAVE/USDT:USDT\n",
      "AAVE/USDT:USDT\n",
      "AAVE/USDT:USDT\n",
      "AAVE/USDT:USDT\n",
      "AAVE/USDT:USDT\n",
      "AAVE/USDT:USDT\n",
      "AAVE/USDT:USDT\n",
      "AAVE/USDT:USDT\n",
      "AAVE/USDT:USDT\n",
      "AAVE/USDT:USDT\n",
      "AAVE/USDT:USDT\n",
      "AAVE/USDT:USDT\n",
      "AAVE/USDT:USDT\n",
      "AAVE/USDT:USDT\n",
      "AAVE/USDT:USDT\n",
      "AAVE/USDT:USDT\n",
      "AAVE/USDT:USDT\n",
      "AAVE/USDT:USDT\n",
      "AAVE/USDT:USDT\n",
      "AAVE/USDT:USDT\n",
      "AAVE/USDT:USDT\n",
      "AAVE/USDT:USDT\n",
      "AAVE/USDT:USDT\n",
      "AAVE/USDT:USDT\n",
      "AAVE/USDT:USDT\n",
      "AAVE/USDT:USDT\n",
      "AAVE/USDT:USDT\n",
      "AAVE/USDT:USDT\n",
      "AAVE/USDT:USDT\n",
      "AAVE/USDT:USDT\n",
      "AAVE/USDT:USDT\n",
      "AAVE/USDT:USDT\n",
      "AAVE/USDT:USDT\n",
      "AAVE/USDT:USDT\n",
      "ADA/USDT:USDT\n",
      "ADA/USDT:USDT\n",
      "ADA/USDT:USDT\n",
      "ADA/USDT:USDT\n",
      "ADA/USDT:USDT\n",
      "ADA/USDT:USDT\n",
      "ADA/USDT:USDT\n",
      "ADA/USDT:USDT\n",
      "ADA/USDT:USDT\n",
      "ADA/USDT:USDT\n",
      "ADA/USDT:USDT\n",
      "ADA/USDT:USDT\n",
      "ADA/USDT:USDT\n",
      "ADA/USDT:USDT\n",
      "ADA/USDT:USDT\n",
      "ADA/USDT:USDT\n",
      "ADA/USDT:USDT\n",
      "ADA/USDT:USDT\n",
      "ADA/USDT:USDT\n",
      "ADA/USDT:USDT\n",
      "ADA/USDT:USDT\n",
      "ADA/USDT:USDT\n",
      "ADA/USDT:USDT\n",
      "ADA/USDT:USDT\n",
      "ADA/USDT:USDT\n",
      "ADA/USDT:USDT\n",
      "ADA/USDT:USDT\n",
      "ADA/USDT:USDT\n",
      "ADA/USDT:USDT\n",
      "ADA/USDT:USDT\n",
      "ADA/USDT:USDT\n",
      "ADA/USDT:USDT\n",
      "ADA/USDT:USDT\n",
      "ADA/USDT:USDT\n",
      "ADA/USDT:USDT\n",
      "ADA/USDT:USDT\n",
      "ADA/USDT:USDT\n",
      "ADA/USDT:USDT\n",
      "ADA/USDT:USDT\n",
      "ADA/USDT:USDT\n",
      "ADA/USDT:USDT\n",
      "ADA/USDT:USDT\n",
      "ADA/USDT:USDT\n",
      "ADA/USDT:USDT\n",
      "ADA/USDT:USDT\n",
      "ADA/USDT:USDT\n",
      "ADA/USDT:USDT\n",
      "ADA/USDT:USDT\n",
      "ADA/USDT:USDT\n",
      "ADA/USDT:USDT\n",
      "ADA/USDT:USDT\n",
      "ADA/USDT:USDT\n",
      "ADA/USDT:USDT\n",
      "ADA/USDT:USDT\n",
      "ADA/USDT:USDT\n",
      "ADA/USDT:USDT\n",
      "ADA/USDT:USDT\n",
      "ADA/USDT:USDT\n",
      "ADA/USDT:USDT\n",
      "ADA/USDT:USDT\n",
      "AAVE/USDT:USDT\n",
      "AAVE/USDT:USDT\n",
      "AAVE/USDT:USDT\n",
      "AAVE/USDT:USDT\n",
      "AAVE/USDT:USDT\n",
      "AAVE/USDT:USDT\n",
      "AAVE/USDT:USDT\n",
      "AAVE/USDT:USDT\n",
      "AAVE/USDT:USDT\n",
      "AAVE/USDT:USDT\n",
      "AAVE/USDT:USDT\n",
      "AAVE/USDT:USDT\n",
      "AAVE/USDT:USDT\n",
      "AAVE/USDT:USDT\n",
      "AAVE/USDT:USDT\n",
      "AAVE/USDT:USDT\n",
      "AAVE/USDT:USDT\n",
      "AAVE/USDT:USDT\n",
      "ADA/USDT:USDT\n",
      "ADA/USDT:USDT\n",
      "ADA/USDT:USDT\n",
      "ADA/USDT:USDT\n",
      "ADA/USDT:USDT\n",
      "ADA/USDT:USDT\n",
      "ADA/USDT:USDT\n",
      "ADA/USDT:USDT\n",
      "ADA/USDT:USDT\n",
      "ADA/USDT:USDT\n",
      "ADA/USDT:USDT\n",
      "ADA/USDT:USDT\n",
      "ADA/USDT:USDT\n",
      "ADA/USDT:USDT\n",
      "ADA/USDT:USDT\n",
      "ADA/USDT:USDT\n",
      "ADA/USDT:USDT\n",
      "ADA/USDT:USDT\n"
     ]
    }
   ],
   "source": [
    "docs = list(db[\"1m\"].find({}))\n",
    "\n",
    "for d in docs:\n",
    "    print(d[\"symbol\"])"
   ],
   "metadata": {
    "collapsed": false,
    "pycharm": {
     "name": "#%%\n"
    }
   }
  },
  {
   "cell_type": "code",
   "execution_count": 11,
   "outputs": [
    {
     "data": {
      "text/plain": "((1669698360000, 16487.0, 16499.0, 16474.5, 16477.0, 160.282),\n (1669698420000, 16477.0, 16477.5, 16467.0, 16467.0, 95.235),\n (1669698480000, 16467.0, 16475.0, 16463.5, 16475.0, 132.605),\n (1669698540000, 16475.0, 16484.0, 16474.5, 16484.0, 72.757),\n (1669698600000, 16484.0, 16495.0, 16483.5, 16494.0, 122.816),\n (1669698660000, 16494.0, 16525.0, 16493.5, 16512.5, 1052.735),\n (1669698720000, 16512.5, 16513.0, 16485.5, 16499.5, 300.234),\n (1669698780000, 16499.5, 16500.0, 16491.5, 16491.5, 155.264),\n (1669698840000, 16491.5, 16493.0, 16486.0, 16486.0, 110.279),\n (1669698900000, 16486.0, 16493.5, 16486.0, 16489.5, 79.503),\n (1669698960000, 16489.5, 16503.5, 16489.5, 16500.0, 174.26),\n (1669699020000, 16500.0, 16517.5, 16499.5, 16502.0, 181.462),\n (1669699080000, 16502.0, 16507.0, 16501.5, 16506.5, 109.404),\n (1669699140000, 16506.5, 16516.5, 16505.0, 16505.0, 113.093),\n (1669699200000, 16505.0, 16505.5, 16505.0, 16505.5, 53.199),\n (1669699260000, 16505.5, 16507.0, 16500.5, 16501.0, 49.255),\n (1669699320000, 16501.0, 16501.0, 16496.0, 16497.0, 187.778),\n (1669699380000, 16497.0, 16497.0, 16493.5, 16496.5, 58.77),\n (1669699440000, 16496.5, 16497.0, 16490.5, 16492.0, 75.127),\n (1669699500000, 16492.0, 16496.0, 16480.5, 16480.5, 225.688),\n (1669699560000, 16480.5, 16481.0, 16478.0, 16479.0, 109.307),\n (1669699620000, 16479.0, 16479.5, 16479.0, 16479.0, 27.474),\n (1669699680000, 16479.0, 16479.5, 16478.0, 16479.0, 57.978),\n (1669699740000, 16479.0, 16479.0, 16471.0, 16473.5, 89.326),\n (1669699800000, 16473.5, 16480.0, 16473.5, 16480.0, 142.425),\n (1669699860000, 16480.0, 16480.0, 16479.5, 16479.5, 22.235),\n (1669699920000, 16479.5, 16480.0, 16476.5, 16477.0, 62.706),\n (1669699980000, 16477.0, 16477.0, 16457.5, 16457.5, 392.927),\n (1669700040000, 16457.5, 16463.5, 16457.5, 16460.0, 104.904),\n (1669700100000, 16460.0, 16476.0, 16460.0, 16476.0, 123.469),\n (1669700160000, 16476.0, 16480.0, 16474.5, 16475.0, 116.228),\n (1669700220000, 16475.0, 16477.5, 16474.0, 16477.0, 72.54),\n (1669700280000, 16477.0, 16477.5, 16465.5, 16466.0, 91.076),\n (1669700340000, 16466.0, 16466.0, 16460.5, 16461.0, 36.127),\n (1669700400000, 16461.0, 16463.0, 16458.0, 16459.5, 65.173),\n (1669700460000, 16459.5, 16462.0, 16458.0, 16461.5, 122.978),\n (1669700520000, 16461.5, 16462.0, 16460.0, 16460.5, 33.776),\n (1669700580000, 16460.5, 16462.0, 16460.0, 16461.5, 39.184),\n (1669700640000, 16461.5, 16467.0, 16461.5, 16464.5, 76.013),\n (1669700700000, 16464.5, 16464.5, 16463.0, 16463.5, 98.798),\n (1669700760000, 16463.5, 16468.5, 16463.0, 16467.5, 82.55),\n (1669700820000, 16467.5, 16467.5, 16460.0, 16460.5, 37.841),\n (1669700880000, 16460.5, 16467.5, 16459.0, 16467.0, 80.396),\n (1669700940000, 16467.0, 16467.5, 16467.0, 16467.5, 27.281),\n (1669701000000, 16467.5, 16467.5, 16467.0, 16467.5, 8.128),\n (1669701060000, 16467.5, 16473.0, 16467.0, 16472.5, 25.801),\n (1669701120000, 16472.5, 16475.0, 16472.5, 16475.0, 38.095),\n (1669701180000, 16475.0, 16480.0, 16474.5, 16480.0, 48.729),\n (1669701240000, 16480.0, 16480.0, 16471.5, 16471.5, 26.51),\n (1669701300000, 16471.5, 16477.5, 16468.5, 16477.0, 25.46),\n (1669701360000, 16477.0, 16478.5, 16476.5, 16477.0, 23.312),\n (1669701420000, 16477.0, 16477.0, 16470.0, 16470.0, 45.966),\n (1669701480000, 16470.0, 16470.5, 16470.0, 16470.5, 8.305),\n (1669701540000, 16470.5, 16473.5, 16468.0, 16473.5, 99.017),\n (1669701600000, 16473.5, 16478.0, 16473.0, 16476.5, 65.907),\n (1669701660000, 16476.5, 16480.0, 16476.0, 16479.5, 59.523),\n (1669701720000, 16479.5, 16482.0, 16479.5, 16481.5, 82.093),\n (1669701780000, 16481.5, 16482.0, 16481.5, 16482.0, 10.512),\n (1669701840000, 16482.0, 16482.0, 16481.5, 16481.5, 24.56),\n (1669701900000, 16481.5, 16490.0, 16481.5, 16489.5, 63.589),\n (1669701960000, 16489.5, 16493.5, 16489.5, 16493.5, 63.109),\n (1669702020000, 16493.5, 16507.5, 16493.0, 16499.0, 244.336),\n (1669702080000, 16499.0, 16499.5, 16490.0, 16490.0, 66.347),\n (1669702140000, 16490.0, 16490.0, 16484.5, 16485.0, 59.107),\n (1669702200000, 16485.0, 16485.0, 16484.5, 16484.5, 65.084),\n (1669702260000, 16484.5, 16485.0, 16482.0, 16482.0, 43.833),\n (1669702320000, 16482.0, 16482.5, 16476.5, 16476.5, 23.961),\n (1669702380000, 16476.5, 16477.0, 16468.5, 16468.5, 24.653),\n (1669702440000, 16468.5, 16469.0, 16455.5, 16457.5, 142.746),\n (1669702500000, 16457.5, 16467.0, 16457.0, 16463.5, 169.034),\n (1669702560000, 16463.5, 16464.0, 16462.0, 16462.0, 52.121),\n (1669702620000, 16462.0, 16462.5, 16460.0, 16460.5, 60.369),\n (1669702680000, 16460.5, 16461.0, 16455.5, 16456.0, 80.72),\n (1669702740000, 16456.0, 16457.5, 16451.5, 16455.0, 134.0),\n (1669702800000, 16455.0, 16468.0, 16455.0, 16468.0, 74.965),\n (1669702860000, 16468.0, 16468.0, 16465.0, 16466.5, 59.727),\n (1669702920000, 16466.5, 16467.0, 16447.5, 16454.5, 207.896),\n (1669702980000, 16454.5, 16454.5, 16444.0, 16449.0, 121.629),\n (1669703040000, 16449.0, 16454.0, 16448.5, 16453.5, 52.246),\n (1669703100000, 16453.5, 16454.5, 16440.0, 16448.5, 140.103),\n (1669703160000, 16448.5, 16454.0, 16448.0, 16454.0, 59.304),\n (1669703220000, 16454.0, 16454.0, 16451.5, 16451.5, 25.326),\n (1669703280000, 16451.5, 16452.0, 16441.0, 16443.0, 71.353),\n (1669703340000, 16443.0, 16445.0, 16440.5, 16441.0, 34.751),\n (1669703400000, 16441.0, 16451.5, 16440.5, 16451.0, 166.907),\n (1669703460000, 16451.0, 16451.5, 16451.0, 16451.0, 22.126),\n (1669703520000, 16451.0, 16451.5, 16451.0, 16451.5, 17.805),\n (1669703580000, 16451.5, 16451.5, 16451.0, 16451.5, 17.968),\n (1669703640000, 16451.5, 16451.5, 16451.0, 16451.5, 67.48),\n (1669703700000, 16451.5, 16451.5, 16451.0, 16451.5, 26.721),\n (1669703760000, 16451.5, 16451.5, 16451.0, 16451.5, 32.388),\n (1669703820000, 16451.5, 16451.5, 16451.0, 16451.5, 41.755),\n (1669703880000, 16451.5, 16460.0, 16451.0, 16460.0, 111.158),\n (1669703940000, 16460.0, 16460.0, 16455.5, 16456.0, 61.635),\n (1669704000000, 16456.0, 16456.0, 16455.5, 16456.0, 38.901),\n (1669704060000, 16456.0, 16458.0, 16455.5, 16457.5, 58.465),\n (1669704120000, 16457.5, 16457.5, 16455.5, 16456.0, 46.844),\n (1669704180000, 16456.0, 16456.0, 16454.0, 16454.5, 64.675),\n (1669704240000, 16454.5, 16454.5, 16454.0, 16454.0, 58.138),\n (1669704300000, 16454.0, 16459.5, 16454.0, 16459.5, 49.212),\n (1669704360000, 16459.5, 16459.5, 16459.0, 16459.5, 60.755),\n (1669704420000, 16459.5, 16459.5, 16459.0, 16459.0, 41.981),\n (1669704480000, 16459.0, 16459.5, 16459.0, 16459.0, 55.481),\n (1669704540000, 16459.0, 16463.5, 16459.0, 16463.0, 70.069),\n (1669704600000, 16463.0, 16469.0, 16463.0, 16468.5, 63.404),\n (1669704660000, 16468.5, 16469.0, 16468.5, 16468.5, 64.106),\n (1669704720000, 16468.5, 16475.0, 16468.5, 16475.0, 76.229),\n (1669704780000, 16475.0, 16475.0, 16474.5, 16474.5, 70.32),\n (1669704840000, 16474.5, 16475.0, 16457.0, 16457.0, 161.339),\n (1669704900000, 16457.0, 16457.5, 16457.0, 16457.0, 32.086),\n (1669704960000, 16457.0, 16457.5, 16455.0, 16455.0, 83.557),\n (1669705020000, 16455.0, 16455.5, 16455.0, 16455.0, 10.171),\n (1669705080000, 16455.0, 16455.5, 16455.0, 16455.0, 24.611),\n (1669705140000, 16455.0, 16455.5, 16455.0, 16455.0, 20.322),\n (1669705200000, 16455.0, 16460.5, 16455.0, 16460.0, 63.973),\n (1669705260000, 16460.0, 16474.5, 16460.0, 16474.0, 68.858),\n (1669705320000, 16474.0, 16479.5, 16474.0, 16475.0, 158.105),\n (1669705380000, 16475.0, 16487.0, 16475.0, 16487.0, 160.031),\n (1669705440000, 16487.0, 16487.0, 16474.0, 16474.0, 159.293),\n (1669705500000, 16474.0, 16474.5, 16472.5, 16473.0, 241.851),\n (1669705560000, 16473.0, 16487.0, 16471.5, 16480.0, 268.009),\n (1669705620000, 16480.0, 16483.5, 16476.5, 16476.5, 58.126),\n (1669705680000, 16476.5, 16477.0, 16475.0, 16475.5, 17.906),\n (1669705740000, 16475.5, 16475.5, 16470.0, 16470.0, 25.422),\n (1669705800000, 16470.0, 16475.5, 16470.0, 16475.0, 26.921),\n (1669705860000, 16475.0, 16482.5, 16475.0, 16482.0, 18.014),\n (1669705920000, 16482.0, 16482.5, 16482.0, 16482.5, 48.481),\n (1669705980000, 16482.5, 16484.0, 16482.0, 16484.0, 31.278),\n (1669706040000, 16484.0, 16484.0, 16482.0, 16482.0, 50.614),\n (1669706100000, 16482.0, 16482.5, 16482.0, 16482.0, 43.305),\n (1669706160000, 16482.0, 16482.5, 16482.0, 16482.5, 48.893),\n (1669706220000, 16482.5, 16482.5, 16482.0, 16482.5, 46.063),\n (1669706280000, 16482.5, 16485.0, 16479.5, 16480.0, 127.43),\n (1669706340000, 16480.0, 16480.0, 16478.0, 16478.5, 29.791),\n (1669706400000, 16478.5, 16478.5, 16478.0, 16478.5, 48.78),\n (1669706460000, 16478.5, 16482.0, 16478.0, 16482.0, 46.756),\n (1669706520000, 16482.0, 16494.0, 16481.5, 16493.0, 85.536),\n (1669706580000, 16493.0, 16493.0, 16472.0, 16472.0, 59.073),\n (1669706640000, 16472.0, 16474.0, 16470.0, 16470.5, 71.49),\n (1669706700000, 16470.5, 16470.5, 16466.5, 16468.5, 123.99),\n (1669706760000, 16468.5, 16473.0, 16468.0, 16473.0, 81.643),\n (1669706820000, 16473.0, 16473.0, 16472.0, 16472.0, 41.555),\n (1669706880000, 16472.0, 16472.5, 16469.0, 16469.0, 40.779),\n (1669706940000, 16469.0, 16469.5, 16469.0, 16469.5, 36.377),\n (1669707000000, 16469.5, 16469.5, 16463.5, 16464.0, 44.13),\n (1669707060000, 16464.0, 16464.0, 16455.0, 16458.5, 145.29),\n (1669707120000, 16458.5, 16458.5, 16458.0, 16458.5, 28.876),\n (1669707180000, 16458.5, 16458.5, 16458.0, 16458.5, 29.281),\n (1669707240000, 16458.5, 16458.5, 16457.0, 16457.0, 39.967),\n (1669707300000, 16457.0, 16457.5, 16454.0, 16454.5, 52.532),\n (1669707360000, 16454.5, 16460.0, 16454.0, 16456.5, 125.399),\n (1669707420000, 16456.5, 16459.0, 16456.0, 16459.0, 46.648),\n (1669707480000, 16459.0, 16461.0, 16458.5, 16461.0, 50.171),\n (1669707540000, 16461.0, 16461.0, 16460.5, 16461.0, 45.695),\n (1669707600000, 16461.0, 16463.0, 16460.5, 16463.0, 49.531),\n (1669707660000, 16463.0, 16463.0, 16462.5, 16463.0, 37.228),\n (1669707720000, 16463.0, 16463.0, 16462.5, 16462.5, 44.469),\n (1669707780000, 16462.5, 16468.0, 16462.5, 16468.0, 70.523),\n (1669707840000, 16468.0, 16468.0, 16456.5, 16456.5, 81.039),\n (1669707900000, 16456.5, 16457.0, 16456.5, 16457.0, 32.194),\n (1669707960000, 16457.0, 16462.0, 16456.5, 16459.0, 52.488),\n (1669708020000, 16459.0, 16459.5, 16457.5, 16458.0, 10.405),\n (1669708080000, 16458.0, 16458.0, 16457.5, 16457.5, 49.092),\n (1669708140000, 16457.5, 16458.0, 16457.5, 16458.0, 8.387),\n (1669708200000, 16458.0, 16458.0, 16457.5, 16458.0, 8.538),\n (1669708260000, 16458.0, 16458.0, 16457.5, 16458.0, 8.836),\n (1669708320000, 16458.0, 16458.0, 16456.0, 16456.0, 40.508),\n (1669708380000, 16456.0, 16456.5, 16456.0, 16456.0, 5.48),\n (1669708440000, 16456.0, 16456.5, 16456.0, 16456.0, 21.307),\n (1669708500000, 16456.0, 16456.5, 16456.0, 16456.5, 29.3),\n (1669708560000, 16456.5, 16456.5, 16456.0, 16456.0, 12.537),\n (1669708620000, 16456.0, 16456.5, 16456.0, 16456.5, 11.628),\n (1669708680000, 16456.5, 16456.5, 16456.0, 16456.0, 23.001),\n (1669708740000, 16456.0, 16456.5, 16455.0, 16455.0, 16.719),\n (1669708800000, 16455.0, 16458.0, 16455.0, 16457.5, 76.082),\n (1669708860000, 16457.5, 16462.5, 16455.0, 16462.5, 93.594),\n (1669708920000, 16462.5, 16467.0, 16462.0, 16465.0, 68.847),\n (1669708980000, 16465.0, 16465.5, 16454.5, 16454.5, 41.388),\n (1669709040000, 16454.5, 16455.0, 16448.5, 16448.5, 57.777),\n (1669709100000, 16448.5, 16449.0, 16448.5, 16449.0, 23.756),\n (1669709160000, 16449.0, 16449.0, 16448.5, 16448.5, 40.669),\n (1669709220000, 16448.5, 16449.0, 16444.0, 16444.5, 62.433),\n (1669709280000, 16444.5, 16444.5, 16436.5, 16436.5, 79.444),\n (1669709340000, 16436.5, 16440.0, 16436.5, 16439.5, 82.347),\n (1669709400000, 16439.5, 16440.0, 16439.0, 16439.5, 59.387),\n (1669709460000, 16439.5, 16439.5, 16433.5, 16434.0, 88.633),\n (1669709520000, 16434.0, 16434.0, 16433.0, 16433.0, 82.286),\n (1669709580000, 16433.0, 16433.5, 16425.5, 16426.0, 161.452),\n (1669709640000, 16426.0, 16426.0, 16425.5, 16426.0, 95.875),\n (1669709700000, 16426.0, 16433.0, 16425.5, 16432.5, 86.914),\n (1669709760000, 16432.5, 16435.0, 16432.5, 16435.0, 112.025),\n (1669709820000, 16435.0, 16435.0, 16434.5, 16435.0, 49.469),\n (1669709880000, 16435.0, 16435.0, 16430.5, 16431.0, 43.268),\n (1669709940000, 16431.0, 16431.0, 16427.0, 16427.0, 40.019),\n (1669710000000, 16427.0, 16438.0, 16427.0, 16438.0, 62.023),\n (1669710060000, 16438.0, 16438.0, 16437.5, 16438.0, 31.765),\n (1669710120000, 16438.0, 16444.0, 16437.5, 16444.0, 64.058),\n (1669710180000, 16444.0, 16453.0, 16443.5, 16452.5, 102.972),\n (1669710240000, 16452.5, 16453.0, 16450.5, 16450.5, 40.295),\n (1669710300000, 16450.5, 16460.5, 16450.5, 16460.5, 77.327),\n (1669710360000, 16460.5, 16460.5, 16454.5, 16455.0, 76.165),\n (1669710420000, 16455.0, 16455.0, 16454.0, 16454.0, 26.285),\n (1669710480000, 16454.0, 16454.5, 16454.0, 16454.0, 15.707),\n (1669710540000, 16454.0, 16472.5, 16454.0, 16470.5, 143.347),\n (1669710600000, 16470.5, 16470.5, 16470.0, 16470.0, 145.442),\n (1669710660000, 16470.0, 16538.5, 16470.0, 16513.5, 1321.455),\n (1669710720000, 16513.5, 16518.5, 16486.5, 16487.0, 383.446),\n (1669710780000, 16487.0, 16487.0, 16477.5, 16483.0, 170.045),\n (1669710840000, 16483.0, 16503.0, 16483.0, 16492.5, 205.854),\n (1669710900000, 16492.5, 16493.0, 16486.5, 16487.0, 127.032),\n (1669710960000, 16487.0, 16487.5, 16486.5, 16487.0, 26.117),\n (1669711020000, 16487.0, 16497.5, 16487.0, 16490.0, 84.271),\n (1669711080000, 16490.0, 16499.0, 16489.5, 16497.5, 66.935),\n (1669711140000, 16497.5, 16497.5, 16492.0, 16492.5, 75.231),\n (1669711200000, 16492.5, 16498.5, 16492.0, 16498.5, 111.085),\n (1669711260000, 16498.5, 16511.0, 16498.0, 16510.5, 85.862),\n (1669711320000, 16510.5, 16517.5, 16506.5, 16509.0, 152.047),\n (1669711380000, 16509.0, 16509.0, 16506.5, 16508.5, 45.154),\n (1669711440000, 16508.5, 16521.0, 16508.5, 16515.5, 149.612),\n (1669711500000, 16515.5, 16528.5, 16502.5, 16502.5, 277.768),\n (1669711560000, 16502.5, 16503.0, 16487.5, 16488.0, 217.414),\n (1669711620000, 16488.0, 16496.0, 16488.0, 16491.0, 141.215),\n (1669711680000, 16491.0, 16491.5, 16490.0, 16491.0, 47.629),\n (1669711740000, 16491.0, 16495.0, 16490.5, 16495.0, 58.386),\n (1669711800000, 16495.0, 16509.5, 16494.5, 16501.5, 80.029),\n (1669711860000, 16501.5, 16547.0, 16501.0, 16521.5, 623.422),\n (1669711920000, 16521.5, 16525.0, 16511.5, 16516.5, 124.997),\n (1669711980000, 16516.5, 16516.5, 16509.0, 16509.0, 97.881),\n (1669712040000, 16509.0, 16509.5, 16493.0, 16493.5, 204.497),\n (1669712100000, 16493.5, 16493.5, 16486.5, 16489.5, 118.412),\n (1669712160000, 16489.5, 16491.0, 16479.5, 16491.0, 218.188),\n (1669712220000, 16491.0, 16491.0, 16490.5, 16490.5, 24.617),\n (1669712280000, 16490.5, 16491.0, 16490.5, 16490.5, 12.269),\n (1669712340000, 16490.5, 16491.0, 16490.5, 16490.5, 28.766),\n (1669712400000, 16490.5, 16491.0, 16490.5, 16491.0, 43.318),\n (1669712460000, 16491.0, 16493.5, 16490.5, 16490.5, 77.275),\n (1669712520000, 16490.5, 16490.5, 16479.5, 16479.5, 109.184),\n (1669712580000, 16479.5, 16480.5, 16479.5, 16480.0, 47.304),\n (1669712640000, 16480.0, 16480.5, 16476.5, 16476.5, 49.276),\n (1669712700000, 16476.5, 16484.5, 16475.5, 16484.0, 54.656),\n (1669712760000, 16484.0, 16484.5, 16477.5, 16478.0, 42.898),\n (1669712820000, 16478.0, 16480.0, 16475.0, 16479.5, 67.246),\n (1669712880000, 16479.5, 16480.0, 16479.0, 16479.0, 35.262),\n (1669712940000, 16479.0, 16479.5, 16475.5, 16476.0, 68.301),\n (1669713000000, 16476.0, 16481.5, 16475.5, 16481.0, 67.892),\n (1669713060000, 16481.0, 16484.5, 16481.0, 16484.0, 34.178),\n (1669713120000, 16484.0, 16484.5, 16480.5, 16480.5, 21.726),\n (1669713180000, 16480.5, 16481.0, 16480.5, 16480.5, 27.759),\n (1669713240000, 16480.5, 16481.0, 16476.0, 16476.5, 29.727),\n (1669713300000, 16476.5, 16482.5, 16476.0, 16482.5, 22.709),\n (1669713360000, 16482.5, 16482.5, 16482.0, 16482.5, 9.406),\n (1669713420000, 16482.5, 16482.5, 16482.0, 16482.5, 16.598),\n (1669713480000, 16482.5, 16482.5, 16476.0, 16476.0, 32.568),\n (1669713540000, 16476.0, 16476.5, 16476.0, 16476.0, 18.928),\n (1669713600000, 16476.0, 16481.0, 16476.0, 16480.5, 32.635),\n (1669713660000, 16480.5, 16489.0, 16480.5, 16488.0, 41.958),\n (1669713720000, 16488.0, 16488.5, 16488.0, 16488.5, 23.643),\n (1669713780000, 16488.5, 16488.5, 16487.0, 16487.5, 14.63),\n (1669713840000, 16487.5, 16487.5, 16480.5, 16481.0, 13.53),\n (1669713900000, 16481.0, 16481.0, 16480.5, 16481.0, 23.668),\n (1669713960000, 16481.0, 16488.0, 16480.5, 16485.5, 59.592),\n (1669714020000, 16485.5, 16485.5, 16485.0, 16485.0, 25.676),\n (1669714080000, 16485.0, 16488.0, 16485.0, 16488.0, 26.674),\n (1669714140000, 16488.0, 16488.0, 16481.0, 16481.0, 23.645),\n (1669714200000, 16481.0, 16486.0, 16480.5, 16480.5, 52.413),\n (1669714260000, 16480.5, 16481.0, 16480.5, 16481.0, 47.617),\n (1669714320000, 16481.0, 16481.0, 16477.5, 16477.5, 39.28),\n (1669714380000, 16477.5, 16478.0, 16477.5, 16478.0, 12.859),\n (1669714440000, 16478.0, 16482.5, 16477.5, 16482.5, 46.719),\n (1669714500000, 16482.5, 16488.0, 16482.0, 16488.0, 26.444),\n (1669714560000, 16488.0, 16488.0, 16484.0, 16484.0, 22.404),\n (1669714620000, 16484.0, 16486.0, 16483.5, 16486.0, 8.273),\n (1669714680000, 16486.0, 16486.0, 16484.0, 16484.0, 21.66),\n (1669714740000, 16484.0, 16484.0, 16478.5, 16478.5, 20.941),\n (1669714800000, 16478.5, 16479.0, 16478.5, 16479.0, 6.882),\n (1669714860000, 16479.0, 16481.0, 16478.5, 16480.5, 16.299),\n (1669714920000, 16480.5, 16481.0, 16480.5, 16481.0, 8.628),\n (1669714980000, 16481.0, 16481.0, 16478.0, 16480.0, 28.465),\n (1669715040000, 16480.0, 16480.5, 16480.0, 16480.5, 16.257),\n (1669715100000, 16480.5, 16480.5, 16480.0, 16480.5, 16.68),\n (1669715160000, 16480.5, 16480.5, 16480.0, 16480.5, 21.319),\n (1669715220000, 16480.5, 16480.5, 16477.0, 16477.0, 30.409),\n (1669715280000, 16477.0, 16477.5, 16477.0, 16477.0, 31.385),\n (1669715340000, 16477.0, 16477.0, 16471.0, 16472.0, 47.213),\n (1669715400000, 16472.0, 16474.0, 16472.0, 16474.0, 25.331),\n (1669715460000, 16474.0, 16476.0, 16473.5, 16475.5, 37.242),\n (1669715520000, 16475.5, 16478.0, 16475.5, 16477.5, 19.18),\n (1669715580000, 16477.5, 16487.0, 16477.5, 16487.0, 47.012),\n (1669715640000, 16487.0, 16495.0, 16486.5, 16495.0, 99.474),\n (1669715700000, 16495.0, 16497.0, 16494.5, 16496.5, 88.255),\n (1669715760000, 16496.5, 16507.5, 16496.5, 16507.5, 224.358),\n (1669715820000, 16507.5, 16509.0, 16507.0, 16507.5, 69.482),\n (1669715880000, 16507.5, 16514.0, 16503.0, 16513.5, 104.754),\n (1669715940000, 16513.5, 16516.0, 16510.5, 16511.0, 85.75),\n (1669716000000, 16511.0, 16519.0, 16510.5, 16517.0, 172.043),\n (1669716060000, 16517.0, 16525.0, 16517.0, 16521.5, 317.69),\n (1669716120000, 16521.5, 16522.0, 16511.0, 16511.5, 63.834),\n (1669716180000, 16511.5, 16511.5, 16507.0, 16507.0, 93.316),\n (1669716240000, 16507.0, 16507.5, 16497.0, 16497.5, 108.656),\n (1669716300000, 16497.5, 16497.5, 16491.0, 16491.5, 58.424),\n (1669716360000, 16491.5, 16494.5, 16478.5, 16481.0, 535.626),\n (1669716420000, 16481.0, 16485.0, 16480.5, 16484.0, 47.88),\n (1669716480000, 16484.0, 16486.5, 16484.0, 16486.5, 34.49),\n (1669716540000, 16486.5, 16492.5, 16486.0, 16492.0, 39.36),\n (1669716600000, 16492.0, 16495.5, 16492.0, 16495.0, 36.868),\n (1669716660000, 16495.0, 16497.5, 16495.0, 16497.5, 40.693),\n (1669716720000, 16497.5, 16497.5, 16497.0, 16497.5, 23.662),\n (1669716780000, 16497.5, 16497.5, 16496.0, 16496.5, 27.034),\n (1669716840000, 16496.5, 16496.5, 16496.0, 16496.5, 7.32),\n (1669716900000, 16496.5, 16496.5, 16496.0, 16496.5, 13.61),\n (1669716960000, 16496.5, 16496.5, 16496.0, 16496.5, 28.57),\n (1669717020000, 16496.5, 16496.5, 16493.0, 16493.5, 35.402),\n (1669717080000, 16493.5, 16493.5, 16488.0, 16488.5, 44.3),\n (1669717140000, 16488.5, 16488.5, 16481.0, 16481.0, 77.461),\n (1669717200000, 16481.0, 16481.5, 16481.0, 16481.5, 173.34),\n (1669717260000, 16481.5, 16482.0, 16481.0, 16482.0, 37.398),\n (1669717320000, 16482.0, 16482.0, 16481.5, 16481.5, 19.017),\n (1669717380000, 16481.5, 16482.0, 16481.0, 16481.0, 24.595),\n (1669717440000, 16481.0, 16481.5, 16478.0, 16478.0, 61.514),\n (1669717500000, 16478.0, 16478.5, 16478.0, 16478.0, 17.309),\n (1669717560000, 16478.0, 16478.5, 16478.0, 16478.0, 15.787),\n (1669717620000, 16478.0, 16484.0, 16478.0, 16484.0, 85.804),\n (1669717680000, 16484.0, 16484.0, 16483.5, 16483.5, 33.415),\n (1669717740000, 16483.5, 16487.0, 16483.5, 16487.0, 37.463),\n (1669717800000, 16487.0, 16491.0, 16486.5, 16491.0, 78.815),\n (1669717860000, 16491.0, 16493.5, 16488.0, 16488.5, 126.921),\n (1669717920000, 16488.5, 16488.5, 16486.5, 16486.5, 35.51),\n (1669717980000, 16486.5, 16490.0, 16486.5, 16490.0, 17.031),\n (1669718040000, 16490.0, 16491.0, 16489.5, 16491.0, 14.157),\n (1669718100000, 16491.0, 16493.0, 16490.5, 16493.0, 46.185),\n (1669718160000, 16493.0, 16494.5, 16492.5, 16494.5, 34.258),\n (1669718220000, 16494.5, 16500.0, 16494.0, 16500.0, 43.267),\n (1669718280000, 16500.0, 16500.0, 16496.5, 16496.5, 23.973),\n (1669718340000, 16496.5, 16497.0, 16496.5, 16497.0, 32.856),\n (1669718400000, 16497.0, 16497.0, 16496.5, 16497.0, 36.496),\n (1669718460000, 16497.0, 16499.5, 16496.5, 16499.5, 12.39),\n (1669718520000, 16499.5, 16499.5, 16499.0, 16499.5, 37.41),\n (1669718580000, 16499.5, 16505.0, 16499.0, 16502.0, 81.5),\n (1669718640000, 16502.0, 16502.5, 16499.0, 16499.5, 61.714),\n (1669718700000, 16499.5, 16499.5, 16497.5, 16498.0, 33.108),\n (1669718760000, 16498.0, 16500.0, 16497.5, 16500.0, 35.69),\n (1669718820000, 16500.0, 16512.5, 16499.5, 16512.0, 136.913),\n (1669718880000, 16512.0, 16512.5, 16512.0, 16512.0, 77.429),\n (1669718940000, 16512.0, 16512.5, 16505.5, 16505.5, 50.616),\n (1669719000000, 16505.5, 16511.5, 16505.5, 16511.0, 29.106),\n (1669719060000, 16511.0, 16511.5, 16510.5, 16511.0, 64.71),\n (1669719120000, 16511.0, 16511.0, 16505.0, 16505.5, 72.567),\n (1669719180000, 16505.5, 16505.5, 16499.5, 16500.0, 34.128),\n (1669719240000, 16500.0, 16500.0, 16499.5, 16499.5, 14.672),\n (1669719300000, 16499.5, 16500.0, 16499.5, 16500.0, 8.111),\n (1669719360000, 16500.0, 16504.0, 16499.5, 16503.5, 59.457),\n (1669719420000, 16503.5, 16504.0, 16495.0, 16498.5, 108.619),\n (1669719480000, 16498.5, 16499.0, 16498.5, 16498.5, 29.395),\n (1669719540000, 16498.5, 16499.0, 16487.5, 16488.0, 127.166),\n (1669719600000, 16488.0, 16491.0, 16488.0, 16490.5, 66.461),\n (1669719660000, 16490.5, 16493.0, 16490.5, 16493.0, 33.547),\n (1669719720000, 16493.0, 16493.0, 16492.5, 16493.0, 6.746),\n (1669719780000, 16493.0, 16493.0, 16489.0, 16489.5, 15.137),\n (1669719840000, 16489.5, 16489.5, 16489.0, 16489.0, 18.256),\n (1669719900000, 16489.0, 16489.5, 16489.0, 16489.0, 6.717),\n (1669719960000, 16489.0, 16491.5, 16487.5, 16491.5, 95.682),\n (1669720020000, 16491.5, 16494.5, 16491.0, 16494.5, 40.556),\n (1669720080000, 16494.5, 16496.5, 16494.0, 16496.5, 12.938),\n (1669720140000, 16496.5, 16496.5, 16496.0, 16496.0, 6.894),\n (1669720200000, 16496.0, 16496.5, 16495.5, 16496.0, 78.144),\n (1669720260000, 16496.0, 16496.0, 16495.5, 16496.0, 7.359),\n (1669720320000, 16496.0, 16496.0, 16495.5, 16496.0, 5.293),\n (1669720380000, 16496.0, 16496.0, 16495.5, 16495.5, 18.913),\n (1669720440000, 16495.5, 16502.0, 16495.5, 16502.0, 54.103),\n (1669720500000, 16502.0, 16502.0, 16501.5, 16501.5, 20.598),\n (1669720560000, 16501.5, 16502.0, 16501.5, 16501.5, 31.605),\n (1669720620000, 16501.5, 16502.0, 16501.5, 16502.0, 30.127),\n (1669720680000, 16502.0, 16502.0, 16501.5, 16502.0, 18.439),\n (1669720740000, 16502.0, 16502.0, 16501.0, 16501.5, 60.315),\n (1669720800000, 16501.5, 16505.0, 16498.5, 16505.0, 36.051),\n (1669720860000, 16505.0, 16516.5, 16504.5, 16516.5, 135.791),\n (1669720920000, 16516.5, 16519.0, 16516.0, 16519.0, 92.908),\n (1669720980000, 16519.0, 16533.0, 16513.0, 16513.0, 381.246),\n (1669721040000, 16513.0, 16513.5, 16507.5, 16508.0, 57.584),\n (1669721100000, 16508.0, 16508.0, 16505.5, 16505.5, 56.679),\n (1669721160000, 16505.5, 16506.0, 16499.5, 16499.5, 59.157),\n (1669721220000, 16499.5, 16500.0, 16496.0, 16496.0, 66.21),\n (1669721280000, 16496.0, 16500.0, 16496.0, 16500.0, 53.879),\n (1669721340000, 16500.0, 16500.0, 16493.5, 16493.5, 114.945),\n (1669721400000, 16493.5, 16497.0, 16493.5, 16497.0, 14.543),\n (1669721460000, 16497.0, 16500.0, 16496.5, 16498.5, 63.595),\n (1669721520000, 16498.5, 16502.0, 16498.5, 16499.0, 18.86),\n (1669721580000, 16499.0, 16499.0, 16498.5, 16498.5, 33.035),\n (1669721640000, 16498.5, 16499.0, 16498.5, 16499.0, 35.86),\n (1669721700000, 16499.0, 16511.0, 16498.5, 16509.0, 54.83),\n (1669721760000, 16509.0, 16509.0, 16502.5, 16502.5, 44.226),\n (1669721820000, 16502.5, 16506.0, 16502.5, 16503.0, 25.847),\n (1669721880000, 16503.0, 16503.0, 16500.0, 16500.5, 10.447),\n (1669721940000, 16500.5, 16500.5, 16499.5, 16500.0, 18.319),\n (1669722000000, 16500.0, 16500.0, 16499.5, 16500.0, 11.332),\n (1669722060000, 16500.0, 16500.0, 16499.5, 16500.0, 8.298),\n (1669722120000, 16500.0, 16500.0, 16492.0, 16492.0, 64.128),\n (1669722180000, 16492.0, 16492.5, 16487.5, 16487.5, 147.794),\n (1669722240000, 16487.5, 16488.0, 16476.5, 16486.0, 229.059),\n (1669722300000, 16486.0, 16488.0, 16484.0, 16484.5, 40.861),\n (1669722360000, 16484.5, 16484.5, 16483.0, 16483.0, 32.212),\n (1669722420000, 16483.0, 16483.5, 16480.5, 16480.5, 68.526),\n (1669722480000, 16480.5, 16481.5, 16480.5, 16481.5, 62.105),\n (1669722540000, 16481.5, 16481.5, 16479.5, 16479.5, 22.644),\n (1669722600000, 16479.5, 16486.5, 16479.5, 16486.5, 58.767),\n (1669722660000, 16486.5, 16488.0, 16486.0, 16488.0, 22.959),\n (1669722720000, 16488.0, 16488.0, 16487.5, 16487.5, 6.695),\n (1669722780000, 16487.5, 16491.0, 16487.5, 16491.0, 27.523),\n (1669722840000, 16491.0, 16491.0, 16486.0, 16486.5, 21.821),\n (1669722900000, 16486.5, 16488.0, 16481.5, 16481.5, 46.517),\n (1669722960000, 16481.5, 16485.0, 16481.5, 16485.0, 124.215),\n (1669723020000, 16485.0, 16485.0, 16484.5, 16485.0, 40.133),\n (1669723080000, 16485.0, 16485.0, 16482.5, 16482.5, 42.174),\n (1669723140000, 16482.5, 16483.0, 16482.5, 16482.5, 40.232),\n (1669723200000, 16482.5, 16483.0, 16482.0, 16482.5, 36.507),\n (1669723260000, 16482.5, 16482.5, 16479.0, 16479.0, 84.105),\n (1669723320000, 16479.0, 16479.5, 16477.0, 16477.0, 44.215),\n (1669723380000, 16477.0, 16477.5, 16477.0, 16477.5, 16.328),\n (1669723440000, 16477.5, 16477.5, 16474.0, 16474.0, 45.133),\n (1669723500000, 16474.0, 16483.0, 16474.0, 16483.0, 59.111),\n (1669723560000, 16483.0, 16486.5, 16483.0, 16486.5, 37.413),\n (1669723620000, 16486.5, 16491.5, 16486.0, 16491.5, 52.985),\n (1669723680000, 16491.5, 16494.0, 16491.0, 16493.0, 34.117),\n (1669723740000, 16493.0, 16493.0, 16477.5, 16477.5, 65.269),\n (1669723800000, 16477.5, 16478.0, 16476.5, 16477.0, 23.782),\n (1669723860000, 16477.0, 16477.0, 16473.0, 16473.0, 22.184),\n (1669723920000, 16473.0, 16473.5, 16472.0, 16472.5, 25.277),\n (1669723980000, 16472.5, 16472.5, 16465.5, 16468.5, 168.33),\n (1669724040000, 16468.5, 16468.5, 16457.5, 16458.0, 187.882),\n (1669724100000, 16458.0, 16468.5, 16457.5, 16468.5, 94.897),\n (1669724160000, 16468.5, 16473.0, 16468.0, 16473.0, 44.333),\n (1669724220000, 16473.0, 16473.0, 16470.5, 16471.0, 75.87),\n (1669724280000, 16471.0, 16472.5, 16471.0, 16472.0, 35.148),\n (1669724340000, 16472.0, 16472.5, 16472.0, 16472.0, 13.184),\n (1669724400000, 16472.0, 16477.5, 16472.0, 16477.5, 31.458),\n (1669724460000, 16477.5, 16485.0, 16477.0, 16485.0, 66.625),\n (1669724520000, 16485.0, 16489.0, 16484.5, 16489.0, 36.618),\n (1669724580000, 16489.0, 16489.0, 16488.5, 16489.0, 16.507),\n (1669724640000, 16489.0, 16489.0, 16487.5, 16488.0, 38.538),\n (1669724700000, 16488.0, 16488.0, 16483.0, 16483.0, 31.552),\n (1669724760000, 16483.0, 16483.5, 16483.0, 16483.5, 12.054),\n (1669724820000, 16483.5, 16483.5, 16483.0, 16483.5, 15.451),\n (1669724880000, 16483.5, 16483.5, 16483.0, 16483.5, 22.427),\n (1669724940000, 16483.5, 16483.5, 16480.0, 16480.5, 17.07),\n (1669725000000, 16480.5, 16484.5, 16480.0, 16484.5, 26.697),\n (1669725060000, 16484.5, 16486.5, 16472.0, 16472.5, 43.636),\n (1669725120000, 16472.5, 16472.5, 16469.0, 16471.5, 65.369),\n (1669725180000, 16471.5, 16478.0, 16471.5, 16478.0, 25.597),\n (1669725240000, 16478.0, 16478.0, 16474.5, 16475.0, 19.243),\n (1669725300000, 16475.0, 16475.0, 16474.5, 16475.0, 3.057),\n (1669725360000, 16475.0, 16475.0, 16474.5, 16475.0, 3.383),\n (1669725420000, 16475.0, 16475.0, 16473.0, 16473.5, 12.408),\n (1669725480000, 16473.5, 16473.5, 16473.0, 16473.5, 12.486),\n (1669725540000, 16473.5, 16473.5, 16470.5, 16471.0, 15.853),\n (1669725600000, 16471.0, 16471.0, 16468.0, 16468.5, 20.302),\n (1669725660000, 16468.5, 16468.5, 16468.0, 16468.5, 9.494),\n (1669725720000, 16468.5, 16468.5, 16464.0, 16464.5, 41.962),\n (1669725780000, 16464.5, 16465.0, 16462.0, 16465.0, 30.231),\n (1669725840000, 16465.0, 16468.0, 16464.5, 16468.0, 34.064),\n (1669725900000, 16468.0, 16473.5, 16467.5, 16472.5, 68.01),\n (1669725960000, 16472.5, 16472.5, 16466.0, 16466.5, 40.715),\n (1669726020000, 16466.5, 16468.0, 16466.0, 16468.0, 12.091),\n (1669726080000, 16468.0, 16470.5, 16467.5, 16470.0, 20.297),\n (1669726140000, 16470.0, 16472.0, 16469.0, 16469.5, 37.674),\n (1669726200000, 16469.5, 16469.5, 16469.0, 16469.0, 12.808),\n (1669726260000, 16469.0, 16469.5, 16469.0, 16469.5, 18.231),\n (1669726320000, 16469.5, 16469.5, 16469.0, 16469.5, 4.983),\n (1669726380000, 16469.5, 16469.5, 16469.0, 16469.5, 24.954),\n (1669726440000, 16469.5, 16469.5, 16469.0, 16469.5, 10.312),\n (1669726500000, 16469.5, 16469.5, 16468.0, 16468.5, 34.106),\n (1669726560000, 16468.5, 16468.5, 16468.0, 16468.0, 40.657),\n (1669726620000, 16468.0, 16468.5, 16468.0, 16468.5, 5.542),\n (1669726680000, 16468.5, 16471.5, 16468.0, 16471.5, 126.799),\n (1669726740000, 16471.5, 16474.0, 16471.5, 16473.5, 58.579),\n (1669726800000, 16473.5, 16476.0, 16473.5, 16474.0, 163.415),\n (1669726860000, 16474.0, 16474.5, 16474.0, 16474.5, 9.548),\n (1669726920000, 16474.5, 16477.0, 16474.0, 16476.5, 15.038),\n (1669726980000, 16476.5, 16477.0, 16474.0, 16474.5, 18.731),\n (1669727040000, 16474.5, 16474.5, 16472.5, 16472.5, 14.959),\n (1669727100000, 16472.5, 16473.0, 16472.5, 16472.5, 8.19),\n (1669727160000, 16472.5, 16473.0, 16458.0, 16463.5, 99.717),\n (1669727220000, 16463.5, 16465.5, 16459.5, 16459.5, 58.821),\n (1669727280000, 16459.5, 16465.0, 16459.5, 16462.0, 32.734),\n (1669727340000, 16462.0, 16464.5, 16461.5, 16464.0, 43.305),\n (1669727400000, 16464.0, 16470.5, 16464.0, 16468.0, 28.583),\n (1669727460000, 16468.0, 16468.0, 16458.0, 16458.5, 115.51),\n (1669727520000, 16458.5, 16458.5, 16455.0, 16455.0, 53.274),\n (1669727580000, 16455.0, 16455.5, 16453.0, 16453.0, 44.5),\n (1669727640000, 16453.0, 16458.0, 16453.0, 16458.0, 38.893),\n (1669727700000, 16458.0, 16462.0, 16457.5, 16462.0, 42.235),\n (1669727760000, 16462.0, 16462.0, 16461.5, 16462.0, 41.061),\n (1669727820000, 16462.0, 16462.0, 16455.0, 16455.5, 49.024),\n (1669727880000, 16455.5, 16455.5, 16448.5, 16449.0, 114.142),\n (1669727940000, 16449.0, 16453.5, 16448.5, 16453.0, 80.549),\n (1669728000000, 16453.0, 16464.0, 16453.0, 16463.5, 90.636),\n (1669728060000, 16463.5, 16463.5, 16460.0, 16460.5, 32.272),\n (1669728120000, 16460.5, 16460.5, 16460.0, 16460.5, 28.74),\n (1669728180000, 16460.5, 16460.5, 16460.0, 16460.5, 0.304))"
     },
     "execution_count": 11,
     "metadata": {},
     "output_type": "execute_result"
    }
   ],
   "source": [
    "from psg.store_db import fetch_candles_from_db\n",
    "\n",
    "fetch_candles_from_db(\"bybit\",\"BTC/USDT:USDT\", \"1m\", 0, 15000000000000000000)"
   ],
   "metadata": {
    "collapsed": false,
    "pycharm": {
     "name": "#%%\n"
    }
   }
  },
  {
   "cell_type": "markdown",
   "source": [],
   "metadata": {
    "collapsed": false,
    "pycharm": {
     "name": "#%% md\n"
    }
   }
  },
  {
   "cell_type": "markdown",
   "source": [
    "Test Postgres"
   ],
   "metadata": {
    "collapsed": false,
    "pycharm": {
     "name": "#%% md\n"
    }
   }
  },
  {
   "cell_type": "code",
   "execution_count": null,
   "outputs": [],
   "source": [
    "def fetch_candles_from_db(exchange: str, symbol: str, timeframe: str, start_date: int, finish_date: int) -> tuple:\n",
    "    from .candles import Candle\n",
    "\n",
    "    res = tuple(\n",
    "        Candle.select(\n",
    "            Candle.timestamp, Candle.open, Candle.close, Candle.high, Candle.low,\n",
    "            Candle.volume\n",
    "        ).where(\n",
    "            Candle.exchange == exchange,\n",
    "            Candle.symbol == symbol,\n",
    "            Candle.timeframe == timeframe,\n",
    "            Candle.timestamp.between(start_date, finish_date)\n",
    "        ).order_by(Candle.timestamp.asc()).tuples()\n",
    "    )\n",
    "\n",
    "    return res"
   ],
   "metadata": {
    "collapsed": false,
    "pycharm": {
     "name": "#%%\n"
    }
   }
  },
  {
   "cell_type": "code",
   "execution_count": 7,
   "outputs": [
    {
     "data": {
      "text/plain": "()"
     },
     "execution_count": 7,
     "metadata": {},
     "output_type": "execute_result"
    }
   ],
   "source": [
    "from Backtester.database.streamer import Candles\n",
    "\n",
    "cs = Candles()\n",
    "cs.fetch_x(\"15m\")\n"
   ],
   "metadata": {
    "collapsed": false,
    "pycharm": {
     "name": "#%%\n"
    }
   }
  },
  {
   "cell_type": "code",
   "execution_count": 12,
   "outputs": [
    {
     "data": {
      "text/plain": "498"
     },
     "execution_count": 12,
     "metadata": {},
     "output_type": "execute_result"
    }
   ],
   "source": [
    "from Backtester.database.models.candle import Candle\n",
    "from peewee import *\n",
    "end = 1669728180000\n",
    "start = 1669698360000\n",
    "\n",
    "Candle.select().where(Candle.exchange == \"bybit\", Candle.symbol == \"BTC/USDT:USDT\", Candle.timeframe == \"1m\", Candle.timestamp.between(start, end)).count()"
   ],
   "metadata": {
    "collapsed": false,
    "pycharm": {
     "name": "#%%\n"
    }
   }
  },
  {
   "cell_type": "code",
   "execution_count": 47,
   "outputs": [],
   "source": [
    "a = [[1,2,3,4],[10,20,30,40]]\n",
    "b = [[\"a\", \"b\", \"c\", \"d\"]]"
   ],
   "metadata": {
    "collapsed": false,
    "pycharm": {
     "name": "#%%\n"
    }
   }
  },
  {
   "cell_type": "code",
   "execution_count": 48,
   "outputs": [],
   "source": [
    "a += []"
   ],
   "metadata": {
    "collapsed": false,
    "pycharm": {
     "name": "#%%\n"
    }
   }
  },
  {
   "cell_type": "code",
   "execution_count": 51,
   "outputs": [
    {
     "data": {
      "text/plain": "[[1, 2, 3, 4], [10, 20, 30, 40]]"
     },
     "execution_count": 51,
     "metadata": {},
     "output_type": "execute_result"
    }
   ],
   "source": [
    "c = []\n",
    "\n",
    "c += a\n",
    "c"
   ],
   "metadata": {
    "collapsed": false,
    "pycharm": {
     "name": "#%%\n"
    }
   }
  },
  {
   "cell_type": "code",
   "execution_count": 31,
   "outputs": [],
   "source": [
    "\n",
    "\n",
    "def fetch_x(timeframe):\n",
    "    res = (Candle\n",
    "                .select(Candle.symbol, fn.MAX(Candle.timestamp), fn.MIN(Candle.timestamp))\n",
    "                .where(Candle.timeframe == timeframe)\n",
    "                .group_by(Candle.symbol)\n",
    "                .order_by(Candle.symbol).tuples()\n",
    "    )\n",
    "    return res\n"
   ],
   "metadata": {
    "collapsed": false,
    "pycharm": {
     "name": "#%%\n"
    }
   }
  },
  {
   "cell_type": "code",
   "execution_count": 32,
   "outputs": [
    {
     "data": {
      "text/plain": "[['AAVE/USDT:USDT', 1669728180000, 1669698360000],\n ['ADA/USDT:USDT', 1669728180000, 1669698360000],\n ['APE/USDT:USDT', 1669728180000, 1669698360000],\n ['APT/USDT:USDT', 1669728180000, 1669698360000],\n ['ATOM/USDT:USDT', 1669728180000, 1669698360000],\n ['AVAX/USDT:USDT', 1669728180000, 1669698360000],\n ['AXS/USDT:USDT', 1669728180000, 1669698360000],\n ['BAND/USDT:USDT', 1669728180000, 1669698360000],\n ['BNB/USDT:USDT', 1669728180000, 1669698360000],\n ['BTC/USDT:USDT', 1669728180000, 1669698360000],\n ['CELO/USDT:USDT', 1669728180000, 1669698360000],\n ['CHZ/USDT:USDT', 1669728180000, 1669698360000],\n ['CRV/USDT:USDT', 1669728180000, 1669698360000],\n ['DOGE/USDT:USDT', 1669728180000, 1669698360000],\n ['DOT/USDT:USDT', 1669728180000, 1669698360000],\n ['DYDX/USDT:USDT', 1669728180000, 1669698360000],\n ['ETC/USDT:USDT', 1669728180000, 1669698360000],\n ['ETH/USDT:USDT', 1669728180000, 1669698360000],\n ['FITFI/USDT:USDT', 1669728180000, 1669698360000],\n ['FTM/USDT:USDT', 1669728180000, 1669698360000],\n ['GMT/USDT:USDT', 1669728180000, 1669698360000],\n ['INJ/USDT:USDT', 1669728180000, 1669698360000],\n ['LINK/USDT:USDT', 1669728180000, 1669698360000],\n ['LTC/USDT:USDT', 1669728180000, 1669698360000],\n ['MASK/USDT:USDT', 1669728180000, 1669698360000],\n ['MATIC/USDT:USDT', 1669728180000, 1669698360000],\n ['NEAR/USDT:USDT', 1669728180000, 1669698360000],\n ['OP/USDT:USDT', 1669728180000, 1669698360000],\n ['REN/USDT:USDT', 1669728180000, 1669698360000],\n ['SAND/USDT:USDT', 1669728180000, 1669698360000],\n ['SHIB1000/USDT:USDT', 1669728180000, 1669698360000],\n ['SOL/USDT:USDT', 1669728180000, 1669698360000],\n ['SUSHI/USDT:USDT', 1669728180000, 1669698360000],\n ['TRB/USDT:USDT', 1669728180000, 1669698360000],\n ['TRX/USDT:USDT', 1669728180000, 1669698360000],\n ['TWT/USDT:USDT', 1669728180000, 1669698360000],\n ['UNFI/USDT:USDT', 1669728180000, 1669698360000],\n ['WAVES/USDT:USDT', 1669728180000, 1669698360000],\n ['XRP/USDT:USDT', 1669728180000, 1669698360000]]"
     },
     "execution_count": 32,
     "metadata": {},
     "output_type": "execute_result"
    }
   ],
   "source": [
    "[list(e) for e in list(fetch_x(\"1m\"))]"
   ],
   "metadata": {
    "collapsed": false,
    "pycharm": {
     "name": "#%%\n"
    }
   }
  },
  {
   "cell_type": "markdown",
   "source": [],
   "metadata": {
    "collapsed": false,
    "pycharm": {
     "name": "#%% md\n"
    }
   }
  },
  {
   "cell_type": "code",
   "execution_count": 21,
   "outputs": [],
   "source": [
    "from Backtester.database.client import get_database\n",
    "\n",
    "def create_ts(db_name: str ,timeframe: str):\n",
    "    import pymongo\n",
    "    db = get_database(db_name)\n",
    "    try:\n",
    "        db.create_collection(\n",
    "            timeframe,\n",
    "            timeseries= {\n",
    "                \"timeField\": \"timestamp\",\n",
    "                \"metaField\": \"symbol\",\n",
    "                \"granularity\": \"seconds\"\n",
    "            }\n",
    "        )\n",
    "    except pymongo.errors.CollectionInvalid as e:\n",
    "        print(f\"{e}. Continuing\")\n",
    "    return db[timeframe]\n",
    "\n",
    "\n",
    "\n"
   ],
   "metadata": {
    "collapsed": false,
    "pycharm": {
     "name": "#%%\n"
    }
   }
  },
  {
   "cell_type": "markdown",
   "source": [
    "creating an collection"
   ],
   "metadata": {
    "collapsed": false,
    "pycharm": {
     "name": "#%% md\n"
    }
   }
  },
  {
   "cell_type": "markdown",
   "source": [],
   "metadata": {
    "collapsed": false,
    "pycharm": {
     "name": "#%% md\n"
    }
   }
  },
  {
   "cell_type": "code",
   "execution_count": 9,
   "outputs": [],
   "source": [
    "db = get_database(\"tick_data\")"
   ],
   "metadata": {
    "collapsed": false,
    "pycharm": {
     "name": "#%%\n"
    }
   }
  },
  {
   "cell_type": "code",
   "execution_count": 10,
   "outputs": [
    {
     "data": {
      "text/plain": "Collection(Database(MongoClient(host=['ac-yqgvwsw-shard-00-00.0ekoew2.mongodb.net:27017', 'ac-yqgvwsw-shard-00-02.0ekoew2.mongodb.net:27017', 'ac-yqgvwsw-shard-00-01.0ekoew2.mongodb.net:27017'], document_class=dict, tz_aware=False, connect=True, retrywrites=True, w='majority', authsource='admin', replicaset='atlas-12ehtl-shard-0', tls=True), 'tick_data'), 'btc_60')"
     },
     "execution_count": 10,
     "metadata": {},
     "output_type": "execute_result"
    }
   ],
   "source": [
    "db.btc_60"
   ],
   "metadata": {
    "collapsed": false,
    "pycharm": {
     "name": "#%%\n"
    }
   }
  },
  {
   "cell_type": "code",
   "execution_count": 8,
   "outputs": [],
   "source": [
    "from Risso.markets.market_manager import MarketManager\n",
    "\n",
    "mm = MarketManager()\n",
    "data = mm.get_klines()"
   ],
   "metadata": {
    "collapsed": false,
    "pycharm": {
     "name": "#%%\n"
    }
   }
  },
  {
   "cell_type": "code",
   "execution_count": 13,
   "outputs": [],
   "source": [
    "args = cs.fetch_x(\"1m\")[0]"
   ],
   "metadata": {
    "collapsed": false,
    "pycharm": {
     "name": "#%%\n"
    }
   }
  },
  {
   "cell_type": "code",
   "execution_count": 16,
   "outputs": [
    {
     "data": {
      "text/plain": "array([[1.66978482e+12, 1.68700000e+04, 1.68700000e+04, 1.68675000e+04,\n        1.68675000e+04, 2.00150000e+01],\n       [1.66978488e+12, 1.68675000e+04, 1.68680000e+04, 1.68675000e+04,\n        1.68675000e+04, 5.02900000e+00],\n       [1.66978494e+12, 1.68675000e+04, 1.68680000e+04, 1.68670000e+04,\n        1.68675000e+04, 1.01920000e+01],\n       ...,\n       [1.66981452e+12, 1.68535000e+04, 1.68635000e+04, 1.68535000e+04,\n        1.68630000e+04, 7.61920000e+01],\n       [1.66981458e+12, 1.68630000e+04, 1.68880000e+04, 1.68630000e+04,\n        1.68880000e+04, 3.71046000e+02],\n       [1.66981464e+12, 1.68880000e+04, 1.68880000e+04, 1.68780000e+04,\n        1.68815000e+04, 1.66559000e+02]])"
     },
     "execution_count": 16,
     "metadata": {},
     "output_type": "execute_result"
    }
   ],
   "source": [
    "cs.fetch(\"bybit\", \"BTC/USDT:USDT\", \"1m\", args[2], args[1])"
   ],
   "metadata": {
    "collapsed": false,
    "pycharm": {
     "name": "#%%\n"
    }
   }
  },
  {
   "cell_type": "code",
   "execution_count": 17,
   "outputs": [],
   "source": [
    "for (s, tx), v in data.items():\n",
    "    cs.store(\"bybit\", s, tx, v)"
   ],
   "metadata": {
    "collapsed": false,
    "pycharm": {
     "name": "#%%\n"
    }
   }
  },
  {
   "cell_type": "code",
   "execution_count": 15,
   "outputs": [],
   "source": [
    "ts = data[('ATOM/USDT:USDT', '1m')][0][0]"
   ],
   "metadata": {
    "collapsed": false,
    "pycharm": {
     "name": "#%%\n"
    }
   }
  },
  {
   "cell_type": "code",
   "execution_count": 18,
   "outputs": [
    {
     "data": {
      "text/plain": "datetime.datetime(2022, 11, 28, 9, 9)"
     },
     "execution_count": 18,
     "metadata": {},
     "output_type": "execute_result"
    }
   ],
   "source": [
    "import datetime\n",
    "datetime.datetime.fromtimestamp(ts/1000)"
   ],
   "metadata": {
    "collapsed": false,
    "pycharm": {
     "name": "#%%\n"
    }
   }
  },
  {
   "cell_type": "code",
   "execution_count": 1,
   "outputs": [],
   "source": [
    "import numpy as np\n",
    "\n",
    "l = [0,1,2,3,4,5]\n",
    "ls = [l]\n",
    "a = np.array(l)\n",
    "ar = np.array(ls)\n",
    "\n",
    "\n",
    "\n"
   ],
   "metadata": {
    "collapsed": false,
    "pycharm": {
     "name": "#%%\n"
    }
   }
  },
  {
   "cell_type": "code",
   "execution_count": 6,
   "outputs": [
    {
     "data": {
      "text/plain": "2"
     },
     "execution_count": 6,
     "metadata": {},
     "output_type": "execute_result"
    }
   ],
   "source": [
    "np.ndim(ar)"
   ],
   "metadata": {
    "collapsed": false,
    "pycharm": {
     "name": "#%%\n"
    }
   }
  },
  {
   "cell_type": "code",
   "execution_count": 26,
   "outputs": [
    {
     "data": {
      "text/plain": "1670105504.6583946"
     },
     "execution_count": 26,
     "metadata": {},
     "output_type": "execute_result"
    }
   ],
   "source": [
    "import time\n",
    "\n",
    "time.time()"
   ],
   "metadata": {
    "collapsed": false,
    "pycharm": {
     "name": "#%%\n"
    }
   }
  },
  {
   "cell_type": "code",
   "execution_count": 35,
   "outputs": [
    {
     "data": {
      "text/plain": "1577836800000.0"
     },
     "execution_count": 35,
     "metadata": {},
     "output_type": "execute_result"
    }
   ],
   "source": [
    "import pandas as pd\n",
    "\n",
    "string = \"2020-01-01 00:00:00\"\n",
    "pd.to_datetime(string).timestamp()*1000"
   ],
   "metadata": {
    "collapsed": false,
    "pycharm": {
     "name": "#%%\n"
    }
   }
  },
  {
   "cell_type": "code",
   "execution_count": 22,
   "outputs": [
    {
     "name": "stdout",
     "output_type": "stream",
     "text": [
      "collection 1m already exists. Continuing\n",
      "collection 1m already exists. Continuing\n",
      "collection 1m already exists. Continuing\n",
      "collection 1m already exists. Continuing\n",
      "collection 1m already exists. Continuing\n",
      "failed: AVAX/USDT:USDT, 1m\n",
      "failed: AXS/USDT:USDT, 1m\n",
      "collection 1m already exists. Continuing\n",
      "collection 1m already exists. Continuing\n",
      "collection 1m already exists. Continuing\n",
      "collection 1m already exists. Continuing\n",
      "collection 1m already exists. Continuing\n",
      "collection 1m already exists. Continuing\n",
      "collection 1m already exists. Continuing\n",
      "collection 1m already exists. Continuing\n",
      "collection 1m already exists. Continuing\n",
      "collection 1m already exists. Continuing\n",
      "collection 1m already exists. Continuing\n",
      "collection 1m already exists. Continuing\n",
      "collection 1m already exists. Continuing\n",
      "collection 1m already exists. Continuing\n",
      "collection 1m already exists. Continuing\n",
      "collection 1m already exists. Continuing\n",
      "collection 1m already exists. Continuing\n",
      "collection 1m already exists. Continuing\n",
      "collection 1m already exists. Continuing\n",
      "collection 1m already exists. Continuing\n",
      "collection 1m already exists. Continuing\n",
      "collection 1m already exists. Continuing\n",
      "collection 1m already exists. Continuing\n",
      "collection 1m already exists. Continuing\n",
      "collection 1m already exists. Continuing\n",
      "collection 1m already exists. Continuing\n",
      "collection 1m already exists. Continuing\n",
      "collection 1m already exists. Continuing\n",
      "collection 1m already exists. Continuing\n",
      "collection 1m already exists. Continuing\n",
      "collection 1m already exists. Continuing\n",
      "collection 1m already exists. Continuing\n",
      "collection 1m already exists. Continuing\n",
      "collection 15m already exists. Continuing\n",
      "collection 15m already exists. Continuing\n",
      "collection 15m already exists. Continuing\n",
      "failed: ATOM/USDT:USDT, 15m\n",
      "failed: AVAX/USDT:USDT, 15m\n",
      "failed: AXS/USDT:USDT, 15m\n",
      "collection 15m already exists. Continuing\n",
      "collection 15m already exists. Continuing\n",
      "collection 15m already exists. Continuing\n",
      "collection 15m already exists. Continuing\n",
      "collection 15m already exists. Continuing\n",
      "collection 15m already exists. Continuing\n",
      "collection 15m already exists. Continuing\n",
      "collection 15m already exists. Continuing\n",
      "collection 15m already exists. Continuing\n",
      "collection 15m already exists. Continuing\n",
      "failed: ETH/USDT:USDT, 15m\n",
      "failed: FITFI/USDT:USDT, 15m\n",
      "collection 15m already exists. Continuing\n",
      "collection 15m already exists. Continuing\n",
      "collection 15m already exists. Continuing\n",
      "collection 15m already exists. Continuing\n",
      "collection 15m already exists. Continuing\n",
      "collection 15m already exists. Continuing\n",
      "collection 15m already exists. Continuing\n",
      "collection 15m already exists. Continuing\n",
      "collection 15m already exists. Continuing\n",
      "collection 15m already exists. Continuing\n",
      "collection 15m already exists. Continuing\n",
      "collection 15m already exists. Continuing\n",
      "collection 15m already exists. Continuing\n",
      "collection 15m already exists. Continuing\n",
      "collection 15m already exists. Continuing\n",
      "collection 15m already exists. Continuing\n",
      "failed: TRX/USDT:USDT, 15m\n",
      "collection 15m already exists. Continuing\n",
      "collection 15m already exists. Continuing\n",
      "collection 15m already exists. Continuing\n",
      "collection 15m already exists. Continuing\n"
     ]
    }
   ],
   "source": [
    "import datetime\n",
    "for (sym, tx), v in data.items():\n",
    "    docs = []\n",
    "    for t in v:\n",
    "        d = {\n",
    "            \"timestamp\": datetime.datetime.fromtimestamp(t[0]/1000),\n",
    "            \"open\":t[1],\n",
    "            \"high\":t[2],\n",
    "            \"low\":t[3],\n",
    "            \"close\":t[4],\n",
    "            \"volume\":t[5],\n",
    "            \"symbol\":sym\n",
    "        }\n",
    "        docs.append(d)\n",
    "    try:\n",
    "        collection = create_ts(\"market_data\", tx)\n",
    "        collection.insert_many(docs)\n",
    "    except:\n",
    "        print(f\"failed: {sym}, {tx}\")"
   ],
   "metadata": {
    "collapsed": false,
    "pycharm": {
     "name": "#%%\n"
    }
   }
  },
  {
   "cell_type": "code",
   "execution_count": 5,
   "outputs": [],
   "source": [],
   "metadata": {
    "collapsed": false,
    "pycharm": {
     "name": "#%%\n"
    }
   }
  },
  {
   "cell_type": "code",
   "execution_count": 14,
   "outputs": [],
   "source": [
    "data = []\n",
    "\n",
    "for t in tick:\n",
    "    d = {\n",
    "        \"timestamp\":t[0]/1000,\n",
    "        \"open\":t[1],\n",
    "        \"high\":t[2],\n",
    "        \"low\":t[3],\n",
    "        \"close\":t[4],\n",
    "        \"volume\":t[5],\n",
    "        \"metadata\":{\"market\":symbol,\n",
    "                    \"exchange\":\"bybit\"}\n",
    "    }\n",
    "    data.append(d)\n"
   ],
   "metadata": {
    "collapsed": false,
    "pycharm": {
     "name": "#%%\n"
    }
   }
  },
  {
   "cell_type": "code",
   "execution_count": 16,
   "outputs": [],
   "source": [
    "for d in data:\n",
    "    collection.insert_one(d)"
   ],
   "metadata": {
    "collapsed": false,
    "pycharm": {
     "name": "#%%\n"
    }
   }
  },
  {
   "cell_type": "code",
   "execution_count": 12,
   "outputs": [
    {
     "data": {
      "text/plain": "Timestamp('2022-11-27 17:38:00')"
     },
     "execution_count": 12,
     "metadata": {},
     "output_type": "execute_result"
    }
   ],
   "source": [
    "import pandas as pd\n",
    "\n",
    "pd.to_datetime(tick[-1][0], unit=\"ms\")"
   ],
   "metadata": {
    "collapsed": false,
    "pycharm": {
     "name": "#%%\n"
    }
   }
  },
  {
   "cell_type": "code",
   "execution_count": 18,
   "outputs": [
    {
     "data": {
      "text/plain": "<pymongo.cursor.Cursor at 0x160dc2c6450>"
     },
     "execution_count": 18,
     "metadata": {},
     "output_type": "execute_result"
    }
   ],
   "source": [
    "collection.a"
   ],
   "metadata": {
    "collapsed": false,
    "pycharm": {
     "name": "#%%\n"
    }
   }
  },
  {
   "cell_type": "code",
   "execution_count": null,
   "outputs": [],
   "source": [],
   "metadata": {
    "collapsed": false,
    "pycharm": {
     "name": "#%%\n"
    }
   }
  },
  {
   "cell_type": "markdown",
   "source": [
    "# Candles Query"
   ],
   "metadata": {
    "collapsed": false,
    "pycharm": {
     "name": "#%% md\n"
    }
   }
  },
  {
   "cell_type": "code",
   "execution_count": null,
   "outputs": [],
   "source": [
    "\n",
    "async def query_candles_api(exchange: str, market: str, timeframe: str, start: int, end: int, exc_session=None):\n",
    "    import ccxt.async_support as ccxt\n",
    "    exc = getattr(ccxt, exchange)() if exc_session is None else exc_session\n",
    "    data = await exc.fetch_ohlcv(market, timeframe, start)\n",
    "    while data[-1][0] < end:\n",
    "        _data = await exc.fetch_ohlcv(market, timeframe, data[-1][0])\n",
    "        data.extend(_data)\n",
    "    return exchange, market, timeframe, data\n"
   ],
   "metadata": {
    "collapsed": false,
    "pycharm": {
     "name": "#%%\n"
    }
   }
  },
  {
   "cell_type": "code",
   "execution_count": null,
   "outputs": [],
   "source": [],
   "metadata": {
    "collapsed": false,
    "pycharm": {
     "name": "#%%\n"
    }
   }
  },
  {
   "cell_type": "code",
   "execution_count": 5,
   "outputs": [],
   "source": [
    "from typing import TypedDict\n",
    "\n",
    "class QueryCandles(TypedDict):\n",
    "    exchange: str\n",
    "    market: str\n",
    "    timeframe: str\n",
    "    start: int\n",
    "    end: int\n",
    "    limit: int\n",
    "\n",
    "\n"
   ],
   "metadata": {
    "collapsed": false,
    "pycharm": {
     "name": "#%%\n"
    }
   }
  },
  {
   "cell_type": "code",
   "execution_count": null,
   "outputs": [],
   "source": [
    "q = QueryCandles(\"bybit\", \"btc\", )"
   ],
   "metadata": {
    "collapsed": false,
    "pycharm": {
     "name": "#%%\n"
    }
   }
  },
  {
   "cell_type": "code",
   "execution_count": null,
   "outputs": [],
   "source": [
    "def timeframe_string_to_seconds(timeframe):\n",
    "    if timeframe.endswith(\"s\"):\n",
    "        t = int(timeframe[:-1])\n",
    "    elif timeframe.endswith(\"m\"):\n",
    "        t = int(timeframe[:-1])*60\n",
    "    elif timeframe.endswith(\"s\"):\n",
    "        t = int(timeframe[:-1])\n",
    "    elif timeframe.endswith(\"h\"):\n",
    "        t = int(timeframe[:-1])*60*60\n",
    "    elif timeframe.endswith(\"d\"):\n",
    "        t = int(timeframe[:-1])*60*60*24\n",
    "    return int(t*1000)"
   ],
   "metadata": {
    "collapsed": false,
    "pycharm": {
     "name": "#%%\n"
    }
   }
  },
  {
   "cell_type": "code",
   "execution_count": 21,
   "outputs": [],
   "source": [
    "def tx_in_ms(timeframe: str) -> int:\n",
    "    if timeframe.endswith(\"s\"):\n",
    "        t = int(timeframe[:-1])\n",
    "    elif timeframe.endswith(\"m\"):\n",
    "        t = int(timeframe[:-1])*60\n",
    "    elif timeframe.endswith(\"s\"):\n",
    "        t = int(timeframe[:-1])\n",
    "    elif timeframe.endswith(\"h\"):\n",
    "        t = int(timeframe[:-1])*60*60\n",
    "    elif timeframe.endswith(\"d\"):\n",
    "        t = int(timeframe[:-1])*60*60*24\n",
    "    return int(t*1000) if t > 0 else 1\n",
    "\n",
    "def get_timestamp():\n",
    "    \"\"\"TODO: dynamically route time source EXCHANGE or Backtest based on env\"\"\"\n",
    "    import time\n",
    "    return int(time.time())*1000\n",
    "\n",
    "def missing_limit(query) -> QueryCandles:\n",
    "    query[\"limit\"] = query[\"end\"] - query[\"start\"] / tx_in_ms(query[\"timeframe\"])\n",
    "    return query\n",
    "\n",
    "def missing_end(query) -> QueryCandles:\n",
    "    query[\"end\"] = query[\"start\"] + query[\"limit\"] * tx_in_ms(query[\"timeframe\"])\n",
    "    return query\n",
    "\n",
    "def missing_start(query) -> QueryCandles:\n",
    "    query[\"start\"] = query[\"end\"] - query[\"limit\"] * tx_in_ms(query[\"timeframe\"])\n",
    "    return query\n",
    "\n",
    "def missing_start_end(query) -> QueryCandles:\n",
    "    query[\"end\"] = get_timestamp()\n",
    "    return missing_start(query)\n",
    "\n",
    "def safe_query(query: dict) -> QueryCandles:\n",
    "    match query:\n",
    "        case {\"start\": int(), \"end\": int(), \"limit\": int()}:\n",
    "            return query\n",
    "        case {\"start\": int(), \"end\": int()}:\n",
    "            return missing_limit(query)\n",
    "        case {\"start\": int(), \"limit\": int()}:\n",
    "            return missing_end(query)\n",
    "        case {\"end\": int(), \"limit\": int()}:\n",
    "            return missing_start(query)\n",
    "        case {\"limit\": int()}:\n",
    "            return missing_start_end(query)\n",
    "        case _:\n",
    "            raise AttributeError(\"Insufficient query paramater. Please provide start | end | limit\")\n"
   ],
   "metadata": {
    "collapsed": false,
    "pycharm": {
     "name": "#%%\n"
    }
   }
  },
  {
   "cell_type": "code",
   "execution_count": 16,
   "outputs": [],
   "source": [
    "for query in queries[:-1]:\n",
    "    _queries = safe_query(query)"
   ],
   "metadata": {
    "collapsed": false,
    "pycharm": {
     "name": "#%%\n"
    }
   }
  },
  {
   "cell_type": "code",
   "execution_count": 4,
   "outputs": [],
   "source": [
    "_queries = [safe_query(query) for query in queries]"
   ],
   "metadata": {
    "collapsed": false,
    "pycharm": {
     "name": "#%%\n"
    }
   }
  },
  {
   "cell_type": "code",
   "execution_count": 5,
   "outputs": [
    {
     "data": {
      "text/plain": "[{'exchange': 'bybit',\n  'markets': 'BTC/USDT:USDT',\n  'timeframe': '1m',\n  'limit': 500,\n  'start': 1668776483000,\n  'end': 1668806483000},\n {'exchange': 'bybit',\n  'market': 'BTC/USDT:USDT',\n  'timeframe': '1m',\n  'limit': 500,\n  'end': 1669691997000,\n  'start': 1669661997000},\n {'exchange': 'bybit',\n  'market': 'BTC/USDT:USDT',\n  'timeframe': '1m',\n  'start': 1667485708000,\n  'end': 1667605708000,\n  'limit': 2000.0},\n {'exchange': 'bybit',\n  'market': 'BTC/USDT:USDT',\n  'timeframe': '1m',\n  'limit': 1000,\n  'end': 1670108236139,\n  'start': 1670048236139}]"
     },
     "execution_count": 5,
     "metadata": {},
     "output_type": "execute_result"
    }
   ],
   "source": [
    "_queries"
   ],
   "metadata": {
    "collapsed": false,
    "pycharm": {
     "name": "#%%\n"
    }
   }
  },
  {
   "cell_type": "code",
   "execution_count": 1,
   "outputs": [],
   "source": [
    "from Backtester.streamer.queries import safe_query, safe_queries\n",
    "from Backtester.time.time_utility import random_timestamp"
   ],
   "metadata": {
    "collapsed": false,
    "pycharm": {
     "name": "#%%\n"
    }
   }
  },
  {
   "cell_type": "code",
   "execution_count": 10,
   "outputs": [
    {
     "name": "stdout",
     "output_type": "stream",
     "text": [
      "1668776483000\n",
      "1669691997000\n",
      "1667605708000\n",
      "1668855294000\n",
      "1669738182000\n"
     ]
    }
   ],
   "source": [
    "start = \"2022-11-01\"\n",
    "end = \"2022-11-30\"\n",
    "\n",
    "ls = []\n",
    "for i in range(5):\n",
    "    r  = random_timestamp(start, end)\n",
    "    print(r)\n",
    "    ls += [r]\n"
   ],
   "metadata": {
    "collapsed": false,
    "pycharm": {
     "name": "#%%\n"
    }
   }
  },
  {
   "cell_type": "code",
   "execution_count": 12,
   "outputs": [
    {
     "data": {
      "text/plain": "1667485708000"
     },
     "execution_count": 12,
     "metadata": {},
     "output_type": "execute_result"
    }
   ],
   "source": [
    "import Backtester.time.time_utility as tm\n",
    "1667605708000 - 2000 * tm.tx_in_ms(\"1m\")"
   ],
   "metadata": {
    "collapsed": false,
    "pycharm": {
     "name": "#%%\n"
    }
   }
  },
  {
   "cell_type": "code",
   "execution_count": 1,
   "outputs": [],
   "source": [
    "queries = [{\"exchange\":\"bybit\", \"market\":\"BTC/USDT:USDT\", \"timeframe\":\"1m\", \"limit\":500, \"start\":1668776483000},\n",
    "           {\"exchange\":\"bybit\", \"market\":\"ETH/USDT:USDT\", \"timeframe\":\"1m\", \"limit\":500, \"end\":1669691997000},\n",
    "           {\"exchange\":\"bybit\", \"market\":\"CEL/USDT:USDT\", \"timeframe\":\"1m\", \"start\":1667485708000, \"end\":1667605708000},\n",
    "           {\"exchange\":\"bybit\", \"market\":\"TRX/USDT:USDT\", \"timeframe\":\"1m\", \"limit\":1000}]"
   ],
   "metadata": {
    "collapsed": false,
    "pycharm": {
     "name": "#%%\n"
    }
   }
  },
  {
   "cell_type": "code",
   "execution_count": 7,
   "outputs": [],
   "source": [
    "kws = {\"start\":123, \"end\":344}\n",
    "d = {\"exchange\":\"bybit\", \"market\":\"TRX/USDT:USDT\", \"timeframe\":\"1m\", \"limit\":1000, **kws}"
   ],
   "metadata": {
    "collapsed": false,
    "pycharm": {
     "name": "#%%\n"
    }
   }
  },
  {
   "cell_type": "code",
   "execution_count": 8,
   "outputs": [
    {
     "data": {
      "text/plain": "{'exchange': 'bybit',\n 'market': 'TRX/USDT:USDT',\n 'timeframe': '1m',\n 'limit': 1000,\n 'start': 123,\n 'end': 344}"
     },
     "execution_count": 8,
     "metadata": {},
     "output_type": "execute_result"
    }
   ],
   "source": [
    "d"
   ],
   "metadata": {
    "collapsed": false,
    "pycharm": {
     "name": "#%%\n"
    }
   }
  },
  {
   "cell_type": "markdown",
   "source": [
    "timestamps in miliseconds\n",
    "time\n"
   ],
   "metadata": {
    "collapsed": false,
    "pycharm": {
     "name": "#%% md\n"
    }
   }
  },
  {
   "cell_type": "code",
   "execution_count": 4,
   "outputs": [
    {
     "name": "stdout",
     "output_type": "stream",
     "text": [
      "1. calculating end\n",
      "2. calculating start\n",
      "0. case equal to QueryType\n",
      "3. calculating start and end just limit provided\n"
     ]
    }
   ],
   "source": [
    "\n",
    "def prepare_query(query: dict):\n",
    "    pass\n",
    "\n",
    "\n",
    "\n",
    "def resolve_query(query: dict) -> tuple:\n",
    "    match query:\n",
    "        case {\"start\": int() as start, \"end\": int() as end}:\n",
    "            print(\"0. case equal to QueryType\")\n",
    "        case {\"since\": int() as start, \"limit\": int() as limit}|{\"start\": int() as start, \"limit\": int() as limit}:\n",
    "            print(\"1. calculating end\")\n",
    "        case {\"end\": int() as end, \"limit\": int() as limit}|{\"till\": int() as end, \"limit\": int() as limit}:\n",
    "            print(\"2. calculating start\")\n",
    "        case {\"limit\": int() as limit, **kwargs}:\n",
    "            print(\"3. calculating start and end just limit provided\")\n",
    "\n",
    "for query in queries:\n",
    "    resolve_query(query)"
   ],
   "metadata": {
    "collapsed": false,
    "pycharm": {
     "name": "#%%\n"
    }
   }
  },
  {
   "cell_type": "code",
   "execution_count": 9,
   "outputs": [
    {
     "data": {
      "text/plain": "2365.0"
     },
     "execution_count": 9,
     "metadata": {},
     "output_type": "execute_result"
    }
   ],
   "source": [
    "x = 2367.5\n",
    "\n",
    "(x // 5) * 5"
   ],
   "metadata": {
    "collapsed": false,
    "pycharm": {
     "name": "#%%\n"
    }
   }
  },
  {
   "cell_type": "code",
   "execution_count": 1,
   "outputs": [],
   "source": [
    "from Backtester.streamer.fetch import fetch_queries_api, fetch_query_api, _fetch_query\n",
    "from Backtester.streamer.queries import safe_queries, safe_query"
   ],
   "metadata": {
    "collapsed": false,
    "pycharm": {
     "name": "#%%\n"
    }
   }
  },
  {
   "cell_type": "code",
   "execution_count": 1,
   "outputs": [],
   "source": [
    "from Backtester.streamer.candles import CandlesInterface\n",
    "CI = CandlesInterface()\n"
   ],
   "metadata": {
    "collapsed": false,
    "pycharm": {
     "name": "#%%\n"
    }
   }
  },
  {
   "cell_type": "code",
   "execution_count": 2,
   "outputs": [],
   "source": [
    "queries = [{\"exchange\":\"bybit\", \"market\":\"BTC/USDT:USDT\", \"timeframe\":\"1m\", \"limit\":500, \"start\":1668776483000},\n",
    "           {\"exchange\":\"bybit\", \"market\":\"ETH/USDT:USDT\", \"timeframe\":\"1m\", \"limit\":500, \"end\":1669691997000},\n",
    "           {\"exchange\":\"bybit\", \"market\":\"CEL/USDT:USDT\", \"timeframe\":\"1m\", \"start\":1667485708000, \"end\":1667605708000},\n",
    "           {\"exchange\":\"bybit\", \"market\":\"TRX/USDT:USDT\", \"timeframe\":\"1m\", \"limit\":1000}]"
   ],
   "metadata": {
    "collapsed": false,
    "pycharm": {
     "name": "#%%\n"
    }
   }
  },
  {
   "cell_type": "code",
   "execution_count": 2,
   "outputs": [],
   "source": [],
   "metadata": {
    "collapsed": false,
    "pycharm": {
     "name": "#%%\n"
    }
   }
  },
  {
   "cell_type": "code",
   "execution_count": 5,
   "outputs": [
    {
     "name": "stdout",
     "output_type": "stream",
     "text": [
      "{'exchange': 'bybit', 'market': 'ETH/USDT:USDT', 'timeframe': '1m', 'limit': 500, 'end': 1669691940000, 'start': 1669661940000} 199\n",
      "{'exchange': 'bybit', 'market': 'ETH/USDT:USDT', 'timeframe': '1m', 'limit': 500, 'end': 1669691940000, 'start': 1669661940000} 398\n",
      "{'exchange': 'bybit', 'market': 'ETH/USDT:USDT', 'timeframe': '1m', 'limit': 500, 'end': 1669691940000, 'start': 1669661940000} 500\n",
      "stored candles from query:  {'exchange': 'bybit', 'market': 'ETH/USDT:USDT', 'timeframe': '1m', 'limit': 500, 'end': 1669691940000, 'start': 1669661940000}\n"
     ]
    },
    {
     "data": {
      "text/plain": "({'exchange': 'bybit',\n  'market': 'ETH/USDT:USDT',\n  'timeframe': '1m',\n  'limit': 500,\n  'end': 1669691940000,\n  'start': 1669661940000},\n [[1669662000000, 1167.65, 1168.5, 1167.55, 1168.5, 258.87],\n  [1669662060000, 1168.5, 1168.5, 1167.7, 1167.7, 190.57],\n  [1669662120000, 1167.7, 1168.0, 1167.55, 1168.0, 222.78],\n  [1669662180000, 1168.0, 1168.0, 1167.25, 1167.3, 558.55],\n  [1669662240000, 1167.3, 1167.45, 1165.75, 1166.9, 2759.78],\n  [1669662300000, 1166.9, 1168.5, 1166.9, 1168.5, 1113.11],\n  [1669662360000, 1168.5, 1168.8, 1168.4, 1168.75, 299.26],\n  [1669662420000, 1168.75, 1168.8, 1168.0, 1168.35, 123.78],\n  [1669662480000, 1168.35, 1168.6, 1168.3, 1168.55, 493.23],\n  [1669662540000, 1168.55, 1168.6, 1167.35, 1167.45, 1312.11],\n  [1669662600000, 1167.45, 1167.65, 1167.0, 1167.6, 310.36],\n  [1669662660000, 1167.6, 1167.65, 1166.45, 1166.45, 215.83],\n  [1669662720000, 1166.45, 1166.65, 1166.45, 1166.45, 142.87],\n  [1669662780000, 1166.45, 1167.2, 1165.0, 1167.2, 1889.45],\n  [1669662840000, 1167.2, 1167.25, 1166.8, 1166.85, 106.71],\n  [1669662900000, 1166.85, 1166.9, 1166.5, 1166.85, 272.98],\n  [1669662960000, 1166.85, 1167.2, 1166.75, 1167.2, 286.6],\n  [1669663020000, 1167.2, 1167.2, 1166.0, 1166.6, 291.16],\n  [1669663080000, 1166.6, 1167.3, 1166.6, 1167.25, 217.97],\n  [1669663140000, 1167.25, 1167.3, 1167.1, 1167.15, 85.57],\n  [1669663200000, 1167.15, 1167.15, 1167.0, 1167.0, 276.01],\n  [1669663260000, 1167.0, 1167.8, 1167.0, 1167.8, 123.33],\n  [1669663320000, 1167.8, 1168.4, 1167.8, 1168.1, 511.59],\n  [1669663380000, 1168.1, 1168.35, 1167.85, 1168.35, 87.95],\n  [1669663440000, 1168.35, 1169.2, 1168.3, 1169.05, 368.41],\n  [1669663500000, 1169.05, 1169.05, 1168.65, 1168.7, 148.43],\n  [1669663560000, 1168.7, 1169.1, 1168.65, 1168.7, 918.9],\n  [1669663620000, 1168.7, 1168.7, 1168.0, 1168.4, 595.78],\n  [1669663680000, 1168.4, 1168.6, 1168.35, 1168.6, 45.45],\n  [1669663740000, 1168.6, 1168.6, 1168.0, 1168.05, 189.79],\n  [1669663800000, 1168.05, 1168.05, 1167.6, 1167.6, 117.21],\n  [1669663860000, 1167.6, 1168.35, 1167.55, 1168.3, 65.26],\n  [1669663920000, 1168.3, 1168.7, 1168.3, 1168.55, 68.64],\n  [1669663980000, 1168.55, 1169.3, 1168.5, 1169.1, 76.25],\n  [1669664040000, 1169.1, 1169.3, 1168.8, 1168.85, 118.12],\n  [1669664100000, 1168.85, 1169.05, 1168.75, 1168.8, 34.9],\n  [1669664160000, 1168.8, 1168.8, 1168.5, 1168.5, 125.46],\n  [1669664220000, 1168.5, 1168.5, 1168.4, 1168.4, 141.44],\n  [1669664280000, 1168.4, 1169.3, 1168.4, 1169.25, 206.78],\n  [1669664340000, 1169.25, 1170.7, 1169.25, 1170.25, 536.29],\n  [1669664400000, 1170.25, 1170.35, 1169.45, 1169.5, 846.2],\n  [1669664460000, 1169.5, 1169.8, 1169.2, 1169.75, 163.15],\n  [1669664520000, 1169.75, 1169.8, 1169.15, 1169.6, 656.08],\n  [1669664580000, 1169.6, 1171.75, 1169.6, 1171.35, 1173.41],\n  [1669664640000, 1171.35, 1173.6, 1171.35, 1172.7, 2228.61],\n  [1669664700000, 1172.7, 1173.85, 1171.9, 1173.75, 873.45],\n  [1669664760000, 1173.75, 1173.8, 1172.4, 1172.45, 360.57],\n  [1669664820000, 1172.45, 1172.45, 1171.0, 1171.35, 434.05],\n  [1669664880000, 1171.35, 1172.1, 1171.35, 1172.0, 167.53],\n  [1669664940000, 1172.0, 1172.0, 1171.65, 1171.9, 41.54],\n  [1669665000000, 1171.9, 1172.4, 1171.9, 1172.4, 137.7],\n  [1669665060000, 1172.4, 1173.0, 1172.35, 1172.4, 126.28],\n  [1669665120000, 1172.4, 1172.4, 1171.95, 1171.95, 120.72],\n  [1669665180000, 1171.95, 1172.15, 1171.95, 1172.0, 145.12],\n  [1669665240000, 1172.0, 1172.3, 1171.95, 1172.15, 239.68],\n  [1669665300000, 1172.15, 1172.2, 1171.4, 1171.7, 154.93],\n  [1669665360000, 1171.7, 1172.2, 1171.7, 1172.05, 36.95],\n  [1669665420000, 1172.05, 1172.25, 1171.8, 1171.85, 56.07],\n  [1669665480000, 1171.85, 1171.9, 1171.25, 1171.25, 83.77],\n  [1669665540000, 1171.25, 1171.3, 1171.1, 1171.1, 66.62],\n  [1669665600000, 1171.1, 1171.15, 1170.15, 1170.2, 873.0],\n  [1669665660000, 1170.2, 1170.65, 1170.2, 1170.55, 563.85],\n  [1669665720000, 1170.55, 1170.9, 1170.55, 1170.65, 93.01],\n  [1669665780000, 1170.65, 1171.4, 1170.6, 1171.4, 355.77],\n  [1669665840000, 1171.4, 1171.4, 1170.8, 1170.85, 189.26],\n  [1669665900000, 1170.85, 1170.85, 1169.45, 1169.85, 169.14],\n  [1669665960000, 1169.85, 1170.85, 1169.6, 1170.85, 281.38],\n  [1669666020000, 1170.85, 1170.85, 1169.8, 1169.85, 119.71],\n  [1669666080000, 1169.85, 1170.65, 1169.65, 1170.65, 30.68],\n  [1669666140000, 1170.65, 1170.9, 1170.5, 1170.5, 356.76],\n  [1669666200000, 1170.5, 1171.15, 1170.5, 1171.1, 29.25],\n  [1669666260000, 1171.1, 1171.35, 1170.8, 1171.35, 61.91],\n  [1669666320000, 1171.35, 1171.5, 1171.35, 1171.5, 24.67],\n  [1669666380000, 1171.5, 1171.65, 1171.05, 1171.35, 210.58],\n  [1669666440000, 1171.35, 1171.55, 1171.35, 1171.35, 152.0],\n  [1669666500000, 1171.35, 1171.4, 1171.1, 1171.25, 133.82],\n  [1669666560000, 1171.25, 1171.45, 1171.1, 1171.4, 70.35],\n  [1669666620000, 1171.4, 1171.45, 1170.8, 1171.0, 156.76],\n  [1669666680000, 1171.0, 1171.0, 1170.2, 1170.5, 82.39],\n  [1669666740000, 1170.5, 1171.6, 1170.5, 1171.6, 193.73],\n  [1669666800000, 1171.6, 1171.8, 1170.85, 1170.9, 92.45],\n  [1669666860000, 1170.9, 1170.9, 1170.5, 1170.5, 13.88],\n  [1669666920000, 1170.5, 1170.55, 1169.9, 1170.1, 635.68],\n  [1669666980000, 1170.1, 1170.4, 1170.1, 1170.4, 199.11],\n  [1669667040000, 1170.4, 1170.4, 1170.3, 1170.4, 43.2],\n  [1669667100000, 1170.4, 1170.7, 1170.2, 1170.25, 93.08],\n  [1669667160000, 1170.25, 1170.75, 1170.2, 1170.7, 102.27],\n  [1669667220000, 1170.7, 1171.2, 1170.7, 1171.15, 225.48],\n  [1669667280000, 1171.15, 1171.9, 1171.15, 1171.65, 343.85],\n  [1669667340000, 1171.65, 1171.8, 1171.6, 1171.75, 177.52],\n  [1669667400000, 1171.75, 1172.05, 1171.2, 1171.2, 399.12],\n  [1669667460000, 1171.2, 1171.5, 1171.2, 1171.25, 67.41],\n  [1669667520000, 1171.25, 1172.05, 1171.25, 1172.0, 231.41],\n  [1669667580000, 1172.0, 1172.35, 1171.55, 1172.05, 940.42],\n  [1669667640000, 1172.05, 1172.55, 1172.05, 1172.25, 166.53],\n  [1669667700000, 1172.25, 1172.65, 1172.2, 1172.25, 484.25],\n  [1669667760000, 1172.25, 1173.6, 1172.25, 1173.2, 243.17],\n  [1669667820000, 1173.2, 1173.2, 1172.65, 1172.95, 125.65],\n  [1669667880000, 1172.95, 1172.95, 1172.45, 1172.7, 299.13],\n  [1669667940000, 1172.7, 1172.75, 1172.05, 1172.2, 794.89],\n  [1669668000000, 1172.2, 1172.9, 1172.2, 1172.9, 56.6],\n  [1669668060000, 1172.9, 1173.05, 1172.5, 1172.55, 1007.37],\n  [1669668120000, 1172.55, 1172.95, 1172.5, 1172.9, 126.7],\n  [1669668180000, 1172.9, 1172.9, 1172.5, 1172.5, 111.18],\n  [1669668240000, 1172.5, 1173.0, 1172.5, 1173.0, 59.72],\n  [1669668300000, 1173.0, 1173.0, 1172.75, 1172.9, 36.02],\n  [1669668360000, 1172.9, 1173.1, 1172.9, 1173.05, 89.82],\n  [1669668420000, 1173.05, 1173.05, 1172.5, 1172.75, 368.14],\n  [1669668480000, 1172.75, 1172.75, 1172.05, 1172.1, 115.57],\n  [1669668540000, 1172.1, 1172.35, 1172.05, 1172.35, 31.82],\n  [1669668600000, 1172.35, 1172.85, 1172.3, 1172.5, 121.25],\n  [1669668660000, 1172.5, 1172.95, 1172.45, 1172.95, 182.08],\n  [1669668720000, 1172.95, 1172.95, 1172.7, 1172.9, 21.69],\n  [1669668780000, 1172.9, 1172.95, 1172.75, 1172.75, 16.64],\n  [1669668840000, 1172.75, 1173.6, 1172.75, 1173.6, 124.34],\n  [1669668900000, 1173.6, 1173.65, 1173.3, 1173.35, 321.25],\n  [1669668960000, 1173.35, 1173.6, 1173.2, 1173.55, 213.7],\n  [1669669020000, 1173.55, 1173.8, 1173.55, 1173.8, 112.87],\n  [1669669080000, 1173.8, 1175.1, 1173.75, 1174.55, 2814.2],\n  [1669669140000, 1174.55, 1174.95, 1174.0, 1174.45, 635.92],\n  [1669669200000, 1174.45, 1174.65, 1172.35, 1172.65, 4162.85],\n  [1669669260000, 1172.65, 1173.4, 1172.65, 1173.1, 281.81],\n  [1669669320000, 1173.1, 1173.1, 1172.7, 1172.8, 293.69],\n  [1669669380000, 1172.8, 1173.0, 1172.8, 1172.95, 163.03],\n  [1669669440000, 1172.95, 1173.0, 1172.9, 1172.9, 72.66],\n  [1669669500000, 1172.9, 1173.0, 1172.2, 1172.2, 492.31],\n  [1669669560000, 1172.2, 1172.25, 1171.6, 1171.6, 586.07],\n  [1669669620000, 1171.6, 1171.7, 1171.0, 1171.05, 521.16],\n  [1669669680000, 1171.05, 1171.05, 1170.4, 1170.4, 668.92],\n  [1669669740000, 1170.4, 1170.85, 1169.8, 1169.85, 767.06],\n  [1669669800000, 1169.85, 1170.0, 1168.35, 1169.65, 984.13],\n  [1669669860000, 1169.65, 1170.8, 1169.6, 1170.7, 164.41],\n  [1669669920000, 1170.7, 1170.9, 1170.65, 1170.8, 104.27],\n  [1669669980000, 1170.8, 1170.8, 1170.5, 1170.55, 186.7],\n  [1669670040000, 1170.55, 1170.55, 1169.85, 1169.9, 194.83],\n  [1669670100000, 1169.9, 1170.75, 1169.7, 1170.7, 234.78],\n  [1669670160000, 1170.7, 1171.3, 1170.7, 1171.2, 142.5],\n  [1669670220000, 1171.2, 1171.45, 1171.15, 1171.45, 43.59],\n  [1669670280000, 1171.45, 1171.5, 1171.2, 1171.25, 130.83],\n  [1669670340000, 1171.25, 1171.75, 1171.25, 1171.75, 53.33],\n  [1669670400000, 1171.75, 1171.75, 1171.3, 1171.35, 501.66],\n  [1669670460000, 1171.35, 1171.35, 1170.9, 1171.25, 861.21],\n  [1669670520000, 1171.25, 1171.9, 1171.25, 1171.8, 106.95],\n  [1669670580000, 1171.8, 1172.0, 1171.75, 1171.95, 692.16],\n  [1669670640000, 1171.95, 1172.0, 1171.75, 1171.75, 126.92],\n  [1669670700000, 1171.75, 1171.75, 1171.7, 1171.7, 18.48],\n  [1669670760000, 1171.7, 1171.75, 1170.65, 1170.9, 841.14],\n  [1669670820000, 1170.9, 1171.3, 1170.9, 1171.2, 144.61],\n  [1669670880000, 1171.2, 1171.2, 1170.95, 1171.0, 63.48],\n  [1669670940000, 1171.0, 1171.25, 1170.95, 1171.25, 186.91],\n  [1669671000000, 1171.25, 1171.55, 1171.15, 1171.5, 570.91],\n  [1669671060000, 1171.5, 1171.55, 1171.3, 1171.3, 78.25],\n  [1669671120000, 1171.3, 1171.3, 1171.25, 1171.3, 16.08],\n  [1669671180000, 1171.3, 1171.3, 1171.25, 1171.3, 14.06],\n  [1669671240000, 1171.3, 1171.65, 1171.25, 1171.65, 205.58],\n  [1669671300000, 1171.65, 1171.65, 1171.6, 1171.65, 54.77],\n  [1669671360000, 1171.65, 1171.65, 1171.1, 1171.1, 195.1],\n  [1669671420000, 1171.1, 1171.15, 1169.9, 1169.9, 284.44],\n  [1669671480000, 1169.9, 1170.25, 1169.75, 1170.25, 241.07],\n  [1669671540000, 1170.25, 1170.25, 1169.45, 1169.7, 209.14],\n  [1669671600000, 1169.7, 1170.45, 1169.5, 1170.45, 722.74],\n  [1669671660000, 1170.45, 1170.55, 1170.3, 1170.3, 47.88],\n  [1669671720000, 1170.3, 1170.5, 1170.05, 1170.05, 444.62],\n  [1669671780000, 1170.05, 1170.1, 1169.4, 1169.4, 228.99],\n  [1669671840000, 1169.4, 1169.9, 1169.4, 1169.85, 56.25],\n  [1669671900000, 1169.85, 1170.5, 1169.85, 1170.4, 534.3],\n  [1669671960000, 1170.4, 1170.65, 1170.35, 1170.65, 684.47],\n  [1669672020000, 1170.65, 1170.65, 1170.6, 1170.65, 6.61],\n  [1669672080000, 1170.65, 1170.95, 1170.6, 1170.9, 123.74],\n  [1669672140000, 1170.9, 1172.4, 1170.9, 1171.6, 233.83],\n  [1669672200000, 1171.6, 1171.6, 1171.4, 1171.55, 48.5],\n  [1669672260000, 1171.55, 1172.15, 1171.55, 1172.15, 91.6],\n  [1669672320000, 1172.15, 1172.5, 1172.0, 1172.25, 264.19],\n  [1669672380000, 1172.25, 1172.55, 1172.2, 1172.4, 162.06],\n  [1669672440000, 1172.4, 1172.4, 1172.35, 1172.35, 63.9],\n  [1669672500000, 1172.35, 1173.0, 1172.35, 1172.6, 783.95],\n  [1669672560000, 1172.6, 1172.65, 1171.45, 1172.0, 2396.6],\n  [1669672620000, 1172.0, 1172.0, 1171.95, 1172.0, 15.9],\n  [1669672680000, 1172.0, 1172.25, 1171.75, 1171.8, 699.76],\n  [1669672740000, 1171.8, 1171.8, 1171.65, 1171.8, 190.29],\n  [1669672800000, 1171.8, 1171.85, 1171.75, 1171.85, 213.4],\n  [1669672860000, 1171.85, 1171.85, 1171.75, 1171.75, 124.04],\n  [1669672920000, 1171.75, 1171.8, 1171.25, 1171.3, 612.42],\n  [1669672980000, 1171.3, 1171.3, 1171.2, 1171.2, 60.86],\n  [1669673040000, 1171.2, 1171.2, 1171.1, 1171.1, 42.44],\n  [1669673100000, 1171.1, 1171.15, 1170.95, 1171.0, 257.11],\n  [1669673160000, 1171.0, 1171.7, 1170.95, 1171.7, 458.08],\n  [1669673220000, 1171.7, 1171.7, 1171.65, 1171.7, 32.3],\n  [1669673280000, 1171.7, 1171.7, 1171.65, 1171.7, 80.92],\n  [1669673340000, 1171.7, 1171.7, 1171.35, 1171.4, 272.57],\n  [1669673400000, 1171.4, 1171.4, 1171.35, 1171.4, 1.97],\n  [1669673460000, 1171.4, 1171.4, 1170.8, 1170.9, 203.64],\n  [1669673520000, 1170.9, 1170.9, 1170.85, 1170.9, 770.09],\n  [1669673580000, 1170.9, 1171.25, 1170.9, 1171.25, 318.9],\n  [1669673640000, 1171.25, 1171.25, 1169.7, 1169.85, 1227.24],\n  [1669673700000, 1169.85, 1169.9, 1169.25, 1169.3, 272.69],\n  [1669673760000, 1169.3, 1169.3, 1169.2, 1169.2, 230.17],\n  [1669673820000, 1169.2, 1169.3, 1169.2, 1169.3, 114.16],\n  [1669673880000, 1169.3, 1169.7, 1169.25, 1169.7, 159.92],\n  [1669673940000, 1169.7, 1170.0, 1169.7, 1170.0, 245.21],\n  [1669674000000, 1170.0, 1170.05, 1169.95, 1169.95, 140.85],\n  [1669674060000, 1169.95, 1170.0, 1169.95, 1169.95, 163.24],\n  [1669674120000, 1169.95, 1170.0, 1169.95, 1170.0, 44.95],\n  [1669674180000, 1170.0, 1170.0, 1169.95, 1170.0, 23.69],\n  [1669674240000, 1170.0, 1170.35, 1169.95, 1170.35, 220.35],\n  [1669674300000, 1170.35, 1170.6, 1170.35, 1170.6, 81.8],\n  [1669674360000, 1170.6, 1171.0, 1170.6, 1170.65, 276.44],\n  [1669674420000, 1170.65, 1170.65, 1170.55, 1170.6, 79.08],\n  [1669674480000, 1170.6, 1170.9, 1170.6, 1170.65, 92.52],\n  [1669674540000, 1170.65, 1170.65, 1170.5, 1170.65, 46.35],\n  [1669674600000, 1170.65, 1171.4, 1170.65, 1171.4, 266.88],\n  [1669674660000, 1171.4, 1171.65, 1171.35, 1171.65, 109.04],\n  [1669674720000, 1171.65, 1171.65, 1171.6, 1171.6, 102.57],\n  [1669674780000, 1171.6, 1172.35, 1171.6, 1172.3, 1074.64],\n  [1669674840000, 1172.3, 1172.35, 1172.2, 1172.2, 47.98],\n  [1669674900000, 1172.2, 1172.25, 1171.45, 1171.5, 85.16],\n  [1669674960000, 1171.5, 1172.0, 1171.45, 1171.65, 103.9],\n  [1669675020000, 1171.65, 1172.0, 1171.6, 1172.0, 63.16],\n  [1669675080000, 1172.0, 1172.15, 1171.95, 1172.1, 64.35],\n  [1669675140000, 1172.1, 1172.15, 1172.1, 1172.15, 19.57],\n  [1669675200000, 1172.15, 1173.0, 1172.1, 1172.95, 521.89],\n  [1669675260000, 1172.95, 1172.95, 1172.65, 1172.65, 159.91],\n  [1669675320000, 1172.65, 1172.95, 1172.65, 1172.75, 189.43],\n  [1669675380000, 1172.75, 1172.75, 1172.65, 1172.65, 78.52],\n  [1669675440000, 1172.65, 1172.7, 1171.05, 1171.05, 418.49],\n  [1669675500000, 1171.05, 1171.05, 1170.7, 1170.75, 339.7],\n  [1669675560000, 1170.75, 1170.75, 1170.15, 1170.15, 159.47],\n  [1669675620000, 1170.15, 1170.35, 1170.15, 1170.35, 281.21],\n  [1669675680000, 1170.35, 1171.5, 1170.35, 1171.45, 227.72],\n  [1669675740000, 1171.45, 1171.5, 1170.85, 1170.9, 22.94],\n  [1669675800000, 1170.9, 1170.9, 1170.75, 1170.8, 36.67],\n  [1669675860000, 1170.8, 1170.9, 1170.75, 1170.85, 124.77],\n  [1669675920000, 1170.85, 1170.9, 1170.85, 1170.85, 5.68],\n  [1669675980000, 1170.85, 1171.35, 1170.85, 1171.35, 106.41],\n  [1669676040000, 1171.35, 1171.8, 1171.35, 1171.8, 41.64],\n  [1669676100000, 1171.8, 1172.0, 1171.4, 1171.4, 1572.61],\n  [1669676160000, 1171.4, 1171.45, 1170.15, 1170.15, 244.52],\n  [1669676220000, 1170.15, 1170.4, 1169.9, 1170.35, 228.56],\n  [1669676280000, 1170.35, 1170.4, 1169.6, 1169.9, 440.38],\n  [1669676340000, 1169.9, 1169.9, 1169.35, 1169.75, 189.95],\n  [1669676400000, 1169.75, 1170.0, 1169.75, 1169.85, 183.13],\n  [1669676460000, 1169.85, 1169.85, 1169.5, 1169.5, 78.58],\n  [1669676520000, 1169.5, 1170.1, 1167.6, 1167.6, 1235.44],\n  [1669676580000, 1167.6, 1167.9, 1166.0, 1166.35, 7851.72],\n  [1669676640000, 1166.35, 1167.8, 1166.35, 1167.35, 1119.5],\n  [1669676700000, 1167.35, 1167.7, 1167.0, 1167.65, 525.17],\n  [1669676760000, 1167.65, 1168.85, 1167.65, 1168.3, 508.3],\n  [1669676820000, 1168.3, 1168.8, 1167.1, 1167.15, 809.94],\n  [1669676880000, 1167.15, 1167.6, 1167.0, 1167.6, 184.1],\n  [1669676940000, 1167.6, 1167.65, 1166.85, 1166.85, 232.93],\n  [1669677000000, 1166.85, 1167.3, 1166.85, 1167.1, 298.49],\n  [1669677060000, 1167.1, 1168.15, 1167.05, 1167.55, 1505.89],\n  [1669677120000, 1167.55, 1167.7, 1167.5, 1167.65, 171.46],\n  [1669677180000, 1167.65, 1167.75, 1167.4, 1167.45, 82.52],\n  [1669677240000, 1167.45, 1167.6, 1167.4, 1167.6, 90.46],\n  [1669677300000, 1167.6, 1167.65, 1167.55, 1167.65, 121.39],\n  [1669677360000, 1167.65, 1168.05, 1167.6, 1168.0, 443.1],\n  [1669677420000, 1168.0, 1168.4, 1168.0, 1168.35, 381.04],\n  [1669677480000, 1168.35, 1168.95, 1168.35, 1168.95, 157.86],\n  [1669677540000, 1168.95, 1168.95, 1168.55, 1168.6, 76.93],\n  [1669677600000, 1168.6, 1168.6, 1168.4, 1168.45, 106.65],\n  [1669677660000, 1168.45, 1169.65, 1168.45, 1169.65, 123.16],\n  [1669677720000, 1169.65, 1169.75, 1169.4, 1169.45, 50.66],\n  [1669677780000, 1169.45, 1171.3, 1169.4, 1171.2, 1279.55],\n  [1669677840000, 1171.2, 1171.25, 1170.1, 1170.1, 634.45],\n  [1669677900000, 1170.1, 1171.2, 1170.1, 1171.2, 590.76],\n  [1669677960000, 1171.2, 1171.25, 1171.2, 1171.2, 163.37],\n  [1669678020000, 1171.2, 1171.25, 1170.35, 1170.5, 196.44],\n  [1669678080000, 1170.5, 1170.9, 1170.5, 1170.9, 8.86],\n  [1669678140000, 1170.9, 1170.95, 1170.8, 1170.8, 6.32],\n  [1669678200000, 1170.8, 1170.9, 1170.5, 1170.8, 372.43],\n  [1669678260000, 1170.8, 1170.8, 1170.3, 1170.35, 88.92],\n  [1669678320000, 1170.35, 1170.35, 1170.3, 1170.35, 69.59],\n  [1669678380000, 1170.35, 1170.35, 1170.3, 1170.35, 11.91],\n  [1669678440000, 1170.35, 1170.35, 1168.65, 1169.25, 875.32],\n  [1669678500000, 1169.25, 1169.3, 1168.65, 1169.0, 146.13],\n  [1669678560000, 1169.0, 1169.4, 1169.0, 1169.25, 87.42],\n  [1669678620000, 1169.25, 1169.5, 1169.2, 1169.2, 22.37],\n  [1669678680000, 1169.2, 1169.2, 1168.35, 1168.4, 63.07],\n  [1669678740000, 1168.4, 1168.4, 1168.1, 1168.35, 223.98],\n  [1669678800000, 1168.35, 1169.05, 1168.35, 1169.05, 183.98],\n  [1669678860000, 1169.05, 1169.05, 1169.0, 1169.0, 39.47],\n  [1669678920000, 1169.0, 1169.05, 1168.7, 1168.7, 59.22],\n  [1669678980000, 1168.7, 1168.7, 1168.15, 1168.15, 39.51],\n  [1669679040000, 1168.15, 1168.35, 1168.1, 1168.35, 91.18],\n  [1669679100000, 1168.35, 1168.5, 1168.25, 1168.45, 257.93],\n  [1669679160000, 1168.45, 1169.25, 1168.45, 1168.55, 650.19],\n  [1669679220000, 1168.55, 1168.95, 1168.5, 1168.9, 279.26],\n  [1669679280000, 1168.9, 1168.95, 1168.9, 1168.9, 30.15],\n  [1669679340000, 1168.9, 1169.0, 1168.7, 1168.95, 252.0],\n  [1669679400000, 1168.95, 1169.1, 1168.95, 1169.05, 30.06],\n  [1669679460000, 1169.05, 1169.55, 1169.05, 1169.25, 105.47],\n  [1669679520000, 1169.25, 1169.25, 1168.8, 1168.8, 67.53],\n  [1669679580000, 1168.8, 1168.85, 1168.45, 1168.45, 68.81],\n  [1669679640000, 1168.45, 1168.5, 1168.3, 1168.3, 105.43],\n  [1669679700000, 1168.3, 1168.55, 1168.3, 1168.5, 34.71],\n  [1669679760000, 1168.5, 1168.95, 1168.5, 1168.95, 137.13],\n  [1669679820000, 1168.95, 1169.0, 1168.05, 1168.05, 110.4],\n  [1669679880000, 1168.05, 1168.05, 1167.25, 1167.95, 406.31],\n  [1669679940000, 1167.95, 1167.95, 1167.1, 1167.25, 394.84],\n  [1669680000000, 1167.25, 1167.4, 1166.6, 1166.75, 590.87],\n  [1669680060000, 1166.75, 1167.7, 1166.6, 1167.65, 296.65],\n  [1669680120000, 1167.65, 1167.95, 1167.5, 1167.55, 173.15],\n  [1669680180000, 1167.55, 1167.55, 1166.55, 1166.55, 722.91],\n  [1669680240000, 1166.55, 1167.1, 1166.55, 1167.05, 153.9],\n  [1669680300000, 1167.05, 1167.1, 1166.1, 1166.1, 417.55],\n  [1669680360000, 1166.1, 1168.1, 1166.1, 1168.05, 283.97],\n  [1669680420000, 1168.05, 1169.25, 1168.05, 1168.95, 276.43],\n  [1669680480000, 1168.95, 1168.95, 1168.15, 1168.2, 90.57],\n  [1669680540000, 1168.2, 1168.25, 1167.9, 1167.9, 246.42],\n  [1669680600000, 1167.9, 1168.0, 1167.1, 1167.15, 234.27],\n  [1669680660000, 1167.15, 1167.15, 1161.65, 1162.8, 6182.1],\n  [1669680720000, 1162.8, 1164.15, 1162.8, 1163.15, 2395.25],\n  [1669680780000, 1163.15, 1163.8, 1155.6, 1159.0, 14059.44],\n  [1669680840000, 1159.0, 1160.95, 1157.95, 1160.65, 2132.22],\n  [1669680900000, 1160.65, 1162.1, 1160.5, 1161.25, 852.52],\n  [1669680960000, 1161.25, 1163.75, 1161.2, 1162.85, 1950.01],\n  [1669681020000, 1162.85, 1164.4, 1160.25, 1160.45, 2841.0],\n  [1669681080000, 1160.45, 1161.9, 1159.55, 1159.7, 1024.16],\n  [1669681140000, 1159.7, 1160.55, 1159.0, 1160.55, 1016.97],\n  [1669681200000, 1160.55, 1162.65, 1160.35, 1162.65, 1055.57],\n  [1669681260000, 1162.65, 1164.9, 1162.6, 1163.55, 2347.06],\n  [1669681320000, 1163.55, 1164.45, 1163.25, 1164.1, 733.81],\n  [1669681380000, 1164.1, 1164.4, 1163.5, 1164.1, 560.64],\n  [1669681440000, 1164.1, 1164.75, 1163.9, 1164.1, 525.45],\n  [1669681500000, 1164.1, 1164.1, 1163.4, 1163.5, 131.22],\n  [1669681560000, 1163.5, 1163.95, 1163.4, 1163.6, 61.36],\n  [1669681620000, 1163.6, 1163.85, 1162.9, 1163.85, 176.55],\n  [1669681680000, 1163.85, 1164.45, 1163.85, 1164.2, 666.23],\n  [1669681740000, 1164.2, 1164.45, 1162.8, 1162.8, 386.37],\n  [1669681800000, 1162.8, 1163.75, 1162.8, 1163.75, 280.23],\n  [1669681860000, 1163.75, 1164.65, 1163.75, 1164.55, 587.28],\n  [1669681920000, 1164.55, 1164.55, 1163.35, 1163.35, 201.43],\n  [1669681980000, 1163.35, 1164.0, 1163.2, 1164.0, 123.92],\n  [1669682040000, 1164.0, 1164.05, 1163.8, 1163.9, 158.42],\n  [1669682100000, 1163.9, 1164.35, 1163.85, 1164.35, 117.59],\n  [1669682160000, 1164.35, 1165.2, 1164.35, 1165.05, 356.97],\n  [1669682220000, 1165.05, 1165.8, 1164.45, 1165.8, 606.57],\n  [1669682280000, 1165.8, 1166.1, 1165.75, 1165.8, 870.76],\n  [1669682340000, 1165.8, 1167.35, 1165.75, 1167.35, 450.35],\n  [1669682400000, 1167.35, 1168.3, 1166.45, 1166.55, 1289.86],\n  [1669682460000, 1166.55, 1166.55, 1166.3, 1166.3, 172.9],\n  [1669682520000, 1166.3, 1166.75, 1165.65, 1165.65, 221.78],\n  [1669682580000, 1165.65, 1166.0, 1165.5, 1165.95, 239.11],\n  [1669682640000, 1165.95, 1166.65, 1165.95, 1166.65, 696.77],\n  [1669682700000, 1166.65, 1166.65, 1165.85, 1165.9, 106.43],\n  [1669682760000, 1165.9, 1166.4, 1165.7, 1165.7, 429.75],\n  [1669682820000, 1165.7, 1166.0, 1165.65, 1165.7, 417.7],\n  [1669682880000, 1165.7, 1165.7, 1164.7, 1164.95, 601.79],\n  [1669682940000, 1164.95, 1165.25, 1164.75, 1165.05, 115.13],\n  [1669683000000, 1165.05, 1165.4, 1165.05, 1165.1, 145.99],\n  [1669683060000, 1165.1, 1165.5, 1165.05, 1165.05, 69.65],\n  [1669683120000, 1165.05, 1165.85, 1165.05, 1165.8, 151.97],\n  [1669683180000, 1165.8, 1165.85, 1165.75, 1165.8, 64.72],\n  [1669683240000, 1165.8, 1165.9, 1165.75, 1165.8, 83.21],\n  [1669683300000, 1165.8, 1166.6, 1165.75, 1166.6, 145.17],\n  [1669683360000, 1166.6, 1167.45, 1166.55, 1167.45, 181.04],\n  [1669683420000, 1167.45, 1167.8, 1167.0, 1167.05, 277.9],\n  [1669683480000, 1167.05, 1167.05, 1166.9, 1166.9, 67.59],\n  [1669683540000, 1166.9, 1166.9, 1166.35, 1166.35, 128.12],\n  [1669683600000, 1166.35, 1166.75, 1166.1, 1166.15, 710.75],\n  [1669683660000, 1166.15, 1166.85, 1166.1, 1166.4, 202.56],\n  [1669683720000, 1166.4, 1166.4, 1166.25, 1166.25, 40.05],\n  [1669683780000, 1166.25, 1166.25, 1165.55, 1165.6, 174.56],\n  [1669683840000, 1165.6, 1165.95, 1165.5, 1165.95, 95.24],\n  [1669683900000, 1165.95, 1166.0, 1165.5, 1166.0, 128.33],\n  [1669683960000, 1166.0, 1166.45, 1166.0, 1166.15, 125.19],\n  [1669684020000, 1166.15, 1166.4, 1166.1, 1166.1, 67.4],\n  [1669684080000, 1166.1, 1166.6, 1166.1, 1166.4, 37.2],\n  [1669684140000, 1166.4, 1167.1, 1166.4, 1167.05, 271.27],\n  [1669684200000, 1167.05, 1168.25, 1167.05, 1167.35, 713.85],\n  [1669684260000, 1167.35, 1167.35, 1166.85, 1166.95, 36.89],\n  [1669684320000, 1166.95, 1167.1, 1166.75, 1166.75, 264.95],\n  [1669684380000, 1166.75, 1166.8, 1165.25, 1165.35, 693.81],\n  [1669684440000, 1165.35, 1165.9, 1165.35, 1165.55, 142.01],\n  [1669684500000, 1165.55, 1165.6, 1165.35, 1165.5, 173.72],\n  [1669684560000, 1165.5, 1165.8, 1165.3, 1165.8, 77.27],\n  [1669684620000, 1165.8, 1165.8, 1165.35, 1165.35, 27.67],\n  [1669684680000, 1165.35, 1165.5, 1164.65, 1165.45, 264.3],\n  [1669684740000, 1165.45, 1165.5, 1164.8, 1164.8, 139.16],\n  [1669684800000, 1164.8, 1165.0, 1164.7, 1164.7, 83.93],\n  [1669684860000, 1164.7, 1165.0, 1164.7, 1165.0, 7.25],\n  [1669684920000, 1165.0, 1165.55, 1164.95, 1165.5, 221.8],\n  [1669684980000, 1165.5, 1165.7, 1165.5, 1165.65, 64.06],\n  [1669685040000, 1165.65, 1165.7, 1165.05, 1165.55, 265.86],\n  [1669685100000, 1165.55, 1166.25, 1165.5, 1166.05, 51.06],\n  [1669685160000, 1166.05, 1166.05, 1165.9, 1166.05, 57.59],\n  [1669685220000, 1166.05, 1166.55, 1166.05, 1166.55, 239.12],\n  [1669685280000, 1166.55, 1167.25, 1166.5, 1166.7, 154.08],\n  [1669685340000, 1166.7, 1166.7, 1166.3, 1166.3, 132.87],\n  [1669685400000, 1166.3, 1167.05, 1166.25, 1167.05, 56.01],\n  [1669685460000, 1167.05, 1167.05, 1166.65, 1166.7, 26.57],\n  [1669685520000, 1166.7, 1166.7, 1166.2, 1166.2, 10.43],\n  [1669685580000, 1166.2, 1166.45, 1165.9, 1166.4, 405.36],\n  [1669685640000, 1166.4, 1166.75, 1166.4, 1166.7, 53.02],\n  [1669685700000, 1166.7, 1166.75, 1166.5, 1166.7, 59.29],\n  [1669685760000, 1166.7, 1168.6, 1166.7, 1168.45, 817.09],\n  [1669685820000, 1168.45, 1169.45, 1168.4, 1168.95, 718.47],\n  [1669685880000, 1168.95, 1172.45, 1168.9, 1171.85, 4075.14],\n  [1669685940000, 1171.85, 1172.9, 1171.25, 1171.45, 984.26],\n  [1669686000000, 1171.45, 1172.1, 1171.3, 1171.65, 882.69],\n  [1669686060000, 1171.65, 1174.2, 1171.65, 1174.15, 1523.59],\n  [1669686120000, 1174.15, 1176.3, 1174.15, 1175.1, 2898.43],\n  [1669686180000, 1175.1, 1175.25, 1174.25, 1174.65, 630.01],\n  [1669686240000, 1174.65, 1174.9, 1173.6, 1173.8, 747.9],\n  [1669686300000, 1173.8, 1175.45, 1173.45, 1175.4, 702.73],\n  [1669686360000, 1175.4, 1182.9, 1175.25, 1181.5, 9303.08],\n  [1669686420000, 1181.5, 1181.5, 1178.0, 1178.55, 1158.22],\n  [1669686480000, 1178.55, 1178.55, 1177.5, 1177.6, 575.53],\n  [1669686540000, 1177.6, 1177.65, 1177.1, 1177.4, 480.64],\n  [1669686600000, 1177.4, 1177.95, 1176.8, 1177.2, 1099.06],\n  [1669686660000, 1177.2, 1177.2, 1176.6, 1176.65, 698.37],\n  [1669686720000, 1176.65, 1177.2, 1176.65, 1177.05, 316.84],\n  [1669686780000, 1177.05, 1177.05, 1176.4, 1176.75, 346.51],\n  [1669686840000, 1176.75, 1178.95, 1176.5, 1178.95, 846.0],\n  [1669686900000, 1178.95, 1178.95, 1176.8, 1176.85, 677.81],\n  [1669686960000, 1176.85, 1177.7, 1176.8, 1177.65, 453.17],\n  [1669687020000, 1177.65, 1177.7, 1175.85, 1175.85, 890.07],\n  [1669687080000, 1175.85, 1177.0, 1175.85, 1176.9, 158.02],\n  [1669687140000, 1176.9, 1176.9, 1176.1, 1176.25, 150.54],\n  [1669687200000, 1176.25, 1177.55, 1176.15, 1177.15, 1653.88],\n  [1669687260000, 1177.15, 1179.0, 1177.15, 1178.4, 889.76],\n  [1669687320000, 1178.4, 1178.9, 1178.25, 1178.75, 301.92],\n  [1669687380000, 1178.75, 1178.8, 1178.15, 1178.4, 156.09],\n  [1669687440000, 1178.4, 1178.4, 1177.35, 1177.5, 394.88],\n  [1669687500000, 1177.5, 1178.05, 1177.3, 1178.0, 385.57],\n  [1669687560000, 1178.0, 1179.2, 1178.0, 1178.8, 384.18],\n  [1669687620000, 1178.8, 1179.45, 1178.8, 1179.05, 220.45],\n  [1669687680000, 1179.05, 1179.5, 1179.05, 1179.45, 593.12],\n  [1669687740000, 1179.45, 1180.5, 1178.3, 1178.35, 2569.18],\n  [1669687800000, 1178.35, 1178.35, 1177.25, 1178.05, 472.56],\n  [1669687860000, 1178.05, 1178.1, 1177.7, 1177.95, 177.09],\n  [1669687920000, 1177.95, 1178.0, 1177.4, 1178.0, 403.87],\n  [1669687980000, 1178.0, 1180.2, 1177.95, 1180.2, 459.71],\n  [1669688040000, 1180.2, 1180.65, 1179.35, 1179.95, 1155.63],\n  [1669688100000, 1179.95, 1180.85, 1178.5, 1178.55, 1110.42],\n  [1669688160000, 1178.55, 1180.3, 1178.5, 1180.3, 881.92],\n  [1669688220000, 1180.3, 1180.7, 1179.8, 1180.65, 886.28],\n  [1669688280000, 1180.65, 1180.8, 1180.15, 1180.45, 188.81],\n  [1669688340000, 1180.45, 1192.1, 1180.45, 1185.6, 24296.77],\n  [1669688400000, 1185.6, 1186.3, 1184.25, 1184.3, 2318.32],\n  [1669688460000, 1184.3, 1184.75, 1183.45, 1184.35, 1806.31],\n  [1669688520000, 1184.35, 1185.4, 1183.25, 1183.3, 2161.96],\n  [1669688580000, 1183.3, 1183.7, 1183.0, 1183.2, 791.13],\n  [1669688640000, 1183.2, 1184.35, 1183.0, 1184.35, 819.14],\n  [1669688700000, 1184.35, 1184.35, 1183.15, 1183.2, 443.65],\n  [1669688760000, 1183.2, 1183.5, 1183.15, 1183.15, 136.43],\n  [1669688820000, 1183.15, 1183.4, 1182.7, 1183.35, 250.91],\n  [1669688880000, 1183.35, 1183.35, 1183.0, 1183.1, 167.04],\n  [1669688940000, 1183.1, 1183.1, 1182.5, 1182.95, 269.76],\n  [1669689000000, 1182.95, 1183.0, 1182.35, 1182.4, 318.65],\n  [1669689060000, 1182.4, 1182.9, 1182.2, 1182.85, 469.15],\n  [1669689120000, 1182.85, 1183.9, 1182.8, 1183.85, 318.88],\n  [1669689180000, 1183.85, 1183.9, 1183.0, 1183.05, 1151.84],\n  [1669689240000, 1183.05, 1183.05, 1182.15, 1182.15, 352.93],\n  [1669689300000, 1182.15, 1182.4, 1181.5, 1181.75, 619.63],\n  [1669689360000, 1181.75, 1181.75, 1181.1, 1181.25, 1217.83],\n  [1669689420000, 1181.25, 1182.0, 1181.1, 1181.95, 644.51],\n  [1669689480000, 1181.95, 1182.5, 1181.9, 1182.3, 827.81],\n  [1669689540000, 1182.3, 1182.5, 1181.95, 1182.3, 956.17],\n  [1669689600000, 1182.3, 1183.25, 1182.3, 1183.25, 428.03],\n  [1669689660000, 1183.25, 1183.35, 1182.75, 1183.3, 491.76],\n  [1669689720000, 1183.3, 1183.6, 1182.9, 1183.25, 408.34],\n  [1669689780000, 1183.25, 1183.45, 1183.25, 1183.4, 103.95],\n  [1669689840000, 1183.4, 1183.8, 1183.3, 1183.35, 292.96],\n  [1669689900000, 1183.35, 1184.5, 1183.15, 1184.15, 657.85],\n  [1669689960000, 1184.15, 1184.4, 1183.85, 1184.3, 158.45],\n  [1669690020000, 1184.3, 1184.8, 1184.1, 1184.3, 434.56],\n  [1669690080000, 1184.3, 1184.35, 1182.95, 1182.95, 661.59],\n  [1669690140000, 1182.95, 1182.95, 1182.05, 1182.15, 401.33],\n  [1669690200000, 1182.15, 1182.2, 1181.15, 1181.6, 785.71],\n  [1669690260000, 1181.6, 1181.75, 1181.6, 1181.7, 159.44],\n  [1669690320000, 1181.7, 1181.75, 1180.9, 1180.95, 1485.09],\n  [1669690380000, 1180.95, 1181.55, 1180.9, 1181.55, 543.27],\n  [1669690440000, 1181.55, 1181.55, 1180.9, 1180.9, 282.06],\n  [1669690500000, 1180.9, 1181.75, 1180.9, 1181.45, 364.13],\n  [1669690560000, 1181.45, 1181.5, 1181.2, 1181.25, 195.89],\n  [1669690620000, 1181.25, 1181.5, 1181.0, 1181.5, 64.7],\n  [1669690680000, 1181.5, 1181.9, 1181.45, 1181.7, 473.76],\n  [1669690740000, 1181.7, 1181.7, 1181.1, 1181.4, 478.66],\n  [1669690800000, 1181.4, 1181.9, 1181.4, 1181.85, 162.4],\n  [1669690860000, 1181.85, 1181.85, 1181.0, 1181.0, 222.42],\n  [1669690920000, 1181.0, 1181.0, 1180.5, 1180.5, 346.91],\n  [1669690980000, 1180.5, 1181.2, 1180.5, 1181.2, 97.47],\n  [1669691040000, 1181.2, 1182.25, 1181.15, 1182.2, 301.03],\n  [1669691100000, 1182.2, 1182.45, 1182.2, 1182.45, 101.64],\n  [1669691160000, 1182.45, 1182.6, 1182.45, 1182.6, 359.01],\n  [1669691220000, 1182.6, 1183.35, 1182.55, 1183.35, 281.26],\n  [1669691280000, 1183.35, 1183.35, 1182.95, 1183.35, 384.61],\n  [1669691340000, 1183.35, 1183.6, 1183.35, 1183.45, 301.02],\n  [1669691400000, 1183.45, 1183.9, 1183.4, 1183.7, 208.8],\n  [1669691460000, 1183.7, 1183.75, 1183.2, 1183.6, 127.23],\n  [1669691520000, 1183.6, 1183.65, 1183.25, 1183.3, 275.55],\n  [1669691580000, 1183.3, 1183.3, 1183.1, 1183.2, 87.58],\n  [1669691640000, 1183.2, 1183.5, 1183.2, 1183.45, 55.93],\n  [1669691700000, 1183.45, 1183.95, 1183.45, 1183.9, 104.45],\n  [1669691760000, 1183.9, 1184.8, 1183.9, 1184.8, 811.13],\n  [1669691820000, 1184.8, 1184.8, 1184.4, 1184.45, 62.93],\n  [1669691880000, 1184.45, 1184.45, 1183.85, 1183.85, 225.84],\n  [1669691940000, 1183.85, 1183.9, 1182.95, 1183.1, 204.95]])"
     },
     "execution_count": 5,
     "metadata": {},
     "output_type": "execute_result"
    }
   ],
   "source": [
    "CI.get(**queries[1])"
   ],
   "metadata": {
    "collapsed": false,
    "pycharm": {
     "name": "#%%\n"
    }
   }
  },
  {
   "cell_type": "code",
   "execution_count": 5,
   "outputs": [
    {
     "name": "stdout",
     "output_type": "stream",
     "text": [
      "gather from db: {'exchange': 'bybit', 'market': 'ETH/USDT:USDT', 'timeframe': '15m'}\n",
      "gather from db: {'exchange': 'bybit', 'market': 'BTC/USDT:USDT', 'timeframe': '15m'}\n",
      "gather from db: {'exchange': 'bybit', 'market': 'TRX/USDT:USDT', 'timeframe': '15m'}\n",
      "{'exchange': 'bybit', 'market': 'ETH/USDT:USDT', 'timeframe': '1m', 'limit': 600, 'end': 1670193660000, 'start': 1670157660000} 199\n",
      "{'exchange': 'bybit', 'market': 'BTC/USDT:USDT', 'timeframe': '1m', 'limit': 600, 'end': 1670193660000, 'start': 1670157660000} 199\n",
      "{'exchange': 'bybit', 'market': 'TRX/USDT:USDT', 'timeframe': '1m', 'limit': 600, 'end': 1670193660000, 'start': 1670157660000} 199\n",
      "{'exchange': 'bybit', 'market': 'BTC/USDT:USDT', 'timeframe': '1h', 'limit': 600, 'end': 1670191200000, 'start': 1668031200000} 199\n",
      "{'exchange': 'bybit', 'market': 'ETH/USDT:USDT', 'timeframe': '1h', 'limit': 600, 'end': 1670191200000, 'start': 1668031200000} 199\n",
      "{'exchange': 'bybit', 'market': 'TRX/USDT:USDT', 'timeframe': '1h', 'limit': 600, 'end': 1670191200000, 'start': 1668031200000} 199\n",
      "{'exchange': 'bybit', 'market': 'BTC/USDT:USDT', 'timeframe': '1m', 'limit': 600, 'end': 1670193660000, 'start': 1670157660000} 398\n",
      "{'exchange': 'bybit', 'market': 'ETH/USDT:USDT', 'timeframe': '1m', 'limit': 600, 'end': 1670193660000, 'start': 1670157660000} 398\n",
      "{'exchange': 'bybit', 'market': 'BTC/USDT:USDT', 'timeframe': '1h', 'limit': 600, 'end': 1670191200000, 'start': 1668031200000} 398\n",
      "{'exchange': 'bybit', 'market': 'TRX/USDT:USDT', 'timeframe': '1m', 'limit': 600, 'end': 1670193660000, 'start': 1670157660000} 398\n",
      "{'exchange': 'bybit', 'market': 'ETH/USDT:USDT', 'timeframe': '1h', 'limit': 600, 'end': 1670191200000, 'start': 1668031200000} 398\n",
      "{'exchange': 'bybit', 'market': 'TRX/USDT:USDT', 'timeframe': '1h', 'limit': 600, 'end': 1670191200000, 'start': 1668031200000} 398\n",
      "{'exchange': 'bybit', 'market': 'BTC/USDT:USDT', 'timeframe': '1m', 'limit': 600, 'end': 1670193660000, 'start': 1670157660000} 597\n",
      "{'exchange': 'bybit', 'market': 'ETH/USDT:USDT', 'timeframe': '1m', 'limit': 600, 'end': 1670193660000, 'start': 1670157660000} 597\n",
      "{'exchange': 'bybit', 'market': 'BTC/USDT:USDT', 'timeframe': '1h', 'limit': 600, 'end': 1670191200000, 'start': 1668031200000} 597\n",
      "{'exchange': 'bybit', 'market': 'TRX/USDT:USDT', 'timeframe': '1m', 'limit': 600, 'end': 1670193660000, 'start': 1670157660000} 597\n",
      "{'exchange': 'bybit', 'market': 'ETH/USDT:USDT', 'timeframe': '1h', 'limit': 600, 'end': 1670191200000, 'start': 1668031200000} 597\n",
      "{'exchange': 'bybit', 'market': 'TRX/USDT:USDT', 'timeframe': '1h', 'limit': 600, 'end': 1670191200000, 'start': 1668031200000} 597\n",
      "{'exchange': 'bybit', 'market': 'BTC/USDT:USDT', 'timeframe': '1m', 'limit': 600, 'end': 1670193660000, 'start': 1670157660000} 600\n",
      "{'exchange': 'bybit', 'market': 'ETH/USDT:USDT', 'timeframe': '1m', 'limit': 600, 'end': 1670193660000, 'start': 1670157660000} 600\n",
      "{'exchange': 'bybit', 'market': 'BTC/USDT:USDT', 'timeframe': '1h', 'limit': 600, 'end': 1670191200000, 'start': 1668031200000} 600\n",
      "{'exchange': 'bybit', 'market': 'TRX/USDT:USDT', 'timeframe': '1m', 'limit': 600, 'end': 1670193660000, 'start': 1670157660000} 600\n",
      "{'exchange': 'bybit', 'market': 'ETH/USDT:USDT', 'timeframe': '1h', 'limit': 600, 'end': 1670191200000, 'start': 1668031200000} 600\n",
      "{'exchange': 'bybit', 'market': 'TRX/USDT:USDT', 'timeframe': '1h', 'limit': 600, 'end': 1670191200000, 'start': 1668031200000} 600\n"
     ]
    }
   ],
   "source": [
    "res = CI.gather(\"bybit\", [\"ETH/USDT:USDT\", \"BTC/USDT:USDT\", \"TRX/USDT:USDT\"], [\"1m\", \"15m\", \"1h\"], limit=600)"
   ],
   "metadata": {
    "collapsed": false,
    "pycharm": {
     "name": "#%%\n"
    }
   }
  },
  {
   "cell_type": "code",
   "execution_count": 7,
   "outputs": [
    {
     "data": {
      "text/plain": "({'exchange': 'bybit',\n  'market': 'BTC/USDT:USDT',\n  'timeframe': '1m',\n  'limit': 600,\n  'end': 1670193660000,\n  'start': 1670157660000},\n [[1670157720000, 16953.0, 16953.5, 16953.0, 16953.5, 19.699],\n  [1670157780000, 16953.5, 16953.5, 16953.0, 16953.5, 4.434],\n  [1670157840000, 16953.5, 16953.5, 16953.0, 16953.5, 7.977],\n  [1670157900000, 16953.5, 16954.0, 16953.0, 16954.0, 28.851],\n  [1670157960000, 16954.0, 16954.0, 16953.5, 16953.5, 8.939],\n  [1670158020000, 16953.5, 16954.0, 16951.0, 16951.5, 86.456],\n  [1670158080000, 16951.5, 16951.5, 16946.0, 16946.0, 74.913],\n  [1670158140000, 16946.0, 16946.5, 16940.0, 16940.0, 49.51],\n  [1670158200000, 16940.0, 16940.5, 16940.0, 16940.0, 36.958],\n  [1670158260000, 16940.0, 16944.5, 16940.0, 16944.5, 62.109],\n  [1670158320000, 16944.5, 16944.5, 16944.0, 16944.0, 9.466],\n  [1670158380000, 16944.0, 16949.5, 16944.0, 16949.0, 25.66],\n  [1670158440000, 16949.0, 16950.0, 16949.0, 16950.0, 9.029],\n  [1670158500000, 16950.0, 16950.0, 16949.5, 16950.0, 10.059],\n  [1670158560000, 16950.0, 16950.0, 16949.5, 16950.0, 5.419],\n  [1670158620000, 16950.0, 16950.0, 16949.5, 16949.5, 3.681],\n  [1670158680000, 16949.5, 16950.0, 16949.5, 16950.0, 6.598],\n  [1670158740000, 16950.0, 16950.0, 16949.5, 16949.5, 1.437],\n  [1670158800000, 16949.5, 16950.0, 16949.5, 16950.0, 13.347],\n  [1670158860000, 16950.0, 16950.0, 16949.5, 16950.0, 16.83],\n  [1670158920000, 16950.0, 16950.0, 16949.5, 16950.0, 14.283],\n  [1670158980000, 16950.0, 16950.0, 16949.5, 16950.0, 4.627],\n  [1670159040000, 16950.0, 16950.0, 16949.5, 16950.0, 7.153],\n  [1670159100000, 16950.0, 16950.0, 16949.5, 16950.0, 4.59],\n  [1670159160000, 16950.0, 16950.0, 16949.5, 16950.0, 8.384],\n  [1670159220000, 16950.0, 16950.0, 16949.0, 16949.5, 3.475],\n  [1670159280000, 16949.5, 16949.5, 16949.0, 16949.5, 1.369],\n  [1670159340000, 16949.5, 16949.5, 16949.0, 16949.5, 11.174],\n  [1670159400000, 16949.5, 16949.5, 16949.0, 16949.5, 2.244],\n  [1670159460000, 16949.5, 16949.5, 16949.0, 16949.5, 9.107],\n  [1670159520000, 16949.5, 16949.5, 16949.0, 16949.5, 2.675],\n  [1670159580000, 16949.5, 16949.5, 16949.0, 16949.5, 35.068],\n  [1670159640000, 16949.5, 16949.5, 16949.0, 16949.0, 2.09],\n  [1670159700000, 16949.0, 16949.5, 16949.0, 16949.5, 3.323],\n  [1670159760000, 16949.5, 16949.5, 16946.5, 16946.5, 59.952],\n  [1670159820000, 16946.5, 16947.0, 16945.5, 16945.5, 23.546],\n  [1670159880000, 16945.5, 16946.0, 16943.0, 16943.5, 34.216],\n  [1670159940000, 16943.5, 16943.5, 16941.0, 16941.0, 20.861],\n  [1670160000000, 16941.0, 16941.5, 16941.0, 16941.0, 8.477],\n  [1670160060000, 16941.0, 16941.5, 16935.5, 16935.5, 37.409],\n  [1670160120000, 16935.5, 16936.0, 16924.5, 16926.5, 128.507],\n  [1670160180000, 16926.5, 16928.5, 16926.0, 16928.0, 18.99],\n  [1670160240000, 16928.0, 16934.0, 16928.0, 16933.5, 40.324],\n  [1670160300000, 16933.5, 16935.5, 16933.5, 16935.0, 12.414],\n  [1670160360000, 16935.0, 16936.5, 16935.0, 16936.0, 9.143],\n  [1670160420000, 16936.0, 16936.5, 16936.0, 16936.0, 4.712],\n  [1670160480000, 16936.0, 16936.5, 16936.0, 16936.5, 2.576],\n  [1670160540000, 16936.5, 16936.5, 16936.0, 16936.5, 2.473],\n  [1670160600000, 16936.5, 16936.5, 16936.0, 16936.5, 13.666],\n  [1670160660000, 16936.5, 16936.5, 16936.0, 16936.5, 21.745],\n  [1670160720000, 16936.5, 16936.5, 16933.0, 16933.5, 10.741],\n  [1670160780000, 16933.5, 16933.5, 16933.0, 16933.0, 39.681],\n  [1670160840000, 16933.0, 16933.5, 16933.0, 16933.0, 25.888],\n  [1670160900000, 16933.0, 16933.5, 16933.0, 16933.5, 25.792],\n  [1670160960000, 16933.5, 16933.5, 16931.0, 16931.5, 8.811],\n  [1670161020000, 16931.5, 16933.0, 16931.0, 16933.0, 11.29],\n  [1670161080000, 16933.0, 16933.0, 16930.5, 16931.0, 24.867],\n  [1670161140000, 16931.0, 16931.0, 16926.0, 16927.5, 20.351],\n  [1670161200000, 16927.5, 16928.5, 16927.5, 16928.0, 12.655],\n  [1670161260000, 16928.0, 16928.5, 16928.0, 16928.5, 8.76],\n  [1670161320000, 16928.5, 16930.0, 16928.0, 16930.0, 25.757],\n  [1670161380000, 16930.0, 16930.5, 16929.5, 16930.0, 9.291],\n  [1670161440000, 16930.0, 16930.5, 16930.0, 16930.5, 20.03],\n  [1670161500000, 16930.5, 16930.5, 16930.0, 16930.5, 9.511],\n  [1670161560000, 16930.5, 16930.5, 16930.0, 16930.0, 24.794],\n  [1670161620000, 16930.0, 16931.0, 16930.0, 16930.5, 12.956],\n  [1670161680000, 16930.5, 16931.0, 16930.5, 16930.5, 6.736],\n  [1670161740000, 16930.5, 16931.0, 16930.5, 16930.5, 11.841],\n  [1670161800000, 16930.5, 16931.0, 16928.5, 16928.5, 22.266],\n  [1670161860000, 16928.5, 16929.0, 16926.0, 16926.5, 12.596],\n  [1670161920000, 16926.5, 16926.5, 16913.0, 16913.0, 164.764],\n  [1670161980000, 16913.0, 16922.0, 16913.0, 16921.5, 45.314],\n  [1670162040000, 16921.5, 16925.0, 16921.5, 16924.5, 20.326],\n  [1670162100000, 16924.5, 16928.5, 16924.5, 16928.0, 47.325],\n  [1670162160000, 16928.0, 16928.5, 16928.0, 16928.5, 5.49],\n  [1670162220000, 16928.5, 16930.5, 16928.0, 16930.0, 12.417],\n  [1670162280000, 16930.0, 16931.5, 16930.0, 16931.0, 11.447],\n  [1670162340000, 16931.0, 16936.5, 16931.0, 16936.0, 38.66],\n  [1670162400000, 16936.0, 16936.5, 16936.0, 16936.5, 7.718],\n  [1670162460000, 16936.5, 16938.5, 16936.0, 16938.0, 92.194],\n  [1670162520000, 16938.0, 16938.5, 16938.0, 16938.0, 41.775],\n  [1670162580000, 16938.0, 16938.5, 16938.0, 16938.5, 19.468],\n  [1670162640000, 16938.5, 16938.5, 16938.0, 16938.0, 12.243],\n  [1670162700000, 16938.0, 16944.0, 16938.0, 16943.5, 59.241],\n  [1670162760000, 16943.5, 16944.0, 16943.5, 16943.5, 7.031],\n  [1670162820000, 16943.5, 16944.0, 16943.5, 16943.5, 29.238],\n  [1670162880000, 16943.5, 16944.0, 16943.5, 16944.0, 29.884],\n  [1670162940000, 16944.0, 16944.0, 16943.5, 16944.0, 4.766],\n  [1670163000000, 16944.0, 16944.0, 16943.5, 16944.0, 8.715],\n  [1670163060000, 16944.0, 16945.0, 16943.5, 16944.5, 7.582],\n  [1670163120000, 16944.5, 16945.0, 16944.5, 16945.0, 7.716],\n  [1670163180000, 16945.0, 16945.0, 16944.5, 16945.0, 4.232],\n  [1670163240000, 16945.0, 16945.0, 16944.5, 16945.0, 40.803],\n  [1670163300000, 16945.0, 16945.0, 16944.5, 16944.5, 41.243],\n  [1670163360000, 16944.5, 16945.0, 16944.5, 16945.0, 48.0],\n  [1670163420000, 16945.0, 16945.0, 16939.5, 16939.5, 52.527],\n  [1670163480000, 16939.5, 16940.0, 16937.0, 16937.5, 23.593],\n  [1670163540000, 16937.5, 16937.5, 16933.5, 16934.0, 12.378],\n  [1670163600000, 16934.0, 16934.0, 16930.0, 16930.0, 10.028],\n  [1670163660000, 16930.0, 16930.5, 16930.0, 16930.5, 23.334],\n  [1670163720000, 16930.5, 16930.5, 16930.0, 16930.5, 6.97],\n  [1670163780000, 16930.5, 16930.5, 16928.0, 16928.0, 33.671],\n  [1670163840000, 16928.0, 16928.5, 16927.5, 16927.5, 18.808],\n  [1670163900000, 16927.5, 16928.0, 16925.0, 16925.5, 13.229],\n  [1670163960000, 16925.5, 16925.5, 16925.0, 16925.5, 7.159],\n  [1670164020000, 16925.5, 16925.5, 16925.0, 16925.5, 2.87],\n  [1670164080000, 16925.5, 16925.5, 16922.5, 16922.5, 73.437],\n  [1670164140000, 16922.5, 16923.0, 16922.5, 16923.0, 7.73],\n  [1670164200000, 16923.0, 16933.0, 16922.5, 16933.0, 63.728],\n  [1670164260000, 16933.0, 16933.0, 16932.5, 16933.0, 24.278],\n  [1670164320000, 16933.0, 16937.5, 16932.5, 16937.0, 9.467],\n  [1670164380000, 16937.0, 16941.0, 16937.0, 16941.0, 43.215],\n  [1670164440000, 16941.0, 16941.0, 16940.5, 16940.5, 37.397],\n  [1670164500000, 16940.5, 16943.0, 16940.5, 16942.5, 7.868],\n  [1670164560000, 16942.5, 16948.0, 16942.5, 16947.0, 38.446],\n  [1670164620000, 16947.0, 16947.5, 16947.0, 16947.0, 5.07],\n  [1670164680000, 16947.0, 16954.0, 16947.0, 16954.0, 74.182],\n  [1670164740000, 16954.0, 16954.0, 16953.5, 16954.0, 35.41],\n  [1670164800000, 16954.0, 16955.0, 16953.5, 16955.0, 54.337],\n  [1670164860000, 16955.0, 16955.5, 16954.5, 16955.0, 10.287],\n  [1670164920000, 16955.0, 16955.5, 16955.0, 16955.0, 16.5],\n  [1670164980000, 16955.0, 16955.5, 16953.0, 16953.0, 53.006],\n  [1670165040000, 16953.0, 16953.5, 16950.5, 16950.5, 74.094],\n  [1670165100000, 16950.5, 16951.0, 16950.5, 16951.0, 6.306],\n  [1670165160000, 16951.0, 16983.5, 16950.5, 16983.5, 486.276],\n  [1670165220000, 16983.5, 16983.5, 16981.0, 16981.0, 123.562],\n  [1670165280000, 16981.0, 16981.5, 16971.0, 16971.5, 143.624],\n  [1670165340000, 16971.5, 16971.5, 16962.0, 16962.5, 37.449],\n  [1670165400000, 16962.5, 16966.5, 16962.0, 16966.5, 31.282],\n  [1670165460000, 16966.5, 16966.5, 16960.5, 16961.0, 25.109],\n  [1670165520000, 16961.0, 16961.0, 16960.5, 16960.5, 10.601],\n  [1670165580000, 16960.5, 16965.0, 16960.5, 16964.5, 49.211],\n  [1670165640000, 16964.5, 16995.0, 16964.5, 16995.0, 232.927],\n  [1670165700000, 16995.0, 16995.0, 16994.5, 16994.5, 94.92],\n  [1670165760000, 16994.5, 17006.0, 16992.0, 16995.0, 440.528],\n  [1670165820000, 16995.0, 16995.5, 16995.0, 16995.0, 38.573],\n  [1670165880000, 16995.0, 16995.5, 16995.0, 16995.0, 112.988],\n  [1670165940000, 16995.0, 16995.5, 16995.0, 16995.5, 36.032],\n  [1670166000000, 16995.5, 17031.0, 16995.0, 17028.0, 568.034],\n  [1670166060000, 17028.0, 17032.5, 17018.0, 17018.0, 321.089],\n  [1670166120000, 17018.0, 17029.5, 17017.0, 17022.5, 254.414],\n  [1670166180000, 17022.5, 17025.0, 17020.0, 17024.5, 73.978],\n  [1670166240000, 17024.5, 17025.0, 17022.0, 17024.0, 191.547],\n  [1670166300000, 17024.0, 17050.0, 17024.0, 17043.5, 801.657],\n  [1670166360000, 17043.5, 17044.0, 17033.5, 17041.0, 246.139],\n  [1670166420000, 17041.0, 17044.5, 17041.0, 17041.0, 99.305],\n  [1670166480000, 17041.0, 17046.5, 17038.5, 17045.5, 211.316],\n  [1670166540000, 17045.5, 17055.0, 17043.0, 17043.5, 479.299],\n  [1670166600000, 17043.5, 17043.5, 17041.0, 17041.0, 88.356],\n  [1670166660000, 17041.0, 17041.5, 17034.0, 17034.0, 86.165],\n  [1670166720000, 17034.0, 17034.5, 17026.0, 17026.5, 141.488],\n  [1670166780000, 17026.5, 17026.5, 17020.0, 17020.5, 225.227],\n  [1670166840000, 17020.5, 17024.0, 17020.0, 17024.0, 99.974],\n  [1670166900000, 17024.0, 17027.0, 17015.5, 17015.5, 154.989],\n  [1670166960000, 17015.5, 17016.0, 17003.0, 17015.0, 446.37],\n  [1670167020000, 17015.0, 17021.5, 17015.0, 17021.5, 80.992],\n  [1670167080000, 17021.5, 17021.5, 17008.5, 17009.0, 77.718],\n  [1670167140000, 17009.0, 17009.0, 17008.5, 17009.0, 25.971],\n  [1670167200000, 17009.0, 17009.0, 17008.5, 17009.0, 30.003],\n  [1670167260000, 17009.0, 17010.5, 17008.5, 17010.5, 99.094],\n  [1670167320000, 17010.5, 17010.5, 17008.5, 17009.0, 24.617],\n  [1670167380000, 17009.0, 17013.5, 17008.5, 17013.5, 90.34],\n  [1670167440000, 17013.5, 17013.5, 17013.0, 17013.0, 33.348],\n  [1670167500000, 17013.0, 17019.0, 17013.0, 17019.0, 52.989],\n  [1670167560000, 17019.0, 17022.5, 17018.5, 17022.5, 72.257],\n  [1670167620000, 17022.5, 17027.0, 17022.0, 17027.0, 50.737],\n  [1670167680000, 17027.0, 17036.5, 17026.5, 17036.5, 165.096],\n  [1670167740000, 17036.5, 17039.0, 17036.0, 17038.0, 160.302],\n  [1670167800000, 17038.0, 17038.0, 17035.0, 17035.5, 168.124],\n  [1670167860000, 17035.5, 17035.5, 17032.0, 17032.0, 95.927],\n  [1670167920000, 17032.0, 17032.5, 17026.5, 17027.0, 27.871],\n  [1670167980000, 17027.0, 17027.0, 17022.0, 17022.5, 31.628],\n  [1670168040000, 17022.5, 17022.5, 17022.0, 17022.0, 39.873],\n  [1670168100000, 17022.0, 17025.0, 17022.0, 17024.5, 28.529],\n  [1670168160000, 17024.5, 17025.0, 17024.5, 17024.5, 9.653],\n  [1670168220000, 17024.5, 17025.0, 17024.0, 17024.5, 16.551],\n  [1670168280000, 17024.5, 17024.5, 17020.5, 17021.0, 29.086],\n  [1670168340000, 17021.0, 17021.0, 17020.5, 17021.0, 24.483],\n  [1670168400000, 17021.0, 17021.0, 17020.0, 17020.5, 7.985],\n  [1670168460000, 17020.5, 17020.5, 17019.0, 17019.0, 33.888],\n  [1670168520000, 17019.0, 17019.5, 17019.0, 17019.0, 20.273],\n  [1670168580000, 17019.0, 17019.5, 17015.0, 17015.0, 56.438],\n  [1670168640000, 17015.0, 17015.5, 17011.5, 17012.0, 53.929],\n  [1670168700000, 17012.0, 17018.0, 17011.5, 17018.0, 64.895],\n  [1670168760000, 17018.0, 17018.0, 17017.5, 17018.0, 10.85],\n  [1670168820000, 17018.0, 17020.0, 17017.5, 17020.0, 26.756],\n  [1670168880000, 17020.0, 17025.5, 17019.5, 17025.0, 55.55],\n  [1670168940000, 17025.0, 17025.5, 17020.0, 17020.0, 51.17],\n  [1670169000000, 17020.0, 17021.5, 17020.0, 17021.0, 16.465],\n  [1670169060000, 17021.0, 17023.0, 17021.0, 17022.5, 6.193],\n  [1670169120000, 17022.5, 17023.0, 17022.5, 17022.5, 10.517],\n  [1670169180000, 17022.5, 17033.0, 17022.5, 17032.5, 67.621],\n  [1670169240000, 17032.5, 17041.0, 17028.5, 17028.5, 317.465],\n  [1670169300000, 17028.5, 17031.0, 17026.5, 17027.0, 23.42],\n  [1670169360000, 17027.0, 17029.5, 17026.5, 17028.0, 5.302],\n  [1670169420000, 17028.0, 17028.0, 17024.5, 17025.0, 28.081],\n  [1670169480000, 17025.0, 17025.0, 17024.5, 17025.0, 12.426],\n  [1670169540000, 17025.0, 17025.0, 17017.5, 17017.5, 32.292],\n  [1670169600000, 17017.5, 17024.5, 17017.5, 17024.0, 71.377],\n  [1670169660000, 17024.0, 17033.5, 17024.0, 17033.5, 80.923],\n  [1670169720000, 17033.5, 17033.5, 17033.0, 17033.0, 42.766],\n  [1670169780000, 17033.0, 17033.5, 17033.0, 17033.0, 11.474],\n  [1670169840000, 17033.0, 17036.0, 17033.0, 17035.5, 42.135],\n  [1670169900000, 17035.5, 17036.0, 17035.5, 17036.0, 19.023],\n  [1670169960000, 17036.0, 17048.0, 17035.5, 17041.0, 274.886],\n  [1670170020000, 17041.0, 17041.5, 17041.0, 17041.0, 14.373],\n  [1670170080000, 17041.0, 17041.5, 17037.0, 17037.5, 96.757],\n  [1670170140000, 17037.5, 17037.5, 17030.0, 17030.0, 100.151],\n  [1670170200000, 17030.0, 17030.5, 17026.5, 17027.0, 83.721],\n  [1670170260000, 17027.0, 17027.0, 17025.0, 17025.5, 15.587],\n  [1670170320000, 17025.5, 17025.5, 17024.0, 17024.5, 16.163],\n  [1670170380000, 17024.5, 17024.5, 17022.0, 17022.0, 17.385],\n  [1670170440000, 17022.0, 17022.5, 17018.0, 17018.0, 46.269],\n  [1670170500000, 17018.0, 17018.5, 17018.0, 17018.5, 54.778],\n  [1670170560000, 17018.5, 17018.5, 17018.0, 17018.5, 25.6],\n  [1670170620000, 17018.5, 17018.5, 17018.0, 17018.0, 24.399],\n  [1670170680000, 17018.0, 17018.5, 17018.0, 17018.0, 23.907],\n  [1670170740000, 17018.0, 17026.5, 17018.0, 17026.5, 82.579],\n  [1670170800000, 17026.5, 17029.5, 17026.0, 17029.5, 25.648],\n  [1670170860000, 17029.5, 17029.5, 17029.0, 17029.0, 18.405],\n  [1670170920000, 17029.0, 17034.5, 17029.0, 17034.5, 29.553],\n  [1670170980000, 17034.5, 17038.0, 17034.0, 17037.5, 23.908],\n  [1670171040000, 17037.5, 17038.0, 17037.0, 17037.0, 12.292],\n  [1670171100000, 17037.0, 17037.5, 17034.5, 17035.0, 36.987],\n  [1670171160000, 17035.0, 17035.0, 17034.5, 17035.0, 24.898],\n  [1670171220000, 17035.0, 17051.5, 17034.5, 17051.5, 385.969],\n  [1670171280000, 17051.5, 17051.5, 17051.0, 17051.0, 55.797],\n  [1670171340000, 17051.0, 17055.0, 17047.0, 17047.0, 275.049],\n  [1670171400000, 17047.0, 17094.0, 17047.0, 17086.5, 924.411],\n  [1670171460000, 17086.5, 17086.5, 17058.0, 17058.0, 323.782],\n  [1670171520000, 17058.0, 17058.5, 17050.0, 17050.0, 88.783],\n  [1670171580000, 17050.0, 17050.5, 17031.0, 17031.0, 660.971],\n  [1670171640000, 17031.0, 17031.5, 17013.0, 17013.5, 176.53],\n  [1670171700000, 17013.5, 17024.5, 17006.0, 17023.0, 178.286],\n  [1670171760000, 17023.0, 17023.0, 17022.0, 17022.5, 31.782],\n  [1670171820000, 17022.5, 17022.5, 17008.0, 17008.5, 224.248],\n  [1670171880000, 17008.5, 17017.0, 17008.5, 17016.0, 93.066],\n  [1670171940000, 17016.0, 17020.0, 17014.0, 17019.5, 57.012],\n  [1670172000000, 17019.5, 17020.0, 17014.5, 17015.5, 51.516],\n  [1670172060000, 17015.5, 17015.5, 17014.0, 17014.5, 21.886],\n  [1670172120000, 17014.5, 17014.5, 17010.0, 17010.0, 33.465],\n  [1670172180000, 17010.0, 17010.5, 17004.5, 17005.5, 159.463],\n  [1670172240000, 17005.5, 17009.0, 17005.5, 17008.5, 51.579],\n  [1670172300000, 17008.5, 17009.0, 17008.5, 17009.0, 17.018],\n  [1670172360000, 17009.0, 17009.0, 17008.5, 17008.5, 59.539],\n  [1670172420000, 17008.5, 17011.5, 17008.5, 17011.0, 41.351],\n  [1670172480000, 17011.0, 17011.5, 17007.5, 17008.0, 20.915],\n  [1670172540000, 17008.0, 17010.0, 17007.5, 17010.0, 82.44],\n  [1670172600000, 17010.0, 17010.0, 17007.0, 17007.5, 140.641],\n  [1670172660000, 17007.5, 17007.5, 17006.5, 17007.0, 55.469],\n  [1670172720000, 17007.0, 17007.0, 17005.0, 17005.5, 25.125],\n  [1670172780000, 17005.5, 17005.5, 17000.0, 17000.0, 75.974],\n  [1670172840000, 17000.0, 17000.5, 16997.0, 16998.0, 71.148],\n  [1670172900000, 16998.0, 17003.0, 16998.0, 17000.5, 72.42],\n  [1670172960000, 17000.5, 17000.5, 16995.0, 16995.0, 40.042],\n  [1670173020000, 16995.0, 16995.5, 16995.0, 16995.5, 28.709],\n  [1670173080000, 16995.5, 16998.5, 16995.0, 16998.0, 89.804],\n  [1670173140000, 16998.0, 17002.0, 16998.0, 17001.5, 99.883],\n  [1670173200000, 17001.5, 17004.0, 17001.5, 17004.0, 13.608],\n  [1670173260000, 17004.0, 17004.0, 16998.5, 16998.5, 35.728],\n  [1670173320000, 16998.5, 16999.0, 16998.5, 16998.5, 15.974],\n  [1670173380000, 16998.5, 16999.0, 16998.5, 16999.0, 8.532],\n  [1670173440000, 16999.0, 16999.0, 16998.0, 16998.5, 39.365],\n  [1670173500000, 16998.5, 16998.5, 16997.0, 16997.5, 42.09],\n  [1670173560000, 16997.5, 16997.5, 16995.0, 16995.0, 16.948],\n  [1670173620000, 16995.0, 16995.5, 16982.0, 16982.0, 146.129],\n  [1670173680000, 16982.0, 16985.0, 16980.5, 16981.0, 73.336],\n  [1670173740000, 16981.0, 16981.0, 16972.5, 16976.0, 150.156],\n  [1670173800000, 16976.0, 16982.0, 16975.5, 16977.5, 62.938],\n  [1670173860000, 16977.5, 16977.5, 16977.0, 16977.5, 7.967],\n  [1670173920000, 16977.5, 16983.5, 16977.0, 16983.0, 54.672],\n  [1670173980000, 16983.0, 16987.0, 16983.0, 16983.5, 54.263],\n  [1670174040000, 16983.5, 16983.5, 16975.5, 16976.0, 26.268],\n  [1670174100000, 16976.0, 16976.0, 16975.5, 16975.5, 34.05],\n  [1670174160000, 16975.5, 16975.5, 16972.5, 16973.5, 18.999],\n  [1670174220000, 16973.5, 16977.0, 16973.5, 16977.0, 21.498],\n  [1670174280000, 16977.0, 16977.0, 16974.0, 16974.0, 13.279],\n  [1670174340000, 16974.0, 16974.5, 16964.5, 16965.5, 201.904],\n  [1670174400000, 16965.5, 16970.0, 16965.0, 16969.5, 34.829],\n  [1670174460000, 16969.5, 16974.0, 16969.5, 16973.5, 16.483],\n  [1670174520000, 16973.5, 16974.0, 16973.5, 16973.5, 2.877],\n  [1670174580000, 16973.5, 16975.0, 16973.5, 16974.5, 22.634],\n  [1670174640000, 16974.5, 16982.0, 16974.5, 16982.0, 38.939],\n  [1670174700000, 16982.0, 16982.0, 16981.5, 16982.0, 8.134],\n  [1670174760000, 16982.0, 16991.0, 16981.5, 16990.5, 38.036],\n  [1670174820000, 16990.5, 16991.0, 16990.0, 16990.5, 49.868],\n  [1670174880000, 16990.5, 16990.5, 16987.5, 16987.5, 20.595],\n  [1670174940000, 16987.5, 16988.0, 16987.5, 16987.5, 5.308],\n  [1670175000000, 16987.5, 16995.5, 16987.5, 16995.5, 27.148],\n  [1670175060000, 16995.5, 16995.5, 16995.0, 16995.5, 14.995],\n  [1670175120000, 16995.5, 16995.5, 16995.0, 16995.5, 24.201],\n  [1670175180000, 16995.5, 16995.5, 16995.0, 16995.0, 16.962],\n  [1670175240000, 16995.0, 16995.5, 16995.0, 16995.5, 6.5],\n  [1670175300000, 16995.5, 16995.5, 16991.0, 16991.0, 45.452],\n  [1670175360000, 16991.0, 16991.5, 16991.0, 16991.5, 8.03],\n  [1670175420000, 16991.5, 16991.5, 16991.0, 16991.0, 12.801],\n  [1670175480000, 16991.0, 16991.5, 16988.5, 16989.0, 8.956],\n  [1670175540000, 16989.0, 16989.0, 16987.0, 16987.5, 15.803],\n  [1670175600000, 16987.5, 16987.5, 16987.0, 16987.0, 6.251],\n  [1670175660000, 16987.0, 16987.5, 16987.0, 16987.5, 6.328],\n  [1670175720000, 16987.5, 16987.5, 16987.0, 16987.5, 5.323],\n  [1670175780000, 16987.5, 16987.5, 16987.0, 16987.0, 6.879],\n  [1670175840000, 16987.0, 16994.0, 16987.0, 16994.0, 29.12],\n  [1670175900000, 16994.0, 16994.0, 16993.5, 16994.0, 27.826],\n  [1670175960000, 16994.0, 17002.0, 16993.5, 17002.0, 58.514],\n  [1670176020000, 17002.0, 17003.5, 17002.0, 17003.0, 85.307],\n  [1670176080000, 17003.0, 17004.5, 17003.0, 17004.5, 57.523],\n  [1670176140000, 17004.5, 17004.5, 17004.0, 17004.5, 14.913],\n  [1670176200000, 17004.5, 17004.5, 17003.0, 17003.5, 59.031],\n  [1670176260000, 17003.5, 17003.5, 17001.0, 17001.0, 26.441],\n  [1670176320000, 17001.0, 17005.5, 17001.0, 17005.5, 15.869],\n  [1670176380000, 17005.5, 17017.0, 17005.5, 17017.0, 146.924],\n  [1670176440000, 17017.0, 17017.0, 17011.5, 17011.5, 57.978],\n  [1670176500000, 17011.5, 17014.0, 17011.5, 17013.5, 27.788],\n  [1670176560000, 17013.5, 17029.0, 17013.5, 17025.5, 101.616],\n  [1670176620000, 17025.5, 17026.0, 17020.5, 17020.5, 30.915],\n  [1670176680000, 17020.5, 17025.0, 17020.5, 17024.5, 20.13],\n  [1670176740000, 17024.5, 17050.5, 17024.5, 17038.0, 335.163],\n  [1670176800000, 17038.0, 17072.0, 17038.0, 17069.0, 417.296],\n  [1670176860000, 17069.0, 17142.0, 17069.0, 17112.5, 2671.354],\n  [1670176920000, 17112.5, 17122.5, 17100.0, 17116.5, 399.419],\n  [1670176980000, 17116.5, 17146.5, 17116.0, 17117.5, 463.182],\n  [1670177040000, 17117.5, 17124.0, 17113.0, 17123.5, 144.134],\n  [1670177100000, 17123.5, 17125.0, 17107.0, 17107.0, 155.303],\n  [1670177160000, 17107.0, 17107.5, 17096.0, 17096.0, 100.925],\n  [1670177220000, 17096.0, 17114.5, 17096.0, 17112.0, 153.514],\n  [1670177280000, 17112.0, 17112.5, 17086.0, 17086.0, 190.143],\n  [1670177340000, 17086.0, 17093.0, 17086.0, 17090.5, 81.009],\n  [1670177400000, 17090.5, 17090.5, 17076.5, 17084.0, 90.266],\n  [1670177460000, 17084.0, 17084.0, 17073.5, 17074.0, 61.359],\n  [1670177520000, 17074.0, 17074.0, 17059.5, 17073.5, 400.453],\n  [1670177580000, 17073.5, 17089.5, 17073.5, 17085.0, 190.106],\n  [1670177640000, 17085.0, 17091.0, 17079.0, 17091.0, 92.692],\n  [1670177700000, 17091.0, 17091.0, 17077.0, 17077.0, 68.134],\n  [1670177760000, 17077.0, 17086.5, 17077.0, 17082.5, 211.306],\n  [1670177820000, 17082.5, 17096.5, 17082.5, 17096.5, 93.229],\n  [1670177880000, 17096.5, 17096.5, 17090.0, 17090.5, 51.117],\n  [1670177940000, 17090.5, 17090.5, 17079.0, 17079.5, 130.783],\n  [1670178000000, 17079.5, 17086.5, 17079.0, 17086.0, 69.535],\n  [1670178060000, 17086.0, 17086.5, 17086.0, 17086.5, 30.809],\n  [1670178120000, 17086.5, 17089.0, 17086.0, 17089.0, 34.108],\n  [1670178180000, 17089.0, 17107.5, 17088.5, 17101.0, 90.527],\n  [1670178240000, 17101.0, 17124.0, 17100.5, 17113.0, 197.354],\n  [1670178300000, 17113.0, 17121.0, 17103.0, 17105.0, 451.64],\n  [1670178360000, 17105.0, 17109.0, 17105.0, 17109.0, 32.517],\n  [1670178420000, 17109.0, 17116.5, 17109.0, 17109.0, 77.91],\n  [1670178480000, 17109.0, 17112.5, 17108.0, 17112.0, 199.868],\n  [1670178540000, 17112.0, 17116.5, 17108.0, 17111.5, 91.099],\n  [1670178600000, 17111.5, 17126.5, 17111.0, 17126.5, 160.937],\n  [1670178660000, 17126.5, 17133.5, 17117.0, 17117.5, 249.982],\n  [1670178720000, 17117.5, 17117.5, 17105.5, 17106.0, 120.208],\n  [1670178780000, 17106.0, 17106.0, 17091.0, 17097.5, 314.057],\n  [1670178840000, 17097.5, 17100.5, 17095.0, 17095.5, 60.475],\n  [1670178900000, 17095.5, 17103.5, 17095.0, 17103.0, 31.827],\n  [1670178960000, 17103.0, 17103.5, 17100.0, 17100.5, 20.204],\n  [1670179020000, 17100.5, 17103.0, 17100.0, 17102.5, 15.463],\n  [1670179080000, 17102.5, 17102.5, 17100.0, 17100.0, 43.013],\n  [1670179140000, 17100.0, 17100.5, 17100.0, 17100.0, 17.38],\n  [1670179200000, 17100.0, 17104.0, 17100.0, 17104.0, 15.0],\n  [1670179260000, 17104.0, 17109.0, 17103.5, 17107.5, 31.348],\n  [1670179320000, 17107.5, 17107.5, 17102.5, 17102.5, 20.851],\n  [1670179380000, 17102.5, 17104.0, 17102.5, 17104.0, 15.29],\n  [1670179440000, 17104.0, 17114.0, 17102.5, 17114.0, 105.745],\n  [1670179500000, 17114.0, 17125.0, 17113.5, 17122.5, 87.052],\n  [1670179560000, 17122.5, 17134.5, 17119.0, 17126.5, 236.113],\n  [1670179620000, 17126.5, 17127.0, 17118.0, 17118.0, 188.28],\n  [1670179680000, 17118.0, 17118.5, 17117.0, 17117.0, 25.296],\n  [1670179740000, 17117.0, 17117.5, 17090.5, 17090.5, 281.906],\n  [1670179800000, 17090.5, 17091.0, 17029.5, 17059.0, 886.58],\n  [1670179860000, 17059.0, 17077.5, 17043.5, 17047.0, 409.269],\n  [1670179920000, 17047.0, 17073.0, 17037.0, 17053.5, 368.281],\n  [1670179980000, 17053.5, 17062.5, 17046.5, 17057.0, 146.61],\n  [1670180040000, 17057.0, 17069.5, 17047.5, 17050.0, 132.39],\n  [1670180100000, 17050.0, 17060.5, 17050.0, 17060.5, 59.458],\n  [1670180160000, 17060.5, 17061.0, 17036.5, 17037.0, 249.575],\n  [1670180220000, 17037.0, 17045.0, 17021.0, 17032.5, 215.654],\n  [1670180280000, 17032.5, 17046.5, 17032.0, 17046.0, 87.021],\n  [1670180340000, 17046.0, 17054.0, 17046.0, 17052.5, 134.177],\n  [1670180400000, 17052.5, 17058.5, 17045.0, 17045.0, 115.313],\n  [1670180460000, 17045.0, 17057.5, 17035.5, 17057.5, 160.489],\n  [1670180520000, 17057.5, 17069.5, 17057.5, 17066.0, 233.39],\n  [1670180580000, 17066.0, 17066.0, 17057.0, 17063.0, 98.87],\n  [1670180640000, 17063.0, 17097.0, 17062.5, 17072.5, 379.521],\n  [1670180700000, 17072.5, 17081.0, 17072.0, 17076.0, 79.144],\n  [1670180760000, 17076.0, 17076.0, 17073.5, 17075.5, 38.657],\n  [1670180820000, 17075.5, 17076.0, 17068.0, 17075.5, 39.776],\n  [1670180880000, 17075.5, 17081.0, 17074.5, 17075.0, 28.317],\n  [1670180940000, 17075.0, 17075.0, 17070.5, 17070.5, 35.749],\n  [1670181000000, 17070.5, 17074.5, 17070.0, 17074.5, 28.718],\n  [1670181060000, 17074.5, 17074.5, 17070.5, 17070.5, 14.441],\n  [1670181120000, 17070.5, 17070.5, 17065.5, 17065.5, 33.458],\n  [1670181180000, 17065.5, 17075.0, 17065.5, 17074.5, 54.408],\n  [1670181240000, 17074.5, 17075.0, 17074.5, 17075.0, 10.432],\n  [1670181300000, 17075.0, 17083.5, 17074.5, 17078.5, 28.024],\n  [1670181360000, 17078.5, 17078.5, 17069.5, 17070.0, 26.109],\n  [1670181420000, 17070.0, 17070.0, 17068.5, 17069.0, 13.181],\n  [1670181480000, 17069.0, 17069.0, 17068.5, 17069.0, 6.23],\n  [1670181540000, 17069.0, 17069.0, 17068.5, 17068.5, 1.834],\n  [1670181600000, 17068.5, 17069.0, 17068.5, 17069.0, 20.77],\n  [1670181660000, 17069.0, 17069.0, 17056.5, 17056.5, 75.168],\n  [1670181720000, 17056.5, 17057.0, 17045.0, 17046.5, 99.722],\n  [1670181780000, 17046.5, 17051.5, 17046.0, 17047.0, 30.411],\n  [1670181840000, 17047.0, 17047.5, 17040.0, 17041.5, 81.117],\n  [1670181900000, 17041.5, 17050.0, 17041.5, 17050.0, 44.367],\n  [1670181960000, 17050.0, 17073.5, 17049.5, 17073.5, 167.691],\n  [1670182020000, 17073.5, 17080.5, 17073.0, 17080.5, 98.051],\n  [1670182080000, 17080.5, 17082.5, 17080.0, 17082.5, 27.756],\n  [1670182140000, 17082.5, 17082.5, 17082.0, 17082.5, 16.15],\n  [1670182200000, 17082.5, 17082.5, 17082.0, 17082.5, 14.187],\n  [1670182260000, 17082.5, 17082.5, 17070.5, 17071.0, 86.554],\n  [1670182320000, 17071.0, 17080.0, 17070.5, 17079.5, 42.447],\n  [1670182380000, 17079.5, 17080.0, 17078.5, 17079.0, 24.385],\n  [1670182440000, 17079.0, 17079.0, 17078.5, 17078.5, 26.045],\n  [1670182500000, 17078.5, 17079.0, 17077.0, 17077.0, 43.598],\n  [1670182560000, 17077.0, 17078.5, 17077.0, 17078.0, 5.45],\n  [1670182620000, 17078.0, 17082.5, 17078.0, 17082.0, 29.181],\n  [1670182680000, 17082.0, 17085.0, 17082.0, 17085.0, 118.78],\n  [1670182740000, 17085.0, 17085.0, 17084.5, 17085.0, 27.261],\n  [1670182800000, 17085.0, 17085.0, 17084.5, 17085.0, 12.342],\n  [1670182860000, 17085.0, 17085.0, 17084.5, 17085.0, 3.732],\n  [1670182920000, 17085.0, 17090.0, 17084.5, 17089.5, 205.469],\n  [1670182980000, 17089.5, 17094.0, 17089.5, 17094.0, 88.277],\n  [1670183040000, 17094.0, 17098.0, 17091.5, 17091.5, 100.595],\n  [1670183100000, 17091.5, 17091.5, 17078.5, 17079.0, 73.148],\n  [1670183160000, 17079.0, 17081.0, 17076.5, 17081.0, 23.332],\n  [1670183220000, 17081.0, 17081.0, 17080.5, 17081.0, 1.131],\n  [1670183280000, 17081.0, 17081.0, 17080.5, 17081.0, 4.564],\n  [1670183340000, 17081.0, 17081.0, 17080.5, 17080.5, 11.564],\n  [1670183400000, 17080.5, 17081.0, 17080.5, 17081.0, 5.854],\n  [1670183460000, 17081.0, 17081.0, 17080.5, 17081.0, 4.436],\n  [1670183520000, 17081.0, 17081.0, 17078.5, 17078.5, 13.55],\n  [1670183580000, 17078.5, 17081.5, 17078.0, 17081.5, 73.243],\n  [1670183640000, 17081.5, 17081.5, 17080.0, 17080.5, 68.643],\n  [1670183700000, 17080.5, 17086.5, 17080.0, 17086.0, 46.88],\n  [1670183760000, 17086.0, 17087.5, 17086.0, 17087.0, 10.255],\n  [1670183820000, 17087.0, 17088.0, 17082.0, 17082.5, 35.644],\n  [1670183880000, 17082.5, 17082.5, 17078.0, 17078.5, 24.799],\n  [1670183940000, 17078.5, 17078.5, 17075.0, 17076.5, 16.649],\n  [1670184000000, 17076.5, 17080.5, 17076.5, 17080.0, 15.046],\n  [1670184060000, 17080.0, 17080.5, 17077.5, 17078.0, 22.125],\n  [1670184120000, 17078.0, 17078.0, 17077.5, 17077.5, 2.637],\n  [1670184180000, 17077.5, 17078.0, 17077.5, 17078.0, 3.307],\n  [1670184240000, 17078.0, 17078.0, 17077.5, 17078.0, 37.109],\n  [1670184300000, 17078.0, 17080.0, 17077.5, 17079.5, 13.011],\n  [1670184360000, 17079.5, 17081.0, 17079.5, 17081.0, 6.148],\n  [1670184420000, 17081.0, 17081.0, 17077.0, 17077.0, 37.392],\n  [1670184480000, 17077.0, 17077.5, 17075.5, 17075.5, 13.87],\n  [1670184540000, 17075.5, 17075.5, 17074.0, 17074.5, 8.531],\n  [1670184600000, 17074.5, 17074.5, 17072.5, 17072.5, 20.718],\n  [1670184660000, 17072.5, 17073.0, 17072.5, 17073.0, 3.303],\n  [1670184720000, 17073.0, 17073.0, 17072.5, 17072.5, 31.382],\n  [1670184780000, 17072.5, 17076.5, 17072.5, 17076.0, 20.091],\n  [1670184840000, 17076.0, 17082.0, 17076.0, 17082.0, 19.782],\n  [1670184900000, 17082.0, 17082.0, 17081.5, 17081.5, 15.065],\n  [1670184960000, 17081.5, 17085.0, 17081.5, 17085.0, 12.71],\n  [1670185020000, 17085.0, 17085.0, 17077.5, 17078.0, 29.231],\n  [1670185080000, 17078.0, 17078.0, 17075.0, 17075.5, 22.346],\n  [1670185140000, 17075.5, 17075.5, 17068.0, 17068.0, 79.623],\n  [1670185200000, 17068.0, 17073.0, 17068.0, 17073.0, 17.938],\n  [1670185260000, 17073.0, 17073.0, 17072.5, 17073.0, 21.014],\n  [1670185320000, 17073.0, 17073.0, 17064.0, 17064.5, 126.068],\n  [1670185380000, 17064.5, 17068.0, 17064.0, 17067.5, 53.046],\n  [1670185440000, 17067.5, 17068.0, 17067.5, 17067.5, 9.182],\n  [1670185500000, 17067.5, 17068.0, 17067.5, 17067.5, 5.956],\n  [1670185560000, 17067.5, 17068.0, 17067.5, 17068.0, 4.885],\n  [1670185620000, 17068.0, 17068.0, 17067.5, 17068.0, 1.273],\n  [1670185680000, 17068.0, 17068.0, 17067.5, 17068.0, 44.954],\n  [1670185740000, 17068.0, 17068.0, 17067.5, 17068.0, 33.629],\n  [1670185800000, 17068.0, 17068.0, 17065.0, 17065.5, 23.964],\n  [1670185860000, 17065.5, 17065.5, 17063.0, 17063.0, 14.705],\n  [1670185920000, 17063.0, 17073.0, 17063.0, 17072.5, 20.733],\n  [1670185980000, 17072.5, 17075.5, 17072.5, 17075.5, 7.059],\n  [1670186040000, 17075.5, 17076.5, 17075.0, 17076.0, 10.838],\n  [1670186100000, 17076.0, 17081.5, 17076.0, 17081.0, 13.804],\n  [1670186160000, 17081.0, 17081.5, 17081.0, 17081.0, 3.848],\n  [1670186220000, 17081.0, 17087.5, 17081.0, 17087.5, 16.593],\n  [1670186280000, 17087.5, 17093.5, 17087.0, 17093.5, 147.606],\n  [1670186340000, 17093.5, 17095.5, 17093.0, 17095.0, 104.423],\n  [1670186400000, 17095.0, 17095.5, 17090.5, 17090.5, 104.687],\n  [1670186460000, 17090.5, 17091.0, 17090.0, 17090.0, 24.355],\n  [1670186520000, 17090.0, 17098.0, 17090.0, 17097.5, 52.384],\n  [1670186580000, 17097.5, 17102.5, 17097.5, 17098.0, 90.144],\n  [1670186640000, 17098.0, 17098.0, 17097.5, 17098.0, 6.109],\n  [1670186700000, 17098.0, 17098.0, 17097.5, 17098.0, 37.753],\n  [1670186760000, 17098.0, 17110.0, 17097.5, 17110.0, 110.223],\n  [1670186820000, 17110.0, 17119.0, 17101.0, 17104.0, 336.095],\n  [1670186880000, 17104.0, 17104.5, 17096.5, 17100.0, 143.93],\n  [1670186940000, 17100.0, 17100.5, 17085.5, 17086.0, 191.938],\n  [1670187000000, 17086.0, 17086.0, 17085.5, 17086.0, 13.082],\n  [1670187060000, 17086.0, 17086.0, 17081.0, 17081.0, 77.109],\n  [1670187120000, 17081.0, 17081.5, 17081.0, 17081.5, 37.026],\n  [1670187180000, 17081.5, 17081.5, 17081.0, 17081.0, 15.874],\n  [1670187240000, 17081.0, 17085.0, 17081.0, 17085.0, 25.391],\n  [1670187300000, 17085.0, 17085.0, 17082.0, 17082.5, 13.892],\n  [1670187360000, 17082.5, 17082.5, 17079.0, 17079.0, 25.215],\n  [1670187420000, 17079.0, 17079.5, 17079.0, 17079.0, 16.925],\n  [1670187480000, 17079.0, 17082.0, 17079.0, 17081.5, 22.866],\n  [1670187540000, 17081.5, 17082.0, 17081.5, 17081.5, 3.86],\n  [1670187600000, 17081.5, 17082.0, 17078.5, 17079.0, 16.356],\n  [1670187660000, 17079.0, 17079.0, 17077.0, 17077.5, 14.741],\n  [1670187720000, 17077.5, 17080.5, 17077.0, 17080.5, 17.327],\n  [1670187780000, 17080.5, 17080.5, 17070.0, 17070.0, 53.763],\n  [1670187840000, 17070.0, 17070.5, 17070.0, 17070.0, 17.783],\n  [1670187900000, 17070.0, 17070.5, 17067.0, 17068.0, 46.284],\n  [1670187960000, 17068.0, 17074.0, 17068.0, 17073.5, 29.331],\n  [1670188020000, 17073.5, 17074.0, 17073.5, 17074.0, 15.14],\n  [1670188080000, 17074.0, 17074.0, 17073.5, 17074.0, 41.003],\n  [1670188140000, 17074.0, 17074.0, 17073.5, 17074.0, 4.784],\n  [1670188200000, 17074.0, 17074.0, 17073.5, 17073.5, 64.009],\n  [1670188260000, 17073.5, 17074.0, 17073.5, 17074.0, 4.997],\n  [1670188320000, 17074.0, 17081.0, 17073.5, 17080.5, 16.214],\n  [1670188380000, 17080.5, 17081.0, 17080.5, 17081.0, 22.131],\n  [1670188440000, 17081.0, 17081.0, 17080.5, 17081.0, 7.303],\n  [1670188500000, 17081.0, 17081.0, 17075.0, 17075.5, 21.889],\n  [1670188560000, 17075.5, 17080.5, 17075.0, 17080.5, 5.999],\n  [1670188620000, 17080.5, 17082.0, 17080.0, 17082.0, 14.352],\n  [1670188680000, 17082.0, 17083.5, 17081.5, 17083.5, 12.476],\n  [1670188740000, 17083.5, 17083.5, 17082.0, 17082.0, 76.856],\n  [1670188800000, 17082.0, 17082.0, 17078.0, 17078.0, 8.342],\n  [1670188860000, 17078.0, 17078.0, 17076.0, 17076.5, 20.573],\n  [1670188920000, 17076.5, 17076.5, 17068.5, 17068.5, 41.832],\n  [1670188980000, 17068.5, 17069.5, 17067.5, 17069.5, 22.919],\n  [1670189040000, 17069.5, 17069.5, 17069.0, 17069.5, 3.611],\n  [1670189100000, 17069.5, 17069.5, 17067.5, 17068.0, 21.501],\n  [1670189160000, 17068.0, 17068.0, 17067.5, 17068.0, 17.124],\n  [1670189220000, 17068.0, 17068.0, 17067.5, 17068.0, 9.607],\n  [1670189280000, 17068.0, 17068.0, 17067.5, 17068.0, 7.91],\n  [1670189340000, 17068.0, 17068.0, 17067.5, 17068.0, 9.424],\n  [1670189400000, 17068.0, 17068.0, 17067.5, 17067.5, 9.935],\n  [1670189460000, 17067.5, 17068.0, 17067.5, 17068.0, 5.035],\n  [1670189520000, 17068.0, 17068.0, 17067.5, 17068.0, 3.01],\n  [1670189580000, 17068.0, 17068.0, 17067.5, 17067.5, 9.726],\n  [1670189640000, 17067.5, 17068.0, 17067.5, 17067.5, 3.567],\n  [1670189700000, 17067.5, 17068.0, 17066.0, 17066.0, 23.648],\n  [1670189760000, 17066.0, 17066.0, 17064.5, 17064.5, 31.083],\n  [1670189820000, 17064.5, 17071.5, 17064.5, 17071.0, 30.109],\n  [1670189880000, 17071.0, 17073.0, 17071.0, 17072.5, 27.068],\n  [1670189940000, 17072.5, 17075.5, 17072.5, 17075.5, 7.784],\n  [1670190000000, 17075.5, 17079.5, 17075.0, 17079.5, 46.852],\n  [1670190060000, 17079.5, 17079.5, 17079.0, 17079.5, 9.421],\n  [1670190120000, 17079.5, 17079.5, 17079.0, 17079.5, 6.369],\n  [1670190180000, 17079.5, 17085.0, 17079.0, 17085.0, 8.898],\n  [1670190240000, 17085.0, 17085.0, 17084.5, 17084.5, 18.215],\n  [1670190300000, 17084.5, 17085.0, 17084.5, 17085.0, 20.499],\n  [1670190360000, 17085.0, 17085.0, 17084.5, 17085.0, 14.42],\n  [1670190420000, 17085.0, 17085.0, 17084.5, 17084.5, 8.392],\n  [1670190480000, 17084.5, 17085.0, 17084.5, 17085.0, 2.369],\n  [1670190540000, 17085.0, 17090.5, 17084.5, 17090.0, 46.934],\n  [1670190600000, 17090.0, 17090.5, 17090.0, 17090.5, 5.945],\n  [1670190660000, 17090.5, 17090.5, 17090.0, 17090.0, 5.604],\n  [1670190720000, 17090.0, 17090.5, 17090.0, 17090.0, 3.494],\n  [1670190780000, 17090.0, 17092.0, 17090.0, 17092.0, 11.574],\n  [1670190840000, 17092.0, 17093.0, 17091.5, 17092.5, 25.012],\n  [1670190900000, 17092.5, 17094.5, 17092.5, 17094.5, 8.984],\n  [1670190960000, 17094.5, 17095.0, 17094.0, 17095.0, 4.79],\n  [1670191020000, 17095.0, 17095.5, 17094.5, 17095.5, 49.967],\n  [1670191080000, 17095.5, 17102.0, 17095.0, 17101.5, 47.03],\n  [1670191140000, 17101.5, 17107.0, 17101.5, 17103.5, 110.104],\n  [1670191200000, 17103.5, 17103.5, 17098.5, 17103.0, 64.456],\n  [1670191260000, 17103.0, 17106.0, 17100.5, 17100.5, 45.959],\n  [1670191320000, 17100.5, 17100.5, 17099.0, 17099.5, 74.266],\n  [1670191380000, 17099.5, 17099.5, 17094.0, 17094.5, 27.375],\n  [1670191440000, 17094.5, 17094.5, 17093.0, 17093.0, 43.9],\n  [1670191500000, 17093.0, 17093.5, 17092.5, 17093.0, 9.034],\n  [1670191560000, 17093.0, 17095.0, 17092.5, 17095.0, 39.706],\n  [1670191620000, 17095.0, 17095.0, 17094.5, 17094.5, 9.464],\n  [1670191680000, 17094.5, 17123.0, 17094.5, 17116.0, 220.38],\n  [1670191740000, 17116.0, 17119.5, 17115.5, 17119.5, 85.701],\n  [1670191800000, 17119.5, 17119.5, 17111.0, 17111.5, 73.326],\n  [1670191860000, 17111.5, 17111.5, 17090.0, 17095.5, 151.312],\n  [1670191920000, 17095.5, 17099.5, 17095.5, 17099.5, 135.66],\n  [1670191980000, 17099.5, 17099.5, 17096.0, 17096.5, 24.591],\n  [1670192040000, 17096.5, 17096.5, 17095.0, 17095.5, 14.489],\n  [1670192100000, 17095.5, 17095.5, 17095.0, 17095.5, 7.274],\n  [1670192160000, 17095.5, 17095.5, 17095.0, 17095.5, 14.677],\n  [1670192220000, 17095.5, 17099.0, 17095.0, 17098.5, 33.013],\n  [1670192280000, 17098.5, 17098.5, 17095.0, 17095.5, 5.575],\n  [1670192340000, 17095.5, 17095.5, 17093.0, 17093.5, 14.836],\n  [1670192400000, 17093.5, 17093.5, 17093.0, 17093.5, 10.014],\n  [1670192460000, 17093.5, 17093.5, 17093.0, 17093.5, 12.574],\n  [1670192520000, 17093.5, 17093.5, 17093.0, 17093.5, 5.716],\n  [1670192580000, 17093.5, 17093.5, 17093.0, 17093.5, 4.83],\n  [1670192640000, 17093.5, 17093.5, 17093.0, 17093.5, 2.007],\n  [1670192700000, 17093.5, 17093.5, 17093.0, 17093.5, 3.365],\n  [1670192760000, 17093.5, 17093.5, 17092.5, 17093.0, 13.175],\n  [1670192820000, 17093.0, 17093.0, 17092.5, 17092.5, 6.693],\n  [1670192880000, 17092.5, 17092.5, 17086.5, 17087.0, 23.736],\n  [1670192940000, 17087.0, 17087.0, 17084.0, 17084.5, 22.492],\n  [1670193000000, 17084.5, 17087.0, 17082.0, 17087.0, 29.73],\n  [1670193060000, 17087.0, 17090.0, 17086.5, 17090.0, 14.145],\n  [1670193120000, 17090.0, 17091.5, 17090.0, 17091.0, 8.028],\n  [1670193180000, 17091.0, 17092.5, 17091.0, 17092.5, 9.844],\n  [1670193240000, 17092.5, 17092.5, 17092.0, 17092.5, 5.317],\n  [1670193300000, 17092.5, 17092.5, 17092.0, 17092.5, 4.131],\n  [1670193360000, 17092.5, 17092.5, 17092.0, 17092.5, 5.613],\n  [1670193420000, 17092.5, 17092.5, 17092.0, 17092.5, 3.665],\n  [1670193480000, 17092.5, 17092.5, 17092.0, 17092.5, 6.405],\n  [1670193540000, 17092.5, 17092.5, 17085.5, 17086.0, 31.059],\n  [1670193600000, 17086.0, 17086.0, 17072.0, 17072.5, 61.838],\n  [1670193660000, 17072.5, 17072.5, 17070.5, 17071.0, 7.453]])"
     },
     "execution_count": 7,
     "metadata": {},
     "output_type": "execute_result"
    }
   ],
   "source": [
    "res[4]"
   ],
   "metadata": {
    "collapsed": false,
    "pycharm": {
     "name": "#%%\n"
    }
   }
  },
  {
   "cell_type": "code",
   "execution_count": 8,
   "outputs": [
    {
     "data": {
      "text/plain": "[({'exchange': 'bybit',\n   'market': 'ETH/USDT:USDT',\n   'timeframe': '15m',\n   'limit': 600,\n   'end': 1670193000000,\n   'start': 1669653000000},\n  {-2: 1236.1, -3: 1192.3, -4: 1155.6, 2: 1235.0, 3: 1286.85, 4: 1314.05}),\n ({'exchange': 'bybit',\n   'market': 'BTC/USDT:USDT',\n   'timeframe': '15m',\n   'limit': 600,\n   'end': 1670193000000,\n   'start': 1669653000000},\n  {-2: 16708.0, -3: 16352.0, -4: 16092.5, 2: 16988.0, 3: 17100.0, 4: 17390.0}),\n ({'exchange': 'bybit',\n   'market': 'TRX/USDT:USDT',\n   'timeframe': '15m',\n   'limit': 600,\n   'end': 1670193000000,\n   'start': 1669653000000},\n  {-2: 0.0537, -3: 0.05311, -4: 0.05267, 2: 0.05419, 3: 0.05449, 4: 0.05513}),\n ({'exchange': 'bybit',\n   'market': 'ETH/USDT:USDT',\n   'timeframe': '1m',\n   'limit': 600,\n   'end': 1670193660000,\n   'start': 1670157660000},\n  {-2: 1260.8, -3: 1254.4, -4: 1250.4, 2: 1266.95, 3: 1278.05, 4: 1283.0}),\n ({'exchange': 'bybit',\n   'market': 'BTC/USDT:USDT',\n   'timeframe': '1m',\n   'limit': 600,\n   'end': 1670193660000,\n   'start': 1670157660000},\n  {-2: 16992.0, -3: 16960.5, -4: 16913.0, 2: 17032.5, 3: 17058.5, 4: 17146.5}),\n ({'exchange': 'bybit',\n   'market': 'TRX/USDT:USDT',\n   'timeframe': '1m',\n   'limit': 600,\n   'end': 1670193660000,\n   'start': 1670157660000},\n  {-2: 0.05305, -3: 0.05294, -4: 0.05286, 2: 0.05317, 3: 0.05325, 4: 0.05332}),\n ({'exchange': 'bybit',\n   'market': 'ETH/USDT:USDT',\n   'timeframe': '1h',\n   'limit': 600,\n   'end': 1670191200000,\n   'start': 1668031200000},\n  {-2: 1194.35, -3: 1144.6, -4: 1071.6, 2: 1239.75, 3: 1314.05, 4: 1351.35}),\n ({'exchange': 'bybit',\n   'market': 'BTC/USDT:USDT',\n   'timeframe': '1h',\n   'limit': 600,\n   'end': 1670191200000,\n   'start': 1668031200000},\n  {-2: 16301.5, -3: 15978.0, -4: 15440.0, 2: 17213.0, 3: 17673.5, 4: 18191.0}),\n ({'exchange': 'bybit',\n   'market': 'TRX/USDT:USDT',\n   'timeframe': '1h',\n   'limit': 600,\n   'end': 1670191200000,\n   'start': 1668031200000},\n  {-2: 0.05103, -3: 0.04658, -4: 0.04453, 2: 0.05513, 3: 0.05899, 4: 0.06271})]"
     },
     "execution_count": 8,
     "metadata": {},
     "output_type": "execute_result"
    }
   ],
   "source": [
    "import Backtester.indicators.wave_cluster as ind\n",
    "\n",
    "ind.get_wave_reports(res)"
   ],
   "metadata": {
    "collapsed": false,
    "pycharm": {
     "name": "#%%\n"
    }
   }
  },
  {
   "cell_type": "code",
   "execution_count": 10,
   "outputs": [
    {
     "data": {
      "text/plain": "[KeyError('market'),\n ({'exchange': 'bybit',\n   'market': 'BTC/USDT:USDT',\n   'timeframe': '1m',\n   'limit': 500,\n   'end': 1669691997000,\n   'start': 1669661997000},\n  [[1669662060000, 16166.5, 16167.0, 16159.5, 16160.0, 26.52],\n   [1669662120000, 16160.0, 16160.0, 16156.5, 16159.5, 64.692],\n   [1669662180000, 16159.5, 16160.0, 16151.0, 16151.5, 14.024],\n   [1669662240000, 16151.5, 16151.5, 16149.0, 16149.0, 31.603],\n   [1669662300000, 16149.0, 16160.0, 16149.0, 16159.5, 30.61],\n   [1669662360000, 16159.5, 16165.5, 16159.5, 16165.5, 27.919],\n   [1669662420000, 16165.5, 16165.5, 16160.0, 16165.5, 35.097],\n   [1669662480000, 16165.5, 16165.5, 16165.0, 16165.5, 11.159],\n   [1669662540000, 16165.5, 16165.5, 16158.5, 16158.5, 32.77],\n   [1669662600000, 16158.5, 16159.0, 16154.5, 16155.5, 22.885],\n   [1669662660000, 16155.5, 16157.0, 16150.5, 16150.5, 11.894],\n   [1669662720000, 16150.5, 16151.0, 16150.5, 16150.5, 30.487],\n   [1669662780000, 16150.5, 16155.0, 16146.5, 16154.5, 65.677],\n   [1669662840000, 16154.5, 16156.5, 16152.5, 16152.5, 22.079],\n   [1669662900000, 16152.5, 16153.0, 16148.5, 16149.0, 28.671],\n   [1669662960000, 16149.0, 16156.5, 16148.5, 16155.5, 46.55],\n   [1669663020000, 16155.5, 16156.0, 16149.0, 16155.0, 33.438],\n   [1669663080000, 16155.0, 16160.0, 16154.5, 16157.0, 23.081],\n   [1669663140000, 16157.0, 16157.0, 16154.0, 16154.0, 6.915],\n   [1669663200000, 16154.0, 16154.5, 16154.0, 16154.5, 9.291],\n   [1669663260000, 16154.5, 16162.0, 16154.0, 16162.0, 37.949],\n   [1669663320000, 16162.0, 16170.0, 16161.5, 16170.0, 57.38],\n   [1669663380000, 16170.0, 16170.0, 16169.5, 16169.5, 19.886],\n   [1669663440000, 16169.5, 16174.5, 16169.5, 16174.5, 27.414],\n   [1669663500000, 16174.5, 16174.5, 16172.0, 16172.5, 18.437],\n   [1669663560000, 16172.5, 16175.0, 16172.5, 16175.0, 27.136],\n   [1669663620000, 16175.0, 16175.0, 16164.5, 16165.5, 181.899],\n   [1669663680000, 16165.5, 16170.5, 16165.0, 16170.5, 15.89],\n   [1669663740000, 16170.5, 16173.5, 16170.0, 16173.5, 93.122],\n   [1669663800000, 16173.5, 16173.5, 16165.5, 16166.0, 60.188],\n   [1669663860000, 16166.0, 16173.0, 16165.5, 16173.0, 10.437],\n   [1669663920000, 16173.0, 16174.0, 16172.5, 16174.0, 36.96],\n   [1669663980000, 16174.0, 16182.5, 16173.5, 16182.0, 126.702],\n   [1669664040000, 16182.0, 16182.0, 16181.5, 16181.5, 24.114],\n   [1669664100000, 16181.5, 16182.0, 16176.0, 16176.5, 34.786],\n   [1669664160000, 16176.5, 16176.5, 16173.0, 16173.5, 18.84],\n   [1669664220000, 16173.5, 16173.5, 16173.0, 16173.0, 19.874],\n   [1669664280000, 16173.0, 16183.5, 16173.0, 16183.5, 52.218],\n   [1669664340000, 16183.5, 16199.5, 16183.0, 16194.5, 186.884],\n   [1669664400000, 16194.5, 16195.0, 16182.0, 16182.5, 144.019],\n   [1669664460000, 16182.5, 16182.5, 16182.0, 16182.5, 33.365],\n   [1669664520000, 16182.5, 16187.0, 16182.0, 16186.5, 26.818],\n   [1669664580000, 16186.5, 16221.5, 16186.5, 16216.5, 439.947],\n   [1669664640000, 16216.5, 16253.0, 16213.0, 16244.5, 791.697],\n   [1669664700000, 16244.5, 16244.5, 16227.0, 16239.5, 179.641],\n   [1669664760000, 16239.5, 16239.5, 16224.5, 16225.0, 81.773],\n   [1669664820000, 16225.0, 16225.0, 16211.5, 16213.5, 76.537],\n   [1669664880000, 16213.5, 16221.5, 16213.5, 16215.0, 44.716],\n   [1669664940000, 16215.0, 16215.0, 16214.5, 16214.5, 21.022],\n   [1669665000000, 16214.5, 16220.5, 16214.5, 16220.5, 33.913],\n   [1669665060000, 16220.5, 16229.5, 16220.0, 16220.5, 84.091],\n   [1669665120000, 16220.5, 16220.5, 16214.0, 16216.0, 64.174],\n   [1669665180000, 16216.0, 16216.5, 16216.0, 16216.5, 5.581],\n   [1669665240000, 16216.5, 16228.0, 16216.0, 16224.5, 35.463],\n   [1669665300000, 16224.5, 16225.0, 16219.0, 16219.0, 22.487],\n   [1669665360000, 16219.0, 16225.5, 16219.0, 16225.0, 31.113],\n   [1669665420000, 16225.0, 16225.5, 16225.0, 16225.0, 21.495],\n   [1669665480000, 16225.0, 16225.5, 16217.0, 16217.0, 34.1],\n   [1669665540000, 16217.0, 16217.0, 16216.0, 16216.5, 7.967],\n   [1669665600000, 16216.5, 16223.5, 16216.0, 16219.0, 23.477],\n   [1669665660000, 16219.0, 16220.0, 16207.5, 16220.0, 35.356],\n   [1669665720000, 16220.0, 16229.0, 16219.5, 16223.0, 114.252],\n   [1669665780000, 16223.0, 16228.0, 16222.5, 16227.5, 26.742],\n   [1669665840000, 16227.5, 16227.5, 16220.0, 16220.0, 45.976],\n   [1669665900000, 16220.0, 16220.5, 16214.0, 16214.5, 26.431],\n   [1669665960000, 16214.5, 16218.0, 16207.5, 16217.5, 49.401],\n   [1669666020000, 16217.5, 16219.5, 16216.0, 16216.0, 27.055],\n   [1669666080000, 16216.0, 16224.0, 16216.0, 16223.5, 6.789],\n   [1669666140000, 16223.5, 16228.0, 16223.5, 16224.5, 38.741],\n   [1669666200000, 16224.5, 16224.5, 16220.0, 16220.5, 19.912],\n   [1669666260000, 16220.5, 16220.5, 16220.0, 16220.5, 5.596],\n   [1669666320000, 16220.5, 16223.5, 16220.0, 16223.5, 16.787],\n   [1669666380000, 16223.5, 16223.5, 16223.0, 16223.5, 6.744],\n   [1669666440000, 16223.5, 16223.5, 16223.0, 16223.0, 8.813],\n   [1669666500000, 16223.0, 16223.5, 16220.0, 16220.0, 43.582],\n   [1669666560000, 16220.0, 16220.5, 16216.5, 16216.5, 20.887],\n   [1669666620000, 16216.5, 16217.0, 16212.0, 16216.5, 77.11],\n   [1669666680000, 16216.5, 16218.0, 16216.5, 16217.5, 48.437],\n   [1669666740000, 16217.5, 16233.0, 16217.5, 16232.5, 78.497],\n   [1669666800000, 16232.5, 16240.5, 16230.0, 16230.0, 67.594],\n   [1669666860000, 16230.0, 16230.0, 16221.5, 16221.5, 64.671],\n   [1669666920000, 16221.5, 16222.0, 16221.5, 16222.0, 26.144],\n   [1669666980000, 16222.0, 16222.0, 16221.5, 16221.5, 12.529],\n   [1669667040000, 16221.5, 16222.0, 16221.5, 16221.5, 4.243],\n   [1669667100000, 16221.5, 16225.0, 16220.0, 16220.5, 25.774],\n   [1669667160000, 16220.5, 16222.0, 16218.0, 16222.0, 76.321],\n   [1669667220000, 16222.0, 16231.5, 16221.5, 16231.5, 51.576],\n   [1669667280000, 16231.5, 16235.0, 16230.5, 16231.0, 27.088],\n   [1669667340000, 16231.0, 16231.0, 16230.5, 16231.0, 8.289],\n   [1669667400000, 16231.0, 16232.0, 16230.0, 16230.0, 23.314],\n   [1669667460000, 16230.0, 16230.5, 16225.0, 16225.0, 22.786],\n   [1669667520000, 16225.0, 16228.0, 16223.5, 16228.0, 35.091],\n   [1669667580000, 16228.0, 16235.0, 16227.5, 16235.0, 59.933],\n   [1669667640000, 16235.0, 16240.0, 16234.5, 16239.0, 58.195],\n   [1669667700000, 16239.0, 16239.0, 16238.5, 16238.5, 59.729],\n   [1669667760000, 16238.5, 16243.5, 16238.5, 16241.5, 49.028],\n   [1669667820000, 16241.5, 16241.5, 16238.0, 16238.0, 24.048],\n   [1669667880000, 16238.0, 16238.5, 16235.5, 16235.5, 19.665],\n   [1669667940000, 16235.5, 16236.0, 16228.0, 16228.0, 122.699],\n   [1669668000000, 16228.0, 16228.5, 16228.0, 16228.5, 89.478],\n   [1669668060000, 16228.5, 16234.0, 16228.5, 16234.0, 17.184],\n   [1669668120000, 16234.0, 16234.0, 16233.5, 16234.0, 3.225],\n   [1669668180000, 16234.0, 16234.0, 16233.0, 16233.5, 9.253],\n   [1669668240000, 16233.5, 16236.0, 16233.0, 16236.0, 33.227],\n   [1669668300000, 16236.0, 16236.0, 16235.5, 16236.0, 15.333],\n   [1669668360000, 16236.0, 16236.0, 16235.5, 16236.0, 24.083],\n   [1669668420000, 16236.0, 16236.0, 16230.0, 16230.5, 40.445],\n   [1669668480000, 16230.5, 16230.5, 16230.0, 16230.5, 5.759],\n   [1669668540000, 16230.5, 16230.5, 16230.0, 16230.5, 15.243],\n   [1669668600000, 16230.5, 16240.5, 16230.0, 16230.5, 40.617],\n   [1669668660000, 16230.5, 16230.5, 16230.0, 16230.0, 2.127],\n   [1669668720000, 16230.0, 16230.5, 16230.0, 16230.5, 34.458],\n   [1669668780000, 16230.5, 16231.0, 16230.5, 16231.0, 5.218],\n   [1669668840000, 16231.0, 16242.0, 16230.5, 16241.5, 10.771],\n   [1669668900000, 16241.5, 16242.0, 16236.0, 16236.0, 17.742],\n   [1669668960000, 16236.0, 16236.5, 16236.0, 16236.0, 14.044],\n   [1669669020000, 16236.0, 16236.5, 16236.0, 16236.5, 10.994],\n   [1669669080000, 16236.5, 16265.0, 16236.0, 16254.5, 172.437],\n   [1669669140000, 16254.5, 16262.0, 16249.5, 16254.5, 123.866],\n   [1669669200000, 16254.5, 16255.5, 16242.5, 16243.0, 77.132],\n   [1669669260000, 16243.0, 16243.0, 16242.0, 16242.0, 21.579],\n   [1669669320000, 16242.0, 16242.5, 16238.0, 16238.0, 25.165],\n   [1669669380000, 16238.0, 16240.0, 16238.0, 16239.5, 32.326],\n   [1669669440000, 16239.5, 16242.5, 16239.5, 16240.0, 12.805],\n   [1669669500000, 16240.0, 16240.5, 16234.5, 16235.0, 26.023],\n   [1669669560000, 16235.0, 16235.0, 16224.5, 16225.0, 83.991],\n   [1669669620000, 16225.0, 16225.0, 16217.5, 16218.0, 138.034],\n   [1669669680000, 16218.0, 16218.0, 16211.5, 16212.0, 38.427],\n   [1669669740000, 16212.0, 16212.0, 16203.0, 16203.0, 111.782],\n   [1669669800000, 16203.0, 16208.5, 16189.0, 16204.0, 174.365],\n   [1669669860000, 16204.0, 16210.0, 16203.5, 16210.0, 16.414],\n   [1669669920000, 16210.0, 16210.0, 16209.5, 16210.0, 48.951],\n   [1669669980000, 16210.0, 16210.0, 16202.0, 16202.0, 35.804],\n   [1669670040000, 16202.0, 16202.5, 16196.5, 16197.0, 58.254],\n   [1669670100000, 16197.0, 16198.0, 16189.5, 16197.5, 87.946],\n   [1669670160000, 16197.5, 16205.0, 16197.5, 16204.5, 46.363],\n   [1669670220000, 16204.5, 16207.0, 16204.5, 16207.0, 11.209],\n   [1669670280000, 16207.0, 16207.0, 16204.5, 16205.0, 12.146],\n   [1669670340000, 16205.0, 16210.0, 16204.5, 16210.0, 7.901],\n   [1669670400000, 16210.0, 16215.0, 16209.5, 16211.0, 75.522],\n   [1669670460000, 16211.0, 16215.0, 16210.5, 16215.0, 8.662],\n   [1669670520000, 16215.0, 16219.0, 16214.5, 16219.0, 24.799],\n   [1669670580000, 16219.0, 16220.0, 16218.5, 16219.5, 11.401],\n   [1669670640000, 16219.5, 16222.0, 16218.5, 16219.0, 63.187],\n   [1669670700000, 16219.0, 16222.0, 16218.5, 16221.5, 22.221],\n   [1669670760000, 16221.5, 16222.0, 16221.5, 16221.5, 10.907],\n   [1669670820000, 16221.5, 16224.0, 16221.5, 16223.5, 15.179],\n   [1669670880000, 16223.5, 16227.0, 16223.5, 16225.0, 17.53],\n   [1669670940000, 16225.0, 16227.0, 16224.5, 16226.5, 5.494],\n   [1669671000000, 16226.5, 16229.5, 16226.5, 16229.5, 26.975],\n   [1669671060000, 16229.5, 16232.5, 16229.0, 16229.5, 48.28],\n   [1669671120000, 16229.5, 16230.0, 16229.5, 16229.5, 7.463],\n   [1669671180000, 16229.5, 16230.0, 16229.5, 16229.5, 8.14],\n   [1669671240000, 16229.5, 16235.5, 16229.5, 16234.5, 60.116],\n   [1669671300000, 16234.5, 16235.0, 16231.5, 16231.5, 11.017],\n   [1669671360000, 16231.5, 16232.0, 16225.5, 16226.0, 50.988],\n   [1669671420000, 16226.0, 16226.0, 16212.0, 16212.5, 60.04],\n   [1669671480000, 16212.5, 16214.0, 16210.5, 16214.0, 28.837],\n   [1669671540000, 16214.0, 16214.0, 16204.5, 16205.0, 24.889],\n   [1669671600000, 16205.0, 16208.5, 16199.5, 16207.0, 64.743],\n   [1669671660000, 16207.0, 16207.5, 16207.0, 16207.5, 11.224],\n   [1669671720000, 16207.5, 16207.5, 16197.0, 16197.5, 31.04],\n   [1669671780000, 16197.5, 16197.5, 16178.5, 16180.0, 142.334],\n   [1669671840000, 16180.0, 16186.5, 16180.0, 16184.0, 62.904],\n   [1669671900000, 16184.0, 16192.5, 16183.5, 16192.5, 61.953],\n   [1669671960000, 16192.5, 16192.5, 16192.0, 16192.5, 28.875],\n   [1669672020000, 16192.5, 16192.5, 16192.0, 16192.5, 23.529],\n   [1669672080000, 16192.5, 16196.5, 16192.0, 16196.0, 20.941],\n   [1669672140000, 16196.0, 16212.0, 16196.0, 16203.0, 175.556],\n   [1669672200000, 16203.0, 16204.5, 16202.0, 16204.0, 19.358],\n   [1669672260000, 16204.0, 16208.5, 16204.0, 16208.0, 3.267],\n   [1669672320000, 16208.0, 16213.5, 16208.0, 16213.0, 24.881],\n   [1669672380000, 16213.0, 16213.5, 16213.0, 16213.5, 21.369],\n   [1669672440000, 16213.5, 16213.5, 16213.0, 16213.5, 12.459],\n   [1669672500000, 16213.5, 16213.5, 16213.0, 16213.5, 11.941],\n   [1669672560000, 16213.5, 16213.5, 16203.5, 16203.5, 33.632],\n   [1669672620000, 16203.5, 16204.0, 16203.5, 16204.0, 4.236],\n   [1669672680000, 16204.0, 16207.5, 16193.0, 16193.5, 37.636],\n   [1669672740000, 16193.5, 16202.0, 16193.0, 16198.0, 24.886],\n   [1669672800000, 16198.0, 16202.0, 16197.5, 16202.0, 8.669],\n   [1669672860000, 16202.0, 16202.0, 16201.5, 16202.0, 11.324],\n   [1669672920000, 16202.0, 16202.0, 16201.5, 16201.5, 20.474],\n   [1669672980000, 16201.5, 16202.0, 16201.5, 16201.5, 6.192],\n   [1669673040000, 16201.5, 16202.0, 16201.5, 16202.0, 8.458],\n   [1669673100000, 16202.0, 16202.0, 16201.5, 16202.0, 3.209],\n   [1669673160000, 16202.0, 16205.0, 16201.5, 16205.0, 25.687],\n   [1669673220000, 16205.0, 16205.0, 16201.5, 16202.0, 27.482],\n   [1669673280000, 16202.0, 16202.0, 16201.5, 16201.5, 18.816],\n   [1669673340000, 16201.5, 16202.0, 16201.5, 16201.5, 14.247],\n   [1669673400000, 16201.5, 16202.0, 16201.5, 16201.5, 23.659],\n   [1669673460000, 16201.5, 16202.0, 16201.0, 16201.0, 69.621],\n   [1669673520000, 16201.0, 16201.5, 16201.0, 16201.5, 23.067],\n   [1669673580000, 16201.5, 16202.0, 16201.0, 16202.0, 27.561],\n   [1669673640000, 16202.0, 16202.0, 16195.0, 16195.0, 25.2],\n   [1669673700000, 16195.0, 16195.0, 16188.0, 16189.0, 45.881],\n   [1669673760000, 16189.0, 16189.0, 16188.5, 16189.0, 21.478],\n   [1669673820000, 16189.0, 16190.5, 16189.0, 16190.5, 53.037],\n   [1669673880000, 16190.5, 16198.0, 16190.0, 16198.0, 30.295],\n   [1669673940000, 16198.0, 16201.0, 16197.5, 16200.5, 7.749],\n   [1669674000000, 16200.5, 16201.0, 16200.5, 16200.5, 17.725],\n   [1669674060000, 16200.5, 16202.0, 16199.5, 16202.0, 23.358],\n   [1669674120000, 16202.0, 16202.0, 16197.5, 16197.5, 15.974],\n   [1669674180000, 16197.5, 16206.0, 16197.5, 16203.5, 21.17],\n   [1669674240000, 16203.5, 16205.0, 16203.5, 16204.5, 3.382],\n   [1669674300000, 16204.5, 16207.0, 16204.5, 16207.0, 7.303],\n   [1669674360000, 16207.0, 16208.5, 16205.0, 16205.5, 15.232],\n   [1669674420000, 16205.5, 16206.5, 16205.0, 16206.0, 8.766],\n   [1669674480000, 16206.0, 16210.5, 16206.0, 16210.5, 31.238],\n   [1669674540000, 16210.5, 16213.5, 16210.0, 16211.5, 19.56],\n   [1669674600000, 16211.5, 16224.5, 16211.5, 16219.5, 51.483],\n   [1669674660000, 16219.5, 16220.0, 16219.5, 16219.5, 9.798],\n   [1669674720000, 16219.5, 16222.0, 16219.5, 16219.5, 17.672],\n   [1669674780000, 16219.5, 16223.0, 16219.5, 16222.5, 25.426],\n   [1669674840000, 16222.5, 16225.0, 16222.5, 16224.5, 11.467],\n   [1669674900000, 16224.5, 16225.0, 16221.0, 16221.0, 16.374],\n   [1669674960000, 16221.0, 16225.0, 16221.0, 16225.0, 55.233],\n   [1669675020000, 16225.0, 16225.0, 16224.5, 16224.5, 10.864],\n   [1669675080000, 16224.5, 16225.0, 16224.5, 16225.0, 19.55],\n   [1669675140000, 16225.0, 16225.0, 16221.5, 16222.0, 9.307],\n   [1669675200000, 16222.0, 16222.0, 16221.5, 16222.0, 14.795],\n   [1669675260000, 16222.0, 16222.0, 16220.0, 16220.5, 13.823],\n   [1669675320000, 16220.5, 16220.5, 16220.0, 16220.0, 5.467],\n   [1669675380000, 16220.0, 16220.5, 16220.0, 16220.0, 5.436],\n   [1669675440000, 16220.0, 16220.5, 16220.0, 16220.5, 11.8],\n   [1669675500000, 16220.5, 16220.5, 16220.0, 16220.5, 1.281],\n   [1669675560000, 16220.5, 16220.5, 16213.5, 16214.0, 28.053],\n   [1669675620000, 16214.0, 16214.0, 16209.5, 16210.0, 24.867],\n   [1669675680000, 16210.0, 16219.5, 16209.5, 16219.5, 32.762],\n   [1669675740000, 16219.5, 16219.5, 16216.0, 16216.5, 7.95],\n   [1669675800000, 16216.5, 16216.5, 16215.0, 16215.5, 6.108],\n   [1669675860000, 16215.5, 16215.5, 16215.0, 16215.0, 8.427],\n   [1669675920000, 16215.0, 16215.5, 16215.0, 16215.5, 8.884],\n   [1669675980000, 16215.5, 16215.5, 16215.0, 16215.0, 11.941],\n   [1669676040000, 16215.0, 16217.5, 16215.0, 16217.0, 29.897],\n   [1669676100000, 16217.0, 16220.0, 16217.0, 16220.0, 19.503],\n   [1669676160000, 16220.0, 16220.0, 16212.5, 16212.5, 25.13],\n   [1669676220000, 16212.5, 16214.0, 16212.5, 16213.5, 9.448],\n   [1669676280000, 16213.5, 16214.0, 16212.5, 16213.0, 53.227],\n   [1669676340000, 16213.0, 16213.0, 16210.5, 16210.5, 18.32],\n   [1669676400000, 16210.5, 16221.0, 16210.5, 16220.5, 47.199],\n   [1669676460000, 16220.5, 16221.0, 16217.5, 16217.5, 13.892],\n   [1669676520000, 16217.5, 16221.0, 16205.5, 16206.0, 49.661],\n   [1669676580000, 16206.0, 16206.0, 16188.5, 16188.5, 119.408],\n   [1669676640000, 16188.5, 16197.0, 16188.5, 16196.5, 25.288],\n   [1669676700000, 16196.5, 16200.0, 16193.0, 16199.5, 27.281],\n   [1669676760000, 16199.5, 16205.0, 16199.5, 16205.0, 40.569],\n   [1669676820000, 16205.0, 16210.0, 16201.0, 16201.0, 67.071],\n   [1669676880000, 16201.0, 16201.5, 16201.0, 16201.5, 10.518],\n   [1669676940000, 16201.5, 16201.5, 16200.0, 16200.5, 6.782],\n   [1669677000000, 16200.5, 16200.5, 16198.0, 16198.0, 19.757],\n   [1669677060000, 16198.0, 16206.5, 16198.0, 16206.5, 81.759],\n   [1669677120000, 16206.5, 16209.0, 16206.0, 16208.5, 80.387],\n   [1669677180000, 16208.5, 16209.0, 16202.0, 16202.0, 50.788],\n   [1669677240000, 16202.0, 16202.5, 16202.0, 16202.0, 12.205],\n   [1669677300000, 16202.0, 16202.5, 16202.0, 16202.5, 6.247],\n   [1669677360000, 16202.5, 16209.0, 16202.0, 16208.5, 14.922],\n   [1669677420000, 16208.5, 16209.0, 16208.5, 16209.0, 4.595],\n   [1669677480000, 16209.0, 16216.5, 16208.5, 16216.5, 24.491],\n   [1669677540000, 16216.5, 16216.5, 16216.0, 16216.5, 20.742],\n   [1669677600000, 16216.5, 16216.5, 16213.0, 16213.5, 10.747],\n   [1669677660000, 16213.5, 16219.0, 16213.0, 16219.0, 14.176],\n   [1669677720000, 16219.0, 16221.5, 16218.5, 16220.5, 50.101],\n   [1669677780000, 16220.5, 16236.0, 16220.0, 16236.0, 148.346],\n   [1669677840000, 16236.0, 16236.0, 16229.5, 16229.5, 88.895],\n   [1669677900000, 16229.5, 16231.0, 16229.5, 16230.5, 24.648],\n   [1669677960000, 16230.5, 16234.5, 16230.5, 16234.5, 44.241],\n   [1669678020000, 16234.5, 16235.0, 16227.0, 16227.5, 47.391],\n   [1669678080000, 16227.5, 16227.5, 16227.0, 16227.5, 13.953],\n   [1669678140000, 16227.5, 16227.5, 16227.0, 16227.0, 11.754],\n   [1669678200000, 16227.0, 16227.5, 16224.0, 16224.5, 18.137],\n   [1669678260000, 16224.5, 16224.5, 16223.5, 16224.0, 30.115],\n   [1669678320000, 16224.0, 16224.0, 16223.5, 16223.5, 37.902],\n   [1669678380000, 16223.5, 16224.0, 16223.5, 16223.5, 7.884],\n   [1669678440000, 16223.5, 16224.0, 16210.5, 16213.0, 39.337],\n   [1669678500000, 16213.0, 16213.0, 16212.5, 16212.5, 9.439],\n   [1669678560000, 16212.5, 16215.0, 16212.5, 16214.5, 11.049],\n   [1669678620000, 16214.5, 16215.0, 16214.5, 16215.0, 11.621],\n   [1669678680000, 16215.0, 16215.0, 16208.5, 16208.5, 32.546],\n   [1669678740000, 16208.5, 16209.0, 16208.5, 16208.5, 9.612],\n   [1669678800000, 16208.5, 16209.0, 16208.5, 16208.5, 4.9],\n   [1669678860000, 16208.5, 16211.0, 16208.5, 16211.0, 32.212],\n   [1669678920000, 16211.0, 16211.0, 16210.5, 16211.0, 3.99],\n   [1669678980000, 16211.0, 16211.0, 16205.5, 16206.0, 16.018],\n   [1669679040000, 16206.0, 16206.0, 16205.5, 16205.5, 20.748],\n   [1669679100000, 16205.5, 16208.0, 16203.5, 16208.0, 19.949],\n   [1669679160000, 16208.0, 16211.0, 16207.5, 16211.0, 8.118],\n   [1669679220000, 16211.0, 16211.0, 16210.5, 16210.5, 4.808],\n   [1669679280000, 16210.5, 16211.0, 16210.5, 16211.0, 6.673],\n   [1669679340000, 16211.0, 16211.0, 16210.5, 16211.0, 1.634],\n   [1669679400000, 16211.0, 16211.0, 16210.5, 16211.0, 10.541],\n   [1669679460000, 16211.0, 16215.0, 16210.5, 16211.5, 28.898],\n   [1669679520000, 16211.5, 16211.5, 16209.0, 16209.0, 32.902],\n   [1669679580000, 16209.0, 16209.5, 16205.5, 16206.0, 9.967],\n   [1669679640000, 16206.0, 16206.0, 16204.0, 16204.0, 6.473],\n   [1669679700000, 16204.0, 16204.5, 16204.0, 16204.0, 11.594],\n   [1669679760000, 16204.0, 16206.0, 16204.0, 16205.5, 8.515],\n   [1669679820000, 16205.5, 16206.0, 16205.5, 16206.0, 2.501],\n   [1669679880000, 16206.0, 16206.0, 16205.5, 16206.0, 12.329],\n   [1669679940000, 16206.0, 16206.0, 16205.5, 16206.0, 4.617],\n   [1669680000000, 16206.0, 16206.0, 16190.0, 16190.5, 173.937],\n   [1669680060000, 16190.5, 16198.5, 16188.5, 16197.5, 80.729],\n   [1669680120000, 16197.5, 16201.0, 16197.5, 16201.0, 34.677],\n   [1669680180000, 16201.0, 16201.0, 16190.5, 16192.0, 18.169],\n   [1669680240000, 16192.0, 16194.5, 16192.0, 16194.0, 7.278],\n   [1669680300000, 16194.0, 16194.5, 16190.0, 16190.5, 40.568],\n   [1669680360000, 16190.5, 16204.5, 16190.0, 16204.5, 47.18],\n   [1669680420000, 16204.5, 16214.0, 16204.5, 16209.0, 104.763],\n   [1669680480000, 16209.0, 16209.0, 16205.0, 16205.0, 29.425],\n   [1669680540000, 16205.0, 16205.5, 16205.0, 16205.5, 7.1],\n   [1669680600000, 16205.5, 16205.5, 16195.5, 16196.0, 23.168],\n   [1669680660000, 16196.0, 16196.0, 16145.0, 16161.5, 875.711],\n   [1669680720000, 16161.5, 16169.5, 16161.5, 16166.5, 89.488],\n   [1669680780000, 16166.5, 16167.5, 16128.0, 16145.0, 535.017],\n   [1669680840000, 16145.0, 16150.5, 16116.0, 16140.0, 479.955],\n   [1669680900000, 16140.0, 16152.0, 16140.0, 16149.0, 111.485],\n   [1669680960000, 16149.0, 16168.0, 16148.5, 16151.0, 219.61],\n   [1669681020000, 16151.0, 16160.0, 16104.5, 16105.0, 544.162],\n   [1669681080000, 16105.0, 16117.0, 16096.5, 16098.0, 362.265],\n   [1669681140000, 16098.0, 16109.0, 16096.5, 16108.5, 162.112],\n   [1669681200000, 16108.5, 16123.5, 16108.5, 16123.0, 193.201],\n   [1669681260000, 16123.0, 16141.5, 16123.0, 16137.5, 144.497],\n   [1669681320000, 16137.5, 16142.0, 16135.5, 16141.5, 189.318],\n   [1669681380000, 16141.5, 16142.0, 16137.0, 16139.0, 126.466],\n   [1669681440000, 16139.0, 16145.5, 16139.0, 16145.0, 53.21],\n   [1669681500000, 16145.0, 16146.0, 16145.0, 16146.0, 49.73],\n   [1669681560000, 16146.0, 16146.0, 16142.0, 16142.5, 53.527],\n   [1669681620000, 16142.5, 16142.5, 16132.5, 16140.0, 138.565],\n   [1669681680000, 16140.0, 16141.5, 16140.0, 16141.0, 27.656],\n   [1669681740000, 16141.0, 16141.0, 16135.5, 16136.0, 73.061],\n   [1669681800000, 16136.0, 16140.0, 16131.5, 16139.5, 106.594],\n   [1669681860000, 16139.5, 16152.5, 16139.5, 16152.0, 94.486],\n   [1669681920000, 16152.0, 16152.5, 16140.0, 16140.0, 38.969],\n   [1669681980000, 16140.0, 16148.0, 16140.0, 16147.5, 61.562],\n   [1669682040000, 16147.5, 16149.0, 16147.5, 16149.0, 21.842],\n   [1669682100000, 16149.0, 16150.0, 16148.5, 16149.5, 23.586],\n   [1669682160000, 16149.5, 16156.0, 16149.5, 16156.0, 59.109],\n   [1669682220000, 16156.0, 16167.0, 16150.0, 16166.5, 174.445],\n   [1669682280000, 16166.5, 16171.5, 16166.5, 16171.0, 104.406],\n   [1669682340000, 16171.0, 16183.0, 16171.0, 16183.0, 89.317],\n   [1669682400000, 16183.0, 16183.5, 16178.5, 16179.0, 67.133],\n   [1669682460000, 16179.0, 16179.0, 16176.0, 16176.0, 14.398],\n   [1669682520000, 16176.0, 16179.0, 16173.0, 16173.5, 47.595],\n   [1669682580000, 16173.5, 16173.5, 16173.0, 16173.0, 24.7],\n   [1669682640000, 16173.0, 16173.5, 16173.0, 16173.0, 9.855],\n   [1669682700000, 16173.0, 16173.5, 16168.5, 16168.5, 33.422],\n   [1669682760000, 16168.5, 16169.0, 16168.5, 16169.0, 21.547],\n   [1669682820000, 16169.0, 16169.0, 16165.0, 16165.5, 17.877],\n   [1669682880000, 16165.5, 16165.5, 16158.0, 16158.5, 111.549],\n   [1669682940000, 16158.5, 16158.5, 16158.0, 16158.5, 41.996],\n   [1669683000000, 16158.5, 16158.5, 16158.0, 16158.5, 4.405],\n   [1669683060000, 16158.5, 16162.5, 16158.0, 16162.5, 27.067],\n   [1669683120000, 16162.5, 16168.0, 16162.0, 16168.0, 92.411],\n   [1669683180000, 16168.0, 16169.0, 16168.0, 16168.5, 12.23],\n   [1669683240000, 16168.5, 16169.0, 16168.5, 16169.0, 4.232],\n   [1669683300000, 16169.0, 16179.0, 16168.5, 16179.0, 44.834],\n   [1669683360000, 16179.0, 16185.5, 16179.0, 16185.5, 41.124],\n   [1669683420000, 16185.5, 16185.5, 16180.0, 16180.0, 17.341],\n   [1669683480000, 16180.0, 16180.5, 16180.0, 16180.0, 4.529],\n   [1669683540000, 16180.0, 16180.5, 16167.0, 16170.0, 218.125],\n   [1669683600000, 16170.0, 16174.5, 16170.0, 16174.0, 26.05],\n   [1669683660000, 16174.0, 16175.5, 16174.0, 16175.5, 5.367],\n   [1669683720000, 16175.5, 16175.5, 16175.0, 16175.5, 12.523],\n   [1669683780000, 16175.5, 16175.5, 16175.0, 16175.5, 12.459],\n   [1669683840000, 16175.5, 16175.5, 16171.0, 16171.5, 24.046],\n   [1669683900000, 16171.5, 16171.5, 16171.0, 16171.0, 11.785],\n   [1669683960000, 16171.0, 16175.5, 16171.0, 16175.0, 15.228],\n   [1669684020000, 16175.0, 16175.5, 16175.0, 16175.0, 4.099],\n   [1669684080000, 16175.0, 16175.5, 16175.0, 16175.5, 3.365],\n   [1669684140000, 16175.5, 16177.5, 16175.0, 16177.0, 14.529],\n   [1669684200000, 16177.0, 16186.0, 16177.0, 16180.5, 28.663],\n   [1669684260000, 16180.5, 16180.5, 16177.0, 16177.0, 23.324],\n   [1669684320000, 16177.0, 16177.5, 16177.0, 16177.5, 9.238],\n   [1669684380000, 16177.5, 16177.5, 16167.0, 16167.0, 122.955],\n   [1669684440000, 16167.0, 16169.5, 16167.0, 16169.0, 20.619],\n   [1669684500000, 16169.0, 16169.5, 16169.0, 16169.0, 9.621],\n   [1669684560000, 16169.0, 16172.5, 16169.0, 16172.5, 11.278],\n   [1669684620000, 16172.5, 16172.5, 16169.5, 16169.5, 23.41],\n   [1669684680000, 16169.5, 16170.5, 16165.5, 16170.0, 20.834],\n   [1669684740000, 16170.0, 16170.5, 16168.5, 16169.0, 44.865],\n   [1669684800000, 16169.0, 16169.0, 16167.0, 16167.5, 28.05],\n   [1669684860000, 16167.5, 16167.5, 16167.0, 16167.5, 9.784],\n   [1669684920000, 16167.5, 16167.5, 16167.0, 16167.5, 11.492],\n   [1669684980000, 16167.5, 16170.0, 16167.5, 16169.5, 10.16],\n   [1669685040000, 16169.5, 16170.0, 16167.0, 16167.5, 15.441],\n   [1669685100000, 16167.5, 16173.5, 16167.0, 16173.5, 25.182],\n   [1669685160000, 16173.5, 16173.5, 16173.0, 16173.5, 3.001],\n   [1669685220000, 16173.5, 16176.5, 16173.0, 16176.5, 6.287],\n   [1669685280000, 16176.5, 16181.0, 16176.5, 16176.5, 31.048],\n   [1669685340000, 16176.5, 16176.5, 16176.0, 16176.5, 5.734],\n   [1669685400000, 16176.5, 16181.5, 16176.0, 16181.0, 3.703],\n   [1669685460000, 16181.0, 16181.5, 16181.0, 16181.0, 7.35],\n   [1669685520000, 16181.0, 16181.5, 16176.5, 16176.5, 25.271],\n   [1669685580000, 16176.5, 16177.0, 16176.5, 16177.0, 14.349],\n   [1669685640000, 16177.0, 16183.0, 16176.5, 16183.0, 33.651],\n   [1669685700000, 16183.0, 16183.0, 16182.5, 16182.5, 20.187],\n   [1669685760000, 16182.5, 16194.5, 16182.5, 16194.0, 64.347],\n   [1669685820000, 16194.0, 16206.5, 16194.0, 16197.5, 126.458],\n   [1669685880000, 16197.5, 16219.0, 16197.5, 16212.0, 184.636],\n   [1669685940000, 16212.0, 16219.0, 16209.0, 16209.0, 91.949],\n   [1669686000000, 16209.0, 16209.5, 16203.0, 16203.0, 52.281],\n   [1669686060000, 16203.0, 16227.5, 16203.0, 16227.0, 197.354],\n   [1669686120000, 16227.0, 16244.5, 16227.0, 16244.0, 230.278],\n   [1669686180000, 16244.0, 16244.0, 16238.0, 16238.0, 142.35],\n   [1669686240000, 16238.0, 16238.5, 16229.0, 16232.0, 101.266],\n   [1669686300000, 16232.0, 16237.5, 16221.5, 16237.0, 159.724],\n   [1669686360000, 16237.0, 16300.0, 16237.0, 16295.0, 919.441],\n   [1669686420000, 16295.0, 16295.0, 16268.0, 16274.0, 257.159],\n   [1669686480000, 16274.0, 16274.0, 16258.0, 16258.0, 111.852],\n   [1669686540000, 16258.0, 16258.5, 16255.0, 16255.5, 77.383],\n   [1669686600000, 16255.5, 16259.5, 16252.0, 16252.0, 50.272],\n   [1669686660000, 16252.0, 16252.5, 16247.0, 16247.0, 38.805],\n   [1669686720000, 16247.0, 16252.0, 16247.0, 16248.5, 34.441],\n   [1669686780000, 16248.5, 16248.5, 16241.5, 16241.5, 63.884],\n   [1669686840000, 16241.5, 16252.5, 16241.5, 16252.5, 95.798],\n   [1669686900000, 16252.5, 16252.5, 16241.0, 16241.5, 45.429],\n   [1669686960000, 16241.5, 16241.5, 16241.0, 16241.0, 18.09],\n   [1669687020000, 16241.0, 16243.5, 16238.0, 16238.5, 34.977],\n   [1669687080000, 16238.5, 16244.0, 16238.0, 16243.5, 51.893],\n   [1669687140000, 16243.5, 16244.0, 16240.5, 16240.5, 15.771],\n   [1669687200000, 16240.5, 16244.0, 16240.5, 16244.0, 77.18],\n   [1669687260000, 16244.0, 16253.0, 16243.5, 16252.5, 74.305],\n   [1669687320000, 16252.5, 16257.0, 16252.5, 16254.0, 37.748],\n   [1669687380000, 16254.0, 16257.0, 16252.0, 16257.0, 39.16],\n   [1669687440000, 16257.0, 16257.0, 16247.0, 16247.5, 49.738],\n   [1669687500000, 16247.5, 16250.0, 16247.0, 16249.5, 14.487],\n   [1669687560000, 16249.5, 16259.0, 16249.5, 16258.5, 39.775],\n   [1669687620000, 16258.5, 16264.0, 16258.5, 16263.5, 89.034],\n   [1669687680000, 16263.5, 16264.0, 16263.5, 16263.5, 52.984],\n   [1669687740000, 16263.5, 16270.5, 16260.0, 16260.0, 120.897],\n   [1669687800000, 16260.0, 16260.5, 16247.5, 16248.0, 51.671],\n   [1669687860000, 16248.0, 16248.0, 16245.0, 16245.0, 53.556],\n   [1669687920000, 16245.0, 16245.5, 16242.0, 16245.5, 41.061],\n   [1669687980000, 16245.5, 16252.0, 16245.0, 16252.0, 19.883],\n   [1669688040000, 16252.0, 16255.5, 16249.0, 16249.0, 86.655],\n   [1669688100000, 16249.0, 16251.0, 16244.0, 16244.0, 19.462],\n   [1669688160000, 16244.0, 16251.0, 16244.0, 16250.5, 12.059],\n   [1669688220000, 16250.5, 16256.0, 16250.5, 16254.5, 45.872],\n   [1669688280000, 16254.5, 16254.5, 16251.5, 16251.5, 7.981],\n   [1669688340000, 16251.5, 16297.0, 16251.5, 16280.5, 300.347],\n   [1669688400000, 16280.5, 16291.0, 16274.5, 16275.0, 328.6],\n   [1669688460000, 16275.0, 16275.0, 16271.0, 16271.0, 37.825],\n   [1669688520000, 16271.0, 16278.5, 16266.0, 16266.5, 66.136],\n   [1669688580000, 16266.5, 16266.5, 16265.0, 16265.0, 12.348],\n   [1669688640000, 16265.0, 16279.5, 16264.5, 16279.0, 134.19],\n   [1669688700000, 16279.0, 16279.5, 16271.0, 16271.5, 16.287],\n   [1669688760000, 16271.5, 16271.5, 16271.0, 16271.5, 13.494],\n   [1669688820000, 16271.5, 16272.5, 16271.0, 16272.5, 13.633],\n   [1669688880000, 16272.5, 16272.5, 16272.0, 16272.0, 14.175],\n   [1669688940000, 16272.0, 16274.0, 16272.0, 16273.5, 42.088],\n   [1669689000000, 16273.5, 16274.0, 16273.5, 16274.0, 17.899],\n   [1669689060000, 16274.0, 16274.0, 16269.0, 16269.0, 37.191],\n   [1669689120000, 16269.0, 16269.5, 16269.0, 16269.5, 12.57],\n   [1669689180000, 16269.5, 16269.5, 16269.0, 16269.0, 8.683],\n   [1669689240000, 16269.0, 16269.5, 16260.0, 16260.0, 35.086],\n   [1669689300000, 16260.0, 16260.5, 16257.0, 16257.0, 59.632],\n   [1669689360000, 16257.0, 16257.5, 16255.0, 16255.5, 33.314],\n   [1669689420000, 16255.5, 16266.5, 16253.0, 16266.5, 154.977],\n   [1669689480000, 16266.5, 16266.5, 16266.0, 16266.0, 43.764],\n   [1669689540000, 16266.0, 16266.5, 16266.0, 16266.5, 6.323],\n   [1669689600000, 16266.5, 16266.5, 16266.0, 16266.0, 2.959],\n   [1669689660000, 16266.0, 16266.5, 16266.0, 16266.0, 3.143],\n   [1669689720000, 16266.0, 16266.5, 16266.0, 16266.5, 5.797],\n   [1669689780000, 16266.5, 16269.5, 16266.0, 16269.5, 67.593],\n   [1669689840000, 16269.5, 16269.5, 16269.0, 16269.0, 9.424],\n   [1669689900000, 16269.0, 16272.0, 16269.0, 16272.0, 30.732],\n   [1669689960000, 16272.0, 16275.5, 16271.5, 16274.0, 100.832],\n   [1669690020000, 16274.0, 16274.0, 16271.5, 16274.0, 41.293],\n   [1669690080000, 16274.0, 16274.0, 16262.0, 16263.0, 46.514],\n   [1669690140000, 16263.0, 16263.5, 16260.0, 16260.5, 70.1],\n   [1669690200000, 16260.5, 16260.5, 16255.0, 16255.0, 40.977],\n   [1669690260000, 16255.0, 16255.5, 16255.0, 16255.0, 15.612],\n   [1669690320000, 16255.0, 16255.5, 16248.0, 16248.0, 100.907],\n   [1669690380000, 16248.0, 16251.0, 16248.0, 16250.5, 39.365],\n   [1669690440000, 16250.5, 16251.0, 16250.5, 16250.5, 4.974],\n   [1669690500000, 16250.5, 16251.0, 16250.5, 16250.5, 11.886],\n   [1669690560000, 16250.5, 16252.5, 16250.5, 16252.5, 46.623],\n   [1669690620000, 16252.5, 16254.5, 16252.0, 16254.0, 15.519],\n   [1669690680000, 16254.0, 16254.5, 16254.0, 16254.0, 5.466],\n   [1669690740000, 16254.0, 16254.5, 16254.0, 16254.5, 10.562],\n   [1669690800000, 16254.5, 16255.0, 16254.0, 16255.0, 37.426],\n   [1669690860000, 16255.0, 16255.0, 16251.0, 16251.0, 27.744],\n   [1669690920000, 16251.0, 16251.5, 16251.0, 16251.5, 17.557],\n   [1669690980000, 16251.5, 16254.5, 16251.0, 16254.5, 17.045],\n   [1669691040000, 16254.5, 16255.5, 16254.0, 16255.0, 24.936],\n   [1669691100000, 16255.0, 16257.5, 16255.0, 16257.0, 23.58],\n   [1669691160000, 16257.0, 16258.0, 16257.0, 16258.0, 13.749],\n   [1669691220000, 16258.0, 16262.5, 16257.5, 16262.5, 32.793],\n   [1669691280000, 16262.5, 16262.5, 16262.0, 16262.0, 40.994],\n   [1669691340000, 16262.0, 16265.0, 16262.0, 16264.5, 7.608],\n   [1669691400000, 16264.5, 16271.0, 16264.5, 16266.0, 50.363],\n   [1669691460000, 16266.0, 16266.5, 16266.0, 16266.5, 11.511],\n   [1669691520000, 16266.5, 16266.5, 16266.0, 16266.5, 9.1],\n   [1669691580000, 16266.5, 16266.5, 16263.5, 16264.0, 6.117],\n   [1669691640000, 16264.0, 16264.0, 16263.5, 16263.5, 15.704],\n   [1669691700000, 16263.5, 16264.0, 16263.5, 16263.5, 10.142],\n   [1669691760000, 16263.5, 16264.0, 16263.5, 16264.0, 3.389],\n   [1669691820000, 16264.0, 16264.0, 16263.5, 16264.0, 5.881],\n   [1669691880000, 16264.0, 16264.0, 16260.0, 16260.5, 22.705],\n   [1669691940000, 16260.5, 16260.5, 16258.5, 16258.5, 13.345],\n   [1669692000000, 16258.5, 16264.0, 16258.5, 16263.5, 11.758],\n   [1669692060000, 16263.5, 16265.0, 16263.5, 16264.5, 8.396],\n   [1669692120000, 16264.5, 16266.0, 16264.5, 16266.0, 25.469],\n   [1669692180000, 16266.0, 16267.5, 16265.5, 16267.0, 30.52],\n   [1669692240000, 16267.0, 16274.5, 16267.0, 16274.5, 75.885],\n   [1669692300000, 16274.5, 16278.5, 16274.0, 16276.5, 102.96],\n   [1669692360000, 16276.5, 16293.5, 16276.5, 16293.0, 126.292],\n   [1669692420000, 16293.0, 16294.5, 16288.5, 16288.5, 128.373],\n   [1669692480000, 16288.5, 16289.0, 16285.5, 16285.5, 42.12],\n   [1669692540000, 16285.5, 16286.0, 16280.5, 16280.5, 30.867],\n   [1669692600000, 16280.5, 16281.0, 16280.5, 16281.0, 8.862],\n   [1669692660000, 16281.0, 16281.0, 16273.0, 16273.0, 80.681],\n   [1669692720000, 16273.0, 16273.5, 16273.0, 16273.0, 19.592],\n   [1669692780000, 16273.0, 16273.5, 16270.5, 16271.0, 16.604],\n   [1669692840000, 16271.0, 16271.0, 16268.5, 16269.5, 38.757],\n   [1669692900000, 16269.5, 16278.0, 16269.5, 16277.5, 98.23],\n   [1669692960000, 16277.5, 16279.0, 16273.5, 16274.0, 49.094],\n   [1669693020000, 16274.0, 16274.0, 16268.5, 16270.0, 39.767],\n   [1669693080000, 16270.0, 16270.5, 16270.0, 16270.5, 19.053],\n   [1669693140000, 16270.5, 16270.5, 16268.5, 16269.0, 21.771],\n   [1669693200000, 16269.0, 16269.0, 16266.0, 16266.0, 31.196],\n   [1669693260000, 16266.0, 16267.0, 16266.0, 16266.5, 23.106],\n   [1669693320000, 16266.5, 16268.5, 16266.5, 16268.5, 25.191],\n   [1669693380000, 16268.5, 16283.5, 16268.0, 16283.0, 120.206],\n   [1669693440000, 16283.0, 16288.5, 16283.0, 16288.5, 249.896],\n   [1669693500000, 16288.5, 16291.0, 16288.0, 16291.0, 99.949],\n   [1669693560000, 16291.0, 16291.0, 16283.5, 16284.0, 130.646],\n   [1669693620000, 16284.0, 16284.0, 16279.0, 16279.0, 22.996],\n   [1669693680000, 16279.0, 16279.5, 16279.0, 16279.0, 9.679],\n   [1669693740000, 16279.0, 16280.0, 16279.0, 16279.5, 15.372],\n   [1669693800000, 16279.5, 16280.0, 16279.5, 16280.0, 30.144],\n   [1669693860000, 16280.0, 16280.0, 16279.5, 16280.0, 6.185],\n   [1669693920000, 16280.0, 16280.0, 16275.5, 16276.0, 43.228],\n   [1669693980000, 16276.0, 16276.0, 16273.5, 16274.0, 14.917],\n   [1669694040000, 16274.0, 16274.5, 16268.0, 16274.5, 71.879],\n   [1669694100000, 16274.5, 16279.0, 16274.0, 16278.5, 21.784],\n   [1669694160000, 16278.5, 16278.5, 16276.5, 16277.0, 49.471],\n   [1669694220000, 16277.0, 16277.0, 16276.5, 16277.0, 4.077],\n   [1669694280000, 16277.0, 16277.0, 16276.5, 16276.5, 4.121],\n   [1669694340000, 16276.5, 16277.0, 16276.5, 16276.5, 1.656],\n   [1669694400000, 16276.5, 16278.0, 16274.0, 16274.5, 33.743],\n   [1669694460000, 16274.5, 16274.5, 16274.0, 16274.5, 11.04],\n   [1669694520000, 16274.5, 16283.0, 16274.0, 16282.5, 24.072],\n   [1669694580000, 16282.5, 16325.0, 16280.0, 16309.0, 1071.305],\n   [1669694640000, 16309.0, 16373.5, 16309.0, 16334.0, 991.68],\n   [1669694700000, 16334.0, 16370.5, 16322.0, 16322.0, 461.617],\n   [1669694760000, 16322.0, 16372.0, 16322.0, 16340.0, 583.582],\n   [1669694820000, 16340.0, 16350.0, 16334.0, 16334.0, 119.834],\n   [1669694880000, 16334.0, 16338.5, 16321.0, 16321.0, 168.538],\n   [1669694940000, 16321.0, 16321.5, 16308.0, 16317.5, 271.164],\n   [1669695000000, 16317.5, 16323.0, 16308.0, 16322.5, 83.353],\n   [1669695060000, 16322.5, 16323.0, 16308.0, 16321.0, 148.744],\n   [1669695120000, 16321.0, 16330.0, 16320.5, 16329.5, 66.014],\n   [1669695180000, 16329.5, 16336.0, 16325.0, 16325.0, 70.039],\n   [1669695240000, 16325.0, 16325.5, 16298.0, 16306.5, 198.044],\n   [1669695300000, 16306.5, 16310.5, 16304.0, 16310.0, 51.037],\n   [1669695360000, 16310.0, 16316.0, 16310.0, 16315.5, 90.957],\n   [1669695420000, 16315.5, 16318.5, 16311.0, 16311.0, 246.24],\n   [1669695480000, 16311.0, 16315.0, 16311.0, 16315.0, 102.388],\n   [1669695540000, 16315.0, 16332.5, 16314.5, 16332.0, 73.665],\n   [1669695600000, 16332.0, 16350.0, 16330.0, 16342.5, 277.526],\n   [1669695660000, 16342.5, 16359.0, 16338.0, 16355.5, 136.224],\n   [1669695720000, 16355.5, 16356.0, 16343.5, 16344.0, 143.196],\n   [1669695780000, 16344.0, 16357.5, 16342.0, 16355.5, 180.362],\n   [1669695840000, 16355.5, 16366.5, 16353.5, 16360.0, 214.488],\n   [1669695900000, 16360.0, 16368.5, 16360.0, 16368.0, 299.049],\n   [1669695960000, 16368.0, 16368.5, 16364.0, 16365.0, 82.207],\n   [1669696020000, 16365.0, 16429.5, 16365.0, 16413.0, 1763.601],\n   [1669696080000, 16413.0, 16424.5, 16403.5, 16416.0, 563.85],\n   [1669696140000, 16416.0, 16416.0, 16394.5, 16399.5, 378.958],\n   [1669696200000, 16399.5, 16420.0, 16399.5, 16419.5, 414.952],\n   [1669696260000, 16419.5, 16423.5, 16397.5, 16399.0, 175.0],\n   [1669696320000, 16399.0, 16412.5, 16399.0, 16404.5, 170.136],\n   [1669696380000, 16404.5, 16418.0, 16404.5, 16416.5, 171.569],\n   [1669696440000, 16416.5, 16437.0, 16409.5, 16427.0, 629.873],\n   [1669696500000, 16427.0, 16428.0, 16420.0, 16423.0, 111.419],\n   [1669696560000, 16423.0, 16428.0, 16423.0, 16424.0, 149.816],\n   [1669696620000, 16424.0, 16424.5, 16414.5, 16414.5, 135.957],\n   [1669696680000, 16414.5, 16415.0, 16414.5, 16414.5, 35.604],\n   [1669696740000, 16414.5, 16417.0, 16414.5, 16415.0, 67.695],\n   [1669696800000, 16415.0, 16418.0, 16411.5, 16417.5, 136.384],\n   [1669696860000, 16417.5, 16424.5, 16417.5, 16421.0, 84.066],\n   [1669696920000, 16421.0, 16421.0, 16418.0, 16420.5, 34.297],\n   [1669696980000, 16420.5, 16434.0, 16420.5, 16431.0, 90.778],\n   [1669697040000, 16431.0, 16449.0, 16430.5, 16441.0, 285.683],\n   [1669697100000, 16441.0, 16459.0, 16441.0, 16445.0, 370.278],\n   [1669697160000, 16445.0, 16445.5, 16427.5, 16429.5, 289.685],\n   [1669697220000, 16429.5, 16437.5, 16428.5, 16437.5, 241.789],\n   [1669697280000, 16437.5, 16446.5, 16437.0, 16446.0, 95.289],\n   [1669697340000, 16446.0, 16475.0, 16446.0, 16466.5, 412.146],\n   [1669697400000, 16466.5, 16467.0, 16450.5, 16461.0, 207.997],\n   [1669697460000, 16461.0, 16491.0, 16461.0, 16474.5, 544.999],\n   [1669697520000, 16474.5, 16475.0, 16456.0, 16464.5, 184.072],\n   [1669697580000, 16464.5, 16465.0, 16444.5, 16447.0, 172.022],\n   [1669697640000, 16447.0, 16450.0, 16446.5, 16447.0, 95.923],\n   [1669697700000, 16447.0, 16448.5, 16440.5, 16448.0, 168.628],\n   [1669697760000, 16448.0, 16450.0, 16442.0, 16442.0, 77.808],\n   [1669697820000, 16442.0, 16443.5, 16442.0, 16442.5, 73.813]]),\n ({'exchange': 'bybit',\n   'market': 'BTC/USDT:USDT',\n   'timeframe': '1m',\n   'start': 1667485708000,\n   'end': 1667605708000,\n   'limit': 2000.0},\n  [[1667485800000, 20285.0, 20286.5, 20256.5, 20256.5, 265.368],\n   [1667485860000, 20256.5, 20257.0, 20230.0, 20248.0, 272.623],\n   [1667485920000, 20248.0, 20255.0, 20241.0, 20254.5, 106.886],\n   [1667485980000, 20254.5, 20258.0, 20247.5, 20248.0, 103.385],\n   [1667486040000, 20248.0, 20250.0, 20244.0, 20247.0, 43.599],\n   [1667486100000, 20247.0, 20262.5, 20247.0, 20262.5, 174.191],\n   [1667486160000, 20262.5, 20266.0, 20250.0, 20253.0, 113.41],\n   [1667486220000, 20253.0, 20274.0, 20253.0, 20274.0, 170.962],\n   [1667486280000, 20274.0, 20283.5, 20274.0, 20283.5, 91.515],\n   [1667486340000, 20283.5, 20283.5, 20274.0, 20275.0, 39.15],\n   [1667486400000, 20275.0, 20283.5, 20274.0, 20278.5, 77.357],\n   [1667486460000, 20278.5, 20318.5, 20278.5, 20315.0, 781.13],\n   [1667486520000, 20315.0, 20315.0, 20303.0, 20313.0, 234.682],\n   [1667486580000, 20313.0, 20313.0, 20302.5, 20307.0, 121.078],\n   [1667486640000, 20307.0, 20312.0, 20304.0, 20304.5, 114.028],\n   [1667486700000, 20304.5, 20327.0, 20304.0, 20308.0, 388.336],\n   [1667486760000, 20308.0, 20312.0, 20293.5, 20294.0, 134.64],\n   [1667486820000, 20294.0, 20304.0, 20289.0, 20300.0, 74.523],\n   [1667486880000, 20300.0, 20322.5, 20300.0, 20322.5, 123.736],\n   [1667486940000, 20322.5, 20322.5, 20311.0, 20320.0, 70.416],\n   [1667487000000, 20320.0, 20322.0, 20309.5, 20320.5, 49.393],\n   [1667487060000, 20320.5, 20334.5, 20301.0, 20301.5, 290.662],\n   [1667487120000, 20301.5, 20312.0, 20297.5, 20301.5, 51.703],\n   [1667487180000, 20301.5, 20303.5, 20300.0, 20303.0, 32.226],\n   [1667487240000, 20303.0, 20303.5, 20295.0, 20295.0, 107.362],\n   [1667487300000, 20295.0, 20295.5, 20293.0, 20293.5, 78.379],\n   [1667487360000, 20293.5, 20307.5, 20293.0, 20301.5, 80.49],\n   [1667487420000, 20301.5, 20310.0, 20298.0, 20309.5, 54.632],\n   [1667487480000, 20309.5, 20310.0, 20295.0, 20300.0, 94.157],\n   [1667487540000, 20300.0, 20308.0, 20299.5, 20307.5, 22.803],\n   [1667487600000, 20307.5, 20308.0, 20303.5, 20305.5, 65.68],\n   [1667487660000, 20305.5, 20315.5, 20299.0, 20299.0, 112.413],\n   [1667487720000, 20299.0, 20306.5, 20298.5, 20306.5, 44.293],\n   [1667487780000, 20306.5, 20315.5, 20304.5, 20304.5, 41.003],\n   [1667487840000, 20304.5, 20305.0, 20287.5, 20290.5, 163.069],\n   [1667487900000, 20290.5, 20295.0, 20281.5, 20281.5, 136.294],\n   [1667487960000, 20281.5, 20282.0, 20267.0, 20269.5, 160.294],\n   [1667488020000, 20269.5, 20278.0, 20267.0, 20274.5, 152.855],\n   [1667488080000, 20274.5, 20274.5, 20261.0, 20261.5, 94.322],\n   [1667488140000, 20261.5, 20270.0, 20260.0, 20270.0, 81.39],\n   [1667488200000, 20270.0, 20282.5, 20269.5, 20278.5, 74.548],\n   [1667488260000, 20278.5, 20288.5, 20278.5, 20288.0, 27.467],\n   [1667488320000, 20288.0, 20288.5, 20270.0, 20271.0, 88.792],\n   [1667488380000, 20271.0, 20276.5, 20266.5, 20276.0, 36.414],\n   [1667488440000, 20276.0, 20277.5, 20250.0, 20250.0, 128.002],\n   [1667488500000, 20250.0, 20264.5, 20250.0, 20264.0, 40.186],\n   [1667488560000, 20264.0, 20264.0, 20243.5, 20244.0, 159.918],\n   [1667488620000, 20244.0, 20244.0, 20230.5, 20232.0, 267.892],\n   [1667488680000, 20232.0, 20240.5, 20232.0, 20237.5, 200.463],\n   [1667488740000, 20237.5, 20243.5, 20236.0, 20243.5, 34.605],\n   [1667488800000, 20243.5, 20258.5, 20243.0, 20258.0, 96.635],\n   [1667488860000, 20258.0, 20258.5, 20253.5, 20254.5, 79.398],\n   [1667488920000, 20254.5, 20255.0, 20249.5, 20250.0, 48.341],\n   [1667488980000, 20250.0, 20250.0, 20245.0, 20250.0, 48.255],\n   [1667489040000, 20250.0, 20250.0, 20237.0, 20240.5, 47.468],\n   [1667489100000, 20240.5, 20241.0, 20233.5, 20236.5, 54.949],\n   [1667489160000, 20236.5, 20256.5, 20236.5, 20256.5, 28.188],\n   [1667489220000, 20256.5, 20261.0, 20247.0, 20252.5, 152.199],\n   [1667489280000, 20252.5, 20252.5, 20238.0, 20241.5, 42.766],\n   [1667489340000, 20241.5, 20242.0, 20238.0, 20240.0, 38.151],\n   [1667489400000, 20240.0, 20245.5, 20239.5, 20241.5, 25.032],\n   [1667489460000, 20241.5, 20241.5, 20232.5, 20232.5, 87.941],\n   [1667489520000, 20232.5, 20233.0, 20219.5, 20220.0, 173.517],\n   [1667489580000, 20220.0, 20220.5, 20215.0, 20218.0, 98.6],\n   [1667489640000, 20218.0, 20218.0, 20202.0, 20213.0, 212.661],\n   [1667489700000, 20213.0, 20227.5, 20212.5, 20227.0, 159.021],\n   [1667489760000, 20227.0, 20241.0, 20227.0, 20240.0, 138.086],\n   [1667489820000, 20240.0, 20249.0, 20240.0, 20249.0, 157.404],\n   [1667489880000, 20249.0, 20249.0, 20242.5, 20245.0, 79.198],\n   [1667489940000, 20245.0, 20256.5, 20245.0, 20256.5, 84.501],\n   [1667490000000, 20256.5, 20259.5, 20249.5, 20259.5, 131.042],\n   [1667490060000, 20259.5, 20259.5, 20255.0, 20255.5, 96.156],\n   [1667490120000, 20255.5, 20255.5, 20246.0, 20246.0, 129.104],\n   [1667490180000, 20246.0, 20255.5, 20246.0, 20255.5, 47.528],\n   [1667490240000, 20255.5, 20255.5, 20245.0, 20245.5, 40.345],\n   [1667490300000, 20245.5, 20268.0, 20245.0, 20267.5, 146.681],\n   [1667490360000, 20267.5, 20276.0, 20262.5, 20274.0, 111.702],\n   [1667490420000, 20274.0, 20274.0, 20259.5, 20259.5, 22.291],\n   [1667490480000, 20259.5, 20260.0, 20254.0, 20254.0, 91.173],\n   [1667490540000, 20254.0, 20254.5, 20241.5, 20244.0, 72.858],\n   [1667490600000, 20244.0, 20249.0, 20244.0, 20248.5, 43.73],\n   [1667490660000, 20248.5, 20249.0, 20232.5, 20235.5, 158.217],\n   [1667490720000, 20235.5, 20242.0, 20235.5, 20241.5, 25.775],\n   [1667490780000, 20241.5, 20246.5, 20241.5, 20246.0, 33.861],\n   [1667490840000, 20246.0, 20246.5, 20243.0, 20245.5, 10.87],\n   [1667490900000, 20245.5, 20245.5, 20240.0, 20240.0, 49.365],\n   [1667490960000, 20240.0, 20240.5, 20237.0, 20237.0, 23.147],\n   [1667491020000, 20237.0, 20242.0, 20237.0, 20241.5, 34.257],\n   [1667491080000, 20241.5, 20244.5, 20241.5, 20244.5, 53.07],\n   [1667491140000, 20244.5, 20244.5, 20244.0, 20244.0, 26.575],\n   [1667491200000, 20244.0, 20244.5, 20244.0, 20244.0, 38.729],\n   [1667491260000, 20244.0, 20249.0, 20241.5, 20249.0, 117.476],\n   [1667491320000, 20249.0, 20251.5, 20248.5, 20250.5, 24.612],\n   [1667491380000, 20250.5, 20263.0, 20250.0, 20251.5, 62.931],\n   [1667491440000, 20251.5, 20261.0, 20251.0, 20260.5, 29.203],\n   [1667491500000, 20260.5, 20272.5, 20260.5, 20269.5, 125.306],\n   [1667491560000, 20269.5, 20279.0, 20269.5, 20272.0, 71.458],\n   [1667491620000, 20272.0, 20274.0, 20260.5, 20261.0, 41.005],\n   [1667491680000, 20261.0, 20261.0, 20248.0, 20250.0, 110.269],\n   [1667491740000, 20250.0, 20251.5, 20248.0, 20251.5, 81.982],\n   [1667491800000, 20251.5, 20274.0, 20251.0, 20273.5, 61.591],\n   [1667491860000, 20273.5, 20274.0, 20268.0, 20268.0, 14.099],\n   [1667491920000, 20268.0, 20269.0, 20265.5, 20268.5, 22.493],\n   [1667491980000, 20268.5, 20269.0, 20258.5, 20262.0, 27.623],\n   [1667492040000, 20262.0, 20262.5, 20256.5, 20258.5, 10.055],\n   [1667492100000, 20258.5, 20268.5, 20258.5, 20268.5, 40.139],\n   [1667492160000, 20268.5, 20275.0, 20268.0, 20270.0, 65.793],\n   [1667492220000, 20270.0, 20274.5, 20269.5, 20274.5, 25.983],\n   [1667492280000, 20274.5, 20274.5, 20270.0, 20270.0, 22.379],\n   [1667492340000, 20270.0, 20276.0, 20267.5, 20276.0, 33.605],\n   [1667492400000, 20276.0, 20276.0, 20253.5, 20253.5, 80.821],\n   [1667492460000, 20253.5, 20255.5, 20253.5, 20255.5, 47.463],\n   [1667492520000, 20255.5, 20257.0, 20245.5, 20246.0, 35.645],\n   [1667492580000, 20246.0, 20246.0, 20243.0, 20243.5, 32.131],\n   [1667492640000, 20243.5, 20243.5, 20236.5, 20236.5, 69.509],\n   [1667492700000, 20236.5, 20243.5, 20236.5, 20241.5, 83.507],\n   [1667492760000, 20241.5, 20255.0, 20241.5, 20251.0, 54.639],\n   [1667492820000, 20251.0, 20251.5, 20241.5, 20247.5, 210.826],\n   [1667492880000, 20247.5, 20248.0, 20235.5, 20238.5, 26.944],\n   [1667492940000, 20238.5, 20239.0, 20238.5, 20239.0, 7.263],\n   [1667493000000, 20239.0, 20249.0, 20238.5, 20248.5, 49.545],\n   [1667493060000, 20248.5, 20249.0, 20241.5, 20248.0, 15.53],\n   [1667493120000, 20248.0, 20248.5, 20248.0, 20248.0, 4.718],\n   [1667493180000, 20248.0, 20254.0, 20248.0, 20254.0, 27.122],\n   [1667493240000, 20254.0, 20260.0, 20253.5, 20255.5, 40.64],\n   [1667493300000, 20255.5, 20255.5, 20242.5, 20242.5, 12.979],\n   [1667493360000, 20242.5, 20247.5, 20236.5, 20236.5, 42.151],\n   [1667493420000, 20236.5, 20243.0, 20236.0, 20242.5, 20.529],\n   [1667493480000, 20242.5, 20243.0, 20241.0, 20242.5, 19.961],\n   [1667493540000, 20242.5, 20243.0, 20242.5, 20242.5, 8.597],\n   [1667493600000, 20242.5, 20247.0, 20242.5, 20247.0, 3.764],\n   [1667493660000, 20247.0, 20250.0, 20245.0, 20249.5, 24.975],\n   [1667493720000, 20249.5, 20260.5, 20249.5, 20260.0, 86.087],\n   [1667493780000, 20260.0, 20275.5, 20260.0, 20275.0, 235.687],\n   [1667493840000, 20275.0, 20289.0, 20275.0, 20286.0, 151.094],\n   [1667493900000, 20286.0, 20286.0, 20280.0, 20280.0, 28.95],\n   [1667493960000, 20280.0, 20296.5, 20280.0, 20296.5, 191.269],\n   [1667494020000, 20296.5, 20296.5, 20282.0, 20282.5, 129.121],\n   [1667494080000, 20282.5, 20283.0, 20279.0, 20279.0, 13.371],\n   [1667494140000, 20279.0, 20283.0, 20279.0, 20283.0, 25.391],\n   [1667494200000, 20283.0, 20287.5, 20282.5, 20287.0, 25.818],\n   [1667494260000, 20287.0, 20293.0, 20287.0, 20292.5, 25.658],\n   [1667494320000, 20292.5, 20307.5, 20292.5, 20301.5, 206.46],\n   [1667494380000, 20301.5, 20302.0, 20300.5, 20301.0, 95.071],\n   [1667494440000, 20301.0, 20301.0, 20289.0, 20289.5, 69.871],\n   [1667494500000, 20289.5, 20292.0, 20289.0, 20291.5, 10.501],\n   [1667494560000, 20291.5, 20295.0, 20291.5, 20294.5, 18.6],\n   [1667494620000, 20294.5, 20295.0, 20294.5, 20295.0, 8.218],\n   [1667494680000, 20295.0, 20295.0, 20284.5, 20284.5, 128.704],\n   [1667494740000, 20284.5, 20285.0, 20284.5, 20284.5, 22.106],\n   [1667494800000, 20284.5, 20290.5, 20284.5, 20290.0, 42.678],\n   [1667494860000, 20290.0, 20290.5, 20284.5, 20284.5, 13.107],\n   [1667494920000, 20284.5, 20284.5, 20278.5, 20279.0, 53.213],\n   [1667494980000, 20279.0, 20280.0, 20276.5, 20276.5, 23.947],\n   [1667495040000, 20276.5, 20284.5, 20275.5, 20275.5, 98.847],\n   [1667495100000, 20275.5, 20276.0, 20275.5, 20275.5, 44.678],\n   [1667495160000, 20275.5, 20276.0, 20275.5, 20275.5, 10.845],\n   [1667495220000, 20275.5, 20276.0, 20263.5, 20263.5, 119.627],\n   [1667495280000, 20263.5, 20275.0, 20263.5, 20274.5, 38.781],\n   [1667495340000, 20274.5, 20280.0, 20274.5, 20280.0, 24.312],\n   [1667495400000, 20280.0, 20280.0, 20268.0, 20268.0, 23.974],\n   [1667495460000, 20268.0, 20268.5, 20265.0, 20265.0, 15.847],\n   [1667495520000, 20265.0, 20265.5, 20255.0, 20258.0, 81.982],\n   [1667495580000, 20258.0, 20259.5, 20257.5, 20259.0, 21.422],\n   [1667495640000, 20259.0, 20260.0, 20259.0, 20259.5, 23.873],\n   [1667495700000, 20259.5, 20277.0, 20259.5, 20270.0, 84.155],\n   [1667495760000, 20270.0, 20276.5, 20269.5, 20272.5, 34.056],\n   [1667495820000, 20272.5, 20273.5, 20265.5, 20273.5, 12.107],\n   [1667495880000, 20273.5, 20275.5, 20262.0, 20262.0, 19.153],\n   [1667495940000, 20262.0, 20262.5, 20258.0, 20258.5, 21.73],\n   [1667496000000, 20258.5, 20258.5, 20251.5, 20252.0, 43.331],\n   [1667496060000, 20252.0, 20252.0, 20245.5, 20246.0, 69.738],\n   [1667496120000, 20246.0, 20246.0, 20245.5, 20245.5, 38.79],\n   [1667496180000, 20245.5, 20246.0, 20242.0, 20242.5, 60.578],\n   [1667496240000, 20242.5, 20242.5, 20233.0, 20233.5, 47.977],\n   [1667496300000, 20233.5, 20233.5, 20226.5, 20226.5, 67.865],\n   [1667496360000, 20226.5, 20226.5, 20224.0, 20224.5, 83.479],\n   [1667496420000, 20224.5, 20232.0, 20224.0, 20232.0, 64.977],\n   [1667496480000, 20232.0, 20235.5, 20230.5, 20231.0, 97.956],\n   [1667496540000, 20231.0, 20231.0, 20223.5, 20230.0, 124.268],\n   [1667496600000, 20230.0, 20230.5, 20230.0, 20230.0, 14.095],\n   [1667496660000, 20230.0, 20230.5, 20230.0, 20230.5, 69.59],\n   [1667496720000, 20230.5, 20230.5, 20227.0, 20227.5, 32.054],\n   [1667496780000, 20227.5, 20227.5, 20215.0, 20215.5, 78.238],\n   [1667496840000, 20215.5, 20215.5, 20215.0, 20215.5, 62.453],\n   [1667496900000, 20215.5, 20215.5, 20215.0, 20215.0, 16.939],\n   [1667496960000, 20215.0, 20218.5, 20215.0, 20217.5, 54.242],\n   [1667497020000, 20217.5, 20218.0, 20215.0, 20215.5, 21.04],\n   [1667497080000, 20215.5, 20215.5, 20215.0, 20215.0, 14.239],\n   [1667497140000, 20215.0, 20220.5, 20215.0, 20220.5, 28.562],\n   [1667497200000, 20220.5, 20229.0, 20220.0, 20229.0, 19.408],\n   [1667497260000, 20229.0, 20229.0, 20228.5, 20229.0, 8.823],\n   [1667497320000, 20229.0, 20229.0, 20224.0, 20224.5, 25.424],\n   [1667497380000, 20224.5, 20224.5, 20224.0, 20224.0, 11.835],\n   [1667497440000, 20224.0, 20224.5, 20224.0, 20224.0, 14.934],\n   [1667497500000, 20224.0, 20224.5, 20223.0, 20223.5, 6.633],\n   [1667497560000, 20223.5, 20234.0, 20222.5, 20233.5, 32.385],\n   [1667497620000, 20233.5, 20245.0, 20233.5, 20244.5, 101.382],\n   [1667497680000, 20244.5, 20245.0, 20244.5, 20245.0, 12.286],\n   [1667497740000, 20245.0, 20245.0, 20238.0, 20238.5, 34.51],\n   [1667497800000, 20238.5, 20238.5, 20235.5, 20236.0, 9.241],\n   [1667497860000, 20236.0, 20236.0, 20226.0, 20226.5, 38.784],\n   [1667497920000, 20226.5, 20226.5, 20219.0, 20219.5, 24.209],\n   [1667497980000, 20219.5, 20231.0, 20219.0, 20231.0, 47.696],\n   [1667498040000, 20231.0, 20235.0, 20230.5, 20235.0, 21.374],\n   [1667498100000, 20235.0, 20235.0, 20234.5, 20235.0, 7.514],\n   [1667498160000, 20235.0, 20235.5, 20227.0, 20227.0, 26.349],\n   [1667498220000, 20227.0, 20227.0, 20219.5, 20220.0, 16.979],\n   [1667498280000, 20220.0, 20220.0, 20219.5, 20220.0, 29.326],\n   [1667498340000, 20220.0, 20220.0, 20218.0, 20219.5, 19.907],\n   [1667498400000, 20219.5, 20224.0, 20217.0, 20223.5, 18.742],\n   [1667498460000, 20223.5, 20229.0, 20218.0, 20218.0, 38.884],\n   [1667498520000, 20218.0, 20226.5, 20218.0, 20219.5, 54.476],\n   [1667498580000, 20219.5, 20219.5, 20205.0, 20205.5, 74.095],\n   [1667498640000, 20205.5, 20205.5, 20200.0, 20200.5, 143.595],\n   [1667498700000, 20200.5, 20203.5, 20200.0, 20201.5, 36.769],\n   [1667498760000, 20201.5, 20212.0, 20201.0, 20212.0, 31.744],\n   [1667498820000, 20212.0, 20214.0, 20211.5, 20214.0, 22.6],\n   [1667498880000, 20214.0, 20215.0, 20213.5, 20214.5, 48.903],\n   [1667498940000, 20214.5, 20215.0, 20214.5, 20215.0, 4.601],\n   [1667499000000, 20215.0, 20215.0, 20186.0, 20190.5, 213.677],\n   [1667499060000, 20190.5, 20191.0, 20176.0, 20176.5, 135.188],\n   [1667499120000, 20176.5, 20176.5, 20172.0, 20172.5, 77.094],\n   [1667499180000, 20172.5, 20180.0, 20172.0, 20180.0, 89.769],\n   [1667499240000, 20180.0, 20190.0, 20179.5, 20189.5, 65.987],\n   [1667499300000, 20189.5, 20190.0, 20189.5, 20189.5, 44.054],\n   [1667499360000, 20189.5, 20194.5, 20189.5, 20194.5, 32.984],\n   [1667499420000, 20194.5, 20201.0, 20194.0, 20201.0, 28.998],\n   [1667499480000, 20201.0, 20201.0, 20197.5, 20198.0, 17.73],\n   [1667499540000, 20198.0, 20206.0, 20197.5, 20206.0, 40.756],\n   [1667499600000, 20206.0, 20223.5, 20205.5, 20223.5, 97.007],\n   [1667499660000, 20223.5, 20227.0, 20223.5, 20226.5, 44.732],\n   [1667499720000, 20226.5, 20231.5, 20226.5, 20231.5, 30.806],\n   [1667499780000, 20231.5, 20231.5, 20231.0, 20231.5, 35.688],\n   [1667499840000, 20231.5, 20231.5, 20231.0, 20231.0, 6.263],\n   [1667499900000, 20231.0, 20231.5, 20231.0, 20231.5, 15.24],\n   [1667499960000, 20231.5, 20231.5, 20226.5, 20227.0, 56.179],\n   [1667500020000, 20227.0, 20236.5, 20226.5, 20234.5, 60.689],\n   [1667500080000, 20234.5, 20234.5, 20232.0, 20233.5, 9.506],\n   [1667500140000, 20233.5, 20238.0, 20233.5, 20238.0, 37.838],\n   [1667500200000, 20238.0, 20238.0, 20233.5, 20234.0, 15.261],\n   [1667500260000, 20234.0, 20234.0, 20222.0, 20222.0, 35.977],\n   [1667500320000, 20222.0, 20242.5, 20222.0, 20242.5, 47.614],\n   [1667500380000, 20242.5, 20242.5, 20237.5, 20237.5, 23.033],\n   [1667500440000, 20237.5, 20238.0, 20234.0, 20234.0, 17.028],\n   [1667500500000, 20234.0, 20234.5, 20234.0, 20234.0, 3.55],\n   [1667500560000, 20234.0, 20235.0, 20234.0, 20234.5, 14.878],\n   [1667500620000, 20234.5, 20234.5, 20224.5, 20224.5, 18.037],\n   [1667500680000, 20224.5, 20225.0, 20221.0, 20221.5, 12.625],\n   [1667500740000, 20221.5, 20221.5, 20221.0, 20221.0, 4.95],\n   [1667500800000, 20221.0, 20222.0, 20221.0, 20221.5, 6.332],\n   [1667500860000, 20221.5, 20222.0, 20221.5, 20221.5, 3.304],\n   [1667500920000, 20221.5, 20222.0, 20221.5, 20221.5, 1.874],\n   [1667500980000, 20221.5, 20222.0, 20221.5, 20222.0, 4.373],\n   [1667501040000, 20222.0, 20222.0, 20220.0, 20220.5, 20.582],\n   [1667501100000, 20220.5, 20224.5, 20220.5, 20224.0, 18.563],\n   [1667501160000, 20224.0, 20236.0, 20224.0, 20235.5, 7.685],\n   [1667501220000, 20235.5, 20239.5, 20235.5, 20239.0, 24.96],\n   [1667501280000, 20239.0, 20240.0, 20239.0, 20240.0, 11.331],\n   [1667501340000, 20240.0, 20240.0, 20239.5, 20240.0, 7.537],\n   [1667501400000, 20240.0, 20240.0, 20239.5, 20240.0, 32.873],\n   [1667501460000, 20240.0, 20240.0, 20239.5, 20240.0, 3.325],\n   [1667501520000, 20240.0, 20242.5, 20239.5, 20242.5, 9.47],\n   [1667501580000, 20242.5, 20242.5, 20242.0, 20242.0, 5.638],\n   [1667501640000, 20242.0, 20243.0, 20242.0, 20242.5, 15.617],\n   [1667501700000, 20242.5, 20243.0, 20241.0, 20241.5, 75.427],\n   [1667501760000, 20241.5, 20241.5, 20241.0, 20241.5, 16.053],\n   [1667501820000, 20241.5, 20254.5, 20241.0, 20254.5, 67.578],\n   [1667501880000, 20254.5, 20254.5, 20243.5, 20244.0, 51.793],\n   [1667501940000, 20244.0, 20244.0, 20237.0, 20237.5, 38.17],\n   [1667502000000, 20237.5, 20237.5, 20237.0, 20237.5, 8.736],\n   [1667502060000, 20237.5, 20237.5, 20237.0, 20237.5, 13.276],\n   [1667502120000, 20237.5, 20237.5, 20237.0, 20237.5, 11.888],\n   [1667502180000, 20237.5, 20237.5, 20228.5, 20231.5, 43.753],\n   [1667502240000, 20231.5, 20232.0, 20231.5, 20232.0, 10.945],\n   [1667502300000, 20232.0, 20237.5, 20231.5, 20233.0, 42.078],\n   [1667502360000, 20233.0, 20233.5, 20233.0, 20233.0, 7.269],\n   [1667502420000, 20233.0, 20233.5, 20230.0, 20230.5, 10.609],\n   [1667502480000, 20230.5, 20237.0, 20230.0, 20236.5, 12.581],\n   [1667502540000, 20236.5, 20245.0, 20236.5, 20240.0, 34.608],\n   [1667502600000, 20240.0, 20240.0, 20231.5, 20237.5, 20.426],\n   [1667502660000, 20237.5, 20237.5, 20233.0, 20235.0, 2.117],\n   [1667502720000, 20235.0, 20244.0, 20235.0, 20244.0, 43.997],\n   [1667502780000, 20244.0, 20244.0, 20233.0, 20233.0, 5.801],\n   [1667502840000, 20233.0, 20233.5, 20233.0, 20233.5, 4.462],\n   [1667502900000, 20233.5, 20233.5, 20233.0, 20233.0, 5.559],\n   [1667502960000, 20233.0, 20233.5, 20233.0, 20233.0, 7.42],\n   [1667503020000, 20233.0, 20233.5, 20233.0, 20233.5, 5.169],\n   [1667503080000, 20233.5, 20233.5, 20230.0, 20230.5, 8.131],\n   [1667503140000, 20230.5, 20230.5, 20225.0, 20225.0, 66.626],\n   [1667503200000, 20225.0, 20233.5, 20225.0, 20233.0, 7.926],\n   [1667503260000, 20233.0, 20244.5, 20233.0, 20237.5, 58.453],\n   [1667503320000, 20237.5, 20241.5, 20237.5, 20241.5, 6.334],\n   [1667503380000, 20241.5, 20241.5, 20234.0, 20234.5, 12.235],\n   [1667503440000, 20234.5, 20234.5, 20234.0, 20234.0, 1.434],\n   [1667503500000, 20234.0, 20234.5, 20234.0, 20234.0, 3.095],\n   [1667503560000, 20234.0, 20243.5, 20234.0, 20243.0, 17.718],\n   [1667503620000, 20243.0, 20246.0, 20243.0, 20245.5, 21.678],\n   [1667503680000, 20245.5, 20246.0, 20240.0, 20240.0, 3.286],\n   [1667503740000, 20240.0, 20246.0, 20240.0, 20246.0, 83.445],\n   [1667503800000, 20246.0, 20247.5, 20245.5, 20247.5, 11.299],\n   [1667503860000, 20247.5, 20248.0, 20247.0, 20248.0, 12.036],\n   [1667503920000, 20248.0, 20258.5, 20247.5, 20258.5, 35.029],\n   [1667503980000, 20258.5, 20260.5, 20258.5, 20260.5, 36.683],\n   [1667504040000, 20260.5, 20262.5, 20260.0, 20262.0, 9.191],\n   [1667504100000, 20262.0, 20262.5, 20260.0, 20260.5, 19.928],\n   [1667504160000, 20260.5, 20260.5, 20242.0, 20242.5, 59.431],\n   [1667504220000, 20242.5, 20242.5, 20242.0, 20242.5, 7.121],\n   [1667504280000, 20242.5, 20242.5, 20242.0, 20242.0, 4.334],\n   [1667504340000, 20242.0, 20242.5, 20242.0, 20242.0, 3.715],\n   [1667504400000, 20242.0, 20242.5, 20242.0, 20242.5, 31.266],\n   [1667504460000, 20242.5, 20242.5, 20242.0, 20242.0, 22.413],\n   [1667504520000, 20242.0, 20242.5, 20242.0, 20242.5, 14.045],\n   [1667504580000, 20242.5, 20242.5, 20240.5, 20240.5, 13.552],\n   [1667504640000, 20240.5, 20241.0, 20240.5, 20240.5, 3.851],\n   [1667504700000, 20240.5, 20241.0, 20240.5, 20240.5, 29.692],\n   [1667504760000, 20240.5, 20241.0, 20233.0, 20233.5, 26.615],\n   [1667504820000, 20233.5, 20233.5, 20230.0, 20230.0, 94.645],\n   [1667504880000, 20230.0, 20232.5, 20229.0, 20232.5, 23.908],\n   [1667504940000, 20232.5, 20232.5, 20232.0, 20232.0, 4.631],\n   [1667505000000, 20232.0, 20232.5, 20230.0, 20230.5, 6.161],\n   [1667505060000, 20230.5, 20230.5, 20228.5, 20228.5, 13.928],\n   [1667505120000, 20228.5, 20229.0, 20228.5, 20228.5, 10.357],\n   [1667505180000, 20228.5, 20229.0, 20228.5, 20228.5, 6.362],\n   [1667505240000, 20228.5, 20230.0, 20228.5, 20230.0, 7.669],\n   [1667505300000, 20230.0, 20230.0, 20229.0, 20229.5, 11.973],\n   [1667505360000, 20229.5, 20229.5, 20228.0, 20228.5, 22.245],\n   [1667505420000, 20228.5, 20228.5, 20226.5, 20227.0, 37.664],\n   [1667505480000, 20227.0, 20238.0, 20226.5, 20237.5, 193.588],\n   [1667505540000, 20237.5, 20250.0, 20237.5, 20249.5, 42.874],\n   [1667505600000, 20249.5, 20255.5, 20245.5, 20245.5, 71.242],\n   [1667505660000, 20245.5, 20246.0, 20239.5, 20240.0, 53.3],\n   [1667505720000, 20240.0, 20240.0, 20231.0, 20231.5, 19.897],\n   [1667505780000, 20231.5, 20231.5, 20219.5, 20220.0, 26.069],\n   [1667505840000, 20220.0, 20220.0, 20219.5, 20220.0, 20.451],\n   [1667505900000, 20220.0, 20220.0, 20219.5, 20220.0, 10.355],\n   [1667505960000, 20220.0, 20220.0, 20219.5, 20219.5, 13.89],\n   [1667506020000, 20219.5, 20220.0, 20219.5, 20219.5, 16.526],\n   [1667506080000, 20219.5, 20227.0, 20219.5, 20227.0, 90.175],\n   [1667506140000, 20227.0, 20227.0, 20226.5, 20227.0, 15.1],\n   [1667506200000, 20227.0, 20227.0, 20215.0, 20215.0, 90.755],\n   [1667506260000, 20215.0, 20215.5, 20215.0, 20215.0, 10.665],\n   [1667506320000, 20215.0, 20219.5, 20215.0, 20219.5, 57.091],\n   [1667506380000, 20219.5, 20219.5, 20219.0, 20219.0, 5.737],\n   [1667506440000, 20219.0, 20219.5, 20219.0, 20219.5, 2.519],\n   [1667506500000, 20219.5, 20219.5, 20219.0, 20219.0, 1.228],\n   [1667506560000, 20219.0, 20219.5, 20218.0, 20218.5, 7.191],\n   [1667506620000, 20218.5, 20218.5, 20212.0, 20217.5, 44.802],\n   [1667506680000, 20217.5, 20221.0, 20217.0, 20221.0, 16.525],\n   [1667506740000, 20221.0, 20230.0, 20220.5, 20230.0, 17.057],\n   [1667506800000, 20230.0, 20230.0, 20229.5, 20230.0, 12.432],\n   [1667506860000, 20230.0, 20230.0, 20229.5, 20229.5, 6.152],\n   [1667506920000, 20229.5, 20230.0, 20221.5, 20221.5, 40.726],\n   [1667506980000, 20221.5, 20223.5, 20221.5, 20223.0, 5.426],\n   [1667507040000, 20223.0, 20230.0, 20223.0, 20229.5, 5.776],\n   [1667507100000, 20229.5, 20231.0, 20229.5, 20230.5, 4.669],\n   [1667507160000, 20230.5, 20233.0, 20230.5, 20232.5, 53.524],\n   [1667507220000, 20232.5, 20233.0, 20229.5, 20230.0, 3.664],\n   [1667507280000, 20230.0, 20230.0, 20226.5, 20227.0, 88.433],\n   [1667507340000, 20227.0, 20227.0, 20225.0, 20225.5, 3.492],\n   [1667507400000, 20225.5, 20225.5, 20222.0, 20222.0, 65.695],\n   [1667507460000, 20222.0, 20224.0, 20222.0, 20223.5, 17.357],\n   [1667507520000, 20223.5, 20226.5, 20223.5, 20226.0, 17.075],\n   [1667507580000, 20226.0, 20226.5, 20226.0, 20226.0, 14.061],\n   [1667507640000, 20226.0, 20227.0, 20226.0, 20226.5, 29.126],\n   [1667507700000, 20226.5, 20227.0, 20226.5, 20226.5, 7.643],\n   [1667507760000, 20226.5, 20230.0, 20226.5, 20229.5, 49.964],\n   [1667507820000, 20229.5, 20231.5, 20229.5, 20231.5, 19.4],\n   [1667507880000, 20231.5, 20231.5, 20231.0, 20231.5, 8.374],\n   [1667507940000, 20231.5, 20231.5, 20231.0, 20231.0, 3.235],\n   [1667508000000, 20231.0, 20234.5, 20231.0, 20234.5, 5.031],\n   [1667508060000, 20234.5, 20235.0, 20226.0, 20226.0, 59.606],\n   [1667508120000, 20226.0, 20226.5, 20226.0, 20226.5, 4.076],\n   [1667508180000, 20226.5, 20226.5, 20221.0, 20221.0, 11.954],\n   [1667508240000, 20221.0, 20221.5, 20211.0, 20213.5, 23.929],\n   [1667508300000, 20213.5, 20217.0, 20213.5, 20216.5, 6.417],\n   [1667508360000, 20216.5, 20221.5, 20216.5, 20221.0, 2.973],\n   [1667508420000, 20221.0, 20225.0, 20221.0, 20224.5, 17.641],\n   [1667508480000, 20224.5, 20225.0, 20224.5, 20224.5, 5.291],\n   [1667508540000, 20224.5, 20225.0, 20224.5, 20225.0, 2.384],\n   [1667508600000, 20225.0, 20233.0, 20224.5, 20233.0, 83.521],\n   [1667508660000, 20233.0, 20233.0, 20232.5, 20233.0, 7.336],\n   [1667508720000, 20233.0, 20233.0, 20232.5, 20232.5, 4.697],\n   [1667508780000, 20232.5, 20233.0, 20232.5, 20232.5, 3.229],\n   [1667508840000, 20232.5, 20233.0, 20232.5, 20233.0, 3.358],\n   [1667508900000, 20233.0, 20233.0, 20227.0, 20227.5, 31.31],\n   [1667508960000, 20227.5, 20236.0, 20227.0, 20235.5, 12.947],\n   [1667509020000, 20235.5, 20236.0, 20229.5, 20230.0, 13.601],\n   [1667509080000, 20230.0, 20230.0, 20229.5, 20229.5, 8.223],\n   [1667509140000, 20229.5, 20230.0, 20226.0, 20226.0, 43.277],\n   [1667509200000, 20226.0, 20226.5, 20226.0, 20226.0, 4.455],\n   [1667509260000, 20226.0, 20226.5, 20226.0, 20226.0, 9.063],\n   [1667509320000, 20226.0, 20229.5, 20226.0, 20229.5, 34.825],\n   [1667509380000, 20229.5, 20233.0, 20229.0, 20232.5, 6.088],\n   [1667509440000, 20232.5, 20233.0, 20232.5, 20233.0, 2.317],\n   [1667509500000, 20233.0, 20233.0, 20232.5, 20233.0, 28.734],\n   [1667509560000, 20233.0, 20233.0, 20232.5, 20232.5, 10.204],\n   [1667509620000, 20232.5, 20233.0, 20232.5, 20232.5, 5.278],\n   [1667509680000, 20232.5, 20233.0, 20232.5, 20232.5, 2.16],\n   [1667509740000, 20232.5, 20233.0, 20232.5, 20233.0, 7.792],\n   [1667509800000, 20233.0, 20233.0, 20232.5, 20233.0, 10.652],\n   [1667509860000, 20233.0, 20233.0, 20232.5, 20232.5, 17.552],\n   [1667509920000, 20232.5, 20233.0, 20232.5, 20232.5, 9.854],\n   [1667509980000, 20232.5, 20233.0, 20232.5, 20233.0, 43.643],\n   [1667510040000, 20233.0, 20234.0, 20232.5, 20233.5, 18.87],\n   [1667510100000, 20233.5, 20238.0, 20233.5, 20238.0, 6.123],\n   [1667510160000, 20238.0, 20240.5, 20237.5, 20240.5, 9.861],\n   [1667510220000, 20240.5, 20242.0, 20240.0, 20242.0, 8.233],\n   [1667510280000, 20242.0, 20242.0, 20241.5, 20242.0, 24.357],\n   [1667510340000, 20242.0, 20243.0, 20241.5, 20243.0, 6.072],\n   [1667510400000, 20243.0, 20244.0, 20242.5, 20243.5, 10.756],\n   [1667510460000, 20243.5, 20246.0, 20243.5, 20245.5, 11.278],\n   [1667510520000, 20245.5, 20255.0, 20245.5, 20250.0, 142.346],\n   [1667510580000, 20250.0, 20250.0, 20245.0, 20247.5, 66.608],\n   [1667510640000, 20247.5, 20248.0, 20247.5, 20248.0, 9.571],\n   [1667510700000, 20248.0, 20248.0, 20247.5, 20248.0, 8.409],\n   [1667510760000, 20248.0, 20248.0, 20247.5, 20247.5, 12.452],\n   [1667510820000, 20247.5, 20248.0, 20247.5, 20248.0, 1.907],\n   [1667510880000, 20248.0, 20250.0, 20247.5, 20249.5, 34.081],\n   [1667510940000, 20249.5, 20250.0, 20249.5, 20250.0, 2.896],\n   [1667511000000, 20250.0, 20250.0, 20249.5, 20249.5, 3.196],\n   [1667511060000, 20249.5, 20250.0, 20243.5, 20245.5, 13.688],\n   [1667511120000, 20245.5, 20245.5, 20242.5, 20242.5, 5.168],\n   [1667511180000, 20242.5, 20243.0, 20237.5, 20238.0, 16.994],\n   [1667511240000, 20238.0, 20238.0, 20237.0, 20237.5, 6.563],\n   [1667511300000, 20237.5, 20237.5, 20228.0, 20230.0, 92.116],\n   [1667511360000, 20230.0, 20230.0, 20227.5, 20228.0, 13.597],\n   [1667511420000, 20228.0, 20228.0, 20216.5, 20220.0, 76.586],\n   [1667511480000, 20220.0, 20229.0, 20219.5, 20228.5, 58.715],\n   [1667511540000, 20228.5, 20234.0, 20228.5, 20234.0, 4.544],\n   [1667511600000, 20234.0, 20240.5, 20233.5, 20240.5, 18.497],\n   [1667511660000, 20240.5, 20241.5, 20240.0, 20241.5, 3.508],\n   [1667511720000, 20241.5, 20241.5, 20241.0, 20241.5, 14.556],\n   [1667511780000, 20241.5, 20241.5, 20241.0, 20241.5, 14.655],\n   [1667511840000, 20241.5, 20250.0, 20241.0, 20249.5, 33.56],\n   [1667511900000, 20249.5, 20250.0, 20249.5, 20249.5, 5.432],\n   [1667511960000, 20249.5, 20250.0, 20249.5, 20249.5, 9.825],\n   [1667512020000, 20249.5, 20250.5, 20249.5, 20250.0, 17.735],\n   [1667512080000, 20250.0, 20250.5, 20250.0, 20250.0, 8.528],\n   [1667512140000, 20250.0, 20250.5, 20250.0, 20250.0, 6.34],\n   [1667512200000, 20250.0, 20250.5, 20250.0, 20250.0, 7.609],\n   [1667512260000, 20250.0, 20250.5, 20250.0, 20250.5, 21.948],\n   [1667512320000, 20250.5, 20250.5, 20250.0, 20250.0, 4.39],\n   [1667512380000, 20250.0, 20250.5, 20250.0, 20250.0, 16.577],\n   [1667512440000, 20250.0, 20250.5, 20250.0, 20250.5, 9.517],\n   [1667512500000, 20250.5, 20250.5, 20250.0, 20250.5, 12.298],\n   [1667512560000, 20250.5, 20250.5, 20250.0, 20250.5, 9.032],\n   [1667512620000, 20250.5, 20250.5, 20250.0, 20250.5, 3.648],\n   [1667512680000, 20250.5, 20250.5, 20250.0, 20250.0, 4.647],\n   [1667512740000, 20250.0, 20250.5, 20250.0, 20250.5, 0.907],\n   [1667512800000, 20250.5, 20250.5, 20250.0, 20250.5, 7.116],\n   [1667512860000, 20250.5, 20250.5, 20250.0, 20250.0, 11.199],\n   [1667512920000, 20250.0, 20256.0, 20250.0, 20253.0, 38.062],\n   [1667512980000, 20253.0, 20256.0, 20240.5, 20240.5, 44.18],\n   [1667513040000, 20240.5, 20240.5, 20231.0, 20233.5, 23.983],\n   [1667513100000, 20233.5, 20235.0, 20231.5, 20234.5, 33.532],\n   [1667513160000, 20234.5, 20235.0, 20234.5, 20235.0, 7.407],\n   [1667513220000, 20235.0, 20235.0, 20234.5, 20235.0, 5.056],\n   [1667513280000, 20235.0, 20235.0, 20234.5, 20235.0, 4.737],\n   [1667513340000, 20235.0, 20235.0, 20230.0, 20230.5, 19.212],\n   [1667513400000, 20230.5, 20230.5, 20220.0, 20222.0, 56.28],\n   [1667513460000, 20222.0, 20222.0, 20206.5, 20215.0, 98.68],\n   [1667513520000, 20215.0, 20215.5, 20209.0, 20212.0, 65.66],\n   [1667513580000, 20212.0, 20212.0, 20201.0, 20201.0, 197.082],\n   [1667513640000, 20201.0, 20210.0, 20201.0, 20209.5, 30.689],\n   [1667513700000, 20209.5, 20210.0, 20203.5, 20204.0, 27.989],\n   [1667513760000, 20204.0, 20207.0, 20190.5, 20190.5, 86.529],\n   [1667513820000, 20190.5, 20191.0, 20153.0, 20166.0, 709.039],\n   [1667513880000, 20166.0, 20174.0, 20160.0, 20164.5, 154.641],\n   [1667513940000, 20164.5, 20167.5, 20145.0, 20167.0, 330.687],\n   [1667514000000, 20167.0, 20174.5, 20162.0, 20162.5, 55.376],\n   [1667514060000, 20162.5, 20162.5, 20149.5, 20158.0, 76.048],\n   [1667514120000, 20158.0, 20182.5, 20157.5, 20182.5, 127.343],\n   [1667514180000, 20182.5, 20187.0, 20181.0, 20182.0, 49.239],\n   [1667514240000, 20182.0, 20193.0, 20182.0, 20192.5, 40.839],\n   [1667514300000, 20192.5, 20208.5, 20192.5, 20208.0, 53.512],\n   [1667514360000, 20208.0, 20217.5, 20206.0, 20217.5, 50.819],\n   [1667514420000, 20217.5, 20226.0, 20217.5, 20222.0, 40.44],\n   [1667514480000, 20222.0, 20225.5, 20220.0, 20220.5, 31.333],\n   [1667514540000, 20220.5, 20220.5, 20214.5, 20215.0, 20.119],\n   [1667514600000, 20215.0, 20215.0, 20208.0, 20212.5, 64.185],\n   [1667514660000, 20212.5, 20212.5, 20203.5, 20204.0, 35.282],\n   [1667514720000, 20204.0, 20204.0, 20188.5, 20195.0, 129.489],\n   [1667514780000, 20195.0, 20199.0, 20188.5, 20198.5, 45.388],\n   [1667514840000, 20198.5, 20199.0, 20198.5, 20198.5, 13.766],\n   [1667514900000, 20198.5, 20199.0, 20197.0, 20197.5, 7.898],\n   [1667514960000, 20197.5, 20197.5, 20175.0, 20180.0, 87.256],\n   [1667515020000, 20180.0, 20184.5, 20177.5, 20184.5, 53.185],\n   [1667515080000, 20184.5, 20191.0, 20184.5, 20191.0, 19.634],\n   [1667515140000, 20191.0, 20191.0, 20188.0, 20188.5, 35.211],\n   [1667515200000, 20188.5, 20188.5, 20188.0, 20188.0, 12.214],\n   [1667515260000, 20188.0, 20188.5, 20188.0, 20188.0, 4.504],\n   [1667515320000, 20188.0, 20200.5, 20188.0, 20200.0, 28.663],\n   [1667515380000, 20200.0, 20200.0, 20199.5, 20200.0, 6.238],\n   [1667515440000, 20200.0, 20201.5, 20199.5, 20201.5, 10.816],\n   [1667515500000, 20201.5, 20201.5, 20201.0, 20201.5, 7.293],\n   [1667515560000, 20201.5, 20201.5, 20200.0, 20200.5, 14.104],\n   [1667515620000, 20200.5, 20209.5, 20200.0, 20209.0, 34.423],\n   [1667515680000, 20209.0, 20213.0, 20208.5, 20212.5, 18.883],\n   [1667515740000, 20212.5, 20213.0, 20209.0, 20209.5, 35.357],\n   [1667515800000, 20209.5, 20209.5, 20200.0, 20200.5, 17.129],\n   [1667515860000, 20200.5, 20200.5, 20200.0, 20200.5, 14.314],\n   [1667515920000, 20200.5, 20200.5, 20192.0, 20192.5, 28.636],\n   [1667515980000, 20192.5, 20192.5, 20188.5, 20189.0, 19.857],\n   [1667516040000, 20189.0, 20189.0, 20185.0, 20185.5, 29.1],\n   [1667516100000, 20185.5, 20188.0, 20181.0, 20181.5, 50.874],\n   [1667516160000, 20181.5, 20181.5, 20175.5, 20176.0, 20.818],\n   [1667516220000, 20176.0, 20181.5, 20175.5, 20181.5, 51.848],\n   [1667516280000, 20181.5, 20181.5, 20178.5, 20179.0, 26.366],\n   [1667516340000, 20179.0, 20184.5, 20178.5, 20184.5, 21.161],\n   [1667516400000, 20184.5, 20197.0, 20176.5, 20196.5, 47.177],\n   [1667516460000, 20196.5, 20198.0, 20196.5, 20198.0, 27.533],\n   [1667516520000, 20198.0, 20210.0, 20194.5, 20206.5, 97.47],\n   [1667516580000, 20206.5, 20207.0, 20201.0, 20201.5, 17.099],\n   [1667516640000, 20201.5, 20204.5, 20200.0, 20204.0, 13.847],\n   [1667516700000, 20204.0, 20205.0, 20190.5, 20191.0, 38.257],\n   [1667516760000, 20191.0, 20191.0, 20187.5, 20191.0, 16.675],\n   [1667516820000, 20191.0, 20191.0, 20190.5, 20191.0, 7.958],\n   [1667516880000, 20191.0, 20191.0, 20190.5, 20190.5, 14.336],\n   [1667516940000, 20190.5, 20195.0, 20190.5, 20194.5, 11.935],\n   [1667517000000, 20194.5, 20195.0, 20186.0, 20186.0, 29.189],\n   [1667517060000, 20186.0, 20186.5, 20180.0, 20180.5, 8.495],\n   [1667517120000, 20180.5, 20180.5, 20180.0, 20180.5, 31.551],\n   [1667517180000, 20180.5, 20180.5, 20179.5, 20179.5, 6.991],\n   [1667517240000, 20179.5, 20180.0, 20165.5, 20166.0, 73.14],\n   [1667517300000, 20166.0, 20166.0, 20160.0, 20162.0, 38.148],\n   [1667517360000, 20162.0, 20162.0, 20155.0, 20155.5, 29.578],\n   [1667517420000, 20155.5, 20164.0, 20155.0, 20161.5, 142.35],\n   [1667517480000, 20161.5, 20163.0, 20161.0, 20162.5, 33.675],\n   [1667517540000, 20162.5, 20165.0, 20160.0, 20160.5, 40.321],\n   [1667517600000, 20160.5, 20164.0, 20160.0, 20164.0, 24.747],\n   [1667517660000, 20164.0, 20172.0, 20163.5, 20171.5, 42.275],\n   [1667517720000, 20171.5, 20175.0, 20171.5, 20174.5, 19.851],\n   [1667517780000, 20174.5, 20180.5, 20172.0, 20177.0, 68.638],\n   [1667517840000, 20177.0, 20177.5, 20177.0, 20177.5, 24.682],\n   [1667517900000, 20177.5, 20177.5, 20176.5, 20177.0, 33.459],\n   [1667517960000, 20177.0, 20177.0, 20174.0, 20174.5, 46.539],\n   [1667518020000, 20174.5, 20174.5, 20174.0, 20174.0, 8.89],\n   [1667518080000, 20174.0, 20174.5, 20171.0, 20171.5, 56.934],\n   [1667518140000, 20171.5, 20171.5, 20171.0, 20171.0, 11.393],\n   [1667518200000, 20171.0, 20179.5, 20171.0, 20179.5, 26.617],\n   [1667518260000, 20179.5, 20184.0, 20179.0, 20184.0, 32.287],\n   [1667518320000, 20184.0, 20184.0, 20183.5, 20183.5, 7.88],\n   [1667518380000, 20183.5, 20188.0, 20183.5, 20188.0, 27.058],\n   [1667518440000, 20188.0, 20188.0, 20175.0, 20179.0, 19.64],\n   [1667518500000, 20179.0, 20188.5, 20179.0, 20188.5, 15.778],\n   [1667518560000, 20188.5, 20198.0, 20188.0, 20197.5, 26.643],\n   [1667518620000, 20197.5, 20201.5, 20195.5, 20196.0, 43.51],\n   [1667518680000, 20196.0, 20196.0, 20195.5, 20196.0, 6.644],\n   [1667518740000, 20196.0, 20196.0, 20191.5, 20192.0, 4.339],\n   [1667518800000, 20192.0, 20192.0, 20187.5, 20188.0, 11.631],\n   [1667518860000, 20188.0, 20195.0, 20185.0, 20195.0, 12.021],\n   [1667518920000, 20195.0, 20195.0, 20194.5, 20195.0, 7.824],\n   [1667518980000, 20195.0, 20195.0, 20190.5, 20190.5, 3.321],\n   [1667519040000, 20190.5, 20191.0, 20190.0, 20190.5, 6.423],\n   [1667519100000, 20190.5, 20190.5, 20189.5, 20190.0, 51.575],\n   [1667519160000, 20190.0, 20190.0, 20189.5, 20190.0, 3.743],\n   [1667519220000, 20190.0, 20190.0, 20189.5, 20189.5, 8.443],\n   [1667519280000, 20189.5, 20190.0, 20189.5, 20189.5, 1.147],\n   [1667519340000, 20189.5, 20197.0, 20189.5, 20196.5, 55.446],\n   [1667519400000, 20196.5, 20200.5, 20191.5, 20192.0, 143.429],\n   [1667519460000, 20192.0, 20192.0, 20190.0, 20190.5, 18.029],\n   [1667519520000, 20190.5, 20195.5, 20190.0, 20195.0, 3.488],\n   [1667519580000, 20195.0, 20199.5, 20195.0, 20199.0, 16.795],\n   [1667519640000, 20199.0, 20199.5, 20199.0, 20199.0, 5.855],\n   [1667519700000, 20199.0, 20199.5, 20199.0, 20199.5, 1.639],\n   [1667519760000, 20199.5, 20199.5, 20199.0, 20199.5, 10.558],\n   [1667519820000, 20199.5, 20199.5, 20199.0, 20199.0, 4.407],\n   [1667519880000, 20199.0, 20199.5, 20199.0, 20199.0, 4.317],\n   [1667519940000, 20199.0, 20199.5, 20199.0, 20199.5, 2.292],\n   [1667520000000, 20199.5, 20199.5, 20198.0, 20198.0, 24.093],\n   [1667520060000, 20198.0, 20205.0, 20198.0, 20204.5, 76.87],\n   [1667520120000, 20204.5, 20205.0, 20197.0, 20197.0, 70.224],\n   [1667520180000, 20197.0, 20197.5, 20191.5, 20191.5, 20.302],\n   [1667520240000, 20191.5, 20191.5, 20185.0, 20185.5, 10.534],\n   [1667520300000, 20185.5, 20194.5, 20184.0, 20184.5, 35.737],\n   [1667520360000, 20184.5, 20184.5, 20181.0, 20181.5, 13.411],\n   [1667520420000, 20181.5, 20186.0, 20181.0, 20185.5, 28.395],\n   [1667520480000, 20185.5, 20186.0, 20181.5, 20182.0, 13.947],\n   [1667520540000, 20182.0, 20182.0, 20181.5, 20182.0, 9.493],\n   [1667520600000, 20182.0, 20182.0, 20175.0, 20175.0, 30.207],\n   [1667520660000, 20175.0, 20188.0, 20175.0, 20182.5, 55.892],\n   [1667520720000, 20182.5, 20188.0, 20182.0, 20187.5, 15.524],\n   [1667520780000, 20187.5, 20197.5, 20187.5, 20197.0, 23.755],\n   [1667520840000, 20197.0, 20197.5, 20195.5, 20196.0, 20.837],\n   [1667520900000, 20196.0, 20204.0, 20191.0, 20203.5, 40.263],\n   [1667520960000, 20203.5, 20206.0, 20203.5, 20206.0, 41.23],\n   [1667521020000, 20206.0, 20206.0, 20190.5, 20199.5, 34.951],\n   [1667521080000, 20199.5, 20200.5, 20199.5, 20200.5, 17.222],\n   [1667521140000, 20200.5, 20240.5, 20200.5, 20239.0, 365.225],\n   [1667521200000, 20239.0, 20249.5, 20239.0, 20243.0, 255.582],\n   [1667521260000, 20243.0, 20245.0, 20240.0, 20244.5, 117.931],\n   [1667521320000, 20244.5, 20275.0, 20244.5, 20274.5, 284.096],\n   [1667521380000, 20274.5, 20288.0, 20274.5, 20279.5, 457.107],\n   [1667521440000, 20279.5, 20289.0, 20279.5, 20289.0, 143.752],\n   [1667521500000, 20289.0, 20289.0, 20275.0, 20279.0, 187.24],\n   [1667521560000, 20279.0, 20279.0, 20268.0, 20274.5, 129.083],\n   [1667521620000, 20274.5, 20278.0, 20274.5, 20278.0, 31.643],\n   [1667521680000, 20278.0, 20283.5, 20275.0, 20283.5, 190.422],\n   [1667521740000, 20283.5, 20283.5, 20274.5, 20274.5, 47.192],\n   [1667521800000, 20274.5, 20282.0, 20274.0, 20281.5, 51.276],\n   [1667521860000, 20281.5, 20282.5, 20279.0, 20279.0, 145.04],\n   [1667521920000, 20279.0, 20280.5, 20279.0, 20280.5, 39.358],\n   [1667521980000, 20280.5, 20282.5, 20279.5, 20280.5, 26.963],\n   [1667522040000, 20280.5, 20285.0, 20280.0, 20284.5, 50.028],\n   [1667522100000, 20284.5, 20284.5, 20276.0, 20276.5, 40.287],\n   [1667522160000, 20276.5, 20276.5, 20258.0, 20258.5, 100.166],\n   [1667522220000, 20258.5, 20258.5, 20251.0, 20251.0, 55.053],\n   [1667522280000, 20251.0, 20256.0, 20249.0, 20256.0, 63.52],\n   [1667522340000, 20256.0, 20261.5, 20254.5, 20254.5, 25.428],\n   [1667522400000, 20254.5, 20254.5, 20254.0, 20254.5, 15.525],\n   [1667522460000, 20254.5, 20254.5, 20249.5, 20249.5, 38.711],\n   [1667522520000, 20249.5, 20254.5, 20249.5, 20250.0, 46.468],\n   [1667522580000, 20250.0, 20250.5, 20246.0, 20250.5, 49.345],\n   [1667522640000, 20250.5, 20252.0, 20247.5, 20248.0, 48.602],\n   [1667522700000, 20248.0, 20248.0, 20247.5, 20247.5, 16.935],\n   [1667522760000, 20247.5, 20250.5, 20247.5, 20250.0, 38.26],\n   [1667522820000, 20250.0, 20250.5, 20250.0, 20250.5, 26.207],\n   [1667522880000, 20250.5, 20258.0, 20250.0, 20258.0, 27.306],\n   [1667522940000, 20258.0, 20263.0, 20257.5, 20262.5, 31.889],\n   [1667523000000, 20262.5, 20276.0, 20262.5, 20275.5, 78.723],\n   [1667523060000, 20275.5, 20275.5, 20273.5, 20274.0, 30.076],\n   [1667523120000, 20274.0, 20274.0, 20270.0, 20270.5, 10.411],\n   [1667523180000, 20270.5, 20270.5, 20268.0, 20268.0, 21.29],\n   [1667523240000, 20268.0, 20270.5, 20268.0, 20270.0, 35.492],\n   [1667523300000, 20270.0, 20272.0, 20267.5, 20271.5, 22.919],\n   [1667523360000, 20271.5, 20277.0, 20271.5, 20277.0, 128.102],\n   [1667523420000, 20277.0, 20277.0, 20276.5, 20277.0, 20.45],\n   [1667523480000, 20277.0, 20277.0, 20275.0, 20275.5, 64.03],\n   [1667523540000, 20275.5, 20275.5, 20275.0, 20275.5, 18.154],\n   [1667523600000, 20275.5, 20280.0, 20275.0, 20279.5, 47.922],\n   [1667523660000, 20279.5, 20285.0, 20279.5, 20285.0, 46.431],\n   [1667523720000, 20285.0, 20285.5, 20284.5, 20285.0, 38.342],\n   [1667523780000, 20285.0, 20285.5, 20285.0, 20285.5, 13.804],\n   [1667523840000, 20285.5, 20295.0, 20285.0, 20295.0, 150.834],\n   [1667523900000, 20295.0, 20300.0, 20294.5, 20296.5, 141.552],\n   [1667523960000, 20296.5, 20297.0, 20296.0, 20296.5, 45.842],\n   [1667524020000, 20296.5, 20296.5, 20285.0, 20285.5, 47.197],\n   [1667524080000, 20285.5, 20285.5, 20280.0, 20280.0, 23.156],\n   [1667524140000, 20280.0, 20280.5, 20276.5, 20277.0, 30.866],\n   [1667524200000, 20277.0, 20277.0, 20273.5, 20273.5, 16.518],\n   [1667524260000, 20273.5, 20274.0, 20264.0, 20264.5, 49.184],\n   [1667524320000, 20264.5, 20264.5, 20262.0, 20264.5, 26.779],\n   [1667524380000, 20264.5, 20266.5, 20261.0, 20261.5, 24.614],\n   [1667524440000, 20261.5, 20261.5, 20255.0, 20255.5, 31.941],\n   [1667524500000, 20255.5, 20255.5, 20251.0, 20251.5, 23.986],\n   [1667524560000, 20251.5, 20251.5, 20251.0, 20251.5, 14.357],\n   [1667524620000, 20251.5, 20251.5, 20250.0, 20250.0, 23.355],\n   [1667524680000, 20250.0, 20250.5, 20250.0, 20250.0, 18.989],\n   [1667524740000, 20250.0, 20253.5, 20250.0, 20253.5, 45.611],\n   [1667524800000, 20253.5, 20253.5, 20253.0, 20253.0, 11.339],\n   [1667524860000, 20253.0, 20253.5, 20250.5, 20250.5, 19.814],\n   [1667524920000, 20250.5, 20251.0, 20250.5, 20250.5, 3.914],\n   [1667524980000, 20250.5, 20262.0, 20250.5, 20262.0, 45.047],\n   [1667525040000, 20262.0, 20262.0, 20250.0, 20250.5, 9.603],\n   [1667525100000, 20250.5, 20250.5, 20250.0, 20250.5, 21.505],\n   [1667525160000, 20250.5, 20250.5, 20244.5, 20244.5, 26.396],\n   [1667525220000, 20244.5, 20245.5, 20243.0, 20243.0, 18.485],\n   [1667525280000, 20243.0, 20243.5, 20233.0, 20233.0, 145.098],\n   [1667525340000, 20233.0, 20236.5, 20233.0, 20236.0, 47.565],\n   [1667525400000, 20236.0, 20244.5, 20236.0, 20244.0, 40.557],\n   [1667525460000, 20244.0, 20251.5, 20244.0, 20249.5, 35.598],\n   [1667525520000, 20249.5, 20249.5, 20244.0, 20244.5, 7.076],\n   [1667525580000, 20244.5, 20254.0, 20244.0, 20253.5, 23.815],\n   [1667525640000, 20253.5, 20256.0, 20253.5, 20254.0, 27.419],\n   [1667525700000, 20254.0, 20263.0, 20253.5, 20263.0, 28.745],\n   [1667525760000, 20263.0, 20263.0, 20262.5, 20263.0, 23.387],\n   [1667525820000, 20263.0, 20265.0, 20262.5, 20265.0, 35.212],\n   [1667525880000, 20265.0, 20265.0, 20264.5, 20265.0, 15.474],\n   [1667525940000, 20265.0, 20265.0, 20264.5, 20265.0, 12.782],\n   [1667526000000, 20265.0, 20265.0, 20259.5, 20260.0, 18.285],\n   [1667526060000, 20260.0, 20260.0, 20259.0, 20259.5, 11.313],\n   [1667526120000, 20259.5, 20259.5, 20259.0, 20259.0, 4.333],\n   [1667526180000, 20259.0, 20259.5, 20259.0, 20259.5, 3.869],\n   [1667526240000, 20259.5, 20263.0, 20259.0, 20263.0, 26.884],\n   [1667526300000, 20263.0, 20263.0, 20262.5, 20263.0, 0.652],\n   [1667526360000, 20263.0, 20263.0, 20262.5, 20263.0, 4.37],\n   [1667526420000, 20263.0, 20263.0, 20262.5, 20262.5, 6.463],\n   [1667526480000, 20262.5, 20263.0, 20262.5, 20262.5, 1.455],\n   [1667526540000, 20262.5, 20265.0, 20262.5, 20264.5, 6.395],\n   [1667526600000, 20264.5, 20265.0, 20264.5, 20264.5, 5.019],\n   [1667526660000, 20264.5, 20265.0, 20264.5, 20265.0, 1.173],\n   [1667526720000, 20265.0, 20265.0, 20264.5, 20265.0, 38.124],\n   [1667526780000, 20265.0, 20265.0, 20264.5, 20264.5, 3.478],\n   [1667526840000, 20264.5, 20272.5, 20264.5, 20272.5, 39.016],\n   [1667526900000, 20272.5, 20272.5, 20272.0, 20272.5, 7.411],\n   [1667526960000, 20272.5, 20272.5, 20263.0, 20263.5, 13.863],\n   [1667527020000, 20263.5, 20268.5, 20263.0, 20268.5, 4.596],\n   [1667527080000, 20268.5, 20272.5, 20268.0, 20272.0, 8.267],\n   [1667527140000, 20272.0, 20272.5, 20272.0, 20272.0, 6.359],\n   [1667527200000, 20272.0, 20275.0, 20272.0, 20274.5, 25.474],\n   [1667527260000, 20274.5, 20275.0, 20274.5, 20274.5, 14.83],\n   [1667527320000, 20274.5, 20275.0, 20274.5, 20275.0, 18.11],\n   [1667527380000, 20275.0, 20275.0, 20274.5, 20274.5, 2.808],\n   [1667527440000, 20274.5, 20275.0, 20274.5, 20275.0, 13.331],\n   [1667527500000, 20275.0, 20275.0, 20274.5, 20275.0, 3.955],\n   [1667527560000, 20275.0, 20275.0, 20267.5, 20267.5, 24.963],\n   [1667527620000, 20267.5, 20275.0, 20267.5, 20275.0, 8.147],\n   [1667527680000, 20275.0, 20291.0, 20274.5, 20290.5, 100.83],\n   [1667527740000, 20290.5, 20291.0, 20290.0, 20290.0, 56.41],\n   [1667527800000, 20290.0, 20290.5, 20281.5, 20282.0, 66.709],\n   [1667527860000, 20282.0, 20282.0, 20279.0, 20279.0, 21.627],\n   [1667527920000, 20279.0, 20287.0, 20279.0, 20287.0, 36.154],\n   [1667527980000, 20287.0, 20287.0, 20286.5, 20286.5, 7.334],\n   [1667528040000, 20286.5, 20293.0, 20286.5, 20292.5, 44.069],\n   [1667528100000, 20292.5, 20298.0, 20290.5, 20290.5, 81.186],\n   [1667528160000, 20290.5, 20291.0, 20280.5, 20281.0, 24.843],\n   [1667528220000, 20281.0, 20283.5, 20280.5, 20283.0, 19.237],\n   [1667528280000, 20283.0, 20283.5, 20280.5, 20280.5, 9.299],\n   [1667528340000, 20280.5, 20287.0, 20280.5, 20282.0, 24.263],\n   [1667528400000, 20282.0, 20282.5, 20263.5, 20268.0, 160.626],\n   [1667528460000, 20268.0, 20268.5, 20268.0, 20268.0, 15.654],\n   [1667528520000, 20268.0, 20274.0, 20268.0, 20273.5, 12.687],\n   [1667528580000, 20273.5, 20273.5, 20268.0, 20272.5, 5.992],\n   [1667528640000, 20272.5, 20274.5, 20272.0, 20274.5, 1.298],\n   [1667528700000, 20274.5, 20278.5, 20274.5, 20278.5, 2.425],\n   [1667528760000, 20278.5, 20278.5, 20276.0, 20278.0, 2.476],\n   [1667528820000, 20278.0, 20282.0, 20278.0, 20281.5, 21.727],\n   [1667528880000, 20281.5, 20282.0, 20281.5, 20281.5, 1.948],\n   [1667528940000, 20281.5, 20282.0, 20281.5, 20282.0, 4.592],\n   [1667529000000, 20282.0, 20282.0, 20281.5, 20281.5, 2.618],\n   [1667529060000, 20281.5, 20282.0, 20281.5, 20281.5, 9.871],\n   [1667529120000, 20281.5, 20282.0, 20281.5, 20281.5, 0.569],\n   [1667529180000, 20281.5, 20282.0, 20281.5, 20281.5, 7.394],\n   [1667529240000, 20281.5, 20281.5, 20270.5, 20270.5, 50.937],\n   [1667529300000, 20270.5, 20270.5, 20266.0, 20266.0, 12.613],\n   [1667529360000, 20266.0, 20279.0, 20266.0, 20278.5, 56.888],\n   [1667529420000, 20278.5, 20279.0, 20278.5, 20278.5, 1.188],\n   [1667529480000, 20278.5, 20279.0, 20278.5, 20279.0, 3.863],\n   [1667529540000, 20279.0, 20279.0, 20278.5, 20278.5, 4.156],\n   [1667529600000, 20278.5, 20280.0, 20278.5, 20279.5, 12.501],\n   [1667529660000, 20279.5, 20280.0, 20279.5, 20279.5, 21.359],\n   [1667529720000, 20279.5, 20282.0, 20279.5, 20281.5, 4.593],\n   [1667529780000, 20281.5, 20282.0, 20281.5, 20282.0, 8.355],\n   [1667529840000, 20282.0, 20287.5, 20281.5, 20287.0, 38.818],\n   [1667529900000, 20287.0, 20290.0, 20287.0, 20289.5, 19.681],\n   [1667529960000, 20289.5, 20292.5, 20289.5, 20292.5, 31.347],\n   [1667530020000, 20292.5, 20292.5, 20287.5, 20288.0, 36.132],\n   [1667530080000, 20288.0, 20288.0, 20285.5, 20285.5, 9.6],\n   [1667530140000, 20285.5, 20286.0, 20285.5, 20285.5, 16.112],\n   [1667530200000, 20285.5, 20292.0, 20285.5, 20291.5, 45.971],\n   [1667530260000, 20291.5, 20292.0, 20291.5, 20291.5, 14.758],\n   [1667530320000, 20291.5, 20292.0, 20291.5, 20291.5, 4.233],\n   [1667530380000, 20291.5, 20292.0, 20291.5, 20291.5, 9.13],\n   [1667530440000, 20291.5, 20298.5, 20291.5, 20298.0, 34.993],\n   [1667530500000, 20298.0, 20303.0, 20298.0, 20302.5, 190.616],\n   [1667530560000, 20302.5, 20307.5, 20302.5, 20307.5, 233.35],\n   [1667530620000, 20307.5, 20312.0, 20307.0, 20310.0, 82.425],\n   [1667530680000, 20310.0, 20310.0, 20307.5, 20307.5, 97.343],\n   [1667530740000, 20307.5, 20307.5, 20306.5, 20306.5, 85.085],\n   [1667530800000, 20306.5, 20310.0, 20306.5, 20309.5, 32.65],\n   [1667530860000, 20309.5, 20312.0, 20309.5, 20312.0, 24.111],\n   [1667530920000, 20312.0, 20312.0, 20311.5, 20312.0, 22.713],\n   [1667530980000, 20312.0, 20312.0, 20306.5, 20306.5, 23.985],\n   [1667531040000, 20306.5, 20307.0, 20302.5, 20303.0, 27.193],\n   [1667531100000, 20303.0, 20303.0, 20292.0, 20292.5, 41.181],\n   [1667531160000, 20292.5, 20292.5, 20288.5, 20291.5, 19.993],\n   [1667531220000, 20291.5, 20291.5, 20291.0, 20291.5, 32.512],\n   [1667531280000, 20291.5, 20291.5, 20291.0, 20291.0, 6.835],\n   [1667531340000, 20291.0, 20291.5, 20280.5, 20281.0, 95.738],\n   [1667531400000, 20281.0, 20281.0, 20267.5, 20273.0, 197.937],\n   [1667531460000, 20273.0, 20273.0, 20272.5, 20273.0, 26.259],\n   [1667531520000, 20273.0, 20273.0, 20272.5, 20272.5, 6.538],\n   [1667531580000, 20272.5, 20279.5, 20272.5, 20279.5, 25.901],\n   [1667531640000, 20279.5, 20284.5, 20279.0, 20284.5, 30.503],\n   [1667531700000, 20284.5, 20284.5, 20276.5, 20276.5, 21.149],\n   [1667531760000, 20276.5, 20282.0, 20276.5, 20281.5, 38.508],\n   [1667531820000, 20281.5, 20287.0, 20281.5, 20286.5, 35.205],\n   [1667531880000, 20286.5, 20286.5, 20284.0, 20284.5, 24.329],\n   [1667531940000, 20284.5, 20284.5, 20278.5, 20279.0, 6.155],\n   [1667532000000, 20279.0, 20279.0, 20278.5, 20279.0, 3.381],\n   [1667532060000, 20279.0, 20279.0, 20273.5, 20273.5, 12.758],\n   [1667532120000, 20273.5, 20274.0, 20273.5, 20273.5, 21.43],\n   [1667532180000, 20273.5, 20281.5, 20273.5, 20281.5, 23.577],\n   [1667532240000, 20281.5, 20290.0, 20281.5, 20289.5, 17.062],\n   [1667532300000, 20289.5, 20296.0, 20289.5, 20295.5, 19.813],\n   [1667532360000, 20295.5, 20296.0, 20295.5, 20296.0, 7.728],\n   [1667532420000, 20296.0, 20296.0, 20295.5, 20296.0, 10.622],\n   [1667532480000, 20296.0, 20297.5, 20295.5, 20297.0, 12.262],\n   [1667532540000, 20297.0, 20303.0, 20297.0, 20303.0, 63.064],\n   [1667532600000, 20303.0, 20303.5, 20302.5, 20302.5, 21.719],\n   [1667532660000, 20302.5, 20305.0, 20302.5, 20304.5, 18.166],\n   [1667532720000, 20304.5, 20305.0, 20304.5, 20304.5, 3.069],\n   [1667532780000, 20304.5, 20310.0, 20304.5, 20310.0, 14.132],\n   [1667532840000, 20310.0, 20310.0, 20305.5, 20308.5, 28.155],\n   [1667532900000, 20308.5, 20310.0, 20308.5, 20309.5, 18.863],\n   [1667532960000, 20309.5, 20310.0, 20296.5, 20297.0, 43.216],\n   [1667533020000, 20297.0, 20300.0, 20296.5, 20299.5, 49.225],\n   [1667533080000, 20299.5, 20303.0, 20299.5, 20301.0, 6.486],\n   [1667533140000, 20301.0, 20301.0, 20297.0, 20297.0, 64.953],\n   [1667533200000, 20297.0, 20297.5, 20294.0, 20294.0, 6.381],\n   [1667533260000, 20294.0, 20294.5, 20294.0, 20294.0, 12.311],\n   [1667533320000, 20294.0, 20298.0, 20294.0, 20297.5, 7.474],\n   [1667533380000, 20297.5, 20298.5, 20297.5, 20298.5, 1.904],\n   [1667533440000, 20298.5, 20300.0, 20298.0, 20299.5, 45.298],\n   [1667533500000, 20299.5, 20305.0, 20299.5, 20304.5, 15.984],\n   [1667533560000, 20304.5, 20309.0, 20304.5, 20306.5, 37.536],\n   [1667533620000, 20306.5, 20309.0, 20305.5, 20308.5, 15.054],\n   [1667533680000, 20308.5, 20309.0, 20308.5, 20309.0, 7.853],\n   [1667533740000, 20309.0, 20309.0, 20308.5, 20308.5, 23.841],\n   [1667533800000, 20308.5, 20309.0, 20308.5, 20308.5, 18.439],\n   [1667533860000, 20308.5, 20309.0, 20308.5, 20308.5, 58.327],\n   [1667533920000, 20308.5, 20309.0, 20308.5, 20309.0, 9.783],\n   [1667533980000, 20309.0, 20309.0, 20308.5, 20308.5, 13.006],\n   [1667534040000, 20308.5, 20309.0, 20308.5, 20308.5, 4.217],\n   [1667534100000, 20308.5, 20310.5, 20308.5, 20310.5, 40.747],\n   [1667534160000, 20310.5, 20310.5, 20310.0, 20310.0, 33.847],\n   [1667534220000, 20310.0, 20310.5, 20310.0, 20310.5, 8.411],\n   [1667534280000, 20310.5, 20310.5, 20310.0, 20310.0, 17.615],\n   [1667534340000, 20310.0, 20311.5, 20310.0, 20310.5, 30.403],\n   [1667534400000, 20310.5, 20310.5, 20302.5, 20303.0, 55.988],\n   [1667534460000, 20303.0, 20303.0, 20301.5, 20302.0, 23.184],\n   [1667534520000, 20302.0, 20302.0, 20301.5, 20302.0, 24.467],\n   [1667534580000, 20302.0, 20302.0, 20300.0, 20300.5, 17.501],\n   [1667534640000, 20300.5, 20301.0, 20300.0, 20300.5, 36.218],\n   [1667534700000, 20300.5, 20301.0, 20300.5, 20300.5, 16.493],\n   [1667534760000, 20300.5, 20301.0, 20300.5, 20300.5, 38.044],\n   [1667534820000, 20300.5, 20301.0, 20300.5, 20300.5, 4.815],\n   [1667534880000, 20300.5, 20301.0, 20300.5, 20301.0, 12.152],\n   [1667534940000, 20301.0, 20303.0, 20300.5, 20302.5, 12.808],\n   [1667535000000, 20302.5, 20303.0, 20302.5, 20302.5, 22.81],\n   [1667535060000, 20302.5, 20303.0, 20300.0, 20300.5, 8.349],\n   [1667535120000, 20300.5, 20300.5, 20299.5, 20299.5, 8.996],\n   [1667535180000, 20299.5, 20302.5, 20299.5, 20302.0, 14.773],\n   [1667535240000, 20302.0, 20302.5, 20302.0, 20302.0, 15.242],\n   [1667535300000, 20302.0, 20303.0, 20302.0, 20303.0, 18.314],\n   [1667535360000, 20303.0, 20303.0, 20302.5, 20302.5, 2.347],\n   [1667535420000, 20302.5, 20303.0, 20302.5, 20303.0, 11.382],\n   [1667535480000, 20303.0, 20303.0, 20302.5, 20303.0, 48.841],\n   [1667535540000, 20303.0, 20303.0, 20302.5, 20302.5, 7.257],\n   [1667535600000, 20302.5, 20303.0, 20302.5, 20302.5, 48.306],\n   [1667535660000, 20302.5, 20303.0, 20302.5, 20303.0, 33.448],\n   [1667535720000, 20303.0, 20303.0, 20302.0, 20302.0, 35.106],\n   [1667535780000, 20302.0, 20302.0, 20296.5, 20300.5, 80.362],\n   [1667535840000, 20300.5, 20301.0, 20300.5, 20300.5, 9.063],\n   [1667535900000, 20300.5, 20301.0, 20300.5, 20300.5, 21.438],\n   [1667535960000, 20300.5, 20304.5, 20300.5, 20304.0, 26.383],\n   [1667536020000, 20304.0, 20304.5, 20304.0, 20304.0, 5.69],\n   [1667536080000, 20304.0, 20307.0, 20304.0, 20307.0, 32.633],\n   [1667536140000, 20307.0, 20330.0, 20306.5, 20329.5, 484.6],\n   [1667536200000, 20329.5, 20333.0, 20325.0, 20325.0, 133.505],\n   [1667536260000, 20325.0, 20327.5, 20324.5, 20327.5, 32.064],\n   [1667536320000, 20327.5, 20327.5, 20319.5, 20320.0, 17.842],\n   [1667536380000, 20320.0, 20320.0, 20315.0, 20315.0, 11.809],\n   [1667536440000, 20315.0, 20323.0, 20315.0, 20322.5, 63.601],\n   [1667536500000, 20322.5, 20323.0, 20322.0, 20322.5, 31.849],\n   [1667536560000, 20322.5, 20322.5, 20322.0, 20322.5, 9.095],\n   [1667536620000, 20322.5, 20322.5, 20318.5, 20319.0, 11.386],\n   [1667536680000, 20319.0, 20319.0, 20314.0, 20314.0, 5.701],\n   [1667536740000, 20314.0, 20314.5, 20314.0, 20314.0, 8.506],\n   [1667536800000, 20314.0, 20319.5, 20314.0, 20319.5, 23.279],\n   [1667536860000, 20319.5, 20319.5, 20314.5, 20315.0, 5.885],\n   [1667536920000, 20315.0, 20315.0, 20314.5, 20315.0, 14.029],\n   [1667536980000, 20315.0, 20321.5, 20314.5, 20321.5, 15.526],\n   [1667537040000, 20321.5, 20321.5, 20321.0, 20321.0, 27.539],\n   [1667537100000, 20321.0, 20321.5, 20309.0, 20309.5, 46.932],\n   [1667537160000, 20309.5, 20309.5, 20309.0, 20309.5, 11.362],\n   [1667537220000, 20309.5, 20309.5, 20305.0, 20305.5, 31.787],\n   [1667537280000, 20305.5, 20305.5, 20304.0, 20304.5, 27.122],\n   [1667537340000, 20304.5, 20308.5, 20304.0, 20307.0, 26.239],\n   [1667537400000, 20307.0, 20311.0, 20306.5, 20310.5, 33.807],\n   [1667537460000, 20310.5, 20311.0, 20310.5, 20311.0, 7.573],\n   [1667537520000, 20311.0, 20311.0, 20309.5, 20309.5, 14.963],\n   [1667537580000, 20309.5, 20310.0, 20309.5, 20309.5, 19.94],\n   [1667537640000, 20309.5, 20310.0, 20309.5, 20309.5, 2.798],\n   [1667537700000, 20309.5, 20310.0, 20309.5, 20309.5, 5.751],\n   [1667537760000, 20309.5, 20310.0, 20309.5, 20309.5, 14.918],\n   [1667537820000, 20309.5, 20310.0, 20309.5, 20309.5, 3.381],\n   [1667537880000, 20309.5, 20310.0, 20309.5, 20310.0, 1.559],\n   [1667537940000, 20310.0, 20313.0, 20309.5, 20312.5, 20.578],\n   [1667538000000, 20312.5, 20319.0, 20312.5, 20319.0, 25.312],\n   [1667538060000, 20319.0, 20319.0, 20318.5, 20318.5, 55.948],\n   [1667538120000, 20318.5, 20319.0, 20315.0, 20315.5, 25.633],\n   [1667538180000, 20315.5, 20315.5, 20315.0, 20315.0, 3.249],\n   [1667538240000, 20315.0, 20315.5, 20315.0, 20315.5, 8.092],\n   [1667538300000, 20315.5, 20316.0, 20315.0, 20315.5, 5.308],\n   [1667538360000, 20315.5, 20322.5, 20315.5, 20322.0, 127.072],\n   [1667538420000, 20322.0, 20324.0, 20321.5, 20322.0, 65.769],\n   [1667538480000, 20322.0, 20324.0, 20321.5, 20323.5, 15.935],\n   [1667538540000, 20323.5, 20324.0, 20323.5, 20323.5, 55.98],\n   [1667538600000, 20323.5, 20325.0, 20323.5, 20324.5, 11.947],\n   [1667538660000, 20324.5, 20325.0, 20324.5, 20325.0, 23.664],\n   [1667538720000, 20325.0, 20325.0, 20324.5, 20324.5, 46.551],\n   [1667538780000, 20324.5, 20326.5, 20324.5, 20326.0, 39.502],\n   [1667538840000, 20326.0, 20333.5, 20326.0, 20333.0, 105.897],\n   [1667538900000, 20333.0, 20344.0, 20333.0, 20337.0, 267.256],\n   [1667538960000, 20337.0, 20339.0, 20337.0, 20338.5, 42.644],\n   [1667539020000, 20338.5, 20344.0, 20338.5, 20344.0, 65.296],\n   [1667539080000, 20344.0, 20344.0, 20343.5, 20344.0, 32.304],\n   [1667539140000, 20344.0, 20357.0, 20343.5, 20349.0, 378.894],\n   [1667539200000, 20349.0, 20349.5, 20349.0, 20349.0, 32.676],\n   [1667539260000, 20349.0, 20349.5, 20349.0, 20349.0, 18.987],\n   [1667539320000, 20349.0, 20353.0, 20349.0, 20352.5, 74.144],\n   [1667539380000, 20352.5, 20357.5, 20352.5, 20357.0, 143.388],\n   [1667539440000, 20357.0, 20360.0, 20357.0, 20359.5, 118.121],\n   [1667539500000, 20359.5, 20360.0, 20359.5, 20360.0, 59.117],\n   [1667539560000, 20360.0, 20360.0, 20359.5, 20359.5, 23.635],\n   [1667539620000, 20359.5, 20360.0, 20356.0, 20356.0, 55.724],\n   [1667539680000, 20356.0, 20356.5, 20356.0, 20356.5, 28.216],\n   [1667539740000, 20356.5, 20356.5, 20352.5, 20352.5, 83.274],\n   [1667539800000, 20352.5, 20353.0, 20352.5, 20352.5, 21.98],\n   [1667539860000, 20352.5, 20353.0, 20345.0, 20345.0, 108.048],\n   [1667539920000, 20345.0, 20345.0, 20338.0, 20338.5, 64.883],\n   [1667539980000, 20338.5, 20340.0, 20335.0, 20340.0, 66.722],\n   [1667540040000, 20340.0, 20340.0, 20335.5, 20335.5, 21.317],\n   [1667540100000, 20335.5, 20336.0, 20335.5, 20335.5, 11.504],\n   [1667540160000, 20335.5, 20336.0, 20335.5, 20335.5, 20.229],\n   [1667540220000, 20335.5, 20351.5, 20335.5, 20351.0, 87.02],\n   [1667540280000, 20351.0, 20361.5, 20351.0, 20361.5, 104.71],\n   [1667540340000, 20361.5, 20380.0, 20361.0, 20375.0, 551.93],\n   [1667540400000, 20375.0, 20376.5, 20373.0, 20376.0, 167.686],\n   [1667540460000, 20376.0, 20376.5, 20362.0, 20362.0, 96.417],\n   [1667540520000, 20362.0, 20367.5, 20362.0, 20367.5, 30.934],\n   [1667540580000, 20367.5, 20372.5, 20367.0, 20370.0, 85.553],\n   [1667540640000, 20370.0, 20370.5, 20370.0, 20370.0, 11.258],\n   [1667540700000, 20370.0, 20371.0, 20370.0, 20371.0, 45.08],\n   [1667540760000, 20371.0, 20375.0, 20370.5, 20374.5, 65.894],\n   [1667540820000, 20374.5, 20376.5, 20374.5, 20376.5, 51.932],\n   [1667540880000, 20376.5, 20399.5, 20376.0, 20393.0, 489.344],\n   [1667540940000, 20393.0, 20416.5, 20386.5, 20412.5, 815.19],\n   [1667541000000, 20412.5, 20433.0, 20377.5, 20432.5, 958.074],\n   [1667541060000, 20432.5, 20483.5, 20428.0, 20463.0, 1929.39],\n   [1667541120000, 20463.0, 20473.5, 20454.0, 20465.5, 434.719],\n   [1667541180000, 20465.5, 20470.5, 20453.5, 20470.5, 193.45],\n   [1667541240000, 20470.5, 20470.5, 20456.0, 20456.0, 125.325],\n   [1667541300000, 20456.0, 20456.5, 20450.0, 20450.0, 71.299],\n   [1667541360000, 20450.0, 20450.5, 20432.5, 20432.5, 313.874],\n   [1667541420000, 20432.5, 20446.0, 20432.5, 20443.0, 82.51],\n   [1667541480000, 20443.0, 20443.0, 20440.5, 20441.0, 42.782],\n   [1667541540000, 20441.0, 20441.0, 20436.5, 20436.5, 57.403],\n   [1667541600000, 20436.5, 20455.5, 20436.5, 20452.0, 222.39],\n   [1667541660000, 20452.0, 20470.5, 20452.0, 20470.5, 108.372],\n   [1667541720000, 20470.5, 20498.0, 20470.5, 20498.0, 517.71],\n   [1667541780000, 20498.0, 20500.0, 20488.5, 20488.5, 482.613],\n   [1667541840000, 20488.5, 20496.5, 20484.5, 20496.0, 108.615],\n   [1667541900000, 20496.0, 20527.0, 20496.0, 20526.5, 495.552],\n   [1667541960000, 20526.5, 20550.5, 20526.5, 20550.5, 935.769],\n   [1667542020000, 20550.5, 20590.0, 20550.0, 20572.0, 1032.54],\n   [1667542080000, 20572.0, 20582.5, 20566.0, 20582.0, 343.895],\n   [1667542140000, 20582.0, 20589.0, 20565.0, 20569.5, 444.044],\n   [1667542200000, 20569.5, 20634.0, 20569.5, 20613.0, 1170.33],\n   [1667542260000, 20613.0, 20613.0, 20582.5, 20583.0, 359.0],\n   [1667542320000, 20583.0, 20592.0, 20579.5, 20591.0, 242.121],\n   [1667542380000, 20591.0, 20591.5, 20561.5, 20561.5, 302.761],\n   [1667542440000, 20561.5, 20580.0, 20557.0, 20557.0, 251.995],\n   [1667542500000, 20557.0, 20598.0, 20557.0, 20598.0, 170.751],\n   [1667542560000, 20598.0, 20607.0, 20597.5, 20598.0, 149.251],\n   [1667542620000, 20598.0, 20601.0, 20581.0, 20581.0, 216.126],\n   [1667542680000, 20581.0, 20590.5, 20575.0, 20580.0, 305.51],\n   [1667542740000, 20580.0, 20580.0, 20575.5, 20579.0, 136.805],\n   [1667542800000, 20579.0, 20598.0, 20579.0, 20592.5, 267.656],\n   [1667542860000, 20592.5, 20603.5, 20592.0, 20603.5, 185.372],\n   [1667542920000, 20603.5, 20630.0, 20603.0, 20629.5, 244.494],\n   [1667542980000, 20629.5, 20640.5, 20620.0, 20620.5, 380.642],\n   [1667543040000, 20620.5, 20620.5, 20590.0, 20592.5, 221.06],\n   [1667543100000, 20592.5, 20620.5, 20592.0, 20620.5, 143.007],\n   [1667543160000, 20620.5, 20620.5, 20604.5, 20605.0, 125.004],\n   [1667543220000, 20605.0, 20608.0, 20595.5, 20596.0, 72.635],\n   [1667543280000, 20596.0, 20597.0, 20590.5, 20596.5, 91.26],\n   [1667543340000, 20596.5, 20607.5, 20594.5, 20607.5, 112.581],\n   [1667543400000, 20607.5, 20617.0, 20607.0, 20609.5, 133.846],\n   [1667543460000, 20609.5, 20630.0, 20609.5, 20623.5, 220.795],\n   [1667543520000, 20623.5, 20648.0, 20622.0, 20643.5, 189.162],\n   [1667543580000, 20643.5, 20679.0, 20633.5, 20673.5, 722.879],\n   [1667543640000, 20673.5, 20673.5, 20626.5, 20641.0, 370.691],\n   [1667543700000, 20641.0, 20650.0, 20634.0, 20646.0, 208.904],\n   [1667543760000, 20646.0, 20654.0, 20645.5, 20645.5, 135.097],\n   [1667543820000, 20645.5, 20649.5, 20630.0, 20630.5, 163.271],\n   [1667543880000, 20630.5, 20630.5, 20607.0, 20607.0, 166.845],\n   [1667543940000, 20607.0, 20608.5, 20592.5, 20600.5, 293.855],\n   [1667544000000, 20600.5, 20612.0, 20588.5, 20588.5, 182.814],\n   [1667544060000, 20588.5, 20600.5, 20588.5, 20597.5, 108.189],\n   [1667544120000, 20597.5, 20598.0, 20593.5, 20593.5, 91.102],\n   [1667544180000, 20593.5, 20594.0, 20576.5, 20584.0, 319.403],\n   [1667544240000, 20584.0, 20584.0, 20566.5, 20567.0, 228.199],\n   [1667544300000, 20567.0, 20594.5, 20566.5, 20594.0, 236.291],\n   [1667544360000, 20594.0, 20594.0, 20591.5, 20592.0, 72.445],\n   [1667544420000, 20592.0, 20592.0, 20585.0, 20585.5, 99.568],\n   [1667544480000, 20585.5, 20585.5, 20560.0, 20563.5, 358.571],\n   [1667544540000, 20563.5, 20563.5, 20558.5, 20560.5, 125.828],\n   [1667544600000, 20560.5, 20569.5, 20560.5, 20569.0, 90.819],\n   [1667544660000, 20569.0, 20590.0, 20569.0, 20590.0, 122.36],\n   [1667544720000, 20590.0, 20595.0, 20589.5, 20591.0, 46.069],\n   [1667544780000, 20591.0, 20591.0, 20582.5, 20582.5, 54.227],\n   [1667544840000, 20582.5, 20592.5, 20582.5, 20592.0, 47.636],\n   [1667544900000, 20592.0, 20592.5, 20591.0, 20591.5, 30.05],\n   [1667544960000, 20591.5, 20610.0, 20591.0, 20610.0, 244.773],\n   [1667545020000, 20610.0, 20610.0, 20597.5, 20598.0, 33.139],\n   [1667545080000, 20598.0, 20598.0, 20592.5, 20592.5, 29.247],\n   [1667545140000, 20592.5, 20596.5, 20592.5, 20592.5, 29.649],\n   [1667545200000, 20592.5, 20596.5, 20587.0, 20587.5, 135.106],\n   [1667545260000, 20587.5, 20592.5, 20587.0, 20592.0, 31.94],\n   [1667545320000, 20592.0, 20609.0, 20592.0, 20609.0, 82.884],\n   [1667545380000, 20609.0, 20610.5, 20597.5, 20597.5, 102.058],\n   [1667545440000, 20597.5, 20603.0, 20597.5, 20600.0, 32.464],\n   [1667545500000, 20600.0, 20600.5, 20596.0, 20596.0, 36.018],\n   [1667545560000, 20596.0, 20596.5, 20596.0, 20596.5, 21.23],\n   [1667545620000, 20596.5, 20596.5, 20591.5, 20592.0, 14.848],\n   [1667545680000, 20592.0, 20592.5, 20590.0, 20592.0, 28.82],\n   [1667545740000, 20592.0, 20592.5, 20587.5, 20588.0, 125.866],\n   ...]),\n ({'exchange': 'bybit',\n   'market': 'BTC/USDT:USDT',\n   'timeframe': '1m',\n   'limit': 1000,\n   'end': 1670108236139,\n   'start': 1670048236139},\n  [[1670048340000, 16943.0, 16944.5, 16943.0, 16944.5, 52.449],\n   [1670048400000, 16944.5, 16949.0, 16944.0, 16949.0, 50.943],\n   [1670048460000, 16949.0, 16954.5, 16948.5, 16954.5, 75.973],\n   [1670048520000, 16954.5, 16954.5, 16954.0, 16954.5, 29.721],\n   [1670048580000, 16954.5, 16988.0, 16954.0, 16981.0, 981.857],\n   [1670048640000, 16981.0, 16981.0, 16980.5, 16980.5, 48.983],\n   [1670048700000, 16980.5, 16981.0, 16978.0, 16978.0, 57.192],\n   [1670048760000, 16978.0, 16978.5, 16973.0, 16973.5, 37.594],\n   [1670048820000, 16973.5, 16973.5, 16973.0, 16973.5, 17.836],\n   [1670048880000, 16973.5, 16973.5, 16973.0, 16973.5, 18.851],\n   [1670048940000, 16973.5, 16973.5, 16973.0, 16973.0, 12.778],\n   [1670049000000, 16973.0, 16973.5, 16961.5, 16962.0, 98.049],\n   [1670049060000, 16962.0, 16962.0, 16960.0, 16960.5, 27.52],\n   [1670049120000, 16960.5, 16967.0, 16960.0, 16967.0, 55.658],\n   [1670049180000, 16967.0, 16970.0, 16966.5, 16969.5, 53.997],\n   [1670049240000, 16969.5, 16970.0, 16967.0, 16967.5, 23.73],\n   [1670049300000, 16967.5, 16967.5, 16967.0, 16967.5, 6.19],\n   [1670049360000, 16967.5, 16969.0, 16967.0, 16968.5, 17.619],\n   [1670049420000, 16968.5, 16969.0, 16967.5, 16968.0, 21.689],\n   [1670049480000, 16968.0, 16968.0, 16967.5, 16968.0, 7.069],\n   [1670049540000, 16968.0, 16968.0, 16963.0, 16963.0, 9.557],\n   [1670049600000, 16963.0, 16963.0, 16960.5, 16961.0, 6.944],\n   [1670049660000, 16961.0, 16961.0, 16960.0, 16960.5, 6.965],\n   [1670049720000, 16960.5, 16960.5, 16958.0, 16959.5, 26.539],\n   [1670049780000, 16959.5, 16959.5, 16959.0, 16959.0, 8.358],\n   [1670049840000, 16959.0, 16959.5, 16959.0, 16959.5, 8.098],\n   [1670049900000, 16959.5, 16959.5, 16958.0, 16958.0, 13.698],\n   [1670049960000, 16958.0, 16958.5, 16958.0, 16958.0, 29.533],\n   [1670050020000, 16958.0, 16958.5, 16958.0, 16958.5, 10.485],\n   [1670050080000, 16958.5, 16962.0, 16958.0, 16962.0, 34.041],\n   [1670050140000, 16962.0, 16962.0, 16961.5, 16962.0, 5.041],\n   [1670050200000, 16962.0, 16962.0, 16961.5, 16962.0, 9.918],\n   [1670050260000, 16962.0, 16962.0, 16961.5, 16962.0, 13.234],\n   [1670050320000, 16962.0, 16962.0, 16961.5, 16962.0, 4.134],\n   [1670050380000, 16962.0, 16964.0, 16962.0, 16963.5, 23.23],\n   [1670050440000, 16963.5, 16964.0, 16963.5, 16964.0, 4.015],\n   [1670050500000, 16964.0, 16964.0, 16963.5, 16964.0, 57.743],\n   [1670050560000, 16964.0, 16964.0, 16963.5, 16964.0, 2.163],\n   [1670050620000, 16964.0, 16965.0, 16963.5, 16965.0, 13.091],\n   [1670050680000, 16965.0, 16966.0, 16964.5, 16965.5, 9.941],\n   [1670050740000, 16965.5, 16968.0, 16965.5, 16968.0, 18.661],\n   [1670050800000, 16968.0, 16968.0, 16967.5, 16968.0, 4.795],\n   [1670050860000, 16968.0, 16968.5, 16967.5, 16968.0, 7.319],\n   [1670050920000, 16968.0, 16968.5, 16968.0, 16968.5, 8.864],\n   [1670050980000, 16968.5, 16968.5, 16968.0, 16968.5, 3.397],\n   [1670051040000, 16968.5, 16968.5, 16968.0, 16968.0, 12.656],\n   [1670051100000, 16968.0, 16968.5, 16965.5, 16966.0, 22.504],\n   [1670051160000, 16966.0, 16966.0, 16965.5, 16965.5, 5.854],\n   [1670051220000, 16965.5, 16966.0, 16965.0, 16965.5, 5.164],\n   [1670051280000, 16965.5, 16965.5, 16965.0, 16965.5, 8.957],\n   [1670051340000, 16965.5, 16965.5, 16965.0, 16965.0, 9.945],\n   [1670051400000, 16965.0, 16965.5, 16963.5, 16963.5, 7.814],\n   [1670051460000, 16963.5, 16964.0, 16963.5, 16964.0, 3.602],\n   [1670051520000, 16964.0, 16966.0, 16963.5, 16965.5, 25.644],\n   [1670051580000, 16965.5, 16966.0, 16965.5, 16965.5, 16.714],\n   [1670051640000, 16965.5, 16966.0, 16965.5, 16966.0, 27.9],\n   [1670051700000, 16966.0, 16966.0, 16965.5, 16966.0, 11.344],\n   [1670051760000, 16966.0, 16966.0, 16965.5, 16966.0, 6.862],\n   [1670051820000, 16966.0, 16966.0, 16965.5, 16966.0, 3.315],\n   [1670051880000, 16966.0, 16966.0, 16965.5, 16966.0, 3.062],\n   [1670051940000, 16966.0, 16966.0, 16965.5, 16966.0, 5.421],\n   [1670052000000, 16966.0, 16966.0, 16965.5, 16966.0, 4.706],\n   [1670052060000, 16966.0, 16966.0, 16965.5, 16966.0, 4.97],\n   [1670052120000, 16966.0, 16966.0, 16965.5, 16966.0, 14.624],\n   [1670052180000, 16966.0, 16966.0, 16965.5, 16966.0, 25.621],\n   [1670052240000, 16966.0, 16966.0, 16952.0, 16952.5, 225.602],\n   [1670052300000, 16952.5, 16952.5, 16938.5, 16950.0, 178.439],\n   [1670052360000, 16950.0, 16950.0, 16947.0, 16948.5, 29.447],\n   [1670052420000, 16948.5, 16948.5, 16925.0, 16934.0, 370.447],\n   [1670052480000, 16934.0, 16934.0, 16930.0, 16931.5, 41.388],\n   [1670052540000, 16931.5, 16932.0, 16931.0, 16931.0, 55.551],\n   [1670052600000, 16931.0, 16933.5, 16925.0, 16933.5, 142.116],\n   [1670052660000, 16933.5, 16934.0, 16926.5, 16926.5, 70.72],\n   [1670052720000, 16926.5, 16927.0, 16918.5, 16921.0, 183.876],\n   [1670052780000, 16921.0, 16923.0, 16920.5, 16923.0, 103.079],\n   [1670052840000, 16923.0, 16930.5, 16922.5, 16930.5, 53.49],\n   [1670052900000, 16930.5, 16937.0, 16930.0, 16936.5, 171.082],\n   [1670052960000, 16936.5, 16939.5, 16936.5, 16939.5, 34.604],\n   [1670053020000, 16939.5, 16941.5, 16939.0, 16941.5, 31.624],\n   [1670053080000, 16941.5, 16941.5, 16941.0, 16941.5, 31.218],\n   [1670053140000, 16941.5, 16941.5, 16941.0, 16941.5, 9.527],\n   [1670053200000, 16941.5, 16944.0, 16940.5, 16941.0, 110.777],\n   [1670053260000, 16941.0, 16941.0, 16940.5, 16941.0, 10.255],\n   [1670053320000, 16941.0, 16941.0, 16940.5, 16940.5, 8.079],\n   [1670053380000, 16940.5, 16947.5, 16940.5, 16947.5, 38.814],\n   [1670053440000, 16947.5, 16952.5, 16947.0, 16952.5, 46.77],\n   [1670053500000, 16952.5, 16955.0, 16950.0, 16955.0, 51.174],\n   [1670053560000, 16955.0, 16955.0, 16954.5, 16955.0, 5.682],\n   [1670053620000, 16955.0, 16955.0, 16954.5, 16955.0, 9.871],\n   [1670053680000, 16955.0, 16955.0, 16954.5, 16954.5, 24.076],\n   [1670053740000, 16954.5, 16955.0, 16954.5, 16955.0, 11.373],\n   [1670053800000, 16955.0, 16957.5, 16954.5, 16957.5, 25.784],\n   [1670053860000, 16957.5, 16957.5, 16957.0, 16957.5, 6.008],\n   [1670053920000, 16957.5, 16957.5, 16957.0, 16957.5, 5.171],\n   [1670053980000, 16957.5, 16960.5, 16957.0, 16960.5, 23.243],\n   [1670054040000, 16960.5, 16960.5, 16957.5, 16957.5, 18.925],\n   [1670054100000, 16957.5, 16958.0, 16957.5, 16958.0, 2.823],\n   [1670054160000, 16958.0, 16958.0, 16957.5, 16958.0, 19.385],\n   [1670054220000, 16958.0, 16958.0, 16957.5, 16958.0, 11.548],\n   [1670054280000, 16958.0, 16958.0, 16955.5, 16956.0, 37.347],\n   [1670054340000, 16956.0, 16956.0, 16951.0, 16951.5, 47.918],\n   [1670054400000, 16951.5, 16951.5, 16951.0, 16951.5, 32.713],\n   [1670054460000, 16951.5, 16951.5, 16950.5, 16951.0, 52.886],\n   [1670054520000, 16951.0, 16951.0, 16939.0, 16946.5, 124.875],\n   [1670054580000, 16946.5, 16950.0, 16946.0, 16950.0, 30.93],\n   [1670054640000, 16950.0, 16950.0, 16946.0, 16946.5, 58.364],\n   [1670054700000, 16946.5, 16951.5, 16946.0, 16951.5, 32.519],\n   [1670054760000, 16951.5, 16951.5, 16951.0, 16951.0, 8.883],\n   [1670054820000, 16951.0, 16953.5, 16951.0, 16953.5, 32.473],\n   [1670054880000, 16953.5, 16953.5, 16953.0, 16953.5, 6.582],\n   [1670054940000, 16953.5, 16953.5, 16953.0, 16953.5, 12.588],\n   [1670055000000, 16953.5, 16953.5, 16953.0, 16953.5, 20.729],\n   [1670055060000, 16953.5, 16953.5, 16953.0, 16953.5, 7.329],\n   [1670055120000, 16953.5, 16953.5, 16953.0, 16953.5, 11.557],\n   [1670055180000, 16953.5, 16953.5, 16950.5, 16951.0, 25.757],\n   [1670055240000, 16951.0, 16951.0, 16950.5, 16951.0, 16.853],\n   [1670055300000, 16951.0, 16951.0, 16950.5, 16951.0, 19.687],\n   [1670055360000, 16951.0, 16951.0, 16950.5, 16951.0, 17.157],\n   [1670055420000, 16951.0, 16951.0, 16945.0, 16945.5, 26.051],\n   [1670055480000, 16945.5, 16945.5, 16945.0, 16945.5, 11.853],\n   [1670055540000, 16945.5, 16945.5, 16945.0, 16945.5, 18.195],\n   [1670055600000, 16945.5, 16945.5, 16945.0, 16945.5, 3.808],\n   [1670055660000, 16945.5, 16945.5, 16945.0, 16945.5, 5.27],\n   [1670055720000, 16945.5, 16947.5, 16945.0, 16947.5, 12.33],\n   [1670055780000, 16947.5, 16950.0, 16947.0, 16950.0, 16.09],\n   [1670055840000, 16950.0, 16950.0, 16949.5, 16950.0, 10.597],\n   [1670055900000, 16950.0, 16950.0, 16949.5, 16950.0, 4.543],\n   [1670055960000, 16950.0, 16950.0, 16949.5, 16949.5, 32.022],\n   [1670056020000, 16949.5, 16951.0, 16949.5, 16951.0, 7.595],\n   [1670056080000, 16951.0, 16955.0, 16950.5, 16955.0, 32.411],\n   [1670056140000, 16955.0, 16955.0, 16954.5, 16954.5, 13.156],\n   [1670056200000, 16954.5, 16955.0, 16954.5, 16955.0, 9.02],\n   [1670056260000, 16955.0, 16955.0, 16950.5, 16950.5, 21.399],\n   [1670056320000, 16950.5, 16951.0, 16950.5, 16951.0, 3.364],\n   [1670056380000, 16951.0, 16951.0, 16947.0, 16947.5, 11.671],\n   [1670056440000, 16947.5, 16947.5, 16941.5, 16942.0, 50.154],\n   [1670056500000, 16942.0, 16942.0, 16935.0, 16935.5, 32.134],\n   [1670056560000, 16935.5, 16935.5, 16935.0, 16935.0, 16.406],\n   [1670056620000, 16935.0, 16940.0, 16935.0, 16940.0, 38.469],\n   [1670056680000, 16940.0, 16940.0, 16939.5, 16940.0, 4.399],\n   [1670056740000, 16940.0, 16940.0, 16939.5, 16940.0, 4.783],\n   [1670056800000, 16940.0, 16940.0, 16939.5, 16940.0, 4.759],\n   [1670056860000, 16940.0, 16942.5, 16939.5, 16942.5, 8.921],\n   [1670056920000, 16942.5, 16942.5, 16939.5, 16940.0, 12.082],\n   [1670056980000, 16940.0, 16940.0, 16935.5, 16935.5, 28.038],\n   [1670057040000, 16935.5, 16936.0, 16935.5, 16936.0, 15.596],\n   [1670057100000, 16936.0, 16936.0, 16912.0, 16924.5, 272.459],\n   [1670057160000, 16924.5, 16937.5, 16924.5, 16937.0, 58.86],\n   [1670057220000, 16937.0, 16941.5, 16937.0, 16941.0, 24.187],\n   [1670057280000, 16941.0, 16942.0, 16941.0, 16942.0, 43.398],\n   [1670057340000, 16942.0, 16947.0, 16941.5, 16944.5, 118.957],\n   [1670057400000, 16944.5, 16945.0, 16937.5, 16937.5, 57.139],\n   [1670057460000, 16937.5, 16943.0, 16937.5, 16942.5, 65.359],\n   [1670057520000, 16942.5, 16945.0, 16942.5, 16944.5, 18.249],\n   [1670057580000, 16944.5, 16947.0, 16944.5, 16947.0, 12.209],\n   [1670057640000, 16947.0, 16947.0, 16946.5, 16947.0, 66.308],\n   [1670057700000, 16947.0, 16947.0, 16938.5, 16939.0, 54.057],\n   [1670057760000, 16939.0, 16939.0, 16922.0, 16934.0, 120.396],\n   [1670057820000, 16934.0, 16937.0, 16930.0, 16930.0, 43.815],\n   [1670057880000, 16930.0, 16934.0, 16930.0, 16932.0, 13.473],\n   [1670057940000, 16932.0, 16937.5, 16928.0, 16937.5, 36.822],\n   [1670058000000, 16937.5, 16938.0, 16937.5, 16937.5, 72.883],\n   [1670058060000, 16937.5, 16942.5, 16917.0, 16942.5, 203.852],\n   [1670058120000, 16942.5, 16943.5, 16940.0, 16940.5, 29.415],\n   [1670058180000, 16940.5, 16951.0, 16940.0, 16948.5, 179.971],\n   [1670058240000, 16948.5, 16949.0, 16947.0, 16948.0, 33.96],\n   [1670058300000, 16948.0, 16949.5, 16947.5, 16949.5, 24.351],\n   [1670058360000, 16949.5, 16949.5, 16949.0, 16949.5, 47.577],\n   [1670058420000, 16949.5, 16949.5, 16949.0, 16949.5, 19.212],\n   [1670058480000, 16949.5, 16955.0, 16949.5, 16955.0, 95.824],\n   [1670058540000, 16955.0, 16959.0, 16954.5, 16958.5, 18.115],\n   [1670058600000, 16958.5, 16960.0, 16958.5, 16960.0, 94.958],\n   [1670058660000, 16960.0, 16961.0, 16959.5, 16961.0, 14.837],\n   [1670058720000, 16961.0, 16961.0, 16960.5, 16961.0, 36.288],\n   [1670058780000, 16961.0, 16961.0, 16957.5, 16958.0, 69.178],\n   [1670058840000, 16958.0, 16958.0, 16957.0, 16957.5, 27.197],\n   [1670058900000, 16957.5, 16957.5, 16953.0, 16953.5, 17.014],\n   [1670058960000, 16953.5, 16953.5, 16953.0, 16953.5, 7.775],\n   [1670059020000, 16953.5, 16953.5, 16953.0, 16953.0, 32.563],\n   [1670059080000, 16953.0, 16953.5, 16953.0, 16953.0, 30.015],\n   [1670059140000, 16953.0, 16953.5, 16953.0, 16953.5, 2.254],\n   [1670059200000, 16953.5, 16953.5, 16953.0, 16953.0, 61.234],\n   [1670059260000, 16953.0, 16953.5, 16951.5, 16952.0, 8.791],\n   [1670059320000, 16952.0, 16952.0, 16951.5, 16951.5, 5.228],\n   [1670059380000, 16951.5, 16952.0, 16951.5, 16951.5, 7.748],\n   [1670059440000, 16951.5, 16952.0, 16951.5, 16952.0, 6.942],\n   [1670059500000, 16952.0, 16952.0, 16951.5, 16952.0, 5.249],\n   [1670059560000, 16952.0, 16955.5, 16951.5, 16955.0, 34.822],\n   [1670059620000, 16955.0, 16957.5, 16955.0, 16957.5, 12.931],\n   [1670059680000, 16957.5, 16959.0, 16957.0, 16959.0, 28.184],\n   [1670059740000, 16959.0, 16959.5, 16958.5, 16959.0, 4.872],\n   [1670059800000, 16959.0, 16964.0, 16959.0, 16963.5, 71.613],\n   [1670059860000, 16963.5, 16964.0, 16963.0, 16963.5, 20.724],\n   [1670059920000, 16963.5, 16963.5, 16963.0, 16963.5, 7.942],\n   [1670059980000, 16963.5, 16963.5, 16963.0, 16963.5, 3.201],\n   [1670060040000, 16963.5, 16963.5, 16963.0, 16963.5, 11.313],\n   [1670060100000, 16963.5, 16963.5, 16963.0, 16963.0, 18.392],\n   [1670060160000, 16963.0, 16963.5, 16963.0, 16963.5, 2.897],\n   [1670060220000, 16963.5, 16963.5, 16959.5, 16959.5, 45.343],\n   [1670060280000, 16959.5, 16960.0, 16958.0, 16958.0, 36.775],\n   [1670060340000, 16958.0, 16958.5, 16958.0, 16958.5, 1.539],\n   [1670060400000, 16958.5, 16958.5, 16958.0, 16958.5, 14.491],\n   [1670060460000, 16958.5, 16958.5, 16958.0, 16958.0, 2.322],\n   [1670060520000, 16958.0, 16958.5, 16958.0, 16958.5, 1.838],\n   [1670060580000, 16958.5, 16958.5, 16958.0, 16958.5, 2.631],\n   [1670060640000, 16958.5, 16958.5, 16958.0, 16958.5, 20.942],\n   [1670060700000, 16958.5, 16962.0, 16958.0, 16962.0, 48.767],\n   [1670060760000, 16962.0, 16977.0, 16961.5, 16975.0, 170.083],\n   [1670060820000, 16975.0, 16975.5, 16971.0, 16971.0, 43.74],\n   [1670060880000, 16971.0, 16971.5, 16971.0, 16971.0, 13.098],\n   [1670060940000, 16971.0, 16971.5, 16971.0, 16971.0, 7.776],\n   [1670061000000, 16971.0, 16974.5, 16971.0, 16974.0, 34.052],\n   [1670061060000, 16974.0, 16974.5, 16972.0, 16972.0, 16.921],\n   [1670061120000, 16972.0, 16972.5, 16972.0, 16972.5, 28.772],\n   [1670061180000, 16972.5, 16972.5, 16972.0, 16972.5, 8.25],\n   [1670061240000, 16972.5, 16972.5, 16972.0, 16972.0, 7.246],\n   [1670061300000, 16972.0, 16972.5, 16972.0, 16972.0, 8.324],\n   [1670061360000, 16972.0, 16972.5, 16972.0, 16972.5, 10.08],\n   [1670061420000, 16972.5, 16972.5, 16972.0, 16972.0, 23.517],\n   [1670061480000, 16972.0, 16972.5, 16972.0, 16972.0, 4.341],\n   [1670061540000, 16972.0, 16972.5, 16972.0, 16972.0, 10.614],\n   [1670061600000, 16972.0, 16972.5, 16972.0, 16972.5, 5.157],\n   [1670061660000, 16972.5, 16972.5, 16972.0, 16972.0, 7.766],\n   [1670061720000, 16972.0, 16972.5, 16972.0, 16972.0, 8.485],\n   [1670061780000, 16972.0, 16972.5, 16972.0, 16972.5, 13.18],\n   [1670061840000, 16972.5, 16972.5, 16972.0, 16972.0, 9.475],\n   [1670061900000, 16972.0, 16972.5, 16972.0, 16972.0, 32.103],\n   [1670061960000, 16972.0, 16972.5, 16972.0, 16972.5, 34.297],\n   [1670062020000, 16972.5, 16972.5, 16969.5, 16970.0, 32.489],\n   [1670062080000, 16970.0, 16970.5, 16970.0, 16970.5, 7.831],\n   [1670062140000, 16970.5, 16970.5, 16970.0, 16970.0, 7.539],\n   [1670062200000, 16970.0, 16970.5, 16970.0, 16970.5, 8.562],\n   [1670062260000, 16970.5, 16970.5, 16970.0, 16970.5, 4.948],\n   [1670062320000, 16970.5, 16970.5, 16970.0, 16970.5, 14.345],\n   [1670062380000, 16970.5, 16970.5, 16970.0, 16970.5, 7.07],\n   [1670062440000, 16970.5, 16971.5, 16970.0, 16971.0, 10.368],\n   [1670062500000, 16971.0, 16971.5, 16971.0, 16971.5, 5.088],\n   [1670062560000, 16971.5, 16971.5, 16971.0, 16971.5, 31.4],\n   [1670062620000, 16971.5, 16972.5, 16971.0, 16972.5, 33.98],\n   [1670062680000, 16972.5, 16972.5, 16972.0, 16972.5, 11.169],\n   [1670062740000, 16972.5, 16972.5, 16972.0, 16972.5, 18.254],\n   [1670062800000, 16972.5, 16972.5, 16972.0, 16972.0, 7.476],\n   [1670062860000, 16972.0, 16972.5, 16972.0, 16972.5, 13.927],\n   [1670062920000, 16972.5, 16972.5, 16972.0, 16972.5, 8.211],\n   [1670062980000, 16972.5, 16972.5, 16972.0, 16972.5, 6.543],\n   [1670063040000, 16972.5, 16975.0, 16972.0, 16975.0, 30.059],\n   [1670063100000, 16975.0, 16975.0, 16974.5, 16975.0, 7.247],\n   [1670063160000, 16975.0, 16975.0, 16974.5, 16974.5, 14.852],\n   [1670063220000, 16974.5, 16975.0, 16974.5, 16975.0, 8.782],\n   [1670063280000, 16975.0, 16975.0, 16974.5, 16974.5, 5.565],\n   [1670063340000, 16974.5, 16975.0, 16974.5, 16975.0, 8.154],\n   [1670063400000, 16975.0, 16975.0, 16971.0, 16971.0, 26.33],\n   [1670063460000, 16971.0, 16971.5, 16962.0, 16962.0, 281.286],\n   [1670063520000, 16962.0, 16962.5, 16962.0, 16962.5, 41.475],\n   [1670063580000, 16962.5, 16962.5, 16962.0, 16962.5, 37.649],\n   [1670063640000, 16962.5, 16962.5, 16958.0, 16958.5, 59.012],\n   [1670063700000, 16958.5, 16958.5, 16955.5, 16956.0, 84.804],\n   [1670063760000, 16956.0, 16956.0, 16955.5, 16956.0, 19.8],\n   [1670063820000, 16956.0, 16956.0, 16955.0, 16955.5, 15.927],\n   [1670063880000, 16955.5, 16955.5, 16955.0, 16955.0, 16.545],\n   [1670063940000, 16955.0, 16955.5, 16955.0, 16955.5, 4.057],\n   [1670064000000, 16955.5, 16955.5, 16955.0, 16955.0, 24.983],\n   [1670064060000, 16955.0, 16955.5, 16955.0, 16955.0, 11.349],\n   [1670064120000, 16955.0, 16956.0, 16955.0, 16955.5, 62.129],\n   [1670064180000, 16955.5, 16956.5, 16955.5, 16956.0, 52.543],\n   [1670064240000, 16956.0, 16960.0, 16937.5, 16944.5, 420.726],\n   [1670064300000, 16944.5, 16953.0, 16944.0, 16952.5, 85.188],\n   [1670064360000, 16952.5, 16953.0, 16952.5, 16952.5, 22.546],\n   [1670064420000, 16952.5, 16955.0, 16952.5, 16955.0, 73.483],\n   [1670064480000, 16955.0, 16955.0, 16954.5, 16954.5, 8.938],\n   [1670064540000, 16954.5, 16955.0, 16954.5, 16954.5, 7.028],\n   [1670064600000, 16954.5, 16955.0, 16954.5, 16954.5, 16.87],\n   [1670064660000, 16954.5, 16955.0, 16954.5, 16955.0, 24.348],\n   [1670064720000, 16955.0, 16955.0, 16954.5, 16954.5, 5.391],\n   [1670064780000, 16954.5, 16955.0, 16954.5, 16955.0, 4.507],\n   [1670064840000, 16955.0, 16955.0, 16954.5, 16955.0, 9.889],\n   [1670064900000, 16955.0, 16955.0, 16954.5, 16955.0, 2.46],\n   [1670064960000, 16955.0, 16955.0, 16954.5, 16955.0, 27.394],\n   [1670065020000, 16955.0, 16955.0, 16954.5, 16955.0, 3.955],\n   [1670065080000, 16955.0, 16955.0, 16954.5, 16955.0, 8.433],\n   [1670065140000, 16955.0, 16955.0, 16954.5, 16954.5, 8.271],\n   [1670065200000, 16954.5, 16955.0, 16954.5, 16954.5, 6.954],\n   [1670065260000, 16954.5, 16955.0, 16951.5, 16952.0, 45.315],\n   [1670065320000, 16952.0, 16952.5, 16952.0, 16952.0, 14.639],\n   [1670065380000, 16952.0, 16952.5, 16949.5, 16950.0, 86.002],\n   [1670065440000, 16950.0, 16950.0, 16949.5, 16950.0, 12.394],\n   [1670065500000, 16950.0, 16950.0, 16949.5, 16949.5, 6.364],\n   [1670065560000, 16949.5, 16950.0, 16948.5, 16948.5, 21.918],\n   [1670065620000, 16948.5, 16949.0, 16875.0, 16883.0, 1838.195],\n   [1670065680000, 16883.0, 16909.0, 16883.0, 16908.5, 267.967],\n   [1670065740000, 16908.5, 16914.0, 16907.0, 16914.0, 142.874],\n   [1670065800000, 16914.0, 16914.0, 16910.0, 16910.0, 75.919],\n   [1670065860000, 16910.0, 16922.5, 16910.0, 16922.5, 149.17],\n   [1670065920000, 16922.5, 16926.0, 16921.0, 16922.5, 151.913],\n   [1670065980000, 16922.5, 16922.5, 16910.0, 16910.5, 102.186],\n   [1670066040000, 16910.5, 16912.0, 16910.0, 16911.5, 51.51],\n   [1670066100000, 16911.5, 16914.5, 16903.5, 16904.0, 106.265],\n   [1670066160000, 16904.0, 16904.0, 16900.0, 16903.0, 175.667],\n   [1670066220000, 16903.0, 16917.5, 16902.5, 16917.5, 148.135],\n   [1670066280000, 16917.5, 16926.5, 16917.0, 16926.5, 73.3],\n   [1670066340000, 16926.5, 16931.0, 16926.0, 16931.0, 122.586],\n   [1670066400000, 16931.0, 16936.0, 16930.5, 16935.5, 78.818],\n   [1670066460000, 16935.5, 16936.0, 16928.0, 16928.5, 58.461],\n   [1670066520000, 16928.5, 16928.5, 16923.5, 16924.0, 67.906],\n   [1670066580000, 16924.0, 16924.0, 16923.5, 16924.0, 23.554],\n   [1670066640000, 16924.0, 16926.0, 16923.5, 16925.5, 18.962],\n   [1670066700000, 16925.5, 16926.5, 16925.5, 16926.0, 28.533],\n   [1670066760000, 16926.0, 16929.0, 16926.0, 16928.5, 33.169],\n   [1670066820000, 16928.5, 16929.0, 16928.5, 16928.5, 42.008],\n   [1670066880000, 16928.5, 16929.0, 16928.5, 16929.0, 17.416],\n   [1670066940000, 16929.0, 16931.0, 16929.0, 16931.0, 25.578],\n   [1670067000000, 16931.0, 16932.0, 16931.0, 16931.5, 9.831],\n   [1670067060000, 16931.5, 16932.0, 16931.5, 16932.0, 34.559],\n   [1670067120000, 16932.0, 16934.5, 16931.5, 16934.5, 23.925],\n   [1670067180000, 16934.5, 16938.5, 16934.5, 16938.5, 45.938],\n   [1670067240000, 16938.5, 16938.5, 16938.0, 16938.0, 8.464],\n   [1670067300000, 16938.0, 16938.5, 16938.0, 16938.5, 18.016],\n   [1670067360000, 16938.5, 16938.5, 16938.0, 16938.5, 7.837],\n   [1670067420000, 16938.5, 16938.5, 16938.0, 16938.5, 8.943],\n   [1670067480000, 16938.5, 16938.5, 16938.0, 16938.5, 36.286],\n   [1670067540000, 16938.5, 16938.5, 16938.0, 16938.0, 12.178],\n   [1670067600000, 16938.0, 16938.5, 16938.0, 16938.5, 5.696],\n   [1670067660000, 16938.5, 16938.5, 16938.0, 16938.0, 17.697],\n   [1670067720000, 16938.0, 16938.5, 16938.0, 16938.5, 6.135],\n   [1670067780000, 16938.5, 16940.0, 16938.0, 16939.5, 101.755],\n   [1670067840000, 16939.5, 16940.5, 16939.5, 16940.0, 15.563],\n   [1670067900000, 16940.0, 16940.5, 16940.0, 16940.0, 7.745],\n   [1670067960000, 16940.0, 16940.5, 16940.0, 16940.5, 19.351],\n   [1670068020000, 16940.5, 16940.5, 16940.0, 16940.5, 10.883],\n   [1670068080000, 16940.5, 16941.5, 16940.0, 16941.0, 32.468],\n   [1670068140000, 16941.0, 16944.0, 16941.0, 16943.5, 39.492],\n   [1670068200000, 16943.5, 16945.0, 16943.5, 16945.0, 20.414],\n   [1670068260000, 16945.0, 16945.0, 16944.5, 16944.5, 7.766],\n   [1670068320000, 16944.5, 16948.5, 16944.5, 16948.0, 214.675],\n   [1670068380000, 16948.0, 16954.5, 16948.0, 16954.0, 126.396],\n   [1670068440000, 16954.0, 16954.0, 16952.0, 16952.5, 39.889],\n   [1670068500000, 16952.5, 16952.5, 16948.5, 16949.0, 63.392],\n   [1670068560000, 16949.0, 16949.0, 16948.5, 16949.0, 11.659],\n   [1670068620000, 16949.0, 16949.0, 16945.5, 16946.0, 38.848],\n   [1670068680000, 16946.0, 16946.0, 16940.5, 16940.5, 36.603],\n   [1670068740000, 16940.5, 16941.0, 16940.5, 16940.5, 4.286],\n   [1670068800000, 16940.5, 16941.0, 16940.5, 16940.5, 6.774],\n   [1670068860000, 16940.5, 16941.0, 16940.5, 16940.5, 17.673],\n   [1670068920000, 16940.5, 16941.0, 16940.5, 16941.0, 4.33],\n   [1670068980000, 16941.0, 16941.0, 16940.5, 16940.5, 31.305],\n   [1670069040000, 16940.5, 16941.0, 16940.5, 16941.0, 7.642],\n   [1670069100000, 16941.0, 16941.0, 16940.5, 16940.5, 8.972],\n   [1670069160000, 16940.5, 16941.5, 16940.5, 16941.5, 14.781],\n   [1670069220000, 16941.5, 16945.0, 16941.0, 16944.5, 24.139],\n   [1670069280000, 16944.5, 16945.5, 16944.5, 16945.0, 29.845],\n   [1670069340000, 16945.0, 16945.5, 16945.0, 16945.5, 4.743],\n   [1670069400000, 16945.5, 16945.5, 16945.0, 16945.5, 5.198],\n   [1670069460000, 16945.5, 16945.5, 16945.0, 16945.5, 2.703],\n   [1670069520000, 16945.5, 16945.5, 16945.0, 16945.5, 11.779],\n   [1670069580000, 16945.5, 16946.0, 16945.0, 16946.0, 37.671],\n   [1670069640000, 16946.0, 16946.0, 16945.5, 16946.0, 8.842],\n   [1670069700000, 16946.0, 16949.5, 16946.0, 16949.0, 16.131],\n   [1670069760000, 16949.0, 16949.5, 16949.0, 16949.5, 8.268],\n   [1670069820000, 16949.5, 16949.5, 16949.0, 16949.0, 3.446],\n   [1670069880000, 16949.0, 16952.5, 16949.0, 16952.5, 35.818],\n   [1670069940000, 16952.5, 16952.5, 16952.0, 16952.5, 12.276],\n   [1670070000000, 16952.5, 16952.5, 16952.0, 16952.0, 27.723],\n   [1670070060000, 16952.0, 16952.5, 16952.0, 16952.5, 13.687],\n   [1670070120000, 16952.5, 16952.5, 16952.0, 16952.0, 10.925],\n   [1670070180000, 16952.0, 16952.5, 16952.0, 16952.5, 17.728],\n   [1670070240000, 16952.5, 16952.5, 16952.0, 16952.5, 5.475],\n   [1670070300000, 16952.5, 16952.5, 16952.0, 16952.0, 11.597],\n   [1670070360000, 16952.0, 16952.5, 16952.0, 16952.0, 47.253],\n   [1670070420000, 16952.0, 16952.5, 16951.0, 16951.5, 10.98],\n   [1670070480000, 16951.5, 16951.5, 16946.0, 16946.0, 40.75],\n   [1670070540000, 16946.0, 16946.5, 16945.5, 16946.0, 26.267],\n   [1670070600000, 16946.0, 16946.0, 16945.0, 16945.0, 28.938],\n   [1670070660000, 16945.0, 16945.5, 16945.0, 16945.0, 6.154],\n   [1670070720000, 16945.0, 16945.5, 16944.0, 16944.0, 67.05],\n   [1670070780000, 16944.0, 16944.5, 16942.0, 16942.0, 31.611],\n   [1670070840000, 16942.0, 16942.5, 16942.0, 16942.0, 8.25],\n   [1670070900000, 16942.0, 16942.5, 16936.5, 16937.0, 63.909],\n   [1670070960000, 16937.0, 16937.0, 16936.5, 16936.5, 59.442],\n   [1670071020000, 16936.5, 16937.0, 16936.5, 16937.0, 6.274],\n   [1670071080000, 16937.0, 16937.0, 16935.5, 16935.5, 30.245],\n   [1670071140000, 16935.5, 16936.0, 16933.5, 16933.5, 21.971],\n   [1670071200000, 16933.5, 16934.0, 16933.5, 16933.5, 12.415],\n   [1670071260000, 16933.5, 16934.0, 16933.5, 16934.0, 11.343],\n   [1670071320000, 16934.0, 16934.0, 16930.5, 16930.5, 24.223],\n   [1670071380000, 16930.5, 16931.0, 16927.0, 16927.5, 61.827],\n   [1670071440000, 16927.5, 16928.5, 16927.0, 16928.5, 154.548],\n   [1670071500000, 16928.5, 16931.5, 16928.0, 16931.0, 101.779],\n   [1670071560000, 16931.0, 16931.5, 16931.0, 16931.0, 37.021],\n   [1670071620000, 16931.0, 16937.0, 16931.0, 16937.0, 54.838],\n   [1670071680000, 16937.0, 16942.0, 16936.5, 16941.5, 46.886],\n   [1670071740000, 16941.5, 16944.5, 16941.5, 16944.0, 14.177],\n   [1670071800000, 16944.0, 16944.5, 16944.0, 16944.0, 24.031],\n   [1670071860000, 16944.0, 16950.5, 16944.0, 16950.0, 16.805],\n   [1670071920000, 16950.0, 16959.5, 16950.0, 16959.0, 83.161],\n   [1670071980000, 16959.0, 16959.5, 16958.5, 16959.0, 67.153],\n   [1670072040000, 16959.0, 16959.5, 16959.0, 16959.0, 67.096],\n   [1670072100000, 16959.0, 16959.5, 16959.0, 16959.0, 16.015],\n   [1670072160000, 16959.0, 16959.5, 16959.0, 16959.0, 14.805],\n   [1670072220000, 16959.0, 16959.5, 16959.0, 16959.5, 40.844],\n   [1670072280000, 16959.5, 16959.5, 16959.0, 16959.5, 17.149],\n   [1670072340000, 16959.5, 16959.5, 16959.0, 16959.0, 12.617],\n   [1670072400000, 16959.0, 16959.5, 16959.0, 16959.5, 10.431],\n   [1670072460000, 16959.5, 16959.5, 16957.0, 16957.0, 28.488],\n   [1670072520000, 16957.0, 16957.5, 16956.0, 16956.0, 37.56],\n   [1670072580000, 16956.0, 16956.5, 16955.0, 16955.5, 15.745],\n   [1670072640000, 16955.5, 16955.5, 16955.0, 16955.5, 29.217],\n   [1670072700000, 16955.5, 16955.5, 16955.0, 16955.5, 22.849],\n   [1670072760000, 16955.5, 16955.5, 16955.0, 16955.5, 15.532],\n   [1670072820000, 16955.5, 16955.5, 16955.0, 16955.0, 4.939],\n   [1670072880000, 16955.0, 16955.5, 16955.0, 16955.0, 7.47],\n   [1670072940000, 16955.0, 16955.5, 16955.0, 16955.5, 13.033],\n   [1670073000000, 16955.5, 16955.5, 16955.0, 16955.0, 15.849],\n   [1670073060000, 16955.0, 16955.5, 16955.0, 16955.5, 5.957],\n   [1670073120000, 16955.5, 16955.5, 16950.0, 16950.0, 77.212],\n   [1670073180000, 16950.0, 16950.5, 16950.0, 16950.0, 3.05],\n   [1670073240000, 16950.0, 16950.5, 16950.0, 16950.5, 5.522],\n   [1670073300000, 16950.5, 16950.5, 16950.0, 16950.0, 3.738],\n   [1670073360000, 16950.0, 16950.5, 16950.0, 16950.5, 6.706],\n   [1670073420000, 16950.5, 16950.5, 16950.0, 16950.0, 9.684],\n   [1670073480000, 16950.0, 16950.5, 16939.0, 16941.5, 232.905],\n   [1670073540000, 16941.5, 16941.5, 16941.0, 16941.0, 10.063],\n   [1670073600000, 16941.0, 16944.0, 16941.0, 16943.5, 29.316],\n   [1670073660000, 16943.5, 16945.0, 16943.5, 16944.5, 38.612],\n   [1670073720000, 16944.5, 16948.5, 16944.5, 16948.5, 32.698],\n   [1670073780000, 16948.5, 16949.0, 16948.0, 16948.5, 6.906],\n   [1670073840000, 16948.5, 16949.5, 16948.5, 16949.0, 20.934],\n   [1670073900000, 16949.0, 16949.5, 16949.0, 16949.5, 15.403],\n   [1670073960000, 16949.5, 16951.0, 16949.0, 16951.0, 36.716],\n   [1670074020000, 16951.0, 16951.5, 16950.5, 16951.0, 7.7],\n   [1670074080000, 16951.0, 16951.5, 16951.0, 16951.5, 11.405],\n   [1670074140000, 16951.5, 16952.0, 16951.0, 16952.0, 3.566],\n   [1670074200000, 16952.0, 16952.0, 16951.5, 16951.5, 4.081],\n   [1670074260000, 16951.5, 16952.0, 16951.5, 16952.0, 7.307],\n   [1670074320000, 16952.0, 16952.0, 16951.5, 16951.5, 3.273],\n   [1670074380000, 16951.5, 16952.0, 16951.5, 16952.0, 3.119],\n   [1670074440000, 16952.0, 16952.0, 16951.5, 16951.5, 4.058],\n   [1670074500000, 16951.5, 16952.0, 16947.5, 16947.5, 38.156],\n   [1670074560000, 16947.5, 16948.0, 16947.5, 16948.0, 3.075],\n   [1670074620000, 16948.0, 16948.0, 16947.5, 16947.5, 9.71],\n   [1670074680000, 16947.5, 16948.0, 16947.5, 16948.0, 5.429],\n   [1670074740000, 16948.0, 16948.0, 16947.5, 16948.0, 1.714],\n   [1670074800000, 16948.0, 16948.0, 16947.5, 16947.5, 0.398],\n   [1670074860000, 16947.5, 16948.0, 16947.5, 16948.0, 6.687],\n   [1670074920000, 16948.0, 16948.0, 16947.5, 16948.0, 9.996],\n   [1670074980000, 16948.0, 16948.5, 16947.5, 16948.0, 7.885],\n   [1670075040000, 16948.0, 16949.5, 16948.0, 16949.0, 3.787],\n   [1670075100000, 16949.0, 16950.5, 16949.0, 16950.0, 12.572],\n   [1670075160000, 16950.0, 16951.0, 16950.0, 16951.0, 7.063],\n   [1670075220000, 16951.0, 16953.0, 16950.5, 16951.5, 22.672],\n   [1670075280000, 16951.5, 16951.5, 16951.0, 16951.0, 3.891],\n   [1670075340000, 16951.0, 16951.5, 16951.0, 16951.5, 0.91],\n   [1670075400000, 16951.5, 16951.5, 16951.0, 16951.5, 2.875],\n   [1670075460000, 16951.5, 16954.5, 16951.0, 16954.0, 60.154],\n   [1670075520000, 16954.0, 16955.0, 16954.0, 16954.5, 16.012],\n   [1670075580000, 16954.5, 16958.0, 16954.5, 16957.5, 27.169],\n   [1670075640000, 16957.5, 16958.0, 16957.5, 16957.5, 13.357],\n   [1670075700000, 16957.5, 16958.0, 16957.5, 16957.5, 9.346],\n   [1670075760000, 16957.5, 16958.0, 16957.5, 16957.5, 31.302],\n   [1670075820000, 16957.5, 16958.0, 16948.5, 16948.5, 55.93],\n   [1670075880000, 16948.5, 16949.0, 16948.5, 16948.5, 20.358],\n   [1670075940000, 16948.5, 16949.0, 16948.0, 16948.0, 6.932],\n   [1670076000000, 16948.0, 16948.5, 16944.0, 16944.0, 24.326],\n   [1670076060000, 16944.0, 16944.5, 16944.0, 16944.5, 16.457],\n   [1670076120000, 16944.5, 16944.5, 16944.0, 16944.0, 8.281],\n   [1670076180000, 16944.0, 16944.5, 16944.0, 16944.0, 0.946],\n   [1670076240000, 16944.0, 16944.5, 16944.0, 16944.0, 7.689],\n   [1670076300000, 16944.0, 16944.5, 16944.0, 16944.0, 9.811],\n   [1670076360000, 16944.0, 16944.5, 16944.0, 16944.5, 7.03],\n   [1670076420000, 16944.5, 16944.5, 16944.0, 16944.0, 11.535],\n   [1670076480000, 16944.0, 16944.5, 16944.0, 16944.5, 19.981],\n   [1670076540000, 16944.5, 16944.5, 16944.0, 16944.5, 1.938],\n   [1670076600000, 16944.5, 16944.5, 16944.0, 16944.0, 1.863],\n   [1670076660000, 16944.0, 16944.5, 16944.0, 16944.0, 6.529],\n   [1670076720000, 16944.0, 16945.0, 16944.0, 16945.0, 3.281],\n   [1670076780000, 16945.0, 16945.0, 16944.5, 16944.5, 8.061],\n   [1670076840000, 16944.5, 16945.0, 16944.5, 16945.0, 2.509],\n   [1670076900000, 16945.0, 16945.0, 16944.5, 16944.5, 8.582],\n   [1670076960000, 16944.5, 16946.0, 16944.5, 16946.0, 3.684],\n   [1670077020000, 16946.0, 16946.0, 16945.5, 16946.0, 10.973],\n   [1670077080000, 16946.0, 16946.0, 16945.5, 16946.0, 2.686],\n   [1670077140000, 16946.0, 16946.0, 16945.5, 16946.0, 0.879],\n   [1670077200000, 16946.0, 16946.0, 16945.0, 16945.5, 63.514],\n   [1670077260000, 16945.5, 16945.5, 16945.0, 16945.0, 37.492],\n   [1670077320000, 16945.0, 16945.5, 16945.0, 16945.0, 28.851],\n   [1670077380000, 16945.0, 16945.5, 16933.5, 16933.5, 155.163],\n   [1670077440000, 16933.5, 16934.0, 16933.5, 16934.0, 10.188],\n   [1670077500000, 16934.0, 16934.0, 16933.5, 16933.5, 28.976],\n   [1670077560000, 16933.5, 16935.5, 16913.5, 16925.5, 309.052],\n   [1670077620000, 16925.5, 16927.5, 16924.5, 16924.5, 36.26],\n   [1670077680000, 16924.5, 16925.0, 16922.0, 16922.5, 109.235],\n   [1670077740000, 16922.5, 16934.0, 16922.0, 16933.5, 162.925],\n   [1670077800000, 16933.5, 16934.0, 16933.5, 16933.5, 12.651],\n   [1670077860000, 16933.5, 16937.5, 16933.0, 16937.0, 419.917],\n   [1670077920000, 16937.0, 16940.0, 16937.0, 16939.5, 16.103],\n   [1670077980000, 16939.5, 16943.0, 16939.5, 16942.5, 44.504],\n   [1670078040000, 16942.5, 16943.0, 16942.5, 16942.5, 8.012],\n   [1670078100000, 16942.5, 16944.5, 16942.5, 16944.5, 21.731],\n   [1670078160000, 16944.5, 16944.5, 16944.0, 16944.0, 17.692],\n   [1670078220000, 16944.0, 16944.5, 16944.0, 16944.0, 22.505],\n   [1670078280000, 16944.0, 16944.5, 16944.0, 16944.0, 22.082],\n   [1670078340000, 16944.0, 16944.5, 16944.0, 16944.5, 17.878],\n   [1670078400000, 16944.5, 16944.5, 16944.0, 16944.5, 38.55],\n   [1670078460000, 16944.5, 16944.5, 16944.0, 16944.5, 39.078],\n   [1670078520000, 16944.5, 16944.5, 16944.0, 16944.0, 92.563],\n   [1670078580000, 16944.0, 16944.5, 16943.5, 16943.5, 319.225],\n   [1670078640000, 16943.5, 16944.0, 16943.5, 16944.0, 3.946],\n   [1670078700000, 16944.0, 16944.0, 16942.5, 16943.0, 26.405],\n   [1670078760000, 16943.0, 16943.0, 16939.5, 16939.5, 59.188],\n   [1670078820000, 16939.5, 16940.0, 16937.5, 16938.0, 41.191],\n   [1670078880000, 16938.0, 16938.0, 16933.5, 16933.5, 25.337],\n   [1670078940000, 16933.5, 16934.0, 16928.0, 16928.0, 60.76],\n   [1670079000000, 16928.0, 16928.5, 16928.0, 16928.0, 63.431],\n   [1670079060000, 16928.0, 16928.5, 16914.5, 16925.5, 158.597],\n   [1670079120000, 16925.5, 16928.0, 16925.5, 16928.0, 23.347],\n   [1670079180000, 16928.0, 16928.0, 16927.5, 16928.0, 10.272],\n   [1670079240000, 16928.0, 16932.0, 16927.5, 16932.0, 118.427],\n   [1670079300000, 16932.0, 16936.0, 16932.0, 16935.5, 14.575],\n   [1670079360000, 16935.5, 16936.0, 16933.0, 16933.0, 31.086],\n   [1670079420000, 16933.0, 16940.0, 16933.0, 16940.0, 84.523],\n   [1670079480000, 16940.0, 16940.0, 16939.5, 16940.0, 7.822],\n   [1670079540000, 16940.0, 16940.0, 16939.5, 16940.0, 8.059],\n   [1670079600000, 16940.0, 16940.0, 16936.5, 16937.0, 68.191],\n   [1670079660000, 16937.0, 16942.0, 16936.5, 16941.5, 28.083],\n   [1670079720000, 16941.5, 16942.0, 16941.5, 16942.0, 21.185],\n   [1670079780000, 16942.0, 16950.0, 16941.5, 16950.0, 71.971],\n   [1670079840000, 16950.0, 16950.0, 16949.5, 16949.5, 7.513],\n   [1670079900000, 16949.5, 16950.0, 16949.5, 16950.0, 13.962],\n   [1670079960000, 16950.0, 16950.0, 16949.5, 16949.5, 65.543],\n   [1670080020000, 16949.5, 16950.0, 16949.5, 16950.0, 18.713],\n   [1670080080000, 16950.0, 16950.0, 16949.5, 16950.0, 8.909],\n   [1670080140000, 16950.0, 16950.0, 16949.5, 16950.0, 8.116],\n   [1670080200000, 16950.0, 16950.0, 16949.5, 16950.0, 13.423],\n   [1670080260000, 16950.0, 16950.0, 16949.5, 16950.0, 1.534],\n   [1670080320000, 16950.0, 16950.0, 16949.5, 16950.0, 9.166],\n   [1670080380000, 16950.0, 16950.0, 16949.5, 16950.0, 5.317],\n   [1670080440000, 16950.0, 16950.0, 16949.5, 16950.0, 4.751],\n   [1670080500000, 16950.0, 16950.0, 16949.0, 16949.5, 37.288],\n   [1670080560000, 16949.5, 16949.5, 16949.0, 16949.5, 12.491],\n   [1670080620000, 16949.5, 16949.5, 16949.0, 16949.5, 7.461],\n   [1670080680000, 16949.5, 16949.5, 16949.0, 16949.5, 2.386],\n   [1670080740000, 16949.5, 16950.0, 16949.0, 16949.5, 67.709],\n   [1670080800000, 16949.5, 16952.0, 16949.5, 16951.5, 75.59],\n   [1670080860000, 16951.5, 16952.0, 16951.5, 16951.5, 3.108],\n   [1670080920000, 16951.5, 16952.0, 16951.5, 16951.5, 46.717],\n   [1670080980000, 16951.5, 16952.0, 16951.5, 16952.0, 4.744],\n   [1670081040000, 16952.0, 16952.0, 16951.5, 16952.0, 7.395],\n   [1670081100000, 16952.0, 16955.0, 16951.5, 16954.5, 68.553],\n   [1670081160000, 16954.5, 16976.0, 16954.5, 16968.0, 623.634],\n   [1670081220000, 16968.0, 16973.5, 16959.5, 16959.5, 165.86],\n   [1670081280000, 16959.5, 16960.0, 16959.5, 16959.5, 23.755],\n   [1670081340000, 16959.5, 16960.0, 16959.0, 16959.5, 14.05],\n   [1670081400000, 16959.5, 16959.5, 16959.0, 16959.0, 11.033],\n   [1670081460000, 16959.0, 16959.5, 16955.5, 16955.5, 15.264],\n   [1670081520000, 16955.5, 16956.0, 16955.5, 16956.0, 6.6],\n   [1670081580000, 16956.0, 16956.0, 16955.5, 16956.0, 21.53],\n   [1670081640000, 16956.0, 16956.0, 16955.5, 16956.0, 14.313],\n   [1670081700000, 16956.0, 16956.0, 16955.5, 16956.0, 4.002],\n   [1670081760000, 16956.0, 16956.0, 16955.5, 16956.0, 9.195],\n   [1670081820000, 16956.0, 16956.0, 16955.5, 16955.5, 16.957],\n   [1670081880000, 16955.5, 16956.0, 16955.5, 16955.5, 2.045],\n   [1670081940000, 16955.5, 16956.0, 16955.5, 16955.5, 2.791],\n   [1670082000000, 16955.5, 16956.0, 16955.5, 16955.5, 5.893],\n   [1670082060000, 16955.5, 16956.0, 16955.5, 16955.5, 4.672],\n   [1670082120000, 16955.5, 16956.0, 16955.5, 16955.5, 28.022],\n   [1670082180000, 16955.5, 16956.0, 16955.5, 16956.0, 39.02],\n   [1670082240000, 16956.0, 16959.5, 16955.5, 16959.5, 26.253],\n   [1670082300000, 16959.5, 16959.5, 16959.0, 16959.5, 5.994],\n   [1670082360000, 16959.5, 16959.5, 16959.0, 16959.0, 18.381],\n   [1670082420000, 16959.0, 16959.5, 16959.0, 16959.0, 11.422],\n   [1670082480000, 16959.0, 16959.5, 16959.0, 16959.5, 3.748],\n   [1670082540000, 16959.5, 16959.5, 16959.0, 16959.0, 2.353],\n   [1670082600000, 16959.0, 16959.5, 16959.0, 16959.0, 4.296],\n   [1670082660000, 16959.0, 16959.5, 16959.0, 16959.0, 8.91],\n   [1670082720000, 16959.0, 16959.5, 16959.0, 16959.0, 12.524],\n   [1670082780000, 16959.0, 16959.5, 16955.5, 16956.0, 38.931],\n   [1670082840000, 16956.0, 16956.0, 16955.5, 16956.0, 11.711],\n   [1670082900000, 16956.0, 16957.0, 16955.5, 16957.0, 10.03],\n   [1670082960000, 16957.0, 16959.0, 16956.5, 16958.5, 6.655],\n   [1670083020000, 16958.5, 16959.0, 16958.5, 16959.0, 4.099],\n   [1670083080000, 16959.0, 16959.0, 16958.5, 16959.0, 1.364],\n   [1670083140000, 16959.0, 16959.0, 16958.5, 16959.0, 3.007],\n   [1670083200000, 16959.0, 16959.0, 16957.5, 16957.5, 52.854],\n   [1670083260000, 16957.5, 16958.0, 16957.5, 16958.0, 21.47],\n   [1670083320000, 16958.0, 16958.0, 16956.0, 16956.0, 31.882],\n   [1670083380000, 16956.0, 16956.5, 16956.0, 16956.0, 9.775],\n   [1670083440000, 16956.0, 16956.5, 16956.0, 16956.5, 8.833],\n   [1670083500000, 16956.5, 16956.5, 16956.0, 16956.5, 4.809],\n   [1670083560000, 16956.5, 16956.5, 16956.0, 16956.5, 6.485],\n   [1670083620000, 16956.5, 16956.5, 16956.0, 16956.5, 15.738],\n   [1670083680000, 16956.5, 16956.5, 16956.0, 16956.0, 3.941],\n   [1670083740000, 16956.0, 16956.5, 16956.0, 16956.5, 1.473],\n   [1670083800000, 16956.5, 16956.5, 16956.0, 16956.0, 15.592],\n   [1670083860000, 16956.0, 16956.5, 16956.0, 16956.0, 10.734],\n   [1670083920000, 16956.0, 16956.5, 16956.0, 16956.5, 3.8],\n   [1670083980000, 16956.5, 16956.5, 16956.0, 16956.0, 2.737],\n   [1670084040000, 16956.0, 16956.5, 16956.0, 16956.0, 7.858],\n   [1670084100000, 16956.0, 16956.5, 16956.0, 16956.5, 34.821],\n   [1670084160000, 16956.5, 16956.5, 16956.0, 16956.5, 3.653],\n   [1670084220000, 16956.5, 16956.5, 16956.0, 16956.5, 1.502],\n   [1670084280000, 16956.5, 16956.5, 16956.0, 16956.5, 3.319],\n   [1670084340000, 16956.5, 16956.5, 16956.0, 16956.5, 4.475],\n   [1670084400000, 16956.5, 16956.5, 16956.0, 16956.5, 17.944],\n   [1670084460000, 16956.5, 16956.5, 16956.0, 16956.5, 2.756],\n   [1670084520000, 16956.5, 16956.5, 16956.0, 16956.5, 5.268],\n   [1670084580000, 16956.5, 16960.0, 16956.5, 16959.5, 10.847],\n   [1670084640000, 16959.5, 16960.0, 16959.5, 16960.0, 18.276],\n   [1670084700000, 16960.0, 16960.0, 16959.5, 16959.5, 13.036],\n   [1670084760000, 16959.5, 16960.0, 16959.5, 16960.0, 17.762],\n   [1670084820000, 16960.0, 16960.0, 16959.5, 16960.0, 3.511],\n   [1670084880000, 16960.0, 16960.0, 16958.0, 16958.5, 20.626],\n   [1670084940000, 16958.5, 16958.5, 16956.0, 16956.0, 24.387],\n   [1670085000000, 16956.0, 16956.5, 16951.0, 16952.5, 97.149],\n   [1670085060000, 16952.5, 16952.5, 16952.0, 16952.5, 24.514],\n   [1670085120000, 16952.5, 16952.5, 16952.0, 16952.5, 6.062],\n   [1670085180000, 16952.5, 16952.5, 16948.5, 16948.5, 69.289],\n   [1670085240000, 16948.5, 16949.0, 16948.5, 16949.0, 7.957],\n   [1670085300000, 16949.0, 16950.5, 16948.5, 16950.0, 79.363],\n   [1670085360000, 16950.0, 16950.5, 16950.0, 16950.5, 10.56],\n   [1670085420000, 16950.5, 16950.5, 16950.0, 16950.0, 8.148],\n   [1670085480000, 16950.0, 16950.5, 16950.0, 16950.5, 16.776],\n   [1670085540000, 16950.5, 16950.5, 16950.0, 16950.5, 6.973],\n   [1670085600000, 16950.5, 16950.5, 16950.0, 16950.0, 5.631],\n   [1670085660000, 16950.0, 16950.5, 16950.0, 16950.5, 13.623],\n   [1670085720000, 16950.5, 16950.5, 16950.0, 16950.5, 2.487],\n   [1670085780000, 16950.5, 16950.5, 16950.0, 16950.0, 4.685],\n   [1670085840000, 16950.0, 16950.5, 16950.0, 16950.5, 1.085],\n   [1670085900000, 16950.5, 16950.5, 16950.0, 16950.0, 8.982],\n   [1670085960000, 16950.0, 16950.5, 16950.0, 16950.5, 2.51],\n   [1670086020000, 16950.5, 16950.5, 16950.0, 16950.5, 26.573],\n   [1670086080000, 16950.5, 16950.5, 16950.0, 16950.0, 5.224],\n   [1670086140000, 16950.0, 16950.5, 16950.0, 16950.5, 3.106],\n   [1670086200000, 16950.5, 16953.0, 16950.0, 16952.5, 19.743],\n   [1670086260000, 16952.5, 16953.0, 16952.5, 16953.0, 5.343],\n   [1670086320000, 16953.0, 16953.0, 16952.5, 16952.5, 6.249],\n   [1670086380000, 16952.5, 16953.0, 16952.5, 16953.0, 17.101],\n   [1670086440000, 16953.0, 16953.0, 16952.5, 16953.0, 10.136],\n   [1670086500000, 16953.0, 16953.0, 16950.0, 16950.0, 22.619],\n   [1670086560000, 16950.0, 16950.5, 16950.0, 16950.5, 9.606],\n   [1670086620000, 16950.5, 16950.5, 16946.0, 16949.5, 31.839],\n   [1670086680000, 16949.5, 16950.0, 16949.5, 16950.0, 4.962],\n   [1670086740000, 16950.0, 16950.0, 16949.5, 16950.0, 7.133],\n   [1670086800000, 16950.0, 16950.0, 16946.5, 16946.5, 16.123],\n   [1670086860000, 16946.5, 16947.0, 16946.5, 16946.5, 14.322],\n   [1670086920000, 16946.5, 16947.0, 16946.0, 16946.0, 38.208],\n   [1670086980000, 16946.0, 16946.5, 16946.0, 16946.5, 6.344],\n   [1670087040000, 16946.5, 16946.5, 16946.0, 16946.5, 10.718],\n   [1670087100000, 16946.5, 16946.5, 16946.0, 16946.0, 8.257],\n   [1670087160000, 16946.0, 16946.5, 16946.0, 16946.0, 6.663],\n   [1670087220000, 16946.0, 16946.5, 16946.0, 16946.5, 2.815],\n   [1670087280000, 16946.5, 16946.5, 16943.5, 16943.5, 26.617],\n   [1670087340000, 16943.5, 16944.0, 16943.5, 16944.0, 2.003],\n   [1670087400000, 16944.0, 16944.0, 16943.5, 16943.5, 3.108],\n   [1670087460000, 16943.5, 16944.0, 16943.5, 16943.5, 3.186],\n   [1670087520000, 16943.5, 16944.0, 16937.5, 16938.0, 67.217],\n   [1670087580000, 16938.0, 16938.0, 16937.5, 16937.5, 10.272],\n   [1670087640000, 16937.5, 16938.0, 16937.5, 16937.5, 8.307],\n   [1670087700000, 16937.5, 16938.0, 16937.5, 16937.5, 12.198],\n   [1670087760000, 16937.5, 16942.0, 16937.5, 16942.0, 19.414],\n   [1670087820000, 16942.0, 16946.5, 16941.5, 16946.5, 20.642],\n   [1670087880000, 16946.5, 16950.0, 16946.0, 16949.5, 11.082],\n   [1670087940000, 16949.5, 16951.0, 16949.5, 16951.0, 11.829],\n   [1670088000000, 16951.0, 16951.0, 16950.5, 16951.0, 7.063],\n   [1670088060000, 16951.0, 16951.0, 16950.5, 16951.0, 6.271],\n   [1670088120000, 16951.0, 16953.0, 16950.5, 16952.5, 14.016],\n   [1670088180000, 16952.5, 16955.5, 16952.5, 16955.0, 10.744],\n   [1670088240000, 16955.0, 16958.5, 16955.0, 16958.0, 26.877],\n   [1670088300000, 16958.0, 16958.5, 16958.0, 16958.5, 29.691],\n   [1670088360000, 16958.5, 16958.5, 16958.0, 16958.5, 4.672],\n   [1670088420000, 16958.5, 16958.5, 16955.0, 16955.0, 23.682],\n   [1670088480000, 16955.0, 16957.0, 16955.0, 16956.5, 10.762],\n   [1670088540000, 16956.5, 16956.5, 16956.0, 16956.0, 24.58],\n   [1670088600000, 16956.0, 16956.5, 16956.0, 16956.0, 6.302],\n   [1670088660000, 16956.0, 16956.5, 16956.0, 16956.0, 3.672],\n   [1670088720000, 16956.0, 16956.5, 16956.0, 16956.5, 5.318],\n   [1670088780000, 16956.5, 16980.0, 16956.0, 16972.5, 273.368],\n   [1670088840000, 16972.5, 16977.5, 16971.5, 16977.5, 93.656],\n   [1670088900000, 16977.5, 16977.5, 16975.5, 16975.5, 32.419],\n   [1670088960000, 16975.5, 16975.5, 16974.0, 16974.5, 27.1],\n   [1670089020000, 16974.5, 16974.5, 16974.0, 16974.0, 6.171],\n   [1670089080000, 16974.0, 16974.5, 16974.0, 16974.5, 20.405],\n   [1670089140000, 16974.5, 16974.5, 16974.0, 16974.5, 15.341],\n   [1670089200000, 16974.5, 16974.5, 16969.5, 16970.0, 61.099],\n   [1670089260000, 16970.0, 16970.0, 16968.0, 16968.5, 5.444],\n   [1670089320000, 16968.5, 16968.5, 16968.0, 16968.0, 15.595],\n   [1670089380000, 16968.0, 16968.5, 16966.5, 16966.5, 10.62],\n   [1670089440000, 16966.5, 16967.0, 16966.5, 16966.5, 3.165],\n   [1670089500000, 16966.5, 16967.0, 16966.5, 16967.0, 23.194],\n   [1670089560000, 16967.0, 16967.0, 16965.5, 16966.0, 13.35],\n   [1670089620000, 16966.0, 16966.0, 16965.5, 16965.5, 2.889],\n   [1670089680000, 16965.5, 16966.0, 16965.5, 16966.0, 5.554],\n   [1670089740000, 16966.0, 16966.0, 16965.5, 16965.5, 4.128],\n   [1670089800000, 16965.5, 16966.0, 16965.5, 16966.0, 2.096],\n   [1670089860000, 16966.0, 16966.0, 16964.0, 16964.5, 11.62],\n   [1670089920000, 16964.5, 16964.5, 16964.0, 16964.5, 6.187],\n   [1670089980000, 16964.5, 16964.5, 16964.0, 16964.0, 1.425],\n   [1670090040000, 16964.0, 16964.5, 16964.0, 16964.5, 3.136],\n   [1670090100000, 16964.5, 16966.5, 16964.5, 16966.5, 49.322],\n   [1670090160000, 16966.5, 16966.5, 16966.0, 16966.5, 4.316],\n   [1670090220000, 16966.5, 16966.5, 16966.0, 16966.5, 16.751],\n   [1670090280000, 16966.5, 16966.5, 16966.0, 16966.5, 3.818],\n   [1670090340000, 16966.5, 16966.5, 16966.0, 16966.0, 6.191],\n   [1670090400000, 16966.0, 16966.5, 16966.0, 16966.5, 1.921],\n   [1670090460000, 16966.5, 16969.0, 16966.0, 16969.0, 36.652],\n   [1670090520000, 16969.0, 16969.0, 16968.5, 16968.5, 15.5],\n   [1670090580000, 16968.5, 16969.0, 16968.5, 16969.0, 1.849],\n   [1670090640000, 16969.0, 16969.5, 16968.5, 16969.0, 26.831],\n   [1670090700000, 16969.0, 16969.5, 16969.0, 16969.0, 17.604],\n   [1670090760000, 16969.0, 16969.5, 16969.0, 16969.0, 5.779],\n   [1670090820000, 16969.0, 16969.5, 16969.0, 16969.5, 2.588],\n   [1670090880000, 16969.5, 16969.5, 16969.0, 16969.5, 3.328],\n   [1670090940000, 16969.5, 16969.5, 16969.0, 16969.5, 4.502],\n   [1670091000000, 16969.5, 16969.5, 16969.0, 16969.0, 15.522],\n   [1670091060000, 16969.0, 16969.5, 16969.0, 16969.0, 15.138],\n   [1670091120000, 16969.0, 16969.5, 16969.0, 16969.5, 6.456],\n   [1670091180000, 16969.5, 16969.5, 16969.0, 16969.5, 3.6],\n   [1670091240000, 16969.5, 16969.5, 16969.0, 16969.5, 0.864],\n   [1670091300000, 16969.5, 16969.5, 16969.0, 16969.0, 1.562],\n   [1670091360000, 16969.0, 16969.5, 16969.0, 16969.5, 7.977],\n   [1670091420000, 16969.5, 16969.5, 16969.0, 16969.5, 16.136],\n   [1670091480000, 16969.5, 16969.5, 16969.0, 16969.5, 12.584],\n   [1670091540000, 16969.5, 16969.5, 16969.0, 16969.5, 5.64],\n   [1670091600000, 16969.5, 16969.5, 16969.0, 16969.5, 12.55],\n   [1670091660000, 16969.5, 16969.5, 16969.0, 16969.0, 17.44],\n   [1670091720000, 16969.0, 16969.5, 16969.0, 16969.5, 18.083],\n   [1670091780000, 16969.5, 16969.5, 16969.0, 16969.5, 1.224],\n   [1670091840000, 16969.5, 16969.5, 16969.0, 16969.5, 33.498],\n   [1670091900000, 16969.5, 16969.5, 16969.0, 16969.0, 1.764],\n   [1670091960000, 16969.0, 16969.5, 16969.0, 16969.0, 1.196],\n   [1670092020000, 16969.0, 16969.5, 16969.0, 16969.5, 2.28],\n   [1670092080000, 16969.5, 16969.5, 16969.0, 16969.5, 7.706],\n   [1670092140000, 16969.5, 16969.5, 16969.0, 16969.5, 2.263],\n   [1670092200000, 16969.5, 16973.0, 16969.0, 16972.5, 22.212],\n   [1670092260000, 16972.5, 16973.0, 16972.5, 16973.0, 9.105],\n   [1670092320000, 16973.0, 16973.0, 16972.5, 16972.5, 4.186],\n   [1670092380000, 16972.5, 16973.0, 16972.5, 16973.0, 6.49],\n   [1670092440000, 16973.0, 16977.0, 16972.5, 16976.5, 67.825],\n   [1670092500000, 16976.5, 16977.0, 16976.5, 16976.5, 17.161],\n   [1670092560000, 16976.5, 16977.0, 16976.5, 16976.5, 8.085],\n   [1670092620000, 16976.5, 16977.0, 16976.5, 16976.5, 20.228],\n   [1670092680000, 16976.5, 16977.0, 16975.0, 16975.5, 18.167],\n   [1670092740000, 16975.5, 16975.5, 16973.0, 16973.5, 15.42],\n   [1670092800000, 16973.5, 16973.5, 16973.0, 16973.0, 13.171],\n   [1670092860000, 16973.0, 16973.5, 16973.0, 16973.5, 6.991],\n   [1670092920000, 16973.5, 16973.5, 16973.0, 16973.0, 7.758],\n   [1670092980000, 16973.0, 16973.5, 16973.0, 16973.5, 5.815],\n   [1670093040000, 16973.5, 16973.5, 16973.0, 16973.5, 2.05],\n   [1670093100000, 16973.5, 16973.5, 16973.0, 16973.5, 1.065],\n   [1670093160000, 16973.5, 16973.5, 16973.0, 16973.5, 6.636],\n   [1670093220000, 16973.5, 16973.5, 16973.0, 16973.5, 9.836],\n   [1670093280000, 16973.5, 16973.5, 16973.0, 16973.5, 0.581],\n   [1670093340000, 16973.5, 16973.5, 16965.0, 16965.5, 42.232],\n   [1670093400000, 16965.5, 16966.0, 16948.0, 16949.0, 190.112],\n   [1670093460000, 16949.0, 16957.5, 16948.5, 16957.5, 51.14],\n   [1670093520000, 16957.5, 16960.0, 16957.0, 16959.5, 10.099],\n   [1670093580000, 16959.5, 16960.0, 16959.5, 16959.5, 4.448],\n   [1670093640000, 16959.5, 16960.0, 16959.5, 16960.0, 4.299],\n   [1670093700000, 16960.0, 16960.0, 16959.5, 16959.5, 8.99],\n   [1670093760000, 16959.5, 16961.5, 16959.5, 16961.0, 14.79],\n   [1670093820000, 16961.0, 16961.5, 16961.0, 16961.0, 5.019],\n   [1670093880000, 16961.0, 16963.0, 16961.0, 16963.0, 7.905],\n   [1670093940000, 16963.0, 16963.0, 16962.5, 16963.0, 27.128],\n   [1670094000000, 16963.0, 16963.0, 16962.5, 16963.0, 5.152],\n   [1670094060000, 16963.0, 16963.0, 16962.5, 16963.0, 1.417],\n   [1670094120000, 16963.0, 16964.5, 16962.5, 16964.0, 9.045],\n   [1670094180000, 16964.0, 16964.5, 16964.0, 16964.0, 5.292],\n   [1670094240000, 16964.0, 16965.0, 16964.0, 16965.0, 4.343],\n   [1670094300000, 16965.0, 16965.0, 16964.5, 16964.5, 2.365],\n   [1670094360000, 16964.5, 16965.0, 16964.5, 16965.0, 5.638],\n   [1670094420000, 16965.0, 16965.0, 16964.5, 16965.0, 2.031],\n   [1670094480000, 16965.0, 16965.0, 16964.5, 16965.0, 0.865],\n   [1670094540000, 16965.0, 16965.0, 16964.5, 16964.5, 23.556],\n   [1670094600000, 16964.5, 16965.0, 16963.5, 16964.0, 15.098],\n   [1670094660000, 16964.0, 16964.0, 16962.0, 16962.0, 13.498],\n   [1670094720000, 16962.0, 16962.5, 16962.0, 16962.0, 4.466],\n   [1670094780000, 16962.0, 16962.5, 16962.0, 16962.5, 15.793],\n   [1670094840000, 16962.5, 16962.5, 16959.5, 16960.0, 8.285],\n   [1670094900000, 16960.0, 16960.0, 16957.5, 16957.5, 17.72],\n   [1670094960000, 16957.5, 16958.0, 16957.5, 16958.0, 5.33],\n   [1670095020000, 16958.0, 16958.0, 16957.5, 16958.0, 4.014],\n   [1670095080000, 16958.0, 16958.0, 16957.5, 16958.0, 3.181],\n   [1670095140000, 16958.0, 16958.0, 16957.5, 16958.0, 1.21],\n   [1670095200000, 16958.0, 16958.0, 16957.5, 16958.0, 6.223],\n   [1670095260000, 16958.0, 16958.0, 16957.5, 16958.0, 1.216],\n   [1670095320000, 16958.0, 16958.0, 16957.5, 16958.0, 0.394],\n   [1670095380000, 16958.0, 16958.0, 16957.5, 16958.0, 13.8],\n   [1670095440000, 16958.0, 16958.0, 16957.5, 16958.0, 1.722],\n   [1670095500000, 16958.0, 16958.0, 16954.0, 16954.0, 16.992],\n   [1670095560000, 16954.0, 16954.5, 16954.0, 16954.5, 6.787],\n   [1670095620000, 16954.5, 16954.5, 16953.0, 16953.0, 17.918],\n   [1670095680000, 16953.0, 16953.5, 16953.0, 16953.5, 1.203],\n   [1670095740000, 16953.5, 16953.5, 16950.0, 16950.5, 12.331],\n   [1670095800000, 16950.5, 16950.5, 16950.0, 16950.5, 13.148],\n   [1670095860000, 16950.5, 16950.5, 16950.0, 16950.5, 3.926],\n   [1670095920000, 16950.5, 16950.5, 16950.0, 16950.5, 5.093],\n   [1670095980000, 16950.5, 16950.5, 16950.0, 16950.5, 3.075],\n   [1670096040000, 16950.5, 16950.5, 16950.0, 16950.5, 0.655],\n   [1670096100000, 16950.5, 16950.5, 16950.0, 16950.5, 13.984],\n   [1670096160000, 16950.5, 16950.5, 16949.5, 16950.0, 4.018],\n   [1670096220000, 16950.0, 16950.0, 16948.5, 16949.0, 10.482],\n   [1670096280000, 16949.0, 16949.0, 16946.0, 16946.5, 71.088],\n   [1670096340000, 16946.5, 16946.5, 16932.5, 16934.0, 120.931],\n   [1670096400000, 16934.0, 16934.0, 16933.5, 16933.5, 47.142],\n   [1670096460000, 16933.5, 16940.0, 16933.5, 16940.0, 48.827],\n   [1670096520000, 16940.0, 16940.0, 16939.5, 16940.0, 14.063],\n   [1670096580000, 16940.0, 16940.0, 16939.5, 16940.0, 13.961],\n   [1670096640000, 16940.0, 16940.0, 16939.5, 16940.0, 8.754],\n   [1670096700000, 16940.0, 16940.0, 16939.5, 16939.5, 5.012],\n   [1670096760000, 16939.5, 16944.5, 16939.5, 16944.5, 23.42],\n   [1670096820000, 16944.5, 16949.5, 16944.0, 16949.0, 23.527],\n   [1670096880000, 16949.0, 16949.5, 16949.0, 16949.0, 9.901],\n   [1670096940000, 16949.0, 16957.0, 16949.0, 16957.0, 42.385],\n   [1670097000000, 16957.0, 16965.0, 16957.0, 16958.0, 202.505],\n   [1670097060000, 16958.0, 16958.5, 16958.0, 16958.5, 2.14],\n   [1670097120000, 16958.5, 16958.5, 16958.0, 16958.5, 2.229],\n   [1670097180000, 16958.5, 16958.5, 16958.0, 16958.0, 2.485],\n   [1670097240000, 16958.0, 16958.5, 16957.0, 16957.5, 6.847],\n   [1670097300000, 16957.5, 16957.5, 16957.0, 16957.0, 4.9],\n   [1670097360000, 16957.0, 16957.5, 16950.0, 16950.0, 31.724],\n   [1670097420000, 16950.0, 16950.5, 16950.0, 16950.5, 6.208],\n   [1670097480000, 16950.5, 16950.5, 16950.0, 16950.5, 7.163],\n   [1670097540000, 16950.5, 16950.5, 16950.0, 16950.5, 1.282],\n   [1670097600000, 16950.5, 16950.5, 16950.0, 16950.5, 13.56],\n   [1670097660000, 16950.5, 16950.5, 16950.0, 16950.5, 1.413],\n   [1670097720000, 16950.5, 16950.5, 16950.0, 16950.5, 7.853],\n   [1670097780000, 16950.5, 16950.5, 16950.0, 16950.5, 1.128],\n   [1670097840000, 16950.5, 16950.5, 16950.0, 16950.0, 12.504],\n   [1670097900000, 16950.0, 16950.5, 16950.0, 16950.0, 6.072],\n   [1670097960000, 16950.0, 16950.5, 16950.0, 16950.5, 2.041],\n   [1670098020000, 16950.5, 16950.5, 16950.0, 16950.5, 6.694],\n   [1670098080000, 16950.5, 16950.5, 16949.5, 16950.0, 24.747],\n   [1670098140000, 16950.0, 16950.0, 16949.5, 16950.0, 13.532],\n   [1670098200000, 16950.0, 16950.0, 16949.5, 16949.5, 2.726],\n   [1670098260000, 16949.5, 16950.0, 16949.5, 16950.0, 1.844],\n   [1670098320000, 16950.0, 16950.0, 16949.5, 16949.5, 1.152],\n   [1670098380000, 16949.5, 16950.0, 16949.5, 16950.0, 2.983],\n   [1670098440000, 16950.0, 16950.0, 16949.5, 16949.5, 2.105],\n   [1670098500000, 16949.5, 16950.0, 16949.5, 16949.5, 0.722],\n   [1670098560000, 16949.5, 16950.0, 16949.5, 16950.0, 1.444],\n   [1670098620000, 16950.0, 16950.0, 16949.5, 16949.5, 1.192],\n   [1670098680000, 16949.5, 16950.0, 16949.5, 16949.5, 0.664],\n   [1670098740000, 16949.5, 16950.0, 16949.5, 16950.0, 2.919],\n   [1670098800000, 16950.0, 16950.0, 16949.5, 16950.0, 1.138],\n   [1670098860000, 16950.0, 16950.0, 16949.5, 16950.0, 4.58],\n   [1670098920000, 16950.0, 16950.0, 16949.0, 16949.5, 4.723],\n   [1670098980000, 16949.5, 16949.5, 16949.0, 16949.5, 2.609],\n   [1670099040000, 16949.5, 16949.5, 16949.0, 16949.5, 5.249],\n   [1670099100000, 16949.5, 16949.5, 16949.0, 16949.5, 3.957],\n   [1670099160000, 16949.5, 16949.5, 16949.0, 16949.0, 0.985],\n   [1670099220000, 16949.0, 16949.5, 16949.0, 16949.5, 20.491],\n   [1670099280000, 16949.5, 16949.5, 16949.0, 16949.5, 0.252],\n   [1670099340000, 16949.5, 16949.5, 16949.0, 16949.5, 16.038],\n   [1670099400000, 16949.5, 16949.5, 16949.0, 16949.5, 0.766],\n   [1670099460000, 16949.5, 16949.5, 16949.0, 16949.5, 2.063],\n   [1670099520000, 16949.5, 16949.5, 16949.0, 16949.5, 3.342],\n   [1670099580000, 16949.5, 16949.5, 16944.0, 16944.0, 30.586],\n   [1670099640000, 16944.0, 16944.5, 16937.0, 16937.0, 24.568],\n   [1670099700000, 16937.0, 16937.5, 16937.0, 16937.5, 5.135],\n   [1670099760000, 16937.5, 16937.5, 16937.0, 16937.0, 3.447],\n   [1670099820000, 16937.0, 16937.5, 16937.0, 16937.5, 29.639],\n   [1670099880000, 16937.5, 16937.5, 16937.0, 16937.0, 7.954],\n   [1670099940000, 16937.0, 16937.5, 16937.0, 16937.5, 32.015],\n   [1670100000000, 16937.5, 16937.5, 16937.0, 16937.5, 4.409],\n   [1670100060000, 16937.5, 16937.5, 16937.0, 16937.5, 16.272],\n   [1670100120000, 16937.5, 16937.5, 16937.0, 16937.5, 11.923],\n   [1670100180000, 16937.5, 16937.5, 16937.0, 16937.5, 55.457],\n   [1670100240000, 16937.5, 16937.5, 16937.0, 16937.5, 12.021],\n   [1670100300000, 16937.5, 16937.5, 16937.0, 16937.5, 14.945],\n   [1670100360000, 16937.5, 16937.5, 16937.0, 16937.5, 0.793],\n   [1670100420000, 16937.5, 16937.5, 16937.0, 16937.5, 2.777],\n   [1670100480000, 16937.5, 16937.5, 16934.5, 16935.0, 2.633],\n   [1670100540000, 16935.0, 16935.0, 16931.0, 16931.0, 46.585],\n   [1670100600000, 16931.0, 16931.5, 16931.0, 16931.5, 11.816],\n   [1670100660000, 16931.5, 16931.5, 16930.0, 16930.0, 16.426],\n   [1670100720000, 16930.0, 16930.5, 16929.0, 16929.0, 11.203],\n   [1670100780000, 16929.0, 16929.5, 16929.0, 16929.5, 47.266],\n   [1670100840000, 16929.5, 16929.5, 16927.0, 16927.0, 29.257],\n   [1670100900000, 16927.0, 16927.5, 16927.0, 16927.0, 42.697],\n   [1670100960000, 16927.0, 16927.5, 16927.0, 16927.5, 5.744],\n   [1670101020000, 16927.5, 16927.5, 16902.0, 16916.5, 343.791],\n   [1670101080000, 16916.5, 16927.0, 16916.0, 16927.0, 43.699],\n   [1670101140000, 16927.0, 16927.0, 16926.5, 16927.0, 17.085],\n   [1670101200000, 16927.0, 16927.0, 16926.5, 16927.0, 9.968],\n   [1670101260000, 16927.0, 16927.0, 16926.5, 16927.0, 4.97],\n   [1670101320000, 16927.0, 16928.5, 16926.5, 16928.0, 18.829],\n   [1670101380000, 16928.0, 16928.5, 16924.5, 16924.5, 17.091],\n   [1670101440000, 16924.5, 16925.0, 16923.5, 16923.5, 24.694],\n   [1670101500000, 16923.5, 16923.5, 16860.0, 16900.0, 908.195],\n   [1670101560000, 16900.0, 16904.5, 16891.5, 16902.5, 161.4],\n   [1670101620000, 16902.5, 16907.5, 16891.5, 16892.0, 107.172],\n   [1670101680000, 16892.0, 16897.0, 16890.0, 16897.0, 113.965],\n   [1670101740000, 16897.0, 16906.5, 16896.5, 16906.0, 70.164],\n   [1670101800000, 16906.0, 16909.0, 16902.5, 16903.0, 80.782],\n   [1670101860000, 16903.0, 16903.5, 16902.5, 16903.5, 37.078],\n   [1670101920000, 16903.5, 16903.5, 16903.0, 16903.0, 17.544],\n   [1670101980000, 16903.0, 16903.5, 16903.0, 16903.5, 26.21],\n   [1670102040000, 16903.5, 16903.5, 16903.0, 16903.5, 20.703],\n   [1670102100000, 16903.5, 16908.0, 16903.0, 16908.0, 31.242],\n   [1670102160000, 16908.0, 16913.5, 16907.5, 16913.0, 48.302],\n   [1670102220000, 16913.0, 16920.0, 16913.0, 16919.5, 44.054],\n   [1670102280000, 16919.5, 16924.5, 16919.5, 16924.0, 33.522],\n   [1670102340000, 16924.0, 16924.5, 16924.0, 16924.0, 18.275],\n   [1670102400000, 16924.0, 16924.5, 16922.0, 16922.5, 18.236],\n   [1670102460000, 16922.5, 16922.5, 16918.5, 16919.0, 17.314],\n   [1670102520000, 16919.0, 16919.0, 16917.0, 16917.5, 15.676],\n   [1670102580000, 16917.5, 16917.5, 16914.0, 16914.5, 16.652],\n   [1670102640000, 16914.5, 16917.0, 16914.0, 16916.5, 11.028],\n   [1670102700000, 16916.5, 16917.0, 16916.5, 16917.0, 5.25],\n   [1670102760000, 16917.0, 16917.0, 16916.5, 16916.5, 13.842],\n   [1670102820000, 16916.5, 16919.0, 16916.5, 16919.0, 13.896],\n   [1670102880000, 16919.0, 16919.0, 16918.5, 16918.5, 5.228],\n   [1670102940000, 16918.5, 16919.0, 16918.5, 16919.0, 17.404],\n   [1670103000000, 16919.0, 16919.0, 16916.0, 16916.5, 41.354],\n   [1670103060000, 16916.5, 16916.5, 16916.0, 16916.5, 6.231],\n   [1670103120000, 16916.5, 16916.5, 16911.0, 16911.5, 45.793],\n   [1670103180000, 16911.5, 16911.5, 16908.0, 16908.5, 11.605],\n   [1670103240000, 16908.5, 16908.5, 16906.0, 16906.5, 13.522],\n   [1670103300000, 16906.5, 16906.5, 16900.0, 16900.5, 84.115],\n   [1670103360000, 16900.5, 16902.5, 16900.0, 16902.0, 32.009],\n   [1670103420000, 16902.0, 16907.0, 16902.0, 16906.5, 49.602],\n   [1670103480000, 16906.5, 16917.0, 16906.5, 16917.0, 32.584],\n   [1670103540000, 16917.0, 16917.0, 16916.5, 16917.0, 17.546],\n   [1670103600000, 16917.0, 16917.0, 16916.5, 16917.0, 23.64],\n   [1670103660000, 16917.0, 16917.0, 16916.5, 16917.0, 68.83],\n   [1670103720000, 16917.0, 16917.0, 16916.5, 16917.0, 15.389],\n   [1670103780000, 16917.0, 16917.0, 16916.0, 16916.5, 45.721],\n   [1670103840000, 16916.5, 16916.5, 16916.0, 16916.5, 13.743],\n   [1670103900000, 16916.5, 16916.5, 16916.0, 16916.5, 8.277],\n   [1670103960000, 16916.5, 16916.5, 16916.0, 16916.5, 23.443],\n   [1670104020000, 16916.5, 16916.5, 16916.0, 16916.5, 6.634],\n   [1670104080000, 16916.5, 16917.0, 16916.0, 16917.0, 26.24],\n   [1670104140000, 16917.0, 16918.0, 16916.5, 16917.5, 5.813],\n   [1670104200000, 16917.5, 16918.0, 16917.5, 16918.0, 10.059],\n   [1670104260000, 16918.0, 16919.5, 16917.5, 16919.0, 10.144],\n   [1670104320000, 16919.0, 16929.0, 16919.0, 16929.0, 82.398],\n   [1670104380000, 16929.0, 16931.0, 16928.5, 16931.0, 55.251],\n   [1670104440000, 16931.0, 16935.5, 16930.5, 16935.5, 73.947],\n   [1670104500000, 16935.5, 16941.0, 16935.0, 16941.0, 32.659],\n   [1670104560000, 16941.0, 16945.0, 16940.5, 16945.0, 135.127],\n   [1670104620000, 16945.0, 16945.0, 16940.5, 16941.0, 45.367],\n   [1670104680000, 16941.0, 16945.5, 16940.5, 16945.5, 28.301],\n   [1670104740000, 16945.5, 16945.5, 16945.0, 16945.5, 9.219],\n   [1670104800000, 16945.5, 16945.5, 16945.0, 16945.0, 24.431],\n   [1670104860000, 16945.0, 16950.0, 16945.0, 16949.5, 199.341],\n   [1670104920000, 16949.5, 16949.5, 16947.0, 16947.5, 24.916],\n   [1670104980000, 16947.5, 16947.5, 16942.0, 16942.0, 31.322],\n   [1670105040000, 16942.0, 16942.5, 16938.5, 16939.0, 25.197],\n   [1670105100000, 16939.0, 16939.0, 16938.5, 16938.5, 16.375],\n   [1670105160000, 16938.5, 16939.0, 16938.5, 16938.5, 4.218],\n   [1670105220000, 16938.5, 16939.0, 16938.5, 16939.0, 3.461],\n   [1670105280000, 16939.0, 16939.0, 16937.0, 16937.5, 12.444],\n   [1670105340000, 16937.5, 16937.5, 16937.0, 16937.5, 10.758],\n   [1670105400000, 16937.5, 16937.5, 16936.5, 16936.5, 45.833],\n   [1670105460000, 16936.5, 16936.5, 16931.5, 16931.5, 22.814],\n   [1670105520000, 16931.5, 16932.0, 16931.5, 16932.0, 90.374],\n   [1670105580000, 16932.0, 16932.0, 16931.5, 16931.5, 14.53],\n   [1670105640000, 16931.5, 16931.5, 16921.0, 16929.0, 86.972],\n   [1670105700000, 16929.0, 16931.0, 16928.5, 16930.5, 6.173],\n   [1670105760000, 16930.5, 16932.0, 16929.0, 16929.0, 9.796],\n   [1670105820000, 16929.0, 16929.0, 16922.5, 16923.0, 23.078],\n   [1670105880000, 16923.0, 16923.0, 16922.5, 16923.0, 25.756],\n   [1670105940000, 16923.0, 16923.0, 16922.5, 16923.0, 4.392],\n   [1670106000000, 16923.0, 16923.0, 16922.5, 16922.5, 4.654],\n   [1670106060000, 16922.5, 16923.0, 16922.5, 16923.0, 3.558],\n   [1670106120000, 16923.0, 16923.0, 16922.0, 16922.5, 16.445],\n   [1670106180000, 16922.5, 16922.5, 16887.0, 16905.5, 247.659],\n   [1670106240000, 16905.5, 16906.0, 16905.0, 16906.0, 34.232],\n   [1670106300000, 16906.0, 16907.5, 16905.5, 16907.0, 27.202],\n   [1670106360000, 16907.0, 16910.0, 16907.0, 16909.5, 57.235],\n   [1670106420000, 16909.5, 16910.0, 16909.0, 16909.5, 9.75],\n   [1670106480000, 16909.5, 16912.0, 16909.5, 16911.5, 15.823],\n   [1670106540000, 16911.5, 16923.5, 16911.5, 16923.5, 79.973],\n   [1670106600000, 16923.5, 16923.5, 16922.0, 16922.0, 12.478],\n   [1670106660000, 16922.0, 16922.0, 16857.0, 16891.0, 549.782],\n   [1670106720000, 16891.0, 16892.5, 16869.0, 16892.5, 106.202],\n   [1670106780000, 16892.5, 16902.0, 16892.5, 16900.0, 132.447],\n   [1670106840000, 16900.0, 16900.0, 16880.0, 16886.0, 82.933],\n   [1670106900000, 16886.0, 16898.0, 16885.5, 16895.5, 145.083],\n   [1670106960000, 16895.5, 16895.5, 16861.0, 16873.0, 183.157],\n   [1670107020000, 16873.0, 16883.0, 16855.0, 16876.5, 218.677],\n   [1670107080000, 16876.5, 16891.5, 16876.0, 16885.5, 57.197],\n   [1670107140000, 16885.5, 16885.5, 16875.0, 16885.0, 38.431],\n   [1670107200000, 16885.0, 16886.5, 16874.5, 16875.0, 59.021],\n   [1670107260000, 16875.0, 16879.0, 16868.5, 16879.0, 121.941],\n   [1670107320000, 16879.0, 16882.5, 16875.0, 16880.5, 32.311],\n   [1670107380000, 16880.5, 16880.5, 16865.0, 16865.5, 45.053],\n   [1670107440000, 16865.5, 16879.0, 16865.0, 16879.0, 41.565],\n   [1670107500000, 16879.0, 16879.0, 16857.0, 16870.0, 180.0],\n   [1670107560000, 16870.0, 16879.0, 16870.0, 16879.0, 68.839],\n   [1670107620000, 16879.0, 16884.5, 16878.5, 16884.5, 26.77],\n   [1670107680000, 16884.5, 16884.5, 16884.0, 16884.5, 12.625],\n   [1670107740000, 16884.5, 16884.5, 16871.0, 16871.0, 43.848],\n   [1670107800000, 16871.0, 16886.5, 16871.0, 16886.0, 52.383],\n   [1670107860000, 16886.0, 16895.0, 16886.0, 16895.0, 52.274],\n   [1670107920000, 16895.0, 16895.0, 16889.0, 16889.5, 18.835],\n   [1670107980000, 16889.5, 16896.5, 16889.0, 16896.5, 34.805],\n   [1670108040000, 16896.5, 16904.0, 16896.0, 16901.5, 52.319],\n   [1670108100000, 16901.5, 16902.0, 16895.5, 16896.0, 24.005],\n   [1670108160000, 16896.0, 16896.0, 16895.5, 16896.0, 18.348],\n   [1670108220000, 16896.0, 16896.0, 16895.0, 16895.5, 16.037],\n   [1670108280000, 16895.5, 16895.5, 16895.0, 16895.0, 3.709]])]"
     },
     "execution_count": 10,
     "metadata": {},
     "output_type": "execute_result"
    }
   ],
   "source": [
    "res"
   ],
   "metadata": {
    "collapsed": false,
    "pycharm": {
     "name": "#%%\n"
    }
   }
  },
  {
   "cell_type": "code",
   "execution_count": 4,
   "outputs": [
    {
     "name": "stdout",
     "output_type": "stream",
     "text": [
      "500 500\n",
      "2022-11-18 21:21:00 2022-11-18 21:21:00\n",
      "2022-11-18 13:01:00 2022-11-18 13:02:00\n",
      "500 500\n",
      "2022-11-29 03:19:00 2022-11-29 03:19:00\n",
      "2022-11-28 18:59:00 2022-11-28 19:00:00\n",
      "2000.0 9\n",
      "1000 1000\n",
      "2022-12-04 00:13:00 2022-12-04 00:13:00\n",
      "2022-12-03 07:33:00 2022-12-03 07:34:00\n"
     ]
    }
   ],
   "source": [
    "import pandas as pd\n",
    "\n",
    "for (q, d) in res:\n",
    "    print(q[\"limit\"], len(d))\n",
    "    if isinstance(d, list):\n",
    "        print(pd.to_datetime(q[\"end\"], unit=\"ms\").round(\"min\"), pd.to_datetime(d[-1][0], unit=\"ms\").round(\"min\"))\n",
    "        print(pd.to_datetime(q[\"start\"], unit=\"ms\").round(\"min\"), pd.to_datetime(d[0][0], unit=\"ms\").round(\"min\"))\n"
   ],
   "metadata": {
    "collapsed": false,
    "pycharm": {
     "name": "#%%\n"
    }
   }
  },
  {
   "cell_type": "code",
   "execution_count": 8,
   "outputs": [
    {
     "name": "stdout",
     "output_type": "stream",
     "text": [
      "{'exchange': 'bybit', 'market': 'TRX/USDT:USDT', 'timeframe': '1m', 'limit': 1000, 'end': 1670112555591, 'start': 1670052555591}\n"
     ]
    }
   ],
   "source": [
    "query, data  = res[3]\n",
    "print(query)"
   ],
   "metadata": {
    "collapsed": false,
    "pycharm": {
     "name": "#%%\n"
    }
   }
  },
  {
   "cell_type": "code",
   "execution_count": 7,
   "outputs": [],
   "source": [
    "query, data = res[3]"
   ],
   "metadata": {
    "collapsed": false,
    "pycharm": {
     "name": "#%%\n"
    }
   }
  },
  {
   "cell_type": "code",
   "execution_count": 11,
   "outputs": [
    {
     "data": {
      "text/plain": "array([1.67004948e+12, 1.67004954e+12, 1.67004960e+12, 1.67004966e+12,\n       1.67004972e+12, 1.67004978e+12, 1.67004984e+12, 1.67004990e+12,\n       1.67004996e+12, 1.67005002e+12, 1.67005008e+12, 1.67005014e+12,\n       1.67005020e+12, 1.67005026e+12, 1.67005032e+12, 1.67005038e+12,\n       1.67005044e+12, 1.67005050e+12, 1.67005056e+12, 1.67005062e+12,\n       1.67005068e+12, 1.67005074e+12, 1.67005080e+12, 1.67005086e+12,\n       1.67005092e+12, 1.67005098e+12, 1.67005104e+12, 1.67005110e+12,\n       1.67005116e+12, 1.67005122e+12, 1.67005128e+12, 1.67005134e+12,\n       1.67005140e+12, 1.67005146e+12, 1.67005152e+12, 1.67005158e+12,\n       1.67005164e+12, 1.67005170e+12, 1.67005176e+12, 1.67005182e+12,\n       1.67005188e+12, 1.67005194e+12, 1.67005200e+12, 1.67005206e+12,\n       1.67005212e+12, 1.67005218e+12, 1.67005224e+12, 1.67005230e+12,\n       1.67005236e+12, 1.67005242e+12, 1.67005248e+12, 1.67005254e+12,\n       1.67005260e+12, 1.67005266e+12, 1.67005272e+12, 1.67005278e+12,\n       1.67005284e+12, 1.67005290e+12, 1.67005296e+12, 1.67005302e+12,\n       1.67005308e+12, 1.67005314e+12, 1.67005320e+12, 1.67005326e+12,\n       1.67005332e+12, 1.67005338e+12, 1.67005344e+12, 1.67005350e+12,\n       1.67005356e+12, 1.67005362e+12, 1.67005368e+12, 1.67005374e+12,\n       1.67005380e+12, 1.67005386e+12, 1.67005392e+12, 1.67005398e+12,\n       1.67005404e+12, 1.67005410e+12, 1.67005416e+12, 1.67005422e+12,\n       1.67005428e+12, 1.67005434e+12, 1.67005440e+12, 1.67005446e+12,\n       1.67005452e+12, 1.67005458e+12, 1.67005464e+12, 1.67005470e+12,\n       1.67005476e+12, 1.67005482e+12, 1.67005488e+12, 1.67005494e+12,\n       1.67005500e+12, 1.67005506e+12, 1.67005512e+12, 1.67005518e+12,\n       1.67005524e+12, 1.67005530e+12, 1.67005536e+12, 1.67005542e+12,\n       1.67005548e+12, 1.67005554e+12, 1.67005560e+12, 1.67005566e+12,\n       1.67005572e+12, 1.67005578e+12, 1.67005584e+12, 1.67005590e+12,\n       1.67005596e+12, 1.67005602e+12, 1.67005608e+12, 1.67005614e+12,\n       1.67005620e+12, 1.67005626e+12, 1.67005632e+12, 1.67005638e+12,\n       1.67005644e+12, 1.67005650e+12, 1.67005656e+12, 1.67005662e+12,\n       1.67005668e+12, 1.67005674e+12, 1.67005680e+12, 1.67005686e+12,\n       1.67005692e+12, 1.67005698e+12, 1.67005704e+12, 1.67005710e+12,\n       1.67005716e+12, 1.67005722e+12, 1.67005728e+12, 1.67005734e+12,\n       1.67005740e+12, 1.67005746e+12, 1.67005752e+12, 1.67005758e+12,\n       1.67005764e+12, 1.67005770e+12, 1.67005776e+12, 1.67005782e+12,\n       1.67005788e+12, 1.67005794e+12, 1.67005800e+12, 1.67005806e+12,\n       1.67005812e+12, 1.67005818e+12, 1.67005824e+12, 1.67005830e+12,\n       1.67005836e+12, 1.67005842e+12, 1.67005848e+12, 1.67005854e+12,\n       1.67005860e+12, 1.67005866e+12, 1.67005872e+12, 1.67005878e+12,\n       1.67005884e+12, 1.67005890e+12, 1.67005896e+12, 1.67005902e+12,\n       1.67005908e+12, 1.67005914e+12, 1.67005920e+12, 1.67005926e+12,\n       1.67005932e+12, 1.67005938e+12, 1.67005944e+12, 1.67005950e+12,\n       1.67005956e+12, 1.67005962e+12, 1.67005968e+12, 1.67005974e+12,\n       1.67005980e+12, 1.67005986e+12, 1.67005992e+12, 1.67005998e+12,\n       1.67006004e+12, 1.67006010e+12, 1.67006016e+12, 1.67006022e+12,\n       1.67006028e+12, 1.67006034e+12, 1.67006040e+12, 1.67006046e+12,\n       1.67006052e+12, 1.67006058e+12, 1.67006064e+12, 1.67006070e+12,\n       1.67006076e+12, 1.67006082e+12, 1.67006088e+12, 1.67006094e+12,\n       1.67006100e+12, 1.67006106e+12, 1.67006112e+12, 1.67006118e+12,\n       1.67006124e+12, 1.67006130e+12, 1.67006136e+12, 1.67006142e+12,\n       1.67006148e+12, 1.67006154e+12, 1.67006160e+12, 1.67006166e+12,\n       1.67006172e+12, 1.67006178e+12, 1.67006184e+12, 1.67006190e+12,\n       1.67006196e+12, 1.67006202e+12, 1.67006208e+12, 1.67006214e+12,\n       1.67006220e+12, 1.67006226e+12, 1.67006232e+12, 1.67006238e+12,\n       1.67006244e+12, 1.67006250e+12, 1.67006256e+12, 1.67006262e+12,\n       1.67006268e+12, 1.67006274e+12, 1.67006280e+12, 1.67006286e+12,\n       1.67006292e+12, 1.67006298e+12, 1.67006304e+12, 1.67006310e+12,\n       1.67006316e+12, 1.67006322e+12, 1.67006328e+12, 1.67006334e+12,\n       1.67006340e+12, 1.67006346e+12, 1.67006352e+12, 1.67006358e+12,\n       1.67006364e+12, 1.67006370e+12, 1.67006376e+12, 1.67006382e+12,\n       1.67006388e+12, 1.67006394e+12, 1.67006400e+12, 1.67006406e+12,\n       1.67006412e+12, 1.67006418e+12, 1.67006424e+12, 1.67006430e+12,\n       1.67006436e+12, 1.67006442e+12, 1.67006448e+12, 1.67006454e+12,\n       1.67006460e+12, 1.67006466e+12, 1.67006472e+12, 1.67006478e+12,\n       1.67006484e+12, 1.67006490e+12, 1.67006496e+12, 1.67006502e+12,\n       1.67006508e+12, 1.67006514e+12, 1.67006520e+12, 1.67006526e+12,\n       1.67006532e+12, 1.67006538e+12, 1.67006544e+12, 1.67006550e+12,\n       1.67006556e+12, 1.67006562e+12, 1.67006568e+12, 1.67006574e+12,\n       1.67006580e+12, 1.67006586e+12, 1.67006592e+12, 1.67006598e+12,\n       1.67006604e+12, 1.67006610e+12, 1.67006616e+12, 1.67006622e+12,\n       1.67006628e+12, 1.67006634e+12, 1.67006640e+12, 1.67006646e+12,\n       1.67006652e+12, 1.67006658e+12, 1.67006664e+12, 1.67006670e+12,\n       1.67006676e+12, 1.67006682e+12, 1.67006688e+12, 1.67006694e+12,\n       1.67006700e+12, 1.67006706e+12, 1.67006712e+12, 1.67006718e+12,\n       1.67006724e+12, 1.67006730e+12, 1.67006736e+12, 1.67006742e+12,\n       1.67006748e+12, 1.67006754e+12, 1.67006760e+12, 1.67006766e+12,\n       1.67006772e+12, 1.67006778e+12, 1.67006784e+12, 1.67006790e+12,\n       1.67006796e+12, 1.67006802e+12, 1.67006808e+12, 1.67006814e+12,\n       1.67006820e+12, 1.67006826e+12, 1.67006832e+12, 1.67006838e+12,\n       1.67006844e+12, 1.67006850e+12, 1.67006856e+12, 1.67006862e+12,\n       1.67006868e+12, 1.67006874e+12, 1.67006880e+12, 1.67006886e+12,\n       1.67006892e+12, 1.67006898e+12, 1.67006904e+12, 1.67006910e+12,\n       1.67006916e+12, 1.67006922e+12, 1.67006928e+12, 1.67006934e+12,\n       1.67006940e+12, 1.67006946e+12, 1.67006952e+12, 1.67006958e+12,\n       1.67006964e+12, 1.67006970e+12, 1.67006976e+12, 1.67006982e+12,\n       1.67006988e+12, 1.67006994e+12, 1.67007000e+12, 1.67007006e+12,\n       1.67007012e+12, 1.67007018e+12, 1.67007024e+12, 1.67007030e+12,\n       1.67007036e+12, 1.67007042e+12, 1.67007048e+12, 1.67007054e+12,\n       1.67007060e+12, 1.67007066e+12, 1.67007072e+12, 1.67007078e+12,\n       1.67007084e+12, 1.67007090e+12, 1.67007096e+12, 1.67007102e+12,\n       1.67007108e+12, 1.67007114e+12, 1.67007120e+12, 1.67007126e+12,\n       1.67007132e+12, 1.67007138e+12, 1.67007144e+12, 1.67007150e+12,\n       1.67007156e+12, 1.67007162e+12, 1.67007168e+12, 1.67007174e+12,\n       1.67007180e+12, 1.67007186e+12, 1.67007192e+12, 1.67007198e+12,\n       1.67007204e+12, 1.67007210e+12, 1.67007216e+12, 1.67007222e+12,\n       1.67007228e+12, 1.67007234e+12, 1.67007240e+12, 1.67007246e+12,\n       1.67007252e+12, 1.67007258e+12, 1.67007264e+12, 1.67007270e+12,\n       1.67007276e+12, 1.67007282e+12, 1.67007288e+12, 1.67007294e+12,\n       1.67007300e+12, 1.67007306e+12, 1.67007312e+12, 1.67007318e+12,\n       1.67007324e+12, 1.67007330e+12, 1.67007336e+12, 1.67007342e+12,\n       1.67007348e+12, 1.67007354e+12, 1.67007360e+12, 1.67007366e+12,\n       1.67007372e+12, 1.67007378e+12, 1.67007384e+12, 1.67007390e+12,\n       1.67007396e+12, 1.67007402e+12, 1.67007408e+12, 1.67007414e+12,\n       1.67007420e+12, 1.67007426e+12, 1.67007432e+12, 1.67007438e+12,\n       1.67007444e+12, 1.67007450e+12, 1.67007456e+12, 1.67007462e+12,\n       1.67007468e+12, 1.67007474e+12, 1.67007480e+12, 1.67007486e+12,\n       1.67007492e+12, 1.67007498e+12, 1.67007504e+12, 1.67007510e+12,\n       1.67007516e+12, 1.67007522e+12, 1.67007528e+12, 1.67007534e+12,\n       1.67007540e+12, 1.67007546e+12, 1.67007552e+12, 1.67007558e+12,\n       1.67007564e+12, 1.67007570e+12, 1.67007576e+12, 1.67007582e+12,\n       1.67007588e+12, 1.67007594e+12, 1.67007600e+12, 1.67007606e+12,\n       1.67007612e+12, 1.67007618e+12, 1.67007624e+12, 1.67007630e+12,\n       1.67007636e+12, 1.67007642e+12, 1.67007648e+12, 1.67007654e+12,\n       1.67007660e+12, 1.67007666e+12, 1.67007672e+12, 1.67007678e+12,\n       1.67007684e+12, 1.67007690e+12, 1.67007696e+12, 1.67007702e+12,\n       1.67007708e+12, 1.67007714e+12, 1.67007720e+12, 1.67007726e+12,\n       1.67007732e+12, 1.67007738e+12, 1.67007744e+12, 1.67007750e+12,\n       1.67007756e+12, 1.67007762e+12, 1.67007768e+12, 1.67007774e+12,\n       1.67007780e+12, 1.67007786e+12, 1.67007792e+12, 1.67007798e+12,\n       1.67007804e+12, 1.67007810e+12, 1.67007816e+12, 1.67007822e+12,\n       1.67007828e+12, 1.67007834e+12, 1.67007840e+12, 1.67007846e+12,\n       1.67007852e+12, 1.67007858e+12, 1.67007864e+12, 1.67007870e+12,\n       1.67007876e+12, 1.67007882e+12, 1.67007888e+12, 1.67007894e+12,\n       1.67007900e+12, 1.67007906e+12, 1.67007912e+12, 1.67007918e+12,\n       1.67007924e+12, 1.67007930e+12, 1.67007936e+12, 1.67007942e+12,\n       1.67007948e+12, 1.67007954e+12, 1.67007960e+12, 1.67007966e+12,\n       1.67007972e+12, 1.67007978e+12, 1.67007984e+12, 1.67007990e+12,\n       1.67007996e+12, 1.67008002e+12, 1.67008008e+12, 1.67008014e+12,\n       1.67008020e+12, 1.67008026e+12, 1.67008032e+12, 1.67008038e+12,\n       1.67008044e+12, 1.67008050e+12, 1.67008056e+12, 1.67008062e+12,\n       1.67008068e+12, 1.67008074e+12, 1.67008080e+12, 1.67008086e+12,\n       1.67008092e+12, 1.67008098e+12, 1.67008104e+12, 1.67008110e+12,\n       1.67008116e+12, 1.67008122e+12, 1.67008128e+12, 1.67008134e+12,\n       1.67008140e+12, 1.67008146e+12, 1.67008152e+12, 1.67008158e+12,\n       1.67008164e+12, 1.67008170e+12, 1.67008176e+12, 1.67008182e+12,\n       1.67008188e+12, 1.67008194e+12, 1.67008200e+12, 1.67008206e+12,\n       1.67008212e+12, 1.67008218e+12, 1.67008224e+12, 1.67008230e+12,\n       1.67008236e+12, 1.67008242e+12, 1.67008248e+12, 1.67008254e+12,\n       1.67008260e+12, 1.67008266e+12, 1.67008272e+12, 1.67008278e+12,\n       1.67008284e+12, 1.67008290e+12, 1.67008296e+12, 1.67008302e+12,\n       1.67008308e+12, 1.67008314e+12, 1.67008320e+12, 1.67008326e+12,\n       1.67008332e+12, 1.67008338e+12, 1.67008344e+12, 1.67008350e+12,\n       1.67008356e+12, 1.67008362e+12, 1.67008368e+12, 1.67008374e+12,\n       1.67008380e+12, 1.67008386e+12, 1.67008392e+12, 1.67008398e+12,\n       1.67008404e+12, 1.67008410e+12, 1.67008416e+12, 1.67008422e+12,\n       1.67008428e+12, 1.67008434e+12, 1.67008440e+12, 1.67008446e+12,\n       1.67008452e+12, 1.67008458e+12, 1.67008464e+12, 1.67008470e+12,\n       1.67008476e+12, 1.67008482e+12, 1.67008488e+12, 1.67008494e+12,\n       1.67008500e+12, 1.67008506e+12, 1.67008512e+12, 1.67008518e+12,\n       1.67008524e+12, 1.67008530e+12, 1.67008536e+12, 1.67008542e+12,\n       1.67008548e+12, 1.67008554e+12, 1.67008560e+12, 1.67008566e+12,\n       1.67008572e+12, 1.67008578e+12, 1.67008584e+12, 1.67008590e+12,\n       1.67008596e+12, 1.67008602e+12, 1.67008608e+12, 1.67008614e+12,\n       1.67008620e+12, 1.67008626e+12, 1.67008632e+12, 1.67008638e+12,\n       1.67008644e+12, 1.67008650e+12, 1.67008656e+12, 1.67008662e+12,\n       1.67008668e+12, 1.67008674e+12, 1.67008680e+12, 1.67008686e+12,\n       1.67008692e+12, 1.67008698e+12, 1.67008704e+12, 1.67008710e+12,\n       1.67008716e+12, 1.67008722e+12, 1.67008728e+12, 1.67008734e+12,\n       1.67008740e+12, 1.67008746e+12, 1.67008752e+12, 1.67008758e+12,\n       1.67008764e+12, 1.67008770e+12, 1.67008776e+12, 1.67008782e+12,\n       1.67008788e+12, 1.67008794e+12, 1.67008800e+12, 1.67008806e+12,\n       1.67008812e+12, 1.67008818e+12, 1.67008824e+12, 1.67008830e+12,\n       1.67008836e+12, 1.67008842e+12, 1.67008848e+12, 1.67008854e+12,\n       1.67008860e+12, 1.67008866e+12, 1.67008872e+12, 1.67008878e+12,\n       1.67008884e+12, 1.67008890e+12, 1.67008896e+12, 1.67008902e+12,\n       1.67008908e+12, 1.67008914e+12, 1.67008920e+12, 1.67008926e+12,\n       1.67008932e+12, 1.67008938e+12, 1.67008944e+12, 1.67008950e+12,\n       1.67008956e+12, 1.67008962e+12, 1.67008968e+12, 1.67008974e+12,\n       1.67008980e+12, 1.67008986e+12, 1.67008992e+12, 1.67008998e+12,\n       1.67009004e+12, 1.67009010e+12, 1.67009016e+12, 1.67009022e+12,\n       1.67009028e+12, 1.67009034e+12, 1.67009040e+12, 1.67009046e+12,\n       1.67009052e+12, 1.67009058e+12, 1.67009064e+12, 1.67009070e+12,\n       1.67009076e+12, 1.67009082e+12, 1.67009088e+12, 1.67009094e+12,\n       1.67009100e+12, 1.67009106e+12, 1.67009112e+12, 1.67009118e+12,\n       1.67009124e+12, 1.67009130e+12, 1.67009136e+12, 1.67009142e+12,\n       1.67009148e+12, 1.67009154e+12, 1.67009160e+12, 1.67009166e+12,\n       1.67009172e+12, 1.67009178e+12, 1.67009184e+12, 1.67009190e+12,\n       1.67009196e+12, 1.67009202e+12, 1.67009208e+12, 1.67009214e+12,\n       1.67009220e+12, 1.67009226e+12, 1.67009232e+12, 1.67009238e+12,\n       1.67009244e+12, 1.67009250e+12, 1.67009256e+12, 1.67009262e+12,\n       1.67009268e+12, 1.67009274e+12, 1.67009280e+12, 1.67009286e+12,\n       1.67009292e+12, 1.67009298e+12, 1.67009304e+12, 1.67009310e+12,\n       1.67009316e+12, 1.67009322e+12, 1.67009328e+12, 1.67009334e+12,\n       1.67009340e+12, 1.67009346e+12, 1.67009352e+12, 1.67009358e+12,\n       1.67009364e+12, 1.67009370e+12, 1.67009376e+12, 1.67009382e+12,\n       1.67009388e+12, 1.67009394e+12, 1.67009400e+12, 1.67009406e+12,\n       1.67009412e+12, 1.67009418e+12, 1.67009424e+12, 1.67009430e+12,\n       1.67009436e+12, 1.67009442e+12, 1.67009448e+12, 1.67009454e+12,\n       1.67009460e+12, 1.67009466e+12, 1.67009472e+12, 1.67009478e+12,\n       1.67009484e+12, 1.67009490e+12, 1.67009496e+12, 1.67009502e+12,\n       1.67009508e+12, 1.67009514e+12, 1.67009520e+12, 1.67009526e+12,\n       1.67009532e+12, 1.67009538e+12, 1.67009544e+12, 1.67009550e+12,\n       1.67009556e+12, 1.67009562e+12, 1.67009568e+12, 1.67009574e+12,\n       1.67009580e+12, 1.67009586e+12, 1.67009592e+12, 1.67009598e+12,\n       1.67009604e+12, 1.67009610e+12, 1.67009616e+12, 1.67009622e+12,\n       1.67009628e+12, 1.67009634e+12, 1.67009640e+12, 1.67009646e+12,\n       1.67009652e+12, 1.67009658e+12, 1.67009664e+12, 1.67009670e+12,\n       1.67009676e+12, 1.67009682e+12, 1.67009688e+12, 1.67009694e+12,\n       1.67009700e+12, 1.67009706e+12, 1.67009712e+12, 1.67009718e+12,\n       1.67009724e+12, 1.67009730e+12, 1.67009736e+12, 1.67009742e+12,\n       1.67009748e+12, 1.67009754e+12, 1.67009760e+12, 1.67009766e+12,\n       1.67009772e+12, 1.67009778e+12, 1.67009784e+12, 1.67009790e+12,\n       1.67009796e+12, 1.67009802e+12, 1.67009808e+12, 1.67009814e+12,\n       1.67009820e+12, 1.67009826e+12, 1.67009832e+12, 1.67009838e+12,\n       1.67009844e+12, 1.67009850e+12, 1.67009856e+12, 1.67009862e+12,\n       1.67009868e+12, 1.67009874e+12, 1.67009880e+12, 1.67009886e+12,\n       1.67009892e+12, 1.67009898e+12, 1.67009904e+12, 1.67009910e+12,\n       1.67009916e+12, 1.67009922e+12, 1.67009928e+12, 1.67009934e+12,\n       1.67009940e+12, 1.67009946e+12, 1.67009952e+12, 1.67009958e+12,\n       1.67009964e+12, 1.67009970e+12, 1.67009976e+12, 1.67009982e+12,\n       1.67009988e+12, 1.67009994e+12, 1.67010000e+12, 1.67010006e+12,\n       1.67010012e+12, 1.67010018e+12, 1.67010024e+12, 1.67010030e+12,\n       1.67010036e+12, 1.67010042e+12, 1.67010048e+12, 1.67010054e+12,\n       1.67010060e+12, 1.67010066e+12, 1.67010072e+12, 1.67010078e+12,\n       1.67010084e+12, 1.67010090e+12, 1.67010096e+12, 1.67010102e+12,\n       1.67010108e+12, 1.67010114e+12, 1.67010120e+12, 1.67010126e+12,\n       1.67010132e+12, 1.67010138e+12, 1.67010144e+12, 1.67010150e+12,\n       1.67010156e+12, 1.67010162e+12, 1.67010168e+12, 1.67010174e+12,\n       1.67010180e+12, 1.67010186e+12, 1.67010192e+12, 1.67010198e+12,\n       1.67010204e+12, 1.67010210e+12, 1.67010216e+12, 1.67010222e+12,\n       1.67010228e+12, 1.67010234e+12, 1.67010240e+12, 1.67010246e+12,\n       1.67010252e+12, 1.67010258e+12, 1.67010264e+12, 1.67010270e+12,\n       1.67010276e+12, 1.67010282e+12, 1.67010288e+12, 1.67010294e+12,\n       1.67010300e+12, 1.67010306e+12, 1.67010312e+12, 1.67010318e+12,\n       1.67010324e+12, 1.67010330e+12, 1.67010336e+12, 1.67010342e+12,\n       1.67010348e+12, 1.67010354e+12, 1.67010360e+12, 1.67010366e+12,\n       1.67010372e+12, 1.67010378e+12, 1.67010384e+12, 1.67010390e+12,\n       1.67010396e+12, 1.67010402e+12, 1.67010408e+12, 1.67010414e+12,\n       1.67010420e+12, 1.67010426e+12, 1.67010432e+12, 1.67010438e+12,\n       1.67010444e+12, 1.67010450e+12, 1.67010456e+12, 1.67010462e+12,\n       1.67010468e+12, 1.67010474e+12, 1.67010480e+12, 1.67010486e+12,\n       1.67010492e+12, 1.67010498e+12, 1.67010504e+12, 1.67010510e+12,\n       1.67010516e+12, 1.67010522e+12, 1.67010528e+12, 1.67010534e+12,\n       1.67010540e+12, 1.67010546e+12, 1.67010552e+12, 1.67010558e+12,\n       1.67010564e+12, 1.67010570e+12, 1.67010576e+12, 1.67010582e+12,\n       1.67010588e+12, 1.67010594e+12, 1.67010600e+12, 1.67010606e+12,\n       1.67010612e+12, 1.67010618e+12, 1.67010624e+12, 1.67010630e+12,\n       1.67010636e+12, 1.67010642e+12, 1.67010648e+12, 1.67010654e+12,\n       1.67010660e+12, 1.67010666e+12, 1.67010672e+12, 1.67010678e+12,\n       1.67010684e+12, 1.67010690e+12, 1.67010696e+12, 1.67010702e+12,\n       1.67010708e+12, 1.67010714e+12, 1.67010720e+12, 1.67010726e+12,\n       1.67010732e+12, 1.67010738e+12, 1.67010744e+12, 1.67010750e+12,\n       1.67010756e+12, 1.67010762e+12, 1.67010768e+12, 1.67010774e+12,\n       1.67010780e+12, 1.67010786e+12, 1.67010792e+12, 1.67010798e+12,\n       1.67010804e+12, 1.67010810e+12, 1.67010816e+12, 1.67010822e+12,\n       1.67010828e+12, 1.67010834e+12, 1.67010840e+12, 1.67010846e+12,\n       1.67010852e+12, 1.67010858e+12, 1.67010864e+12, 1.67010870e+12,\n       1.67010876e+12, 1.67010882e+12, 1.67010888e+12, 1.67010894e+12,\n       1.67010900e+12, 1.67010906e+12, 1.67010912e+12, 1.67010918e+12,\n       1.67010924e+12, 1.67010930e+12, 1.67010936e+12, 1.67010942e+12])"
     },
     "execution_count": 11,
     "metadata": {},
     "output_type": "execute_result"
    }
   ],
   "source": [
    "import numpy as np\n",
    "\n",
    "txs = np.array(data)[:,0]\n",
    "np.unique(txs)"
   ],
   "metadata": {
    "collapsed": false,
    "pycharm": {
     "name": "#%%\n"
    }
   }
  },
  {
   "cell_type": "markdown",
   "source": [],
   "metadata": {
    "collapsed": false,
    "pycharm": {
     "name": "#%% md\n"
    }
   }
  },
  {
   "cell_type": "code",
   "execution_count": null,
   "outputs": [],
   "source": [],
   "metadata": {
    "collapsed": false,
    "pycharm": {
     "name": "#%%\n"
    }
   }
  }
 ],
 "metadata": {
  "kernelspec": {
   "display_name": "Python 3",
   "language": "python",
   "name": "python3"
  },
  "language_info": {
   "codemirror_mode": {
    "name": "ipython",
    "version": 2
   },
   "file_extension": ".py",
   "mimetype": "text/x-python",
   "name": "python",
   "nbconvert_exporter": "python",
   "pygments_lexer": "ipython2",
   "version": "2.7.6"
  }
 },
 "nbformat": 4,
 "nbformat_minor": 0
}
