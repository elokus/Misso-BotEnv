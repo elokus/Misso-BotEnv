{
 "cells": [
  {
   "cell_type": "markdown",
   "source": [
    "# I Test and store async updater tasks"
   ],
   "metadata": {
    "collapsed": false,
    "pycharm": {
     "name": "#%% md\n"
    }
   }
  },
  {
   "cell_type": "markdown",
   "source": [
    "### 1.1 Testing single methods:"
   ],
   "metadata": {
    "collapsed": false,
    "pycharm": {
     "name": "#%% md\n"
    }
   }
  },
  {
   "cell_type": "code",
   "execution_count": 1,
   "outputs": [],
   "source": [
    "import Misso.services.helper as ph\n",
    "import Misso.services.async_helper as ah\n",
    "\n",
    "config = ph.parse_config_yaml(\"Misso/updater_config.yaml\")\n",
    "filter_config = config[\"class_attributes\"][\"watch_list_filter\"]\n",
    "aftx = ph.initialize_exchange_driver(\"HFT\", init_async=True)\n",
    "wl = await ah.get_filtered_watch_list(aftx, filter_config)\n",
    "pos = await ah.get_open_positions(aftx)"
   ],
   "metadata": {
    "collapsed": false,
    "pycharm": {
     "name": "#%%\n"
    }
   }
  },
  {
   "cell_type": "markdown",
   "source": [],
   "metadata": {
    "collapsed": false,
    "pycharm": {
     "name": "#%% md\n"
    }
   }
  },
  {
   "cell_type": "markdown",
   "source": [
    "### 1.2 Testing BaseUpdater Class with config.yaml"
   ],
   "metadata": {
    "collapsed": false,
    "pycharm": {
     "name": "#%% md\n"
    }
   }
  },
  {
   "cell_type": "code",
   "execution_count": null,
   "outputs": [],
   "source": [
    "from Misso.updater.base_updater import BaseUpdater\n",
    "\n",
    "base = BaseUpdater(\"Misso/updater_config.yaml\")\n",
    "base.run_in_thread()"
   ],
   "metadata": {
    "collapsed": false,
    "pycharm": {
     "name": "#%%\n"
    }
   }
  },
  {
   "cell_type": "markdown",
   "source": [
    "# II ASYNC UPDATER TASKS\n",
    "\n",
    "all t_xxxx_xxxx(self, task_config) methods should be add to class BaseMethods in base_methods.py,\n",
    "All used methods are defined in updater_config.yaml. They will be executed via Threading in background.\n",
    "\n",
    "#### 2.1 ASYNC FUNCTION: Task_initial_update\n",
    "\n",
    "Task_initial_update should contain every api call (defined as subtask in updater_config) for initialization.\n",
    "This async function is only called once before strategy initialization.\n",
    "After fetching data and setting system relevant attributes variable 'self.first_update'\n",
    "will be marked as True (used for blocking all other methods.\n",
    "It is recommanded to define here a \"watch_list\", fetch price ticker, ohlc, etc. for every market in watch_list."
   ],
   "metadata": {
    "collapsed": false,
    "pycharm": {
     "name": "#%% md\n"
    }
   }
  },
  {
   "cell_type": "code",
   "execution_count": 1,
   "outputs": [],
   "source": [
    "async def t_init_update(self, task_config):\n",
    "    name = task_config[\"name\"]\n",
    "    for subtask, config in task_config[\"subtasks\"].items():\n",
    "        if config[\"type\"] == \"async\":\n",
    "            resp = await self.async_get_set(config)\n",
    "        else:\n",
    "            resp = self.get_set(config)\n",
    "    self.first_update = True"
   ],
   "metadata": {
    "collapsed": false,
    "pycharm": {
     "name": "#%%\n"
    }
   }
  },
  {
   "cell_type": "markdown",
   "source": [
    "example configuration for t_init_update with one subtask\n",
    "\n",
    "        t_init_update:\n",
    "            input_args: None\n",
    "            name: init_update\n",
    "            freq: None\n",
    "            subtasks:\n",
    "              subtask_1:\n",
    "                type: async\n",
    "                modul: Misso.services.async_helper\n",
    "                method: get_filtered_watch_list\n",
    "                input_args:\n",
    "                  - self.aftx\n",
    "                  - self.watch_list_filter\n",
    "                  - self.wl_restricted\n",
    "                target_attr: watch_list\n",
    "                target_save_update: False\n",
    "                return_value: True\n",
    "              subtask_2:.......\n"
   ],
   "metadata": {
    "collapsed": false,
    "pycharm": {
     "name": "#%% md\n"
    }
   }
  },
  {
   "cell_type": "markdown",
   "source": [
    "example watch list configuration:\n",
    "\n",
    "          watch_list_filter: {info.volumeUsd24h: {value: 2000000, type: greater_or_equal, value_type: float}}\n"
   ],
   "metadata": {
    "collapsed": false,
    "pycharm": {
     "name": "#%% md\n"
    }
   }
  },
  {
   "cell_type": "markdown",
   "source": [
    "#### 2.2 ASYNC FUNCTION: Task_update_template\n",
    "Below you can see a template updater task. Task_update_template can be entirely defined via config.\n",
    "For example:\n",
    "    With following configuration we will get an update_task which fetches 1 minute OHLCV data (method: get_ohlcv_data()) for every market in watch_list every 60 seconds.\n",
    "    The resulting data will be stored in variable 'self.ohlcs' as type dict self.ohlcs = {'XXX/USD':ohlcv_data, 'YYY/USD':ohlcv_data, ....}\n",
    "\n",
    "          t_update_template:\n",
    "            name: update_ohlcv\n",
    "            freq: 60\n",
    "            subtasks:\n",
    "              subtask_0:\n",
    "                type: async\n",
    "                modul: Misso.services.async_helper\n",
    "                method: get_ohlcv_data\n",
    "                input_args:\n",
    "                  - self.aftx\n",
    "                  - self.watch_list\n",
    "                  - 1m\n",
    "                  - 1000\n",
    "                target_attr: ohlcs\n",
    "                target_save_update: False\n",
    "                return_value: True"
   ],
   "metadata": {
    "collapsed": false,
    "pycharm": {
     "name": "#%% md\n"
    }
   }
  },
  {
   "cell_type": "code",
   "execution_count": null,
   "outputs": [],
   "source": [
    "async def t_update_template(self, task_config):\n",
    "    name = task_config[\"name\"]\n",
    "    print(f\"starting update template {name}\")\n",
    "    while not self.first_update:\n",
    "        await asyncio.sleep(5)\n",
    "    while not self.stop_updates:\n",
    "        try:\n",
    "            for subtask, config in task_config[\"subtasks\"].items():\n",
    "                while self.restart_exchange:\n",
    "                    await asyncio.sleep(2)\n",
    "                if config[\"type\"] == \"async\":\n",
    "                    resp = await self.async_get_set(config)\n",
    "                else:\n",
    "                    resp = self.get_set(config)\n",
    "        except Exception as e:\n",
    "            print(f\"ERROR restarting [{name}]\", e)\n",
    "            self.error_logger.error(e, exc_info=True)\n",
    "            self.system_status[name] = False\n",
    "        if self.stop_updates:\n",
    "            break\n",
    "        await asyncio.sleep[task_config[\"freq\"]]\n",
    "    await asyncio.sleep(0.1)"
   ],
   "metadata": {
    "collapsed": false,
    "pycharm": {
     "name": "#%%\n"
    }
   }
  },
  {
   "cell_type": "markdown",
   "source": [
    "#### 2.3 ASYNC FUNCTION: t_update_tickers"
   ],
   "metadata": {
    "collapsed": false,
    "pycharm": {
     "name": "#%% md\n"
    }
   }
  },
  {
   "cell_type": "code",
   "execution_count": 16,
   "outputs": [
    {
     "data": {
      "text/plain": "{'t_init_attributes': {'async_helper_get_set': {'subtask_1': {'method': 'gather_current_ranges_exchange',\n    'input_attr': 'self.aftx',\n    'target_attr': 'wl_ranges',\n    'return_value': True}}}}"
     },
     "execution_count": 16,
     "metadata": {},
     "output_type": "execute_result"
    }
   ],
   "source": [
    "async def t_update_tickers(self, freq, name=\"tickers\"):\n",
    "    while not self.stop_updates:\n",
    "        try:\n",
    "            while self.restart_exchange:\n",
    "                await asyncio.sleep(5)\n",
    "            tickers = await self.aftx.fetch_tickers(self.watch_list)\n",
    "            for symbol, ticker in tickers.items():\n",
    "                self.last_price[symbol] = ticker[\"last\"]\n",
    "            self.thread_logger.info(f\"t_Modul {name} finished\")\n",
    "            self.first_update[name] = True\n",
    "            self.system_status[name] = True\n",
    "            await asyncio.sleep(freq)\n",
    "        except Exception as e:\n",
    "            print(f\"ERROR restarting [{name}]\", e)\n",
    "            self.error_logger.error(e, exc_info=True)\n",
    "            self.system_status[name] = False\n",
    "            continue\n",
    "        if self.stop_updates:\n",
    "            break\n",
    "    self.stop_updates = True\n",
    "    await asyncio.sleep(1)\n",
    "    return"
   ],
   "metadata": {
    "collapsed": false,
    "pycharm": {
     "name": "#%%\n"
    }
   }
  },
  {
   "cell_type": "markdown",
   "source": [
    "#### 2.4 ASYNC FUNCTION: t_update_balance"
   ],
   "metadata": {
    "collapsed": false,
    "pycharm": {
     "name": "#%% md\n"
    }
   }
  },
  {
   "cell_type": "code",
   "execution_count": null,
   "outputs": [],
   "source": [
    "async def t_update_balance(self, task_config):\n",
    "    freq = task_config[\"freq\"]\n",
    "    name = task_config[\"name\"]\n",
    "    while not self.stop_updates:\n",
    "        try:\n",
    "            while self.restart_exchange:\n",
    "                await asyncio.sleep(5)\n",
    "            try:\n",
    "                balance = await self.aftx.fetch_balance()\n",
    "            except:\n",
    "                try:\n",
    "                    await asyncio.sleep(10)\n",
    "                    while self.restart_exchange:\n",
    "                        await asyncio.sleep(5)\n",
    "                    balance = await self.aftx.fetch_balance()\n",
    "                except:\n",
    "                    self.error_logger.error(\"ERROR update_balance failed restarting thread\")\n",
    "                    self.thread_logger.info(\"ERROR update_balance failed restarting thread\")\n",
    "                    self.system_status[name] = True\n",
    "                    continue\n",
    "            self.total_capital = balance[\"total\"][\"USD\"]\n",
    "            self.free_capital = balance[\"free\"][\"USD\"]\n",
    "            if self.initial_capital == 0:\n",
    "                self.initial_capital = self.total_capital\n",
    "            self.system_status[name] = True\n",
    "            await asyncio.sleep(freq)\n",
    "        except Exception as e:\n",
    "            print(f\"ERROR restarting [{name}]\", e)\n",
    "            self.error_logger.error(e, exc_info=True)\n",
    "            self.system_status[name] = False\n",
    "            if self.stop_updates:\n",
    "                break\n",
    "            await asyncio.sleep(freq)\n",
    "    self.stop_updates = True\n",
    "    await asyncio.sleep(1)"
   ],
   "metadata": {
    "collapsed": false,
    "pycharm": {
     "name": "#%%\n"
    }
   }
  },
  {
   "cell_type": "markdown",
   "source": [
    "#### 2.5 ASYNC FUNCTION: t_update_balance"
   ],
   "metadata": {
    "collapsed": false,
    "pycharm": {
     "name": "#%% md\n"
    }
   }
  },
  {
   "cell_type": "code",
   "execution_count": null,
   "outputs": [],
   "source": [
    "    async def t_update_balance(self, task_config):\n",
    "    freq = task_config[\"freq\"]\n",
    "    name = task_config[\"name\"]\n",
    "    while not self.stop_updates:\n",
    "        try:\n",
    "            while self.restart_exchange:\n",
    "                await asyncio.sleep(5)\n",
    "            try:\n",
    "                balance = await self.aftx.fetch_balance()\n",
    "            except:\n",
    "                try:\n",
    "                    await asyncio.sleep(10)\n",
    "                    while self.restart_exchange:\n",
    "                        await asyncio.sleep(5)\n",
    "                    balance = await self.aftx.fetch_balance()\n",
    "                except:\n",
    "                    self.error_logger.error(\"ERROR update_balance failed restarting thread\")\n",
    "                    self.thread_logger.info(\"ERROR update_balance failed restarting thread\")\n",
    "                    self.system_status[name] = True\n",
    "                    continue\n",
    "            self.total_capital = balance[\"total\"][\"USD\"]\n",
    "            self.free_capital = balance[\"free\"][\"USD\"]\n",
    "            if self.initial_capital == 0:\n",
    "                self.initial_capital = self.total_capital\n",
    "            self.system_status[name] = True\n",
    "            await asyncio.sleep(freq)\n",
    "        except Exception as e:\n",
    "            print(f\"ERROR restarting [{name}]\", e)\n",
    "            self.error_logger.error(e, exc_info=True)\n",
    "            self.system_status[name] = False\n",
    "            if self.stop_updates:\n",
    "                break\n",
    "            await asyncio.sleep(freq)\n",
    "    self.stop_updates = True\n",
    "    await asyncio.sleep(1)"
   ],
   "metadata": {
    "collapsed": false,
    "pycharm": {
     "name": "#%%\n"
    }
   }
  },
  {
   "cell_type": "markdown",
   "source": [
    "#### 2.6 ASYNC FUNCTION: t_execute_orders\n",
    "This functions executes orders which are queued to 'self.pending_orders' by the main strategy and stores/appends order information as dict to 'self.open_orders':['XXX/USD':{id:...., 'size':....,'price':...,'side':....}]"
   ],
   "metadata": {
    "collapsed": false,
    "pycharm": {
     "name": "#%% md\n"
    }
   }
  },
  {
   "cell_type": "code",
   "execution_count": null,
   "outputs": [],
   "source": [
    "#v0 (old)\n",
    "async def t_execute_orders(self, task_config):\n",
    "    freq = task_config[\"freq\"]\n",
    "    name = task_config[\"name\"]\n",
    "    while not self.stop_updates:\n",
    "        try:\n",
    "            while not self.pending_orders.empty():\n",
    "                order = self.pending_orders.get()\n",
    "                symbol = order[4]\n",
    "                while self.restart_exchange:\n",
    "                    await asyncio.sleep(1)\n",
    "                order = await ah.create_limit_order_from_list(self.aftx, symbol, order)\n",
    "                if order[0] != \"failed\":\n",
    "                    self.open_orders[symbol].append(order)\n",
    "                else:\n",
    "                    self.thread_logger.info(f\"[t_execute_orders] failed with order {order}\")\n",
    "                await asyncio.sleep(1)\n",
    "                self.thread_logger.info(f\"t_Modul {name} executed order {order}\")\n",
    "            self.thread_logger.info(f\"t_Modul {name} finished\")\n",
    "            self.system_status[name] = True\n",
    "            await asyncio.sleep(freq)\n",
    "        except Exception as e:\n",
    "            print(f\"ERROR restarting [{name}]\", e)\n",
    "            self.error_logger.error(e, exc_info=True)\n",
    "            self.system_status[name] = False\n",
    "    self.stop_updates = True\n",
    "    await asyncio.sleep(1)"
   ],
   "metadata": {
    "collapsed": false,
    "pycharm": {
     "name": "#%%\n"
    }
   }
  },
  {
   "cell_type": "markdown",
   "source": [
    "##### 2.6.1 (new version) t_execute_orders:\n",
    "new: after submitting order to exchange, Order dataclass is created and stored in self.open_orders[market]"
   ],
   "metadata": {
    "collapsed": false,
    "pycharm": {
     "name": "#%% md\n"
    }
   }
  },
  {
   "cell_type": "code",
   "execution_count": null,
   "outputs": [],
   "source": [
    "#v1 new\n",
    "from Misso.services.orders import Order\n",
    "\n",
    "async def t_execute_orders(self, task_config):\n",
    "    freq = task_config[\"freq\"]\n",
    "    name = task_config[\"name\"]\n",
    "    while not self.stop_updates:\n",
    "        try:\n",
    "            while not self.pending_orders.empty():\n",
    "                order = self.pending_orders.get()\n",
    "                symbol = order[4]\n",
    "                while self.restart_exchange:\n",
    "                    await asyncio.sleep(1)\n",
    "                order = await ah.create_limit_order_from_list(self.aftx, symbol, order)\n",
    "                if order[0] != \"failed\":\n",
    "                    self.open_orders[symbol].append(Order(order))\n",
    "                else:\n",
    "                    self.thread_logger.info(f\"[t_execute_orders] failed with order {order}\")\n",
    "                await asyncio.sleep(1)\n",
    "                self.thread_logger.info(f\"t_Modul {name} executed order {order}\")\n",
    "            self.thread_logger.info(f\"t_Modul {name} finished\")\n",
    "            self.system_status[name] = True\n",
    "            await asyncio.sleep(freq)\n",
    "        except Exception as e:\n",
    "            print(f\"ERROR restarting [{name}]\", e)\n",
    "            self.error_logger.error(e, exc_info=True)\n",
    "            self.system_status[name] = False\n",
    "    self.stop_updates = True\n",
    "    await asyncio.sleep(0.1)"
   ],
   "metadata": {
    "collapsed": false,
    "pycharm": {
     "name": "#%%\n"
    }
   }
  },
  {
   "cell_type": "markdown",
   "source": [
    "#### 2.7 ASYNC FUNCTION: t_update_open_orders\n",
    "Note: here order status updates are ONLY fetched for orders which were append to self.open_orders.\n",
    "It would be also possible to fetch all currently open orders with another update_task"
   ],
   "metadata": {
    "collapsed": false,
    "pycharm": {
     "name": "#%% md\n"
    }
   }
  },
  {
   "cell_type": "code",
   "execution_count": null,
   "outputs": [],
   "source": [
    "async def t_update_open_orders_dict(self, task_config):\n",
    "    freq = task_config[\"freq\"]\n",
    "    name = task_config[\"name\"]\n",
    "    while not self.stop_updates:\n",
    "        try:\n",
    "            while self.restart_exchange:\n",
    "                await asyncio.sleep(1)\n",
    "            open_orders = self.open_orders.copy()\n",
    "            if len(open_orders) > 0:\n",
    "                for market, orders in open_orders.items():\n",
    "                    if len(orders) > 0:\n",
    "                        for order in orders:\n",
    "                            if isinstance(order, list) or order[\"status\"] == \"open\":\n",
    "                                self.open_orders[market].remove(order)\n",
    "                                id = order[0] if isinstance(order, list) else order[\"id\"]\n",
    "                                while self.restart_exchange:\n",
    "                                    await asyncio.sleep(5)\n",
    "                                order = await ah.get_order_by_id(self.aftx, id)\n",
    "                                self.open_orders[market].append(order)\n",
    "            self.thread_logger.info(f\"t_Modul {name} finished\")\n",
    "            self.system_status[name] = True\n",
    "            await asyncio.sleep(freq)\n",
    "        except Exception as e:\n",
    "            self.error_logger.info(f\"ERROR {name} wit Error: {e}\", exc_info=True)\n",
    "            self.system_status[name] = False\n",
    "    self.stop_updates = True\n",
    "    await asyncio.sleep(1)"
   ],
   "metadata": {
    "collapsed": false,
    "pycharm": {
     "name": "#%%\n"
    }
   }
  },
  {
   "cell_type": "markdown",
   "source": [
    "##### 2.7.1 (New Version) t_update_open_orders:\n",
    "updates theoretical open_orders: list"
   ],
   "metadata": {
    "collapsed": false,
    "pycharm": {
     "name": "#%% md\n"
    }
   }
  },
  {
   "cell_type": "code",
   "execution_count": null,
   "outputs": [],
   "source": [
    "async def t_update_open_orders(self, task_config):\n",
    "    \"\"\"update status and remove orders in self.open_orders\"\"\"\n",
    "    name = task_config[\"name\"]\n",
    "    freq = task_config[\"freq\"]\n",
    "    print(f\"starting {name}\")\n",
    "    while not self.stop_updates:\n",
    "        open_orders = ph.find_orders_by_status(self.open_orders, \"open\")\n",
    "        for order in open_orders:\n",
    "            if not ph.order_in_is_open_orders(order, self.is_open_orders):\n",
    "                while self.restart_exchange:\n",
    "                    await asyncio.sleep(2)\n",
    "                response = await ah.get_order_by_id(self.aftx, order.id)\n",
    "                order.parse_update(response)\n",
    "        #remove finished orders (closed/canceled/failed and processed)\n",
    "        for order in ph.find_processed_orders(self.open_orders):\n",
    "            self.open_orders[order.symbol].remove(order)\n",
    "        self.system_status[name] = True\n",
    "        if self.stop_updates:\n",
    "            break\n",
    "        await asyncio.sleep(freq)\n",
    "    await asyncio.sleep(0.1)"
   ],
   "metadata": {
    "collapsed": false,
    "pycharm": {
     "name": "#%%\n"
    }
   }
  },
  {
   "cell_type": "markdown",
   "source": [
    "#### 2.8 ASYNC FUNCTION: t_get_open_orders\n",
    "fetch all currently open orders for a subaccount. Parse Open Orders list to dict is_open_orders={market_1:{buys:[], sells:[]}, market_2:{buys:[], sells:[]}}"
   ],
   "metadata": {
    "collapsed": false,
    "pycharm": {
     "name": "#%% md\n"
    }
   }
  },
  {
   "cell_type": "code",
   "execution_count": null,
   "outputs": [],
   "source": [
    "async def t_get_open_orders(self, task_config):\n",
    "    name = task_config[\"name\"]\n",
    "    freq = task_config[\"freq\"]\n",
    "    print(f\"starting {name}\")\n",
    "    while not self.stop_updates:\n",
    "        try:\n",
    "            while self.restart_exchange:\n",
    "                await asyncio.sleep(2)\n",
    "            response = await self.aftx.fetch_open_orders\n",
    "            is_open_orders = ph.parse_is_open_orders(response)\n",
    "            with self.thread_lock:\n",
    "                self.is_open_orders = is_open_orders\n",
    "        except Exception as e:\n",
    "            print(f\"ERROR restarting [{name}]\", e)\n",
    "            self.error_logger.error(e, exc_info=True)\n",
    "            self.system_status[name] = False\n",
    "        if self.stop_updates:\n",
    "            break\n",
    "        await asyncio.sleep(freq)\n",
    "    await asyncio.sleep(0.1)"
   ],
   "metadata": {
    "collapsed": false,
    "pycharm": {
     "name": "#%%\n"
    }
   }
  },
  {
   "cell_type": "markdown",
   "source": [
    "##### 2.9 ASYNC FUNCTION: t_get_open_positions"
   ],
   "metadata": {
    "collapsed": false,
    "pycharm": {
     "name": "#%% md\n"
    }
   }
  },
  {
   "cell_type": "code",
   "execution_count": null,
   "outputs": [],
   "source": [
    "async def t_get_open_positions(self, task_config):\n",
    "    name = task_config[\"name\"]\n",
    "    freq = task_config[\"freq\"]\n",
    "    print(f\"starting {name}\")\n",
    "    while not self.stop_updates:\n",
    "        try:\n",
    "            while self.restart_exchange:\n",
    "                await asyncio.sleep(2)\n",
    "            response = await ah.get_open_positions(self.aftx)\n",
    "            with self.thread_lock:\n",
    "                self.is_open_positions = response\n",
    "        except Exception as e:\n",
    "            print(f\"ERROR restarting [{name}]\", e)\n",
    "            self.error_logger.error(e, exc_info=True)\n",
    "            self.system_status[name] = False\n",
    "        if self.stop_updates:\n",
    "            break\n",
    "        await asyncio.sleep(freq)\n",
    "    await asyncio.sleep(0.1)"
   ],
   "metadata": {
    "collapsed": false,
    "pycharm": {
     "name": "#%%\n"
    }
   }
  },
  {
   "cell_type": "markdown",
   "source": [
    "# 3 System relevant Tasks:\n",
    "\n",
    "For mantaining a constant loop. There are several system relevant tasks needed:\n",
    "- t_shutdown\n",
    "- t_restart_exchange\n",
    "\n",
    "This Tasks are used to shutdown all tasks and restart asyncio event loop or to restart ccxt exchange session in case of failure.\n",
    "\n",
    "Moreover it is recommanded to use this tasks for checking system status per task every X seconds:\n",
    "- t_system_status"
   ],
   "metadata": {
    "collapsed": false,
    "pycharm": {
     "name": "#%% md\n"
    }
   }
  },
  {
   "cell_type": "code",
   "execution_count": null,
   "outputs": [],
   "source": [
    "async def t_shutdown(self, task_config):\n",
    "    while True:\n",
    "        if self.stop_updates:\n",
    "            break\n",
    "        await asyncio.sleep(5)\n",
    "    asyncio.set_event_loop(self.loop)\n",
    "    self.thread_logger.info(f\"Restarting update tasks ... Canceling tasks\")\n",
    "    self.error_logger.error(\"shutting down update tasks\")\n",
    "    tasks = [t for t in asyncio.all_tasks(self.loop) if t is not asyncio.current_task()]\n",
    "    [task.cancel() for task in tasks]\n",
    "\n",
    "    self.thread_logger.info(f\"Canceling {len(tasks)} tasks\")\n",
    "    await asyncio.gather(*tasks, return_exceptions=True)\n",
    "    self.loop.stop()\n",
    "\n",
    "async def t_restart_exchange(self, task_config):\n",
    "    name = task_config[\"name\"]\n",
    "    freq = task_config[\"freq\"]\n",
    "    await asyncio.sleep(freq)\n",
    "    while not self.stop_updates:\n",
    "        try:\n",
    "            self.restart_exchange = True\n",
    "            await asyncio.sleep(10)\n",
    "            await self.aftx.close()\n",
    "            self.aftx = ph.initialize_exchange_driver(self.subaccount, init_async=True)\n",
    "            self.restart_exchange = False\n",
    "            self.thread_logger.info(f\"t_Modul restart exchange finished\")\n",
    "            await asyncio.sleep(freq)\n",
    "            self.system_status[name] = True\n",
    "        except Exception as e:\n",
    "            print(f\"ERROR restarting [{name}]\", e)\n",
    "            self.error_logger.error(e, exc_info=True)\n",
    "            self.system_status[name] = False\n",
    "        i = 0\n",
    "        while i < freq:\n",
    "            await asyncio.sleep(5)\n",
    "            i += 5\n",
    "            if self.stop_updates:\n",
    "                break\n",
    "    return\n",
    "\n",
    "\n",
    "\n",
    "async def t_system_status(self, task_config):\n",
    "    freq = task_config[\"freq\"]\n",
    "    await asyncio.sleep(100)\n",
    "    while not self.stop_updates:\n",
    "        msg = f\" Free Risk Capital {self.free_risk_margin} | Free Priority Capital {self.free_risk_margin_priority} | Total Capital: {self.total_capital}, #Open Units {self.open_units_counter}, total unit risk {self.total_unit_risk}, next_unit_value {self.next_unit_value}/max.:{self.unit_value_factors[0]*self.total_capital}\"\n",
    "        ph.telegram_notify_msg(msg, self.error_logger)\n",
    "        if len(self.system_status) > 0:\n",
    "            for key in self.system_status.keys():\n",
    "                self.system_status[key] = None\n",
    "            await asyncio.sleep(task_config[\"freq\"])\n",
    "            ph.evaluate_system_status(self.system_status.copy(), self.error_logger)\n",
    "        if self.stop_updates:\n",
    "            break\n",
    "        await asyncio.sleep(freq)"
   ],
   "metadata": {
    "collapsed": false,
    "pycharm": {
     "name": "#%%\n"
    }
   }
  },
  {
   "cell_type": "markdown",
   "source": [
    "# 4. Config"
   ],
   "metadata": {
    "collapsed": false,
    "pycharm": {
     "name": "#%% md\n"
    }
   }
  },
  {
   "cell_type": "markdown",
   "source": [
    "        class_attributes:\n",
    "          subaccount: test_strategy\n",
    "          interactor: None\n",
    "          proc_name: None\n",
    "          open_orders: {}\n",
    "          system_status: {}\n",
    "          interactions: []\n",
    "          activate_interactor: True\n",
    "          stop_updates: False\n",
    "          restart_exchange: False\n",
    "          positions: {}\n",
    "          current_ranges: {}\n",
    "          ohlcs: {}\n",
    "          last_price: {}\n",
    "          wl_ranges: None\n",
    "          wl_restricted: [\"BNB/USD:USD\", \"USDT/USD:USD\"]\n",
    "          watch_list_filter: {info.volumeUsd24h: {value: 2000000, type: greater_or_equal, value_type: float}}\n",
    "          watch_list: None\n",
    "          closed_trades: []\n",
    "          total_capital: 0\n",
    "          free_capital: 0\n",
    "          leverage: 20\n",
    "          initial_capital: 0\n",
    "        shared_attributes:\n",
    "          pending_orders:\n",
    "            modul: queue\n",
    "            function: Queue\n",
    "        tasks:\n",
    "          t_init_update:\n",
    "            input_args: None\n",
    "            name: init_update\n",
    "            freq: None\n",
    "            subtasks:\n",
    "              subtask_0:\n",
    "                type: async\n",
    "                modul: Misso.services.async_helper\n",
    "                method: get_filtered_watch_list\n",
    "                input_args:\n",
    "                  - self.aftx\n",
    "                  - self.watch_list_filter\n",
    "                  - self.wl_restricted\n",
    "                target_attr: watch_list\n",
    "                target_save_update: False\n",
    "                return_value: True\n",
    "              subtask_1:\n",
    "                type: async\n",
    "                modul: Misso.services.async_helper\n",
    "                method: get_current_ranges\n",
    "                input_args:\n",
    "                  - self.aftx\n",
    "                  - self.watch_list\n",
    "                target_attr: wl_ranges\n",
    "                target_save_update: False\n",
    "                return_value: True\n",
    "              subtask_2:\n",
    "                type: standard\n",
    "                modul: Misso.services.helper\n",
    "                method: get_watch_list_from_wl_ranges\n",
    "                input_args:\n",
    "                  - self.wl_ranges\n",
    "                  - self.wl_restricted\n",
    "                target_attr: watch_list\n",
    "                target_save_update: False\n",
    "                return_value: True\n",
    "              subtask_3:\n",
    "                type: async\n",
    "                modul: Misso.services.async_helper\n",
    "                method: get_last_prices_from_watch_list\n",
    "                input_args:\n",
    "                  - self.aftx\n",
    "                  - self.watch_list\n",
    "                target_attr: last_price\n",
    "                target_save_update: False\n",
    "                return_value: True\n",
    "              subtask_4:\n",
    "                type: async\n",
    "                modul: Misso.services.async_helper\n",
    "                method: get_total_balance\n",
    "                input_args:\n",
    "                  - self.aftx\n",
    "                target_attr: total_capital\n",
    "                target_save_update: False\n",
    "                return_value: True\n",
    "              subtask_5:\n",
    "                type: async\n",
    "                modul: Misso.services.async_helper\n",
    "                method: get_total_balance\n",
    "                input_args:\n",
    "                  - self.aftx\n",
    "                target_attr: free_capital\n",
    "                target_save_update: False\n",
    "                return_value: True\n",
    "          t_update_tickers:\n",
    "            name: update_tickers\n",
    "            freq: 10\n",
    "            out: self.last_price\n",
    "          t_update_open_orders_dict:\n",
    "            name: update_open_orders\n",
    "            freq: 30\n",
    "          t_update_balance:\n",
    "            name: update_balance\n",
    "            freq: 30\n",
    "          t_execute_orders:\n",
    "            name: execute_orders\n",
    "            freq: 5\n",
    "          t_shutdown:\n",
    "            name: shutdown_tasks\n",
    "          t_system_status:\n",
    "            name: check_update_task_status\n",
    "            freq: 300\n",
    "          t_restart_exchange:\n",
    "            name: restart_exchange\n",
    "            freq: 300\n",
    "          t_update_template:\n",
    "            name: update_ohlcv\n",
    "            freq: 60\n",
    "            subtasks:\n",
    "              subtask_0:\n",
    "                type: async\n",
    "                modul: Misso.services.async_helper\n",
    "                method: get_ohlcv_data\n",
    "                input_args:\n",
    "                  - self.aftx\n",
    "                  - self.watch_list\n",
    "                  - 1m\n",
    "                  - 1000\n",
    "                target_attr: ohlcs\n",
    "                target_save_update: False\n",
    "                return_value: True"
   ],
   "metadata": {
    "collapsed": false,
    "pycharm": {
     "name": "#%% md\n"
    }
   }
  },
  {
   "cell_type": "code",
   "execution_count": 17,
   "outputs": [
    {
     "name": "stdout",
     "output_type": "stream",
     "text": [
      "Order(id='1001', value=23, status=False, size=46)\n"
     ]
    }
   ],
   "source": [
    "from dataclasses import dataclass, field\n",
    "\n",
    "@dataclass\n",
    "class Order:\n",
    "    id: str\n",
    "    value: int\n",
    "    status: bool = False\n",
    "    size: float = field(init=False)\n",
    "\n",
    "    def __post_init__(self):\n",
    "        self.size = self.value*2\n",
    "\n",
    "a = Order(\"1001\", 23)\n",
    "print(a)"
   ],
   "metadata": {
    "collapsed": false,
    "pycharm": {
     "name": "#%%\n"
    }
   }
  },
  {
   "cell_type": "code",
   "execution_count": 9,
   "outputs": [
    {
     "name": "stdout",
     "output_type": "stream",
     "text": [
      "[Order(id='1001', value=23, status=False), Order(id='1002', value=26, status=False), Order(id='1003', value=49, status=False)]\n",
      "[Order(id='1002', value=26, status=True)]\n",
      "[Order(id='1001', value=23, status=False), Order(id='1002', value=26, status=True), Order(id='1003', value=49, status=False)]\n"
     ]
    }
   ],
   "source": [
    "from dataclasses import dataclass\n",
    "\n",
    "@dataclass\n",
    "class Order:\n",
    "    id: str\n",
    "    value: int\n",
    "    status: bool = False\n",
    "\n",
    "a = Order(\"1001\", 23)\n",
    "b = Order(\"1002\", 26)\n",
    "c = Order(\"1003\", 49)\n",
    "\n",
    "orders = [a, b, c]\n",
    "print(orders)\n",
    "chg = []\n",
    "for o in orders:\n",
    "    if o.id == \"1002\":\n",
    "        chg.append(o)\n",
    "\n",
    "for o in chg:\n",
    "    o.status = True\n",
    "print(chg)\n",
    "print(orders)"
   ],
   "metadata": {
    "collapsed": false,
    "pycharm": {
     "name": "#%%\n"
    }
   }
  }
 ],
 "metadata": {
  "kernelspec": {
   "display_name": "Python 3",
   "language": "python",
   "name": "python3"
  },
  "language_info": {
   "codemirror_mode": {
    "name": "ipython",
    "version": 2
   },
   "file_extension": ".py",
   "mimetype": "text/x-python",
   "name": "python",
   "nbconvert_exporter": "python",
   "pygments_lexer": "ipython2",
   "version": "2.7.6"
  }
 },
 "nbformat": 4,
 "nbformat_minor": 0
}
