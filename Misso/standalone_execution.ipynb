{
 "cells": [
  {
   "cell_type": "markdown",
   "source": [
    "# Execute standalone scripts on subaccounts"
   ],
   "metadata": {
    "collapsed": false,
    "pycharm": {
     "name": "#%% md\n"
    }
   }
  },
  {
   "cell_type": "code",
   "execution_count": 2,
   "outputs": [],
   "source": [
    "import Misso.services.async_helper as ah\n",
    "import Misso.services.helper as mh"
   ],
   "metadata": {
    "collapsed": false,
    "pycharm": {
     "name": "#%%\n"
    }
   }
  },
  {
   "cell_type": "markdown",
   "source": [
    "Set closing order on all open Positions"
   ],
   "metadata": {
    "collapsed": false,
    "pycharm": {
     "name": "#%% md\n"
    }
   }
  },
  {
   "cell_type": "code",
   "execution_count": 8,
   "outputs": [],
   "source": [
    "def set_closing_orders(subaccount: str, profit_target: float=0.005, cancel_all: bool=False):\n",
    "    import time\n",
    "    ftx = mh.initialize_exchange_driver(subaccount)\n",
    "    if cancel_all:\n",
    "        ftx.cancel_all_orders()\n",
    "    pos = ftx.fetch_positions()\n",
    "    orders = []\n",
    "    for p in pos:\n",
    "        if p[\"contracts\"] > 0:\n",
    "            orders.append(mh.get_exit_order_in_profit(p, profit_target, ftx))\n",
    "    for o in orders:\n",
    "        try:\n",
    "            mh.create_limit_order(ftx, o)\n",
    "            time.sleep(0.2)\n",
    "        except Exception as err:\n",
    "            print(f\"ERROR occured with {o[4]}:\")\n",
    "            print(err)\n",
    "\n",
    "def dca_all_positions(subaccount: str, min_range: float=0.005, cancel_all=True):\n",
    "    import time\n",
    "    ftx = mh.initialize_exchange_driver(subaccount)\n",
    "    if cancel_all:\n",
    "        ftx.cancel_all_orders()\n",
    "    pos = ftx.fetch_positions()\n",
    "    for p in pos:\n",
    "        if p[\"contracts\"] > 0:\n",
    "            order = mh.get_dca_order(ftx, p, min_range)\n",
    "            try:\n",
    "                mh.create_limit_order(ftx, order)\n",
    "            except Exception as err:\n",
    "                print(f\"ERROR occured with {order[4]}:\")\n",
    "            print(err)"
   ],
   "metadata": {
    "collapsed": false,
    "pycharm": {
     "name": "#%%\n"
    }
   }
  },
  {
   "cell_type": "markdown",
   "source": [],
   "metadata": {
    "collapsed": false,
    "pycharm": {
     "name": "#%% md\n"
    }
   }
  },
  {
   "cell_type": "code",
   "execution_count": 6,
   "outputs": [],
   "source": [
    "def dca_all_positions(subaccount: str, min_range: float=0.005, cancel_all=True):\n",
    "    import time\n",
    "    ftx = mh.initialize_exchange_driver(subaccount)\n",
    "    if cancel_all:\n",
    "        ftx.cancel_all_orders()\n",
    "    pos = ftx.fetch_positions()\n",
    "    for p in pos:\n",
    "        if p[\"contracts\"] > 0:\n",
    "            order = mh.get_dca_order(ftx, p, min_range)\n",
    "            try:\n",
    "                mh.create_limit_order(ftx, order)\n",
    "            except Exception as err:\n",
    "            print(f\"ERROR occured with {order[4]}:\")\n",
    "            print(err)\n"
   ],
   "metadata": {
    "collapsed": false,
    "pycharm": {
     "name": "#%%\n"
    }
   }
  },
  {
   "cell_type": "code",
   "execution_count": 7,
   "outputs": [],
   "source": [
    "dca_all_positions(\"SwingBot\", cancel_all=True)"
   ],
   "metadata": {
    "collapsed": false,
    "pycharm": {
     "name": "#%%\n"
    }
   }
  },
  {
   "cell_type": "code",
   "execution_count": 9,
   "outputs": [],
   "source": [
    "set_closing_orders(\"SwingBot\", cancel_all=False)"
   ],
   "metadata": {
    "collapsed": false,
    "pycharm": {
     "name": "#%%\n"
    }
   }
  },
  {
   "cell_type": "code",
   "execution_count": 10,
   "outputs": [],
   "source": [
    "import Misso.services.async_helper as ah\n",
    "import Misso.services.helper as mh\n",
    "\n",
    "aftx = mh.initialize_exchange_driver(\"testing_2\", init_async=True)\n",
    "a = await ah.get_markets_by_min_spread(aftx, 0.002, return_spread=True)\n",
    "b = [market for market, spread in a]\n",
    "await aftx.close()"
   ],
   "metadata": {
    "collapsed": false,
    "pycharm": {
     "name": "#%%\n"
    }
   }
  },
  {
   "cell_type": "code",
   "execution_count": 11,
   "outputs": [
    {
     "name": "stdout",
     "output_type": "stream",
     "text": [
      "found new markets: ['AXS/USD:USD', 'BAL/USD:USD', 'ENS/USD:USD', 'FIL/USD:USD', 'GRT/USD:USD', 'HNT/USD:USD', 'LTC/USD:USD', 'RNDR/USD:USD', 'ROSE/USD:USD', 'STG/USD:USD', 'THETA/USD:USD', 'XMR/USD:USD', 'ZIL/USD:USD']\n",
      "waiting for initial ticker update for AXS/USD:USD\n",
      "OPEN [POSITION - BOBA/USD:USD] side: buy, size: 7.1 BreakEven: 0.452, Exit%: 0, Dca%: 0, Dca no. 1\n",
      "[POSITION - BOBA/USD:USD] exit: not_set, dca: not_set, is_open: True, is_pending: False, current_range: [0.4005, 0.4225]\n",
      "OPEN [POSITION - CEL/USD:USD] side: buy, size: 2.8 BreakEven: 1.1105, Exit%: 0, Dca%: 0, Dca no. 1\n",
      "[POSITION - CEL/USD:USD] exit: not_set, dca: not_set, is_open: True, is_pending: False, current_range: [1.03, 1.054]\n",
      "OPEN [POSITION - FLOW/USD:USD] side: sell, size: 1.68 BreakEven: 1.93, Exit%: 0, Dca%: 0, Dca no. 1\n",
      "[POSITION - FLOW/USD:USD] exit: not_set, dca: not_set, is_open: True, is_pending: False, current_range: [1.96, 2.005]\n",
      "OPEN [POSITION - HT/USD:USD] side: buy, size: 1.26 BreakEven: 5.07925, Exit%: 0, Dca%: 0, Dca no. 1\n",
      "[POSITION - HT/USD:USD] exit: not_set, dca: not_set, is_open: True, is_pending: False, current_range: [4.765, 4.8255]\n",
      "OPEN [POSITION - LOOKS/USD:USD] side: sell, size: 13.0 BreakEven: 0.25125, Exit%: 0, Dca%: 0, Dca no. 1\n",
      "[POSITION - LOOKS/USD:USD] exit: not_set, dca: not_set, is_open: True, is_pending: False, current_range: [0.26025, 0.263]\n",
      "OPEN [POSITION - OKB/USD:USD] side: sell, size: 0.19 BreakEven: 16.331, Exit%: 0, Dca%: 0, Dca no. 1\n",
      "[POSITION - OKB/USD:USD] exit: not_set, dca: not_set, is_open: True, is_pending: False, current_range: [16.789, 17.0605]\n",
      "OPEN [POSITION - OMG/USD:USD] side: buy, size: 1.7 BreakEven: 1.86, Exit%: 0, Dca%: 0, Dca no. 1\n",
      "[POSITION - OMG/USD:USD] exit: not_set, dca: not_set, is_open: True, is_pending: False, current_range: [1.8135, 1.832]\n",
      "OPEN [POSITION - ONE/USD:USD] side: buy, size: 150.0 BreakEven: 0.0205, Exit%: 0, Dca%: 0, Dca no. 1\n",
      "[POSITION - ONE/USD:USD] exit: not_set, dca: not_set, is_open: True, is_pending: False, current_range: [0.020425, 0.020625]\n",
      "OPEN [POSITION - RSR/USD:USD] side: sell, size: 550.0 BreakEven: 0.00585, Exit%: 0, Dca%: 0, Dca no. 1\n",
      "[POSITION - RSR/USD:USD] exit: not_set, dca: not_set, is_open: True, is_pending: False, current_range: [0.00603, 0.006125]\n",
      "OPEN [POSITION - SHIB/USD:USD] side: sell, size: 200000.0 BreakEven: 1.304e-05, Exit%: 0, Dca%: 0, Dca no. 1\n",
      "[POSITION - SHIB/USD:USD] exit: not_set, dca: not_set, is_open: True, is_pending: False, current_range: [1.32e-05, 1.335e-05]\n",
      "OPEN [POSITION - SRM/USD:USD] side: buy, size: 4.0 BreakEven: 0.797, Exit%: 0, Dca%: 0, Dca no. 1\n",
      "[POSITION - SRM/USD:USD] exit: not_set, dca: not_set, is_open: True, is_pending: False, current_range: [0.793, 0.801]\n",
      "OPEN [POSITION - LDO/USD:USD] side: sell, size: 1.0 BreakEven: 1.8684, Exit%: 0, Dca%: 0, Dca no. 1\n",
      "[POSITION - LDO/USD:USD] exit: not_set, dca: not_set, is_open: True, is_pending: False, current_range: [1.8977, 1.9299]\n",
      "OPEN [POSITION - ETC/USD:USD] side: sell, size: 0.2 BreakEven: 33.34925, Exit%: 0, Dca%: 0, Dca no. 1\n",
      "[POSITION - ETC/USD:USD] exit: not_set, dca: not_set, is_open: True, is_pending: False, current_range: [35.577, 36.0025]\n",
      "OPEN [POSITION - VET/USD:USD] side: buy, size: 30.0 BreakEven: 0.025805, Exit%: 0, Dca%: 0, Dca no. 1\n",
      "[POSITION - VET/USD:USD] exit: not_set, dca: not_set, is_open: True, is_pending: False, current_range: [0.02301, 0.02479]\n",
      "OPEN [POSITION - ZEC/USD:USD] side: sell, size: 0.05 BreakEven: 63.62, Exit%: 0, Dca%: 0, Dca no. 1\n",
      "[POSITION - ZEC/USD:USD] exit: not_set, dca: not_set, is_open: True, is_pending: False, current_range: [64.45, 65.56]\n",
      "OPEN [POSITION - UNI/USD:USD] side: buy, size: 0.2 BreakEven: 6.631, Exit%: 0, Dca%: 0, Dca no. 1\n",
      "[POSITION - UNI/USD:USD] exit: not_set, dca: not_set, is_open: True, is_pending: False, current_range: [6.217, 6.31]\n",
      "OPEN [POSITION - YFI/USD:USD] side: sell, size: 0.001 BreakEven: 9245.0, Exit%: 0, Dca%: 0, Dca no. 1\n",
      "[POSITION - YFI/USD:USD] exit: not_set, dca: not_set, is_open: True, is_pending: False, current_range: [9390.0, 9525.0]\n",
      "OPEN [POSITION - AVAX/USD:USD] side: buy, size: 0.2 BreakEven: 22.5, Exit%: 0, Dca%: 0, Dca no. 1\n",
      "[POSITION - AVAX/USD:USD] exit: not_set, dca: not_set, is_open: True, is_pending: False, current_range: [19.545, 21.313]\n",
      "OPEN [POSITION - NEO/USD:USD] side: buy, size: 0.3 BreakEven: 9.3175, Exit%: 0, Dca%: 0, Dca no. 1\n",
      "[POSITION - NEO/USD:USD] exit: not_set, dca: not_set, is_open: True, is_pending: False, current_range: [9.285, 9.38]\n",
      "OPEN [POSITION - YFII/USD:USD] side: buy, size: 0.001 BreakEven: 991.75, Exit%: 0, Dca%: 0, Dca no. 1\n",
      "[POSITION - YFII/USD:USD] exit: not_set, dca: not_set, is_open: True, is_pending: False, current_range: [650.0, 852.0]\n",
      "OPEN [POSITION - RAY/USD:USD] side: buy, size: 5.0 BreakEven: 0.67718, Exit%: 0, Dca%: 0, Dca no. 1\n",
      "[POSITION - RAY/USD:USD] exit: not_set, dca: not_set, is_open: True, is_pending: False, current_range: [0.6557, 0.6623]\n",
      "OPEN [POSITION - AR/USD:USD] side: sell, size: 0.2 BreakEven: 11.492, Exit%: 0, Dca%: 0, Dca no. 1\n",
      "[POSITION - AR/USD:USD] exit: not_set, dca: not_set, is_open: True, is_pending: False, current_range: [11.681, 11.893]\n",
      "OPEN [POSITION - FTM/USD:USD] side: sell, size: 11.0 BreakEven: 0.2862, Exit%: 0, Dca%: 0, Dca no. 1\n",
      "[POSITION - FTM/USD:USD] exit: not_set, dca: not_set, is_open: True, is_pending: False, current_range: [0.2908, 0.295]\n",
      "OPEN [POSITION - LRC/USD:USD] side: buy, size: 10.0 BreakEven: 0.36914, Exit%: 0, Dca%: 0, Dca no. 1\n",
      "[POSITION - LRC/USD:USD] exit: not_set, dca: not_set, is_open: True, is_pending: False, current_range: [0.36295, 0.3666]\n",
      "OPEN [POSITION - CRO/USD:USD] side: buy, size: 20.0 BreakEven: 0.123925, Exit%: 0, Dca%: 0, Dca no. 1\n",
      "[POSITION - CRO/USD:USD] exit: not_set, dca: not_set, is_open: True, is_pending: False, current_range: [0.123525, 0.124775]\n",
      "OPEN [POSITION - EOS/USD:USD] side: sell, size: 1.9 BreakEven: 1.63925, Exit%: 0, Dca%: 0, Dca no. 1\n",
      "[POSITION - EOS/USD:USD] exit: not_set, dca: not_set, is_open: True, is_pending: False, current_range: [1.66525, 1.683]\n",
      "OPEN [POSITION - BCH/USD:USD] side: sell, size: 0.026 BreakEven: 120.3, Exit%: 0, Dca%: 0, Dca no. 1\n",
      "[POSITION - BCH/USD:USD] exit: not_set, dca: not_set, is_open: True, is_pending: False, current_range: [124.55, 126.25]\n",
      "OPEN [POSITION - SHIT/USD:USD] side: buy, size: 0.001 BreakEven: 2587.7, Exit%: 0, Dca%: 0, Dca no. 1\n",
      "[POSITION - SHIT/USD:USD] exit: not_set, dca: not_set, is_open: True, is_pending: False, current_range: [2464.3, 2489.8]\n",
      "OPEN [POSITION - LINK/USD:USD] side: buy, size: 0.2 BreakEven: 6.936, Exit%: 0, Dca%: 0, Dca no. 1\n",
      "[POSITION - LINK/USD:USD] exit: not_set, dca: not_set, is_open: True, is_pending: False, current_range: [4.958, 5.2815]\n",
      "OPEN [POSITION - DOGE/USD:USD] side: buy, size: 11.0 BreakEven: 0.066932, Exit%: 0, Dca%: 0, Dca no. 1\n",
      "[POSITION - DOGE/USD:USD] exit: not_set, dca: not_set, is_open: True, is_pending: False, current_range: [0.0639705, 0.065072]\n",
      "OPEN [POSITION - ADA/USD:USD] side: sell, size: 7.0 BreakEven: 0.445215, Exit%: 0, Dca%: 0, Dca no. 1\n",
      "[POSITION - ADA/USD:USD] exit: not_set, dca: not_set, is_open: True, is_pending: False, current_range: [0.452795, 0.46228]\n",
      "OPEN [POSITION - ATOM/USD:USD] side: sell, size: 0.24 BreakEven: 11.883875, Exit%: 0, Dca%: 0, Dca no. 1\n",
      "[POSITION - ATOM/USD:USD] exit: not_set, dca: not_set, is_open: True, is_pending: False, current_range: [12.3925, 12.543]\n",
      "OPEN [POSITION - XTZ/USD:USD] side: buy, size: 2.089 BreakEven: 1.5459, Exit%: 0, Dca%: 0, Dca no. 1\n",
      "[POSITION - XTZ/USD:USD] exit: not_set, dca: not_set, is_open: True, is_pending: False, current_range: [1.516, 1.5313]\n",
      "OPEN [POSITION - CHR/USD:USD] side: sell, size: 18.0 BreakEven: 0.1713, Exit%: 0, Dca%: 0, Dca no. 1\n",
      "[POSITION - CHR/USD:USD] exit: not_set, dca: not_set, is_open: True, is_pending: False, current_range: [0.1744, 0.17825]\n",
      "OPEN [POSITION - KNC/USD:USD] side: sell, size: 1.8 BreakEven: 1.7193, Exit%: 0, Dca%: 0, Dca no. 1\n",
      "[POSITION - KNC/USD:USD] exit: not_set, dca: not_set, is_open: True, is_pending: False, current_range: [1.7396, 1.7596]\n",
      "OPEN [POSITION - COMP/USD:USD] side: buy, size: 0.0674 BreakEven: 48.1, Exit%: 0, Dca%: 0, Dca no. 1\n",
      "[POSITION - COMP/USD:USD] exit: not_set, dca: not_set, is_open: True, is_pending: False, current_range: [47.95, 48.43]\n",
      "OPEN [POSITION - MKR/USD:USD] side: sell, size: 0.004 BreakEven: 793.0, Exit%: 0, Dca%: 0, Dca no. 1\n",
      "[POSITION - MKR/USD:USD] exit: not_set, dca: not_set, is_open: True, is_pending: False, current_range: [810.5, 821.0]\n",
      "OPEN [POSITION - SXP/USD:USD] side: buy, size: 8.4 BreakEven: 0.3775, Exit%: 0, Dca%: 0, Dca no. 1\n",
      "[POSITION - SXP/USD:USD] exit: not_set, dca: not_set, is_open: True, is_pending: False, current_range: [0.3755, 0.3795]\n",
      "OPEN [POSITION - GALA/USD:USD] side: buy, size: 10.0 BreakEven: 0.0531, Exit%: 0, Dca%: 0, Dca no. 1\n",
      "[POSITION - GALA/USD:USD] exit: not_set, dca: not_set, is_open: True, is_pending: False, current_range: [0.05045, 0.05095]\n",
      "OPEN [POSITION - RUNE/USD:USD] side: buy, size: 0.3 BreakEven: 2.098, Exit%: 0, Dca%: 0, Dca no. 1\n",
      "[POSITION - RUNE/USD:USD] exit: not_set, dca: not_set, is_open: True, is_pending: False, current_range: [1.199, 1.4315]\n",
      "OPEN [POSITION - DOT/USD:USD] side: sell, size: 0.4 BreakEven: 7.129, Exit%: 0, Dca%: 0, Dca no. 1\n",
      "[POSITION - DOT/USD:USD] exit: not_set, dca: not_set, is_open: True, is_pending: False, current_range: [7.289, 7.363]\n",
      "OPEN [POSITION - SUSHI/USD:USD] side: buy, size: 2.5 BreakEven: 1.1047, Exit%: 0, Dca%: 0, Dca no. 1\n",
      "[POSITION - SUSHI/USD:USD] exit: not_set, dca: not_set, is_open: True, is_pending: False, current_range: [1.1012, 1.1123]\n",
      "OPEN [POSITION - PEOPLE/USD:USD] side: sell, size: 140.0 BreakEven: 0.0223, Exit%: 0, Dca%: 0, Dca no. 1\n",
      "[POSITION - PEOPLE/USD:USD] exit: not_set, dca: not_set, is_open: True, is_pending: False, current_range: [0.02275, 0.02301]\n",
      "OPEN [POSITION - IMX/USD:USD] side: buy, size: 3.0 BreakEven: 0.81225, Exit%: 0, Dca%: 0, Dca no. 1\n",
      "[POSITION - IMX/USD:USD] exit: not_set, dca: not_set, is_open: True, is_pending: False, current_range: [0.79475, 0.80275]\n",
      "OPEN [POSITION - EGLD/USD:USD] side: buy, size: 0.16 BreakEven: 53.6896875, Exit%: 0, Dca%: 0, Dca no. 1\n",
      "[POSITION - EGLD/USD:USD] exit: not_set, dca: not_set, is_open: True, is_pending: False, current_range: [53.78, 54.375]\n",
      "OPEN [POSITION - DYDX/USD:USD] side: buy, size: 0.8 BreakEven: 1.708, Exit%: 0, Dca%: 0, Dca no. 1\n",
      "[POSITION - DYDX/USD:USD] exit: not_set, dca: not_set, is_open: True, is_pending: False, current_range: [1.617, 1.679]\n",
      "OPEN [POSITION - MANA/USD:USD] side: buy, size: 4.0 BreakEven: 0.7963, Exit%: 0, Dca%: 0, Dca no. 1\n",
      "[POSITION - MANA/USD:USD] exit: not_set, dca: not_set, is_open: True, is_pending: False, current_range: [0.7938, 0.8018]\n",
      "OPEN [POSITION - KSHIB/USD:USD] side: sell, size: 248.0 BreakEven: 0.01303, Exit%: 0, Dca%: 0, Dca no. 1\n",
      "[POSITION - KSHIB/USD:USD] exit: not_set, dca: not_set, is_open: True, is_pending: False, current_range: [0.01322, 0.0134]\n",
      "float() argument must be a string or a number, not 'NoneType' \n",
      "in cycle 2\n",
      "---\n",
      " ----\n",
      "-----\n",
      " STOPPED..................\n",
      "a_run_strategy for HFT stopped\n"
     ]
    }
   ],
   "source": [
    "from Misso.strategies.swing_fast import SwingSocket\n",
    "subaccount = \"HFT\"\n",
    "wl = b[:15]\n",
    "runner = SwingSocket(subaccount, wl, close_positions=False)\n",
    "await runner.a_init_strategy()\n",
    "await runner.a_run_strategy(6)"
   ],
   "metadata": {
    "collapsed": false,
    "pycharm": {
     "name": "#%%\n"
    }
   }
  },
  {
   "cell_type": "code",
   "execution_count": 2,
   "outputs": [
    {
     "name": "stdout",
     "output_type": "stream",
     "text": [
      "['Main', 'SwingBot', 'HFT', 'test_strategy', 'main', 'testing_2', 'testing_3', 'testing_4']\n"
     ]
    }
   ],
   "source": [
    "import Misso.models.sub_opos_handler as osub\n",
    "import Misso.services.utilities as utils\n",
    "\n",
    "subs = utils.get_subaccounts()\n",
    "print(subs)"
   ],
   "metadata": {
    "collapsed": false,
    "pycharm": {
     "name": "#%%\n"
    }
   }
  },
  {
   "cell_type": "code",
   "execution_count": 6,
   "outputs": [
    {
     "data": {
      "text/plain": "{'test_strategy': [],\n 'testing_2': [[0, 15000.0, 0.001969, 'buy', 'HOT/USD:USD'],\n  [0, 0.72, 37.43, 'sell', 'KSM/USD:USD'],\n  [0, 7.139, 1.3745, 'buy', 'XTZ/USD:USD'],\n  [0, 0.014, 1316.2, 'buy', 'MID/USD:USD']],\n 'testing_3': [[0, 4.01, 7.8415, 'buy', 'HT/USD:USD'],\n  [0, 0.044, 1021.75, 'sell', 'YFII/USD:USD'],\n  [0, 1600000.0, 1.014e-05, 'buy', 'SHIB/USD:USD'],\n  [0, 1.92, 37.43, 'sell', 'KSM/USD:USD'],\n  [0, 28.556, 1.3745, 'buy', 'XTZ/USD:USD'],\n  [0, 0.056, 1316.2, 'buy', 'MID/USD:USD'],\n  [0, 431.0, 0.023005, 'buy', 'VET/USD:USD']],\n 'testing_4': [[0, 36.5, 0.9525, 'sell', 'CEL/USD:USD'],\n  [0, 4.08, 7.8445, 'buy', 'HT/USD:USD'],\n  [0, 0.063, 1020.25, 'sell', 'YFII/USD:USD'],\n  [0, 708.5, 0.18995, 'buy', 'AUDIO/USD:USD'],\n  [0, 0.002, 19290.0, 'sell', 'BTC/USD:USD'],\n  [0, 4000.0, 0.022725, 'sell', 'MNGO/USD:USD'],\n  [0, 0.063, 1316.2, 'buy', 'MID/USD:USD']]}"
     },
     "execution_count": 6,
     "metadata": {},
     "output_type": "execute_result"
    }
   ],
   "source": [
    "subs = ['test_strategy', 'testing_2', 'testing_3', 'testing_4']\n",
    "exc = utils.initialize_exchange_driver(\"Main\")\n",
    "from  Misso.models.sub_opos_handler import osubHandler\n",
    "\n",
    "osubHandler.close_opos_subs(exc, subs, profit_target=0, in_profit=False, cancel_all=True, max_value=300)\n"
   ],
   "metadata": {
    "collapsed": false,
    "pycharm": {
     "name": "#%%\n"
    }
   }
  },
  {
   "cell_type": "code",
   "execution_count": 4,
   "outputs": [
    {
     "data": {
      "text/plain": "[{'id': None,\n  'info': {'future': 'GAL-PERP',\n   'size': '25.2',\n   'side': 'buy',\n   'netSize': '25.2',\n   'longOrderSize': '0.0',\n   'shortOrderSize': '0.0',\n   'cost': '55.692',\n   'entryPrice': '2.21',\n   'unrealizedPnl': '0.0',\n   'realizedPnl': '1.4397028',\n   'initialMarginRequirement': '0.05',\n   'maintenanceMarginRequirement': '0.03',\n   'openSize': '25.2',\n   'collateralUsed': '2.7846',\n   'estimatedLiquidationPrice': '0.0',\n   'recentAverageOpenPrice': '2.26595',\n   'recentPnl': '-1.7325',\n   'recentBreakEvenPrice': '2.27875',\n   'cumulativeBuySize': '42.0',\n   'cumulativeSellSize': '16.8'},\n  'symbol': 'GAL/USD:USD',\n  'timestamp': None,\n  'datetime': None,\n  'initialMargin': 2.7846,\n  'initialMarginPercentage': 0.05,\n  'maintenanceMargin': 1.67076,\n  'maintenanceMarginPercentage': 0.03,\n  'entryPrice': 2.26595,\n  'notional': 55.692,\n  'leverage': None,\n  'unrealizedPnl': -1.7325,\n  'contracts': 25.2,\n  'contractSize': None,\n  'marginRatio': None,\n  'liquidationPrice': 0.0,\n  'markPrice': 2.21,\n  'collateral': 55.692,\n  'marginMode': 'cross',\n  'side': 'long',\n  'percentage': -62.21},\n {'id': None,\n  'info': {'future': 'HT-PERP',\n   'size': '4.01',\n   'side': 'sell',\n   'netSize': '-4.01',\n   'longOrderSize': '0.0',\n   'shortOrderSize': '0.0',\n   'cost': '-31.47449',\n   'entryPrice': '7.849',\n   'unrealizedPnl': '0.0',\n   'realizedPnl': '3.7474961',\n   'initialMarginRequirement': '0.05',\n   'maintenanceMarginRequirement': '0.03',\n   'openSize': '4.01',\n   'collateralUsed': '1.5737245',\n   'estimatedLiquidationPrice': '57.88247414214464',\n   'recentAverageOpenPrice': '7.778666666666667',\n   'recentPnl': '-0.28542',\n   'recentBreakEvenPrice': '7.777822942643391',\n   'cumulativeBuySize': '0.07',\n   'cumulativeSellSize': '4.08'},\n  'symbol': 'HT/USD:USD',\n  'timestamp': None,\n  'datetime': None,\n  'initialMargin': 1.5737245,\n  'initialMarginPercentage': 0.05,\n  'maintenanceMargin': 0.9442347,\n  'maintenanceMarginPercentage': 0.03,\n  'entryPrice': 7.778666666666667,\n  'notional': 31.47449,\n  'leverage': 0.16,\n  'unrealizedPnl': -0.28542,\n  'contracts': 4.01,\n  'contractSize': None,\n  'marginRatio': 0.0046,\n  'liquidationPrice': 57.88247414214464,\n  'markPrice': 7.849,\n  'collateral': 201.57846601,\n  'marginMode': 'cross',\n  'side': 'short',\n  'percentage': -18.13},\n {'id': None,\n  'info': {'future': 'YFII-PERP',\n   'size': '0.044',\n   'side': 'buy',\n   'netSize': '0.044',\n   'longOrderSize': '0.0',\n   'shortOrderSize': '0.0',\n   'cost': '45.067',\n   'entryPrice': '1024.25',\n   'unrealizedPnl': '0.0',\n   'realizedPnl': '1.89545843',\n   'initialMarginRequirement': '0.05',\n   'maintenanceMarginRequirement': '0.03',\n   'openSize': '0.044',\n   'collateralUsed': '2.25335',\n   'estimatedLiquidationPrice': '0.0',\n   'recentAverageOpenPrice': '1016.2613636363636',\n   'recentPnl': '0.3515',\n   'recentBreakEvenPrice': '1016.2613636363636',\n   'cumulativeBuySize': '0.044',\n   'cumulativeSellSize': '0.0'},\n  'symbol': 'YFII/USD:USD',\n  'timestamp': None,\n  'datetime': None,\n  'initialMargin': 2.25335,\n  'initialMarginPercentage': 0.05,\n  'maintenanceMargin': 1.35201,\n  'maintenanceMarginPercentage': 0.03,\n  'entryPrice': 1016.2613636363636,\n  'notional': 45.067,\n  'leverage': None,\n  'unrealizedPnl': 0.3515,\n  'contracts': 0.044,\n  'contractSize': None,\n  'marginRatio': None,\n  'liquidationPrice': 0.0,\n  'markPrice': 1024.25,\n  'collateral': 45.067,\n  'marginMode': 'cross',\n  'side': 'long',\n  'percentage': 15.59},\n {'id': None,\n  'info': {'future': 'SHIB-PERP',\n   'size': '1600000.0',\n   'side': 'sell',\n   'netSize': '-1600000.0',\n   'longOrderSize': '0.0',\n   'shortOrderSize': '0.0',\n   'cost': '-16.224',\n   'entryPrice': '0.00001014',\n   'unrealizedPnl': '0.0',\n   'realizedPnl': '2.04693204',\n   'initialMarginRequirement': '0.05',\n   'maintenanceMarginRequirement': '0.03',\n   'openSize': '1600000.0',\n   'collateralUsed': '0.8112',\n   'estimatedLiquidationPrice': '0.00013553639456875',\n   'recentAverageOpenPrice': '0.000010472307692307692',\n   'recentPnl': '0.54',\n   'recentBreakEvenPrice': '0.0000104775',\n   'cumulativeBuySize': '3600000.0',\n   'cumulativeSellSize': '5200000.0'},\n  'symbol': 'SHIB/USD:USD',\n  'timestamp': None,\n  'datetime': None,\n  'initialMargin': 0.8112,\n  'initialMarginPercentage': 0.05,\n  'maintenanceMargin': 0.48672,\n  'maintenanceMarginPercentage': 0.03,\n  'entryPrice': 1.0472307692307692e-05,\n  'notional': 16.224,\n  'leverage': 0.08,\n  'unrealizedPnl': 0.54,\n  'contracts': 1600000.0,\n  'contractSize': None,\n  'marginRatio': 0.0024,\n  'liquidationPrice': 0.00013553639456875,\n  'markPrice': 1.014e-05,\n  'collateral': 201.12095131,\n  'marginMode': 'cross',\n  'side': 'short',\n  'percentage': 66.56},\n {'id': None,\n  'info': {'future': 'PEOPLE-PERP',\n   'size': '3500.0',\n   'side': 'sell',\n   'netSize': '-3500.0',\n   'longOrderSize': '0.0',\n   'shortOrderSize': '0.0',\n   'cost': '-67.585',\n   'entryPrice': '0.01931',\n   'unrealizedPnl': '0.0',\n   'realizedPnl': '1.15804116',\n   'initialMarginRequirement': '0.05',\n   'maintenanceMarginRequirement': '0.03',\n   'openSize': '3500.0',\n   'collateralUsed': '3.37925',\n   'estimatedLiquidationPrice': '0.07663406608857143',\n   'recentAverageOpenPrice': '0.01931',\n   'recentPnl': '0.0',\n   'recentBreakEvenPrice': '0.01931',\n   'cumulativeBuySize': '0.0',\n   'cumulativeSellSize': '3500.0'},\n  'symbol': 'PEOPLE/USD:USD',\n  'timestamp': None,\n  'datetime': None,\n  'initialMargin': 3.37925,\n  'initialMarginPercentage': 0.05,\n  'maintenanceMargin': 2.02755,\n  'maintenanceMarginPercentage': 0.03,\n  'entryPrice': 0.01931,\n  'notional': 67.585,\n  'leverage': 0.33,\n  'unrealizedPnl': 0.0,\n  'contracts': 3500.0,\n  'contractSize': None,\n  'marginRatio': 0.01,\n  'liquidationPrice': 0.07663406608857143,\n  'markPrice': 0.01931,\n  'collateral': 202.66178131,\n  'marginMode': 'cross',\n  'side': 'short',\n  'percentage': 0.0},\n {'id': None,\n  'info': {'future': 'KSM-PERP',\n   'size': '1.92',\n   'side': 'buy',\n   'netSize': '1.92',\n   'longOrderSize': '0.0',\n   'shortOrderSize': '0.0',\n   'cost': '71.8464',\n   'entryPrice': '37.42',\n   'unrealizedPnl': '0.0',\n   'realizedPnl': '-5.63713253',\n   'initialMarginRequirement': '0.05',\n   'maintenanceMarginRequirement': '0.03',\n   'openSize': '1.92',\n   'collateralUsed': '3.59232',\n   'estimatedLiquidationPrice': '0.0',\n   'recentAverageOpenPrice': '40.57',\n   'recentPnl': '-6.048',\n   'recentBreakEvenPrice': '40.57',\n   'cumulativeBuySize': '1.92',\n   'cumulativeSellSize': '0.0'},\n  'symbol': 'KSM/USD:USD',\n  'timestamp': None,\n  'datetime': None,\n  'initialMargin': 3.59232,\n  'initialMarginPercentage': 0.05,\n  'maintenanceMargin': 2.155392,\n  'maintenanceMarginPercentage': 0.03,\n  'entryPrice': 40.57,\n  'notional': 71.8464,\n  'leverage': None,\n  'unrealizedPnl': -6.048,\n  'contracts': 1.92,\n  'contractSize': None,\n  'marginRatio': None,\n  'liquidationPrice': 0.0,\n  'markPrice': 37.42,\n  'collateral': 71.8464,\n  'marginMode': 'cross',\n  'side': 'long',\n  'percentage': -168.35},\n {'id': None,\n  'info': {'future': 'EGLD-PERP',\n   'size': '0.54',\n   'side': 'sell',\n   'netSize': '-0.54',\n   'longOrderSize': '0.0',\n   'shortOrderSize': '0.0',\n   'cost': '-30.6558',\n   'entryPrice': '56.77',\n   'unrealizedPnl': '0.0',\n   'realizedPnl': '-0.08688922',\n   'initialMarginRequirement': '0.05',\n   'maintenanceMarginRequirement': '0.03',\n   'openSize': '0.54',\n   'collateralUsed': '1.53279',\n   'estimatedLiquidationPrice': '428.3148727962963',\n   'recentAverageOpenPrice': '56.098333333333336',\n   'recentPnl': '-0.2844',\n   'recentBreakEvenPrice': '56.24333333333333',\n   'cumulativeBuySize': '4.86',\n   'cumulativeSellSize': '5.4'},\n  'symbol': 'EGLD/USD:USD',\n  'timestamp': None,\n  'datetime': None,\n  'initialMargin': 1.53279,\n  'initialMarginPercentage': 0.05,\n  'maintenanceMargin': 0.919674,\n  'maintenanceMarginPercentage': 0.03,\n  'entryPrice': 56.098333333333336,\n  'notional': 30.6558,\n  'leverage': 0.15,\n  'unrealizedPnl': -0.2844,\n  'contracts': 0.54,\n  'contractSize': None,\n  'marginRatio': 0.0045,\n  'liquidationPrice': 428.3148727962963,\n  'markPrice': 56.77,\n  'collateral': 201.55390531,\n  'marginMode': 'cross',\n  'side': 'short',\n  'percentage': -18.55},\n {'id': None,\n  'info': {'future': 'YFI-PERP',\n   'size': '0.01',\n   'side': 'sell',\n   'netSize': '-0.01',\n   'longOrderSize': '0.0',\n   'shortOrderSize': '0.0',\n   'cost': '-77.15',\n   'entryPrice': '7715.0',\n   'unrealizedPnl': '0.0',\n   'realizedPnl': '0.32119085',\n   'initialMarginRequirement': '0.05',\n   'maintenanceMarginRequirement': '0.03',\n   'openSize': '0.01',\n   'collateralUsed': '3.8575',\n   'estimatedLiquidationPrice': '27778.423131',\n   'recentAverageOpenPrice': '7815.0',\n   'recentPnl': '1.0',\n   'recentBreakEvenPrice': '7815.0',\n   'cumulativeBuySize': '0.0',\n   'cumulativeSellSize': '0.01'},\n  'symbol': 'YFI/USD:USD',\n  'timestamp': None,\n  'datetime': None,\n  'initialMargin': 3.8575,\n  'initialMarginPercentage': 0.05,\n  'maintenanceMargin': 2.3145,\n  'maintenanceMarginPercentage': 0.03,\n  'entryPrice': 7815.0,\n  'notional': 77.15,\n  'leverage': 0.38,\n  'unrealizedPnl': 1.0,\n  'contracts': 0.01,\n  'contractSize': None,\n  'marginRatio': 0.0114,\n  'liquidationPrice': 27778.423131,\n  'markPrice': 7715.0,\n  'collateral': 202.94873131,\n  'marginMode': 'cross',\n  'side': 'short',\n  'percentage': 25.92},\n {'id': None,\n  'info': {'future': 'DEFI-PERP',\n   'size': '0.03',\n   'side': 'sell',\n   'netSize': '-0.03',\n   'longOrderSize': '0.0',\n   'shortOrderSize': '0.0',\n   'cost': '-80.691',\n   'entryPrice': '2689.7',\n   'unrealizedPnl': '0.0',\n   'realizedPnl': '-1.68941176',\n   'initialMarginRequirement': '0.05',\n   'maintenanceMarginRequirement': '0.03',\n   'openSize': '0.03',\n   'collateralUsed': '4.03455',\n   'estimatedLiquidationPrice': '9377.507710333331',\n   'recentAverageOpenPrice': '2604.8571428571427',\n   'recentPnl': '-2.7822',\n   'recentBreakEvenPrice': '2596.96',\n   'cumulativeBuySize': '0.012',\n   'cumulativeSellSize': '0.042'},\n  'symbol': 'DEFI/USD:USD',\n  'timestamp': None,\n  'datetime': None,\n  'initialMargin': 4.03455,\n  'initialMarginPercentage': 0.05,\n  'maintenanceMargin': 2.42073,\n  'maintenanceMarginPercentage': 0.03,\n  'entryPrice': 2604.8571428571427,\n  'notional': 80.691,\n  'leverage': 0.4,\n  'unrealizedPnl': -2.7822,\n  'contracts': 0.03,\n  'contractSize': None,\n  'marginRatio': 0.0119,\n  'liquidationPrice': 9377.507710333331,\n  'markPrice': 2689.7,\n  'collateral': 203.05496130999992,\n  'marginMode': 'cross',\n  'side': 'short',\n  'percentage': -68.95},\n {'id': None,\n  'info': {'future': 'XTZ-PERP',\n   'size': '28.556',\n   'side': 'sell',\n   'netSize': '-28.556',\n   'longOrderSize': '0.0',\n   'shortOrderSize': '0.0',\n   'cost': '-39.250222',\n   'entryPrice': '1.3745',\n   'unrealizedPnl': '0.0',\n   'realizedPnl': '2.21235596',\n   'initialMarginRequirement': '0.05',\n   'maintenanceMarginRequirement': '0.03',\n   'openSize': '28.556',\n   'collateralUsed': '1.9625111',\n   'estimatedLiquidationPrice': '8.400492131601064',\n   'recentAverageOpenPrice': '1.3748',\n   'recentPnl': '0.0828124',\n   'recentBreakEvenPrice': '1.3774',\n   'cumulativeBuySize': '42.834',\n   'cumulativeSellSize': '71.39'},\n  'symbol': 'XTZ/USD:USD',\n  'timestamp': None,\n  'datetime': None,\n  'initialMargin': 1.9625111,\n  'initialMarginPercentage': 0.05,\n  'maintenanceMargin': 1.17750666,\n  'maintenanceMarginPercentage': 0.03,\n  'entryPrice': 1.3748,\n  'notional': 39.250222,\n  'leverage': 0.19,\n  'unrealizedPnl': 0.0828124,\n  'contracts': 28.556,\n  'contractSize': None,\n  'marginRatio': 0.0058,\n  'liquidationPrice': 8.400492131601064,\n  'markPrice': 1.3745,\n  'collateral': 201.81173797,\n  'marginMode': 'cross',\n  'side': 'short',\n  'percentage': 4.21},\n {'id': None,\n  'info': {'future': 'MID-PERP',\n   'size': '0.056',\n   'side': 'sell',\n   'netSize': '-0.056',\n   'longOrderSize': '0.0',\n   'shortOrderSize': '0.0',\n   'cost': '-73.7632',\n   'entryPrice': '1317.2',\n   'unrealizedPnl': '0.0',\n   'realizedPnl': '1.33230705',\n   'initialMarginRequirement': '0.05',\n   'maintenanceMarginRequirement': '0.03',\n   'openSize': '0.056',\n   'collateralUsed': '3.68816',\n   'estimatedLiquidationPrice': '4899.954130535714',\n   'recentAverageOpenPrice': '1327.661111111111',\n   'recentPnl': '1.0521',\n   'recentBreakEvenPrice': '1335.9875',\n   'cumulativeBuySize': '0.07',\n   'cumulativeSellSize': '0.126'},\n  'symbol': 'MID/USD:USD',\n  'timestamp': None,\n  'datetime': None,\n  'initialMargin': 3.68816,\n  'initialMarginPercentage': 0.05,\n  'maintenanceMargin': 2.212896,\n  'maintenanceMarginPercentage': 0.03,\n  'entryPrice': 1327.661111111111,\n  'notional': 73.7632,\n  'leverage': 0.36,\n  'unrealizedPnl': 1.0521,\n  'contracts': 0.056,\n  'contractSize': None,\n  'marginRatio': 0.0109,\n  'liquidationPrice': 4899.954130535714,\n  'markPrice': 1317.2,\n  'collateral': 202.84712731,\n  'marginMode': 'cross',\n  'side': 'short',\n  'percentage': 28.52},\n {'id': None,\n  'info': {'future': 'VET-PERP',\n   'size': '431.0',\n   'side': 'sell',\n   'netSize': '-431.0',\n   'longOrderSize': '0.0',\n   'shortOrderSize': '0.0',\n   'cost': '-9.915155',\n   'entryPrice': '0.023005',\n   'unrealizedPnl': '0.0',\n   'realizedPnl': '1.6817936',\n   'initialMarginRequirement': '0.05',\n   'maintenanceMarginRequirement': '0.03',\n   'openSize': '431.0',\n   'collateralUsed': '0.49575775',\n   'estimatedLiquidationPrice': '0.48851365733178653',\n   'recentAverageOpenPrice': '0.023025',\n   'recentPnl': '0.00862',\n   'recentBreakEvenPrice': '0.023025',\n   'cumulativeBuySize': '0.0',\n   'cumulativeSellSize': '431.0'},\n  'symbol': 'VET/USD:USD',\n  'timestamp': None,\n  'datetime': None,\n  'initialMargin': 0.49575775,\n  'initialMarginPercentage': 0.05,\n  'maintenanceMargin': 0.29745465,\n  'maintenanceMarginPercentage': 0.03,\n  'entryPrice': 0.023025,\n  'notional': 9.915155,\n  'leverage': 0.05,\n  'unrealizedPnl': 0.00862,\n  'contracts': 431.0,\n  'contractSize': None,\n  'marginRatio': 0.0014,\n  'liquidationPrice': 0.48851365733178653,\n  'markPrice': 0.023005,\n  'collateral': 200.93168595999998,\n  'marginMode': 'cross',\n  'side': 'short',\n  'percentage': 1.73}]"
     },
     "execution_count": 4,
     "metadata": {},
     "output_type": "execute_result"
    }
   ],
   "source": [
    "exc = utils.initialize_exchange_driver(\"Main\")\n",
    "exc = utils.change_sub(exc, \"testing_3\")\n",
    "\n",
    "pos = exc.fetch_positions()\n",
    "pos = [p for p in pos if p[\"contracts\"] > 0]\n",
    "pos"
   ],
   "metadata": {
    "collapsed": false,
    "pycharm": {
     "name": "#%%\n"
    }
   }
  },
  {
   "cell_type": "code",
   "execution_count": null,
   "outputs": [],
   "source": [
    "import loguru\n"
   ],
   "metadata": {
    "collapsed": false,
    "pycharm": {
     "name": "#%%\n"
    }
   }
  }
 ],
 "metadata": {
  "kernelspec": {
   "display_name": "Python 3",
   "language": "python",
   "name": "python3"
  },
  "language_info": {
   "codemirror_mode": {
    "name": "ipython",
    "version": 2
   },
   "file_extension": ".py",
   "mimetype": "text/x-python",
   "name": "python",
   "nbconvert_exporter": "python",
   "pygments_lexer": "ipython2",
   "version": "2.7.6"
  }
 },
 "nbformat": 4,
 "nbformat_minor": 0
}